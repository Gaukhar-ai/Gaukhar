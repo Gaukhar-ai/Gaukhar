{
  "nbformat": 4,
  "nbformat_minor": 0,
  "metadata": {
    "colab": {
      "name": "radius_sphere.ipynb",
      "provenance": [],
      "authorship_tag": "ABX9TyOX3J8LPQJeQepLFSh2jSBc",
      "include_colab_link": true
    },
    "kernelspec": {
      "name": "python3",
      "display_name": "Python 3"
    },
    "language_info": {
      "name": "python"
    }
  },
  "cells": [
    {
      "cell_type": "markdown",
      "metadata": {
        "id": "view-in-github",
        "colab_type": "text"
      },
      "source": [
        "<a href=\"https://colab.research.google.com/github/Gaukhar-ai/Gaukhar/blob/master/radius_sphere.ipynb\" target=\"_parent\"><img src=\"https://colab.research.google.com/assets/colab-badge.svg\" alt=\"Open In Colab\"/></a>"
      ]
    },
    {
      "cell_type": "code",
      "metadata": {
        "id": "oYmbqJEZEENq"
      },
      "source": [
        "import math"
      ],
      "execution_count": null,
      "outputs": []
    },
    {
      "cell_type": "code",
      "metadata": {
        "colab": {
          "base_uri": "https://localhost:8080/"
        },
        "id": "9WyVHc0VAyW8",
        "outputId": "10e051fe-70ea-430c-8123-342de6d87455"
      },
      "source": [
        "def print_volume(r):\n",
        "  print(4/3*math.pi*r**3)\n",
        "r = 5\n",
        "print_volume(r)"
      ],
      "execution_count": null,
      "outputs": [
        {
          "output_type": "stream",
          "text": [
            "523.5987755982989\n"
          ],
          "name": "stdout"
        }
      ]
    },
    {
      "cell_type": "code",
      "metadata": {
        "colab": {
          "base_uri": "https://localhost:8080/"
        },
        "id": "47Zz_1MYCvAw",
        "outputId": "d725ab88-16f3-4bf2-b076-dc11d789e81f"
      },
      "source": [
        "r = 44\n",
        "print_volume(r)"
      ],
      "execution_count": null,
      "outputs": [
        {
          "output_type": "stream",
          "text": [
            "356817.9048045239\n"
          ],
          "name": "stdout"
        }
      ]
    },
    {
      "cell_type": "code",
      "metadata": {
        "colab": {
          "base_uri": "https://localhost:8080/"
        },
        "id": "DmpeTsM5Kn2x",
        "outputId": "9db6e7c9-03ab-457d-9163-a86435eee7d9"
      },
      "source": [
        "r = 55\n",
        "print_volume(r)"
      ],
      "execution_count": null,
      "outputs": [
        {
          "output_type": "stream",
          "text": [
            "696909.9703213357\n"
          ],
          "name": "stdout"
        }
      ]
    },
    {
      "cell_type": "markdown",
      "metadata": {
        "id": "pl3bKISdJLtu"
      },
      "source": [
        "II Write your own function that illustrates a feature that you learned in this unit. The function must take at least one argument. The function should be your own creation, not copied from any other source. Do not copy a function from your textbook or the Internet.\n",
        "\n",
        "Include all of the following in your Learning Journal:\n",
        "\n",
        "The code for the function that you invented.\n",
        "The inputs and outputs to three calls of your invented function.\n",
        "A description of what feature(s) your function illustrates.  "
      ]
    },
    {
      "cell_type": "code",
      "metadata": {
        "id": "bER-9Q8UKnz_"
      },
      "source": [
        "base_salary = 50000\n",
        "every_year_experience = 15000\n",
        "def cs_salary(experience):\n",
        "  if experience > 2:\n",
        "    print('your salary is ' + every_year_experience)\n",
        "  else:\n",
        "    print('you salary is basic')\n",
        "cs_salary(5)\n",
        "\n",
        "  "
      ],
      "execution_count": null,
      "outputs": []
    },
    {
      "cell_type": "code",
      "metadata": {
        "id": "CWBAjDPnKnxk",
        "colab": {
          "base_uri": "https://localhost:8080/"
        },
        "outputId": "b299c6fc-ebac-4918-daad-95fa7d67c4e0"
      },
      "source": [
        "#experience = 1500\n",
        "def calculator(experience):\n",
        "  if experience > 2:\n",
        "    return 50000 + 15000\n",
        "  if experience > 5:\n",
        "    return 50000 + 15000*5\n",
        "calculator(6)\n"
      ],
      "execution_count": 34,
      "outputs": [
        {
          "output_type": "execute_result",
          "data": {
            "text/plain": [
              "65000"
            ]
          },
          "metadata": {
            "tags": []
          },
          "execution_count": 34
        }
      ]
    },
    {
      "cell_type": "code",
      "metadata": {
        "id": "_bxQkQOhKnur"
      },
      "source": [
        "import math \n",
        "def print_twice(beautiful):\n",
        "  print (beautiful)\n",
        "  print (beautiful)\n",
        "#print_twice('I am a genius'*55)"
      ],
      "execution_count": 38,
      "outputs": []
    },
    {
      "cell_type": "code",
      "metadata": {
        "id": "dfFYiDmWKnr4",
        "colab": {
          "base_uri": "https://localhost:8080/"
        },
        "outputId": "ee11971c-2b06-425a-c24c-347c246f4cef"
      },
      "source": [
        "print_twice('gorgeous')"
      ],
      "execution_count": 40,
      "outputs": [
        {
          "output_type": "stream",
          "text": [
            "gorgeous\n",
            "gorgeous\n"
          ],
          "name": "stdout"
        }
      ]
    },
    {
      "cell_type": "code",
      "metadata": {
        "id": "yvNFHoGqVq45"
      },
      "source": [
        "def print_five_times (beautiful):\n",
        "  print(beautiful)\n",
        "  print(beautiful)\n",
        "  print(beautiful)\n",
        "  print(beautiful)\n",
        "  print(beautiful)"
      ],
      "execution_count": 45,
      "outputs": []
    },
    {
      "cell_type": "code",
      "metadata": {
        "colab": {
          "base_uri": "https://localhost:8080/"
        },
        "id": "LkHacekcV72G",
        "outputId": "996d19ba-55b5-4326-be76-36d7e0852911"
      },
      "source": [
        "print_five_times('gorgeous')"
      ],
      "execution_count": 46,
      "outputs": [
        {
          "output_type": "stream",
          "text": [
            "gorgeous\n",
            "gorgeous\n",
            "gorgeous\n",
            "gorgeous\n",
            "gorgeous\n"
          ],
          "name": "stdout"
        }
      ]
    },
    {
      "cell_type": "code",
      "metadata": {
        "id": "XK9GNuVwWLFs"
      },
      "source": [
        "def birthdate(age):\n",
        "  print(2021 - age)"
      ],
      "execution_count": 47,
      "outputs": []
    },
    {
      "cell_type": "code",
      "metadata": {
        "colab": {
          "base_uri": "https://localhost:8080/"
        },
        "id": "E7DrSyTKXsdG",
        "outputId": "c8b1b015-0ad4-41ba-a84b-a399044692b2"
      },
      "source": [
        "birthdate(32)"
      ],
      "execution_count": 48,
      "outputs": [
        {
          "output_type": "stream",
          "text": [
            "1989\n"
          ],
          "name": "stdout"
        }
      ]
    },
    {
      "cell_type": "code",
      "metadata": {
        "id": "8hzWjKRNXvMc"
      },
      "source": [
        "def minimum_wage(number):\n",
        "  if number <9:\n",
        "    print('this is less than a minimum wage')\n",
        "  else:\n",
        "    print('this is more than a minimum wage')\n"
      ],
      "execution_count": 55,
      "outputs": []
    },
    {
      "cell_type": "code",
      "metadata": {
        "colab": {
          "base_uri": "https://localhost:8080/"
        },
        "id": "PnFRUlAeYW6c",
        "outputId": "2248ea89-7989-48ed-c237-d8e7f04b2690"
      },
      "source": [
        "minimum_wage(5)"
      ],
      "execution_count": 56,
      "outputs": [
        {
          "output_type": "stream",
          "text": [
            "this is less than a minimum wage\n"
          ],
          "name": "stdout"
        }
      ]
    },
    {
      "cell_type": "code",
      "metadata": {
        "colab": {
          "base_uri": "https://localhost:8080/"
        },
        "id": "-2VPOVmAYZzF",
        "outputId": "b8dcbb4c-f939-4d35-84ea-8d245a83026b"
      },
      "source": [
        "minimum_wage(25)"
      ],
      "execution_count": 57,
      "outputs": [
        {
          "output_type": "stream",
          "text": [
            "this is more than a minimum wage\n"
          ],
          "name": "stdout"
        }
      ]
    },
    {
      "cell_type": "code",
      "metadata": {
        "colab": {
          "base_uri": "https://localhost:8080/"
        },
        "id": "eqwBa07OYgaV",
        "outputId": "e5e7603c-ac7f-4aeb-bf01-394fda73dcf3"
      },
      "source": [
        "minimum_wage(8)"
      ],
      "execution_count": 58,
      "outputs": [
        {
          "output_type": "stream",
          "text": [
            "this is less than a minimum wage\n"
          ],
          "name": "stdout"
        }
      ]
    },
    {
      "cell_type": "code",
      "metadata": {
        "id": "KAzT5izLYiYI"
      },
      "source": [
        ""
      ],
      "execution_count": null,
      "outputs": []
    }
  ]
}