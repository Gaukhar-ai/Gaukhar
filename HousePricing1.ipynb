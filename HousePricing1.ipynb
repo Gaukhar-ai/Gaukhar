{
  "nbformat": 4,
  "nbformat_minor": 0,
  "metadata": {
    "colab": {
      "name": "HousePricing1.ipynb",
      "provenance": [],
      "authorship_tag": "ABX9TyMs38qaxK0e1Bd8rxzi0ikv",
      "include_colab_link": true
    },
    "kernelspec": {
      "name": "python3",
      "display_name": "Python 3"
    },
    "language_info": {
      "name": "python"
    }
  },
  "cells": [
    {
      "cell_type": "markdown",
      "metadata": {
        "id": "view-in-github",
        "colab_type": "text"
      },
      "source": [
        "<a href=\"https://colab.research.google.com/github/Gaukhar-ai/Gaukhar/blob/master/HousePricing1.ipynb\" target=\"_parent\"><img src=\"https://colab.research.google.com/assets/colab-badge.svg\" alt=\"Open In Colab\"/></a>"
      ]
    },
    {
      "cell_type": "code",
      "metadata": {
        "id": "drcVEUyYFG6z"
      },
      "source": [
        "#!pip install category_encoders"
      ],
      "execution_count": 1,
      "outputs": []
    },
    {
      "cell_type": "code",
      "metadata": {
        "colab": {
          "base_uri": "https://localhost:8080/"
        },
        "id": "8lQtNHO2E-F0",
        "outputId": "51797391-bb65-46c5-970b-c3ac9c5c4b6e"
      },
      "source": [
        "import pandas as pd\n",
        "import numpy as np\n",
        "import matplotlib.pyplot as plt\n",
        "import seaborn as sns\n",
        "from sklearn import preprocessing\n",
        "import scipy\n",
        "import missingno as msno\n",
        "from sklearn.pipeline import Pipeline\n",
        "from sklearn.compose import ColumnTransformer\n",
        "from sklearn.model_selection import train_test_split, GridSearchCV\n",
        "from sklearn.preprocessing import StandardScaler, OneHotEncoder\n",
        "from category_encoders import LeaveOneOutEncoder\n",
        "from sklearn import metrics\n",
        "from sklearn.metrics import mean_squared_error\n",
        "from sklearn.model_selection import cross_val_score\n",
        "from sklearn.tree import DecisionTreeRegressor, plot_tree\n",
        "from scipy import stats\n",
        "from sklearn.ensemble import RandomForestRegressor\n",
        "from sklearn.metrics import confusion_matrix\n",
        "from sklearn.metrics import accuracy_score, classification_report"
      ],
      "execution_count": 2,
      "outputs": [
        {
          "output_type": "stream",
          "name": "stderr",
          "text": [
            "/usr/local/lib/python3.7/dist-packages/statsmodels/tools/_testing.py:19: FutureWarning: pandas.util.testing is deprecated. Use the functions in the public API at pandas.testing instead.\n",
            "  import pandas.util.testing as tm\n"
          ]
        }
      ]
    },
    {
      "cell_type": "code",
      "metadata": {
        "colab": {
          "base_uri": "https://localhost:8080/",
          "height": 253
        },
        "id": "TxGSz-_5F6Dr",
        "outputId": "772c4360-23b4-4084-ebd8-e735cf94dc03"
      },
      "source": [
        "df = pd.read_csv(\"https://raw.githubusercontent.com/Gaukhar-ai/Gaukhar/master/Housing_Prices.csv?_sm_au_=iVVbcrwnP1jVSFsML321jK0f1JH33\")\n",
        "df.head()\n",
        "\n",
        "#overall picture of data"
      ],
      "execution_count": 3,
      "outputs": [
        {
          "output_type": "execute_result",
          "data": {
            "text/html": [
              "<div>\n",
              "<style scoped>\n",
              "    .dataframe tbody tr th:only-of-type {\n",
              "        vertical-align: middle;\n",
              "    }\n",
              "\n",
              "    .dataframe tbody tr th {\n",
              "        vertical-align: top;\n",
              "    }\n",
              "\n",
              "    .dataframe thead th {\n",
              "        text-align: right;\n",
              "    }\n",
              "</style>\n",
              "<table border=\"1\" class=\"dataframe\">\n",
              "  <thead>\n",
              "    <tr style=\"text-align: right;\">\n",
              "      <th></th>\n",
              "      <th>Id</th>\n",
              "      <th>MSSubClass</th>\n",
              "      <th>MSZoning</th>\n",
              "      <th>LotFrontage</th>\n",
              "      <th>LotArea</th>\n",
              "      <th>Street</th>\n",
              "      <th>Alley</th>\n",
              "      <th>LotShape</th>\n",
              "      <th>LandContour</th>\n",
              "      <th>Utilities</th>\n",
              "      <th>LotConfig</th>\n",
              "      <th>LandSlope</th>\n",
              "      <th>Neighborhood</th>\n",
              "      <th>Condition1</th>\n",
              "      <th>Condition2</th>\n",
              "      <th>BldgType</th>\n",
              "      <th>HouseStyle</th>\n",
              "      <th>OverallQual</th>\n",
              "      <th>OverallCond</th>\n",
              "      <th>YearBuilt</th>\n",
              "      <th>YearRemodAdd</th>\n",
              "      <th>RoofStyle</th>\n",
              "      <th>RoofMatl</th>\n",
              "      <th>Exterior1st</th>\n",
              "      <th>Exterior2nd</th>\n",
              "      <th>MasVnrType</th>\n",
              "      <th>MasVnrArea</th>\n",
              "      <th>ExterQual</th>\n",
              "      <th>ExterCond</th>\n",
              "      <th>Foundation</th>\n",
              "      <th>BsmtQual</th>\n",
              "      <th>BsmtCond</th>\n",
              "      <th>BsmtExposure</th>\n",
              "      <th>BsmtFinType1</th>\n",
              "      <th>BsmtFinSF1</th>\n",
              "      <th>BsmtFinType2</th>\n",
              "      <th>BsmtFinSF2</th>\n",
              "      <th>BsmtUnfSF</th>\n",
              "      <th>TotalBsmtSF</th>\n",
              "      <th>Heating</th>\n",
              "      <th>...</th>\n",
              "      <th>CentralAir</th>\n",
              "      <th>Electrical</th>\n",
              "      <th>1stFlrSF</th>\n",
              "      <th>2ndFlrSF</th>\n",
              "      <th>LowQualFinSF</th>\n",
              "      <th>GrLivArea</th>\n",
              "      <th>BsmtFullBath</th>\n",
              "      <th>BsmtHalfBath</th>\n",
              "      <th>FullBath</th>\n",
              "      <th>HalfBath</th>\n",
              "      <th>BedroomAbvGr</th>\n",
              "      <th>KitchenAbvGr</th>\n",
              "      <th>KitchenQual</th>\n",
              "      <th>TotRmsAbvGrd</th>\n",
              "      <th>Functional</th>\n",
              "      <th>Fireplaces</th>\n",
              "      <th>FireplaceQu</th>\n",
              "      <th>GarageType</th>\n",
              "      <th>GarageYrBlt</th>\n",
              "      <th>GarageFinish</th>\n",
              "      <th>GarageCars</th>\n",
              "      <th>GarageArea</th>\n",
              "      <th>GarageQual</th>\n",
              "      <th>GarageCond</th>\n",
              "      <th>PavedDrive</th>\n",
              "      <th>WoodDeckSF</th>\n",
              "      <th>OpenPorchSF</th>\n",
              "      <th>EnclosedPorch</th>\n",
              "      <th>3SsnPorch</th>\n",
              "      <th>ScreenPorch</th>\n",
              "      <th>PoolArea</th>\n",
              "      <th>PoolQC</th>\n",
              "      <th>Fence</th>\n",
              "      <th>MiscFeature</th>\n",
              "      <th>MiscVal</th>\n",
              "      <th>MoSold</th>\n",
              "      <th>YrSold</th>\n",
              "      <th>SaleType</th>\n",
              "      <th>SaleCondition</th>\n",
              "      <th>SalePrice</th>\n",
              "    </tr>\n",
              "  </thead>\n",
              "  <tbody>\n",
              "    <tr>\n",
              "      <th>0</th>\n",
              "      <td>1</td>\n",
              "      <td>60</td>\n",
              "      <td>RL</td>\n",
              "      <td>65.0</td>\n",
              "      <td>8450</td>\n",
              "      <td>Pave</td>\n",
              "      <td>NaN</td>\n",
              "      <td>Reg</td>\n",
              "      <td>Lvl</td>\n",
              "      <td>AllPub</td>\n",
              "      <td>Inside</td>\n",
              "      <td>Gtl</td>\n",
              "      <td>CollgCr</td>\n",
              "      <td>Norm</td>\n",
              "      <td>Norm</td>\n",
              "      <td>1Fam</td>\n",
              "      <td>2Story</td>\n",
              "      <td>7</td>\n",
              "      <td>5</td>\n",
              "      <td>2003</td>\n",
              "      <td>2003</td>\n",
              "      <td>Gable</td>\n",
              "      <td>CompShg</td>\n",
              "      <td>VinylSd</td>\n",
              "      <td>VinylSd</td>\n",
              "      <td>BrkFace</td>\n",
              "      <td>196.0</td>\n",
              "      <td>Gd</td>\n",
              "      <td>TA</td>\n",
              "      <td>PConc</td>\n",
              "      <td>Gd</td>\n",
              "      <td>TA</td>\n",
              "      <td>No</td>\n",
              "      <td>GLQ</td>\n",
              "      <td>706</td>\n",
              "      <td>Unf</td>\n",
              "      <td>0</td>\n",
              "      <td>150</td>\n",
              "      <td>856</td>\n",
              "      <td>GasA</td>\n",
              "      <td>...</td>\n",
              "      <td>Y</td>\n",
              "      <td>SBrkr</td>\n",
              "      <td>856</td>\n",
              "      <td>854</td>\n",
              "      <td>0</td>\n",
              "      <td>1710</td>\n",
              "      <td>1</td>\n",
              "      <td>0</td>\n",
              "      <td>2</td>\n",
              "      <td>1</td>\n",
              "      <td>3</td>\n",
              "      <td>1</td>\n",
              "      <td>Gd</td>\n",
              "      <td>8</td>\n",
              "      <td>Typ</td>\n",
              "      <td>0</td>\n",
              "      <td>NaN</td>\n",
              "      <td>Attchd</td>\n",
              "      <td>2003.0</td>\n",
              "      <td>RFn</td>\n",
              "      <td>2</td>\n",
              "      <td>548</td>\n",
              "      <td>TA</td>\n",
              "      <td>TA</td>\n",
              "      <td>Y</td>\n",
              "      <td>0</td>\n",
              "      <td>61</td>\n",
              "      <td>0</td>\n",
              "      <td>0</td>\n",
              "      <td>0</td>\n",
              "      <td>0</td>\n",
              "      <td>NaN</td>\n",
              "      <td>NaN</td>\n",
              "      <td>NaN</td>\n",
              "      <td>0</td>\n",
              "      <td>2</td>\n",
              "      <td>2008</td>\n",
              "      <td>WD</td>\n",
              "      <td>Normal</td>\n",
              "      <td>208500</td>\n",
              "    </tr>\n",
              "    <tr>\n",
              "      <th>1</th>\n",
              "      <td>2</td>\n",
              "      <td>20</td>\n",
              "      <td>RL</td>\n",
              "      <td>80.0</td>\n",
              "      <td>9600</td>\n",
              "      <td>Pave</td>\n",
              "      <td>NaN</td>\n",
              "      <td>Reg</td>\n",
              "      <td>Lvl</td>\n",
              "      <td>AllPub</td>\n",
              "      <td>FR2</td>\n",
              "      <td>Gtl</td>\n",
              "      <td>Veenker</td>\n",
              "      <td>Feedr</td>\n",
              "      <td>Norm</td>\n",
              "      <td>1Fam</td>\n",
              "      <td>1Story</td>\n",
              "      <td>6</td>\n",
              "      <td>8</td>\n",
              "      <td>1976</td>\n",
              "      <td>1976</td>\n",
              "      <td>Gable</td>\n",
              "      <td>CompShg</td>\n",
              "      <td>MetalSd</td>\n",
              "      <td>MetalSd</td>\n",
              "      <td>None</td>\n",
              "      <td>0.0</td>\n",
              "      <td>TA</td>\n",
              "      <td>TA</td>\n",
              "      <td>CBlock</td>\n",
              "      <td>Gd</td>\n",
              "      <td>TA</td>\n",
              "      <td>Gd</td>\n",
              "      <td>ALQ</td>\n",
              "      <td>978</td>\n",
              "      <td>Unf</td>\n",
              "      <td>0</td>\n",
              "      <td>284</td>\n",
              "      <td>1262</td>\n",
              "      <td>GasA</td>\n",
              "      <td>...</td>\n",
              "      <td>Y</td>\n",
              "      <td>SBrkr</td>\n",
              "      <td>1262</td>\n",
              "      <td>0</td>\n",
              "      <td>0</td>\n",
              "      <td>1262</td>\n",
              "      <td>0</td>\n",
              "      <td>1</td>\n",
              "      <td>2</td>\n",
              "      <td>0</td>\n",
              "      <td>3</td>\n",
              "      <td>1</td>\n",
              "      <td>TA</td>\n",
              "      <td>6</td>\n",
              "      <td>Typ</td>\n",
              "      <td>1</td>\n",
              "      <td>TA</td>\n",
              "      <td>Attchd</td>\n",
              "      <td>1976.0</td>\n",
              "      <td>RFn</td>\n",
              "      <td>2</td>\n",
              "      <td>460</td>\n",
              "      <td>TA</td>\n",
              "      <td>TA</td>\n",
              "      <td>Y</td>\n",
              "      <td>298</td>\n",
              "      <td>0</td>\n",
              "      <td>0</td>\n",
              "      <td>0</td>\n",
              "      <td>0</td>\n",
              "      <td>0</td>\n",
              "      <td>NaN</td>\n",
              "      <td>NaN</td>\n",
              "      <td>NaN</td>\n",
              "      <td>0</td>\n",
              "      <td>5</td>\n",
              "      <td>2007</td>\n",
              "      <td>WD</td>\n",
              "      <td>Normal</td>\n",
              "      <td>181500</td>\n",
              "    </tr>\n",
              "    <tr>\n",
              "      <th>2</th>\n",
              "      <td>3</td>\n",
              "      <td>60</td>\n",
              "      <td>RL</td>\n",
              "      <td>68.0</td>\n",
              "      <td>11250</td>\n",
              "      <td>Pave</td>\n",
              "      <td>NaN</td>\n",
              "      <td>IR1</td>\n",
              "      <td>Lvl</td>\n",
              "      <td>AllPub</td>\n",
              "      <td>Inside</td>\n",
              "      <td>Gtl</td>\n",
              "      <td>CollgCr</td>\n",
              "      <td>Norm</td>\n",
              "      <td>Norm</td>\n",
              "      <td>1Fam</td>\n",
              "      <td>2Story</td>\n",
              "      <td>7</td>\n",
              "      <td>5</td>\n",
              "      <td>2001</td>\n",
              "      <td>2002</td>\n",
              "      <td>Gable</td>\n",
              "      <td>CompShg</td>\n",
              "      <td>VinylSd</td>\n",
              "      <td>VinylSd</td>\n",
              "      <td>BrkFace</td>\n",
              "      <td>162.0</td>\n",
              "      <td>Gd</td>\n",
              "      <td>TA</td>\n",
              "      <td>PConc</td>\n",
              "      <td>Gd</td>\n",
              "      <td>TA</td>\n",
              "      <td>Mn</td>\n",
              "      <td>GLQ</td>\n",
              "      <td>486</td>\n",
              "      <td>Unf</td>\n",
              "      <td>0</td>\n",
              "      <td>434</td>\n",
              "      <td>920</td>\n",
              "      <td>GasA</td>\n",
              "      <td>...</td>\n",
              "      <td>Y</td>\n",
              "      <td>SBrkr</td>\n",
              "      <td>920</td>\n",
              "      <td>866</td>\n",
              "      <td>0</td>\n",
              "      <td>1786</td>\n",
              "      <td>1</td>\n",
              "      <td>0</td>\n",
              "      <td>2</td>\n",
              "      <td>1</td>\n",
              "      <td>3</td>\n",
              "      <td>1</td>\n",
              "      <td>Gd</td>\n",
              "      <td>6</td>\n",
              "      <td>Typ</td>\n",
              "      <td>1</td>\n",
              "      <td>TA</td>\n",
              "      <td>Attchd</td>\n",
              "      <td>2001.0</td>\n",
              "      <td>RFn</td>\n",
              "      <td>2</td>\n",
              "      <td>608</td>\n",
              "      <td>TA</td>\n",
              "      <td>TA</td>\n",
              "      <td>Y</td>\n",
              "      <td>0</td>\n",
              "      <td>42</td>\n",
              "      <td>0</td>\n",
              "      <td>0</td>\n",
              "      <td>0</td>\n",
              "      <td>0</td>\n",
              "      <td>NaN</td>\n",
              "      <td>NaN</td>\n",
              "      <td>NaN</td>\n",
              "      <td>0</td>\n",
              "      <td>9</td>\n",
              "      <td>2008</td>\n",
              "      <td>WD</td>\n",
              "      <td>Normal</td>\n",
              "      <td>223500</td>\n",
              "    </tr>\n",
              "    <tr>\n",
              "      <th>3</th>\n",
              "      <td>4</td>\n",
              "      <td>70</td>\n",
              "      <td>RL</td>\n",
              "      <td>60.0</td>\n",
              "      <td>9550</td>\n",
              "      <td>Pave</td>\n",
              "      <td>NaN</td>\n",
              "      <td>IR1</td>\n",
              "      <td>Lvl</td>\n",
              "      <td>AllPub</td>\n",
              "      <td>Corner</td>\n",
              "      <td>Gtl</td>\n",
              "      <td>Crawfor</td>\n",
              "      <td>Norm</td>\n",
              "      <td>Norm</td>\n",
              "      <td>1Fam</td>\n",
              "      <td>2Story</td>\n",
              "      <td>7</td>\n",
              "      <td>5</td>\n",
              "      <td>1915</td>\n",
              "      <td>1970</td>\n",
              "      <td>Gable</td>\n",
              "      <td>CompShg</td>\n",
              "      <td>Wd Sdng</td>\n",
              "      <td>Wd Shng</td>\n",
              "      <td>None</td>\n",
              "      <td>0.0</td>\n",
              "      <td>TA</td>\n",
              "      <td>TA</td>\n",
              "      <td>BrkTil</td>\n",
              "      <td>TA</td>\n",
              "      <td>Gd</td>\n",
              "      <td>No</td>\n",
              "      <td>ALQ</td>\n",
              "      <td>216</td>\n",
              "      <td>Unf</td>\n",
              "      <td>0</td>\n",
              "      <td>540</td>\n",
              "      <td>756</td>\n",
              "      <td>GasA</td>\n",
              "      <td>...</td>\n",
              "      <td>Y</td>\n",
              "      <td>SBrkr</td>\n",
              "      <td>961</td>\n",
              "      <td>756</td>\n",
              "      <td>0</td>\n",
              "      <td>1717</td>\n",
              "      <td>1</td>\n",
              "      <td>0</td>\n",
              "      <td>1</td>\n",
              "      <td>0</td>\n",
              "      <td>3</td>\n",
              "      <td>1</td>\n",
              "      <td>Gd</td>\n",
              "      <td>7</td>\n",
              "      <td>Typ</td>\n",
              "      <td>1</td>\n",
              "      <td>Gd</td>\n",
              "      <td>Detchd</td>\n",
              "      <td>1998.0</td>\n",
              "      <td>Unf</td>\n",
              "      <td>3</td>\n",
              "      <td>642</td>\n",
              "      <td>TA</td>\n",
              "      <td>TA</td>\n",
              "      <td>Y</td>\n",
              "      <td>0</td>\n",
              "      <td>35</td>\n",
              "      <td>272</td>\n",
              "      <td>0</td>\n",
              "      <td>0</td>\n",
              "      <td>0</td>\n",
              "      <td>NaN</td>\n",
              "      <td>NaN</td>\n",
              "      <td>NaN</td>\n",
              "      <td>0</td>\n",
              "      <td>2</td>\n",
              "      <td>2006</td>\n",
              "      <td>WD</td>\n",
              "      <td>Abnorml</td>\n",
              "      <td>140000</td>\n",
              "    </tr>\n",
              "    <tr>\n",
              "      <th>4</th>\n",
              "      <td>5</td>\n",
              "      <td>60</td>\n",
              "      <td>RL</td>\n",
              "      <td>84.0</td>\n",
              "      <td>14260</td>\n",
              "      <td>Pave</td>\n",
              "      <td>NaN</td>\n",
              "      <td>IR1</td>\n",
              "      <td>Lvl</td>\n",
              "      <td>AllPub</td>\n",
              "      <td>FR2</td>\n",
              "      <td>Gtl</td>\n",
              "      <td>NoRidge</td>\n",
              "      <td>Norm</td>\n",
              "      <td>Norm</td>\n",
              "      <td>1Fam</td>\n",
              "      <td>2Story</td>\n",
              "      <td>8</td>\n",
              "      <td>5</td>\n",
              "      <td>2000</td>\n",
              "      <td>2000</td>\n",
              "      <td>Gable</td>\n",
              "      <td>CompShg</td>\n",
              "      <td>VinylSd</td>\n",
              "      <td>VinylSd</td>\n",
              "      <td>BrkFace</td>\n",
              "      <td>350.0</td>\n",
              "      <td>Gd</td>\n",
              "      <td>TA</td>\n",
              "      <td>PConc</td>\n",
              "      <td>Gd</td>\n",
              "      <td>TA</td>\n",
              "      <td>Av</td>\n",
              "      <td>GLQ</td>\n",
              "      <td>655</td>\n",
              "      <td>Unf</td>\n",
              "      <td>0</td>\n",
              "      <td>490</td>\n",
              "      <td>1145</td>\n",
              "      <td>GasA</td>\n",
              "      <td>...</td>\n",
              "      <td>Y</td>\n",
              "      <td>SBrkr</td>\n",
              "      <td>1145</td>\n",
              "      <td>1053</td>\n",
              "      <td>0</td>\n",
              "      <td>2198</td>\n",
              "      <td>1</td>\n",
              "      <td>0</td>\n",
              "      <td>2</td>\n",
              "      <td>1</td>\n",
              "      <td>4</td>\n",
              "      <td>1</td>\n",
              "      <td>Gd</td>\n",
              "      <td>9</td>\n",
              "      <td>Typ</td>\n",
              "      <td>1</td>\n",
              "      <td>TA</td>\n",
              "      <td>Attchd</td>\n",
              "      <td>2000.0</td>\n",
              "      <td>RFn</td>\n",
              "      <td>3</td>\n",
              "      <td>836</td>\n",
              "      <td>TA</td>\n",
              "      <td>TA</td>\n",
              "      <td>Y</td>\n",
              "      <td>192</td>\n",
              "      <td>84</td>\n",
              "      <td>0</td>\n",
              "      <td>0</td>\n",
              "      <td>0</td>\n",
              "      <td>0</td>\n",
              "      <td>NaN</td>\n",
              "      <td>NaN</td>\n",
              "      <td>NaN</td>\n",
              "      <td>0</td>\n",
              "      <td>12</td>\n",
              "      <td>2008</td>\n",
              "      <td>WD</td>\n",
              "      <td>Normal</td>\n",
              "      <td>250000</td>\n",
              "    </tr>\n",
              "  </tbody>\n",
              "</table>\n",
              "<p>5 rows × 81 columns</p>\n",
              "</div>"
            ],
            "text/plain": [
              "   Id  MSSubClass MSZoning  ...  SaleType  SaleCondition SalePrice\n",
              "0   1          60       RL  ...        WD         Normal    208500\n",
              "1   2          20       RL  ...        WD         Normal    181500\n",
              "2   3          60       RL  ...        WD         Normal    223500\n",
              "3   4          70       RL  ...        WD        Abnorml    140000\n",
              "4   5          60       RL  ...        WD         Normal    250000\n",
              "\n",
              "[5 rows x 81 columns]"
            ]
          },
          "metadata": {},
          "execution_count": 3
        }
      ]
    },
    {
      "cell_type": "code",
      "metadata": {
        "colab": {
          "base_uri": "https://localhost:8080/"
        },
        "id": "P45tCY1LFBkA",
        "outputId": "bb047738-5171-437c-9dc8-1e2687f2f2db"
      },
      "source": [
        "df.info()\n",
        "\n",
        "#checking what data types, how many rows of data and non-null values I have. \n",
        "# I have 1460 rows of data and 81 columns"
      ],
      "execution_count": 4,
      "outputs": [
        {
          "output_type": "stream",
          "name": "stdout",
          "text": [
            "<class 'pandas.core.frame.DataFrame'>\n",
            "RangeIndex: 1460 entries, 0 to 1459\n",
            "Data columns (total 81 columns):\n",
            " #   Column         Non-Null Count  Dtype  \n",
            "---  ------         --------------  -----  \n",
            " 0   Id             1460 non-null   int64  \n",
            " 1   MSSubClass     1460 non-null   int64  \n",
            " 2   MSZoning       1460 non-null   object \n",
            " 3   LotFrontage    1201 non-null   float64\n",
            " 4   LotArea        1460 non-null   int64  \n",
            " 5   Street         1460 non-null   object \n",
            " 6   Alley          91 non-null     object \n",
            " 7   LotShape       1460 non-null   object \n",
            " 8   LandContour    1460 non-null   object \n",
            " 9   Utilities      1460 non-null   object \n",
            " 10  LotConfig      1460 non-null   object \n",
            " 11  LandSlope      1460 non-null   object \n",
            " 12  Neighborhood   1460 non-null   object \n",
            " 13  Condition1     1460 non-null   object \n",
            " 14  Condition2     1460 non-null   object \n",
            " 15  BldgType       1460 non-null   object \n",
            " 16  HouseStyle     1460 non-null   object \n",
            " 17  OverallQual    1460 non-null   int64  \n",
            " 18  OverallCond    1460 non-null   int64  \n",
            " 19  YearBuilt      1460 non-null   int64  \n",
            " 20  YearRemodAdd   1460 non-null   int64  \n",
            " 21  RoofStyle      1460 non-null   object \n",
            " 22  RoofMatl       1460 non-null   object \n",
            " 23  Exterior1st    1460 non-null   object \n",
            " 24  Exterior2nd    1460 non-null   object \n",
            " 25  MasVnrType     1452 non-null   object \n",
            " 26  MasVnrArea     1452 non-null   float64\n",
            " 27  ExterQual      1460 non-null   object \n",
            " 28  ExterCond      1460 non-null   object \n",
            " 29  Foundation     1460 non-null   object \n",
            " 30  BsmtQual       1423 non-null   object \n",
            " 31  BsmtCond       1423 non-null   object \n",
            " 32  BsmtExposure   1422 non-null   object \n",
            " 33  BsmtFinType1   1423 non-null   object \n",
            " 34  BsmtFinSF1     1460 non-null   int64  \n",
            " 35  BsmtFinType2   1422 non-null   object \n",
            " 36  BsmtFinSF2     1460 non-null   int64  \n",
            " 37  BsmtUnfSF      1460 non-null   int64  \n",
            " 38  TotalBsmtSF    1460 non-null   int64  \n",
            " 39  Heating        1460 non-null   object \n",
            " 40  HeatingQC      1460 non-null   object \n",
            " 41  CentralAir     1460 non-null   object \n",
            " 42  Electrical     1459 non-null   object \n",
            " 43  1stFlrSF       1460 non-null   int64  \n",
            " 44  2ndFlrSF       1460 non-null   int64  \n",
            " 45  LowQualFinSF   1460 non-null   int64  \n",
            " 46  GrLivArea      1460 non-null   int64  \n",
            " 47  BsmtFullBath   1460 non-null   int64  \n",
            " 48  BsmtHalfBath   1460 non-null   int64  \n",
            " 49  FullBath       1460 non-null   int64  \n",
            " 50  HalfBath       1460 non-null   int64  \n",
            " 51  BedroomAbvGr   1460 non-null   int64  \n",
            " 52  KitchenAbvGr   1460 non-null   int64  \n",
            " 53  KitchenQual    1460 non-null   object \n",
            " 54  TotRmsAbvGrd   1460 non-null   int64  \n",
            " 55  Functional     1460 non-null   object \n",
            " 56  Fireplaces     1460 non-null   int64  \n",
            " 57  FireplaceQu    770 non-null    object \n",
            " 58  GarageType     1379 non-null   object \n",
            " 59  GarageYrBlt    1379 non-null   float64\n",
            " 60  GarageFinish   1379 non-null   object \n",
            " 61  GarageCars     1460 non-null   int64  \n",
            " 62  GarageArea     1460 non-null   int64  \n",
            " 63  GarageQual     1379 non-null   object \n",
            " 64  GarageCond     1379 non-null   object \n",
            " 65  PavedDrive     1460 non-null   object \n",
            " 66  WoodDeckSF     1460 non-null   int64  \n",
            " 67  OpenPorchSF    1460 non-null   int64  \n",
            " 68  EnclosedPorch  1460 non-null   int64  \n",
            " 69  3SsnPorch      1460 non-null   int64  \n",
            " 70  ScreenPorch    1460 non-null   int64  \n",
            " 71  PoolArea       1460 non-null   int64  \n",
            " 72  PoolQC         7 non-null      object \n",
            " 73  Fence          281 non-null    object \n",
            " 74  MiscFeature    54 non-null     object \n",
            " 75  MiscVal        1460 non-null   int64  \n",
            " 76  MoSold         1460 non-null   int64  \n",
            " 77  YrSold         1460 non-null   int64  \n",
            " 78  SaleType       1460 non-null   object \n",
            " 79  SaleCondition  1460 non-null   object \n",
            " 80  SalePrice      1460 non-null   int64  \n",
            "dtypes: float64(3), int64(35), object(43)\n",
            "memory usage: 924.0+ KB\n"
          ]
        }
      ]
    },
    {
      "cell_type": "code",
      "metadata": {
        "id": "XPdzBhT0FMRM"
      },
      "source": [
        "df = df.replace([np.inf, -np.inf], np.nan)\n",
        "#replacing any irrelevant values to null values"
      ],
      "execution_count": 5,
      "outputs": []
    },
    {
      "cell_type": "code",
      "metadata": {
        "colab": {
          "base_uri": "https://localhost:8080/"
        },
        "id": "ETyT9DJ-FMOh",
        "outputId": "e1ab0cd8-1815-4040-de01-dd2295c16afd"
      },
      "source": [
        "null_counts = df.isnull().sum()\n",
        "null_counts[null_counts>0]\n",
        "\n",
        "#let's see how many rows of null values I have for a column that have null values."
      ],
      "execution_count": 6,
      "outputs": [
        {
          "output_type": "execute_result",
          "data": {
            "text/plain": [
              "LotFrontage      259\n",
              "Alley           1369\n",
              "MasVnrType         8\n",
              "MasVnrArea         8\n",
              "BsmtQual          37\n",
              "BsmtCond          37\n",
              "BsmtExposure      38\n",
              "BsmtFinType1      37\n",
              "BsmtFinType2      38\n",
              "Electrical         1\n",
              "FireplaceQu      690\n",
              "GarageType        81\n",
              "GarageYrBlt       81\n",
              "GarageFinish      81\n",
              "GarageQual        81\n",
              "GarageCond        81\n",
              "PoolQC          1453\n",
              "Fence           1179\n",
              "MiscFeature     1406\n",
              "dtype: int64"
            ]
          },
          "metadata": {},
          "execution_count": 6
        }
      ]
    },
    {
      "cell_type": "code",
      "metadata": {
        "id": "FTagwQ9qofrZ",
        "outputId": "c9a65b5b-5fb1-4702-baa9-884dab7e531b",
        "colab": {
          "base_uri": "https://localhost:8080/"
        }
      },
      "source": [
        "null_counts.dtypes"
      ],
      "execution_count": 7,
      "outputs": [
        {
          "output_type": "execute_result",
          "data": {
            "text/plain": [
              "dtype('int64')"
            ]
          },
          "metadata": {},
          "execution_count": 7
        }
      ]
    },
    {
      "cell_type": "code",
      "metadata": {
        "id": "0sb-O9s9ip-2",
        "outputId": "a29af71f-8967-4ea2-9656-1b7ec9b34374",
        "colab": {
          "base_uri": "https://localhost:8080/",
          "height": 1000
        }
      },
      "source": [
        "for col in df.columns:\n",
        "  print('-' * 79 + col + '-'*79, end=' - ')\n",
        "  display(df[col].value_counts().head(30))\n",
        "\n",
        "#I want to see how many unique values in each column. \n",
        "#From here I will select columns that have same values for the most part and drop them. But I'll also take into consideration \n",
        "#how valuable can be those variables. "
      ],
      "execution_count": 8,
      "outputs": [
        {
          "output_type": "stream",
          "name": "stdout",
          "text": [
            "-------------------------------------------------------------------------------Id------------------------------------------------------------------------------- - "
          ]
        },
        {
          "output_type": "display_data",
          "data": {
            "text/plain": [
              "1460    1\n",
              "479     1\n",
              "481     1\n",
              "482     1\n",
              "483     1\n",
              "484     1\n",
              "485     1\n",
              "486     1\n",
              "487     1\n",
              "488     1\n",
              "489     1\n",
              "490     1\n",
              "491     1\n",
              "492     1\n",
              "493     1\n",
              "494     1\n",
              "495     1\n",
              "496     1\n",
              "497     1\n",
              "498     1\n",
              "499     1\n",
              "480     1\n",
              "478     1\n",
              "501     1\n",
              "477     1\n",
              "458     1\n",
              "459     1\n",
              "460     1\n",
              "461     1\n",
              "462     1\n",
              "Name: Id, dtype: int64"
            ]
          },
          "metadata": {}
        },
        {
          "output_type": "stream",
          "name": "stdout",
          "text": [
            "-------------------------------------------------------------------------------MSSubClass------------------------------------------------------------------------------- - "
          ]
        },
        {
          "output_type": "display_data",
          "data": {
            "text/plain": [
              "20     536\n",
              "60     299\n",
              "50     144\n",
              "120     87\n",
              "30      69\n",
              "160     63\n",
              "70      60\n",
              "80      58\n",
              "90      52\n",
              "190     30\n",
              "85      20\n",
              "75      16\n",
              "45      12\n",
              "180     10\n",
              "40       4\n",
              "Name: MSSubClass, dtype: int64"
            ]
          },
          "metadata": {}
        },
        {
          "output_type": "stream",
          "name": "stdout",
          "text": [
            "-------------------------------------------------------------------------------MSZoning------------------------------------------------------------------------------- - "
          ]
        },
        {
          "output_type": "display_data",
          "data": {
            "text/plain": [
              "RL         1151\n",
              "RM          218\n",
              "FV           65\n",
              "RH           16\n",
              "C (all)      10\n",
              "Name: MSZoning, dtype: int64"
            ]
          },
          "metadata": {}
        },
        {
          "output_type": "stream",
          "name": "stdout",
          "text": [
            "-------------------------------------------------------------------------------LotFrontage------------------------------------------------------------------------------- - "
          ]
        },
        {
          "output_type": "display_data",
          "data": {
            "text/plain": [
              "60.0     143\n",
              "70.0      70\n",
              "80.0      69\n",
              "50.0      57\n",
              "75.0      53\n",
              "65.0      44\n",
              "85.0      40\n",
              "78.0      25\n",
              "21.0      23\n",
              "90.0      23\n",
              "68.0      19\n",
              "24.0      19\n",
              "64.0      19\n",
              "73.0      18\n",
              "72.0      17\n",
              "79.0      17\n",
              "63.0      17\n",
              "55.0      17\n",
              "100.0     16\n",
              "51.0      15\n",
              "66.0      15\n",
              "74.0      15\n",
              "52.0      14\n",
              "59.0      13\n",
              "71.0      12\n",
              "82.0      12\n",
              "40.0      12\n",
              "43.0      12\n",
              "67.0      12\n",
              "57.0      12\n",
              "Name: LotFrontage, dtype: int64"
            ]
          },
          "metadata": {}
        },
        {
          "output_type": "stream",
          "name": "stdout",
          "text": [
            "-------------------------------------------------------------------------------LotArea------------------------------------------------------------------------------- - "
          ]
        },
        {
          "output_type": "display_data",
          "data": {
            "text/plain": [
              "7200     25\n",
              "9600     24\n",
              "6000     17\n",
              "10800    14\n",
              "9000     14\n",
              "8400     14\n",
              "1680     10\n",
              "7500      9\n",
              "8125      8\n",
              "9100      8\n",
              "6120      8\n",
              "6240      8\n",
              "3182      7\n",
              "7800      6\n",
              "8450      6\n",
              "10000     5\n",
              "4500      5\n",
              "4435      5\n",
              "5000      5\n",
              "10140     5\n",
              "9750      5\n",
              "10400     5\n",
              "5400      5\n",
              "7018      4\n",
              "11700     4\n",
              "9375      4\n",
              "8800      4\n",
              "9900      4\n",
              "8750      4\n",
              "6600      4\n",
              "Name: LotArea, dtype: int64"
            ]
          },
          "metadata": {}
        },
        {
          "output_type": "stream",
          "name": "stdout",
          "text": [
            "-------------------------------------------------------------------------------Street------------------------------------------------------------------------------- - "
          ]
        },
        {
          "output_type": "display_data",
          "data": {
            "text/plain": [
              "Pave    1454\n",
              "Grvl       6\n",
              "Name: Street, dtype: int64"
            ]
          },
          "metadata": {}
        },
        {
          "output_type": "stream",
          "name": "stdout",
          "text": [
            "-------------------------------------------------------------------------------Alley------------------------------------------------------------------------------- - "
          ]
        },
        {
          "output_type": "display_data",
          "data": {
            "text/plain": [
              "Grvl    50\n",
              "Pave    41\n",
              "Name: Alley, dtype: int64"
            ]
          },
          "metadata": {}
        },
        {
          "output_type": "stream",
          "name": "stdout",
          "text": [
            "-------------------------------------------------------------------------------LotShape------------------------------------------------------------------------------- - "
          ]
        },
        {
          "output_type": "display_data",
          "data": {
            "text/plain": [
              "Reg    925\n",
              "IR1    484\n",
              "IR2     41\n",
              "IR3     10\n",
              "Name: LotShape, dtype: int64"
            ]
          },
          "metadata": {}
        },
        {
          "output_type": "stream",
          "name": "stdout",
          "text": [
            "-------------------------------------------------------------------------------LandContour------------------------------------------------------------------------------- - "
          ]
        },
        {
          "output_type": "display_data",
          "data": {
            "text/plain": [
              "Lvl    1311\n",
              "Bnk      63\n",
              "HLS      50\n",
              "Low      36\n",
              "Name: LandContour, dtype: int64"
            ]
          },
          "metadata": {}
        },
        {
          "output_type": "stream",
          "name": "stdout",
          "text": [
            "-------------------------------------------------------------------------------Utilities------------------------------------------------------------------------------- - "
          ]
        },
        {
          "output_type": "display_data",
          "data": {
            "text/plain": [
              "AllPub    1459\n",
              "NoSeWa       1\n",
              "Name: Utilities, dtype: int64"
            ]
          },
          "metadata": {}
        },
        {
          "output_type": "stream",
          "name": "stdout",
          "text": [
            "-------------------------------------------------------------------------------LotConfig------------------------------------------------------------------------------- - "
          ]
        },
        {
          "output_type": "display_data",
          "data": {
            "text/plain": [
              "Inside     1052\n",
              "Corner      263\n",
              "CulDSac      94\n",
              "FR2          47\n",
              "FR3           4\n",
              "Name: LotConfig, dtype: int64"
            ]
          },
          "metadata": {}
        },
        {
          "output_type": "stream",
          "name": "stdout",
          "text": [
            "-------------------------------------------------------------------------------LandSlope------------------------------------------------------------------------------- - "
          ]
        },
        {
          "output_type": "display_data",
          "data": {
            "text/plain": [
              "Gtl    1382\n",
              "Mod      65\n",
              "Sev      13\n",
              "Name: LandSlope, dtype: int64"
            ]
          },
          "metadata": {}
        },
        {
          "output_type": "stream",
          "name": "stdout",
          "text": [
            "-------------------------------------------------------------------------------Neighborhood------------------------------------------------------------------------------- - "
          ]
        },
        {
          "output_type": "display_data",
          "data": {
            "text/plain": [
              "NAmes      225\n",
              "CollgCr    150\n",
              "OldTown    113\n",
              "Edwards    100\n",
              "Somerst     86\n",
              "Gilbert     79\n",
              "NridgHt     77\n",
              "Sawyer      74\n",
              "NWAmes      73\n",
              "SawyerW     59\n",
              "BrkSide     58\n",
              "Crawfor     51\n",
              "Mitchel     49\n",
              "NoRidge     41\n",
              "Timber      38\n",
              "IDOTRR      37\n",
              "ClearCr     28\n",
              "StoneBr     25\n",
              "SWISU       25\n",
              "Blmngtn     17\n",
              "MeadowV     17\n",
              "BrDale      16\n",
              "Veenker     11\n",
              "NPkVill      9\n",
              "Blueste      2\n",
              "Name: Neighborhood, dtype: int64"
            ]
          },
          "metadata": {}
        },
        {
          "output_type": "stream",
          "name": "stdout",
          "text": [
            "-------------------------------------------------------------------------------Condition1------------------------------------------------------------------------------- - "
          ]
        },
        {
          "output_type": "display_data",
          "data": {
            "text/plain": [
              "Norm      1260\n",
              "Feedr       81\n",
              "Artery      48\n",
              "RRAn        26\n",
              "PosN        19\n",
              "RRAe        11\n",
              "PosA         8\n",
              "RRNn         5\n",
              "RRNe         2\n",
              "Name: Condition1, dtype: int64"
            ]
          },
          "metadata": {}
        },
        {
          "output_type": "stream",
          "name": "stdout",
          "text": [
            "-------------------------------------------------------------------------------Condition2------------------------------------------------------------------------------- - "
          ]
        },
        {
          "output_type": "display_data",
          "data": {
            "text/plain": [
              "Norm      1445\n",
              "Feedr        6\n",
              "PosN         2\n",
              "RRNn         2\n",
              "Artery       2\n",
              "RRAn         1\n",
              "PosA         1\n",
              "RRAe         1\n",
              "Name: Condition2, dtype: int64"
            ]
          },
          "metadata": {}
        },
        {
          "output_type": "stream",
          "name": "stdout",
          "text": [
            "-------------------------------------------------------------------------------BldgType------------------------------------------------------------------------------- - "
          ]
        },
        {
          "output_type": "display_data",
          "data": {
            "text/plain": [
              "1Fam      1220\n",
              "TwnhsE     114\n",
              "Duplex      52\n",
              "Twnhs       43\n",
              "2fmCon      31\n",
              "Name: BldgType, dtype: int64"
            ]
          },
          "metadata": {}
        },
        {
          "output_type": "stream",
          "name": "stdout",
          "text": [
            "-------------------------------------------------------------------------------HouseStyle------------------------------------------------------------------------------- - "
          ]
        },
        {
          "output_type": "display_data",
          "data": {
            "text/plain": [
              "1Story    726\n",
              "2Story    445\n",
              "1.5Fin    154\n",
              "SLvl       65\n",
              "SFoyer     37\n",
              "1.5Unf     14\n",
              "2.5Unf     11\n",
              "2.5Fin      8\n",
              "Name: HouseStyle, dtype: int64"
            ]
          },
          "metadata": {}
        },
        {
          "output_type": "stream",
          "name": "stdout",
          "text": [
            "-------------------------------------------------------------------------------OverallQual------------------------------------------------------------------------------- - "
          ]
        },
        {
          "output_type": "display_data",
          "data": {
            "text/plain": [
              "5     397\n",
              "6     374\n",
              "7     319\n",
              "8     168\n",
              "4     116\n",
              "9      43\n",
              "3      20\n",
              "10     18\n",
              "2       3\n",
              "1       2\n",
              "Name: OverallQual, dtype: int64"
            ]
          },
          "metadata": {}
        },
        {
          "output_type": "stream",
          "name": "stdout",
          "text": [
            "-------------------------------------------------------------------------------OverallCond------------------------------------------------------------------------------- - "
          ]
        },
        {
          "output_type": "display_data",
          "data": {
            "text/plain": [
              "5    821\n",
              "6    252\n",
              "7    205\n",
              "8     72\n",
              "4     57\n",
              "3     25\n",
              "9     22\n",
              "2      5\n",
              "1      1\n",
              "Name: OverallCond, dtype: int64"
            ]
          },
          "metadata": {}
        },
        {
          "output_type": "stream",
          "name": "stdout",
          "text": [
            "-------------------------------------------------------------------------------YearBuilt------------------------------------------------------------------------------- - "
          ]
        },
        {
          "output_type": "display_data",
          "data": {
            "text/plain": [
              "2006    67\n",
              "2005    64\n",
              "2004    54\n",
              "2007    49\n",
              "2003    45\n",
              "1976    33\n",
              "1977    32\n",
              "1920    30\n",
              "1959    26\n",
              "1999    25\n",
              "1998    25\n",
              "1958    24\n",
              "1965    24\n",
              "1970    24\n",
              "1954    24\n",
              "2000    24\n",
              "2002    23\n",
              "2008    23\n",
              "1972    23\n",
              "1968    22\n",
              "1971    22\n",
              "1950    20\n",
              "2001    20\n",
              "1957    20\n",
              "1962    19\n",
              "1994    19\n",
              "1966    18\n",
              "2009    18\n",
              "1995    18\n",
              "1940    18\n",
              "Name: YearBuilt, dtype: int64"
            ]
          },
          "metadata": {}
        },
        {
          "output_type": "stream",
          "name": "stdout",
          "text": [
            "-------------------------------------------------------------------------------YearRemodAdd------------------------------------------------------------------------------- - "
          ]
        },
        {
          "output_type": "display_data",
          "data": {
            "text/plain": [
              "1950    178\n",
              "2006     97\n",
              "2007     76\n",
              "2005     73\n",
              "2004     62\n",
              "2000     55\n",
              "2003     51\n",
              "2002     48\n",
              "2008     40\n",
              "1996     36\n",
              "1998     36\n",
              "1995     31\n",
              "1976     30\n",
              "1999     30\n",
              "1970     26\n",
              "1997     25\n",
              "1977     25\n",
              "2009     23\n",
              "1994     22\n",
              "2001     21\n",
              "1972     20\n",
              "1965     19\n",
              "1993     19\n",
              "1971     18\n",
              "1959     18\n",
              "1968     17\n",
              "1992     17\n",
              "1978     16\n",
              "1966     15\n",
              "1958     15\n",
              "Name: YearRemodAdd, dtype: int64"
            ]
          },
          "metadata": {}
        },
        {
          "output_type": "stream",
          "name": "stdout",
          "text": [
            "-------------------------------------------------------------------------------RoofStyle------------------------------------------------------------------------------- - "
          ]
        },
        {
          "output_type": "display_data",
          "data": {
            "text/plain": [
              "Gable      1141\n",
              "Hip         286\n",
              "Flat         13\n",
              "Gambrel      11\n",
              "Mansard       7\n",
              "Shed          2\n",
              "Name: RoofStyle, dtype: int64"
            ]
          },
          "metadata": {}
        },
        {
          "output_type": "stream",
          "name": "stdout",
          "text": [
            "-------------------------------------------------------------------------------RoofMatl------------------------------------------------------------------------------- - "
          ]
        },
        {
          "output_type": "display_data",
          "data": {
            "text/plain": [
              "CompShg    1434\n",
              "Tar&Grv      11\n",
              "WdShngl       6\n",
              "WdShake       5\n",
              "Roll          1\n",
              "Metal         1\n",
              "Membran       1\n",
              "ClyTile       1\n",
              "Name: RoofMatl, dtype: int64"
            ]
          },
          "metadata": {}
        },
        {
          "output_type": "stream",
          "name": "stdout",
          "text": [
            "-------------------------------------------------------------------------------Exterior1st------------------------------------------------------------------------------- - "
          ]
        },
        {
          "output_type": "display_data",
          "data": {
            "text/plain": [
              "VinylSd    515\n",
              "HdBoard    222\n",
              "MetalSd    220\n",
              "Wd Sdng    206\n",
              "Plywood    108\n",
              "CemntBd     61\n",
              "BrkFace     50\n",
              "WdShing     26\n",
              "Stucco      25\n",
              "AsbShng     20\n",
              "BrkComm      2\n",
              "Stone        2\n",
              "ImStucc      1\n",
              "AsphShn      1\n",
              "CBlock       1\n",
              "Name: Exterior1st, dtype: int64"
            ]
          },
          "metadata": {}
        },
        {
          "output_type": "stream",
          "name": "stdout",
          "text": [
            "-------------------------------------------------------------------------------Exterior2nd------------------------------------------------------------------------------- - "
          ]
        },
        {
          "output_type": "display_data",
          "data": {
            "text/plain": [
              "VinylSd    504\n",
              "MetalSd    214\n",
              "HdBoard    207\n",
              "Wd Sdng    197\n",
              "Plywood    142\n",
              "CmentBd     60\n",
              "Wd Shng     38\n",
              "Stucco      26\n",
              "BrkFace     25\n",
              "AsbShng     20\n",
              "ImStucc     10\n",
              "Brk Cmn      7\n",
              "Stone        5\n",
              "AsphShn      3\n",
              "Other        1\n",
              "CBlock       1\n",
              "Name: Exterior2nd, dtype: int64"
            ]
          },
          "metadata": {}
        },
        {
          "output_type": "stream",
          "name": "stdout",
          "text": [
            "-------------------------------------------------------------------------------MasVnrType------------------------------------------------------------------------------- - "
          ]
        },
        {
          "output_type": "display_data",
          "data": {
            "text/plain": [
              "None       864\n",
              "BrkFace    445\n",
              "Stone      128\n",
              "BrkCmn      15\n",
              "Name: MasVnrType, dtype: int64"
            ]
          },
          "metadata": {}
        },
        {
          "output_type": "stream",
          "name": "stdout",
          "text": [
            "-------------------------------------------------------------------------------MasVnrArea------------------------------------------------------------------------------- - "
          ]
        },
        {
          "output_type": "display_data",
          "data": {
            "text/plain": [
              "0.0      861\n",
              "72.0       8\n",
              "180.0      8\n",
              "108.0      8\n",
              "120.0      7\n",
              "16.0       7\n",
              "80.0       6\n",
              "200.0      6\n",
              "106.0      6\n",
              "340.0      6\n",
              "170.0      5\n",
              "132.0      5\n",
              "360.0      5\n",
              "84.0       5\n",
              "320.0      5\n",
              "100.0      4\n",
              "196.0      4\n",
              "246.0      4\n",
              "216.0      4\n",
              "160.0      4\n",
              "183.0      4\n",
              "178.0      4\n",
              "270.0      4\n",
              "300.0      4\n",
              "210.0      4\n",
              "268.0      4\n",
              "252.0      4\n",
              "168.0      4\n",
              "336.0      4\n",
              "220.0      4\n",
              "Name: MasVnrArea, dtype: int64"
            ]
          },
          "metadata": {}
        },
        {
          "output_type": "stream",
          "name": "stdout",
          "text": [
            "-------------------------------------------------------------------------------ExterQual------------------------------------------------------------------------------- - "
          ]
        },
        {
          "output_type": "display_data",
          "data": {
            "text/plain": [
              "TA    906\n",
              "Gd    488\n",
              "Ex     52\n",
              "Fa     14\n",
              "Name: ExterQual, dtype: int64"
            ]
          },
          "metadata": {}
        },
        {
          "output_type": "stream",
          "name": "stdout",
          "text": [
            "-------------------------------------------------------------------------------ExterCond------------------------------------------------------------------------------- - "
          ]
        },
        {
          "output_type": "display_data",
          "data": {
            "text/plain": [
              "TA    1282\n",
              "Gd     146\n",
              "Fa      28\n",
              "Ex       3\n",
              "Po       1\n",
              "Name: ExterCond, dtype: int64"
            ]
          },
          "metadata": {}
        },
        {
          "output_type": "stream",
          "name": "stdout",
          "text": [
            "-------------------------------------------------------------------------------Foundation------------------------------------------------------------------------------- - "
          ]
        },
        {
          "output_type": "display_data",
          "data": {
            "text/plain": [
              "PConc     647\n",
              "CBlock    634\n",
              "BrkTil    146\n",
              "Slab       24\n",
              "Stone       6\n",
              "Wood        3\n",
              "Name: Foundation, dtype: int64"
            ]
          },
          "metadata": {}
        },
        {
          "output_type": "stream",
          "name": "stdout",
          "text": [
            "-------------------------------------------------------------------------------BsmtQual------------------------------------------------------------------------------- - "
          ]
        },
        {
          "output_type": "display_data",
          "data": {
            "text/plain": [
              "TA    649\n",
              "Gd    618\n",
              "Ex    121\n",
              "Fa     35\n",
              "Name: BsmtQual, dtype: int64"
            ]
          },
          "metadata": {}
        },
        {
          "output_type": "stream",
          "name": "stdout",
          "text": [
            "-------------------------------------------------------------------------------BsmtCond------------------------------------------------------------------------------- - "
          ]
        },
        {
          "output_type": "display_data",
          "data": {
            "text/plain": [
              "TA    1311\n",
              "Gd      65\n",
              "Fa      45\n",
              "Po       2\n",
              "Name: BsmtCond, dtype: int64"
            ]
          },
          "metadata": {}
        },
        {
          "output_type": "stream",
          "name": "stdout",
          "text": [
            "-------------------------------------------------------------------------------BsmtExposure------------------------------------------------------------------------------- - "
          ]
        },
        {
          "output_type": "display_data",
          "data": {
            "text/plain": [
              "No    953\n",
              "Av    221\n",
              "Gd    134\n",
              "Mn    114\n",
              "Name: BsmtExposure, dtype: int64"
            ]
          },
          "metadata": {}
        },
        {
          "output_type": "stream",
          "name": "stdout",
          "text": [
            "-------------------------------------------------------------------------------BsmtFinType1------------------------------------------------------------------------------- - "
          ]
        },
        {
          "output_type": "display_data",
          "data": {
            "text/plain": [
              "Unf    430\n",
              "GLQ    418\n",
              "ALQ    220\n",
              "BLQ    148\n",
              "Rec    133\n",
              "LwQ     74\n",
              "Name: BsmtFinType1, dtype: int64"
            ]
          },
          "metadata": {}
        },
        {
          "output_type": "stream",
          "name": "stdout",
          "text": [
            "-------------------------------------------------------------------------------BsmtFinSF1------------------------------------------------------------------------------- - "
          ]
        },
        {
          "output_type": "display_data",
          "data": {
            "text/plain": [
              "0       467\n",
              "24       12\n",
              "16        9\n",
              "20        5\n",
              "686       5\n",
              "616       5\n",
              "936       5\n",
              "662       5\n",
              "428       4\n",
              "655       4\n",
              "442       4\n",
              "1200      4\n",
              "400       4\n",
              "300       4\n",
              "312       4\n",
              "495       4\n",
              "384       4\n",
              "697       4\n",
              "641       4\n",
              "360       4\n",
              "560       4\n",
              "588       4\n",
              "547       4\n",
              "504       4\n",
              "600       4\n",
              "553       4\n",
              "674       3\n",
              "1036      3\n",
              "403       3\n",
              "672       3\n",
              "Name: BsmtFinSF1, dtype: int64"
            ]
          },
          "metadata": {}
        },
        {
          "output_type": "stream",
          "name": "stdout",
          "text": [
            "-------------------------------------------------------------------------------BsmtFinType2------------------------------------------------------------------------------- - "
          ]
        },
        {
          "output_type": "display_data",
          "data": {
            "text/plain": [
              "Unf    1256\n",
              "Rec      54\n",
              "LwQ      46\n",
              "BLQ      33\n",
              "ALQ      19\n",
              "GLQ      14\n",
              "Name: BsmtFinType2, dtype: int64"
            ]
          },
          "metadata": {}
        },
        {
          "output_type": "stream",
          "name": "stdout",
          "text": [
            "-------------------------------------------------------------------------------BsmtFinSF2------------------------------------------------------------------------------- - "
          ]
        },
        {
          "output_type": "display_data",
          "data": {
            "text/plain": [
              "0      1293\n",
              "180       5\n",
              "374       3\n",
              "551       2\n",
              "93        2\n",
              "468       2\n",
              "147       2\n",
              "480       2\n",
              "539       2\n",
              "712       2\n",
              "117       2\n",
              "279       2\n",
              "96        2\n",
              "391       2\n",
              "287       2\n",
              "290       2\n",
              "294       2\n",
              "64        2\n",
              "41        2\n",
              "182       2\n",
              "469       2\n",
              "228       1\n",
              "208       1\n",
              "210       1\n",
              "211       1\n",
              "202       1\n",
              "215       1\n",
              "193       1\n",
              "219       1\n",
              "184       1\n",
              "Name: BsmtFinSF2, dtype: int64"
            ]
          },
          "metadata": {}
        },
        {
          "output_type": "stream",
          "name": "stdout",
          "text": [
            "-------------------------------------------------------------------------------BsmtUnfSF------------------------------------------------------------------------------- - "
          ]
        },
        {
          "output_type": "display_data",
          "data": {
            "text/plain": [
              "0      118\n",
              "728      9\n",
              "384      8\n",
              "572      7\n",
              "600      7\n",
              "300      7\n",
              "440      6\n",
              "625      6\n",
              "280      6\n",
              "672      6\n",
              "270      6\n",
              "162      5\n",
              "108      5\n",
              "490      5\n",
              "390      5\n",
              "80       5\n",
              "326      5\n",
              "816      5\n",
              "698      5\n",
              "319      5\n",
              "264      5\n",
              "216      5\n",
              "410      5\n",
              "638      4\n",
              "768      4\n",
              "780      4\n",
              "660      4\n",
              "420      4\n",
              "840      4\n",
              "556      4\n",
              "Name: BsmtUnfSF, dtype: int64"
            ]
          },
          "metadata": {}
        },
        {
          "output_type": "stream",
          "name": "stdout",
          "text": [
            "-------------------------------------------------------------------------------TotalBsmtSF------------------------------------------------------------------------------- - "
          ]
        },
        {
          "output_type": "display_data",
          "data": {
            "text/plain": [
              "0       37\n",
              "864     35\n",
              "672     17\n",
              "912     15\n",
              "1040    14\n",
              "816     13\n",
              "728     12\n",
              "768     12\n",
              "848     11\n",
              "780     11\n",
              "894     11\n",
              "832     10\n",
              "630      9\n",
              "756      9\n",
              "952      9\n",
              "1056     8\n",
              "936      8\n",
              "1008     7\n",
              "483      7\n",
              "840      7\n",
              "384      7\n",
              "720      7\n",
              "600      7\n",
              "1362     6\n",
              "876      6\n",
              "858      6\n",
              "884      6\n",
              "1392     6\n",
              "796      6\n",
              "793      5\n",
              "Name: TotalBsmtSF, dtype: int64"
            ]
          },
          "metadata": {}
        },
        {
          "output_type": "stream",
          "name": "stdout",
          "text": [
            "-------------------------------------------------------------------------------Heating------------------------------------------------------------------------------- - "
          ]
        },
        {
          "output_type": "display_data",
          "data": {
            "text/plain": [
              "GasA     1428\n",
              "GasW       18\n",
              "Grav        7\n",
              "Wall        4\n",
              "OthW        2\n",
              "Floor       1\n",
              "Name: Heating, dtype: int64"
            ]
          },
          "metadata": {}
        },
        {
          "output_type": "stream",
          "name": "stdout",
          "text": [
            "-------------------------------------------------------------------------------HeatingQC------------------------------------------------------------------------------- - "
          ]
        },
        {
          "output_type": "display_data",
          "data": {
            "text/plain": [
              "Ex    741\n",
              "TA    428\n",
              "Gd    241\n",
              "Fa     49\n",
              "Po      1\n",
              "Name: HeatingQC, dtype: int64"
            ]
          },
          "metadata": {}
        },
        {
          "output_type": "stream",
          "name": "stdout",
          "text": [
            "-------------------------------------------------------------------------------CentralAir------------------------------------------------------------------------------- - "
          ]
        },
        {
          "output_type": "display_data",
          "data": {
            "text/plain": [
              "Y    1365\n",
              "N      95\n",
              "Name: CentralAir, dtype: int64"
            ]
          },
          "metadata": {}
        },
        {
          "output_type": "stream",
          "name": "stdout",
          "text": [
            "-------------------------------------------------------------------------------Electrical------------------------------------------------------------------------------- - "
          ]
        },
        {
          "output_type": "display_data",
          "data": {
            "text/plain": [
              "SBrkr    1334\n",
              "FuseA      94\n",
              "FuseF      27\n",
              "FuseP       3\n",
              "Mix         1\n",
              "Name: Electrical, dtype: int64"
            ]
          },
          "metadata": {}
        },
        {
          "output_type": "stream",
          "name": "stdout",
          "text": [
            "-------------------------------------------------------------------------------1stFlrSF------------------------------------------------------------------------------- - "
          ]
        },
        {
          "output_type": "display_data",
          "data": {
            "text/plain": [
              "864     25\n",
              "1040    16\n",
              "912     14\n",
              "848     12\n",
              "894     12\n",
              "672     11\n",
              "816      9\n",
              "630      9\n",
              "936      7\n",
              "960      7\n",
              "483      7\n",
              "832      7\n",
              "764      6\n",
              "990      6\n",
              "728      6\n",
              "1056     6\n",
              "840      6\n",
              "882      6\n",
              "1728     6\n",
              "720      6\n",
              "796      5\n",
              "1494     5\n",
              "1422     5\n",
              "520      5\n",
              "1072     5\n",
              "1080     5\n",
              "616      5\n",
              "798      5\n",
              "1236     5\n",
              "958      5\n",
              "Name: 1stFlrSF, dtype: int64"
            ]
          },
          "metadata": {}
        },
        {
          "output_type": "stream",
          "name": "stdout",
          "text": [
            "-------------------------------------------------------------------------------2ndFlrSF------------------------------------------------------------------------------- - "
          ]
        },
        {
          "output_type": "display_data",
          "data": {
            "text/plain": [
              "0       829\n",
              "728      10\n",
              "504       9\n",
              "672       8\n",
              "546       8\n",
              "720       7\n",
              "600       7\n",
              "896       6\n",
              "780       5\n",
              "862       5\n",
              "689       5\n",
              "840       5\n",
              "756       5\n",
              "702       4\n",
              "739       4\n",
              "551       4\n",
              "741       4\n",
              "878       4\n",
              "804       4\n",
              "670       3\n",
              "660       3\n",
              "1254      3\n",
              "793       3\n",
              "668       3\n",
              "795       3\n",
              "742       3\n",
              "832       3\n",
              "684       3\n",
              "846       3\n",
              "807       3\n",
              "Name: 2ndFlrSF, dtype: int64"
            ]
          },
          "metadata": {}
        },
        {
          "output_type": "stream",
          "name": "stdout",
          "text": [
            "-------------------------------------------------------------------------------LowQualFinSF------------------------------------------------------------------------------- - "
          ]
        },
        {
          "output_type": "display_data",
          "data": {
            "text/plain": [
              "0      1434\n",
              "80        3\n",
              "360       2\n",
              "528       1\n",
              "53        1\n",
              "120       1\n",
              "144       1\n",
              "156       1\n",
              "205       1\n",
              "232       1\n",
              "234       1\n",
              "371       1\n",
              "572       1\n",
              "390       1\n",
              "392       1\n",
              "397       1\n",
              "420       1\n",
              "473       1\n",
              "479       1\n",
              "481       1\n",
              "513       1\n",
              "514       1\n",
              "515       1\n",
              "384       1\n",
              "Name: LowQualFinSF, dtype: int64"
            ]
          },
          "metadata": {}
        },
        {
          "output_type": "stream",
          "name": "stdout",
          "text": [
            "-------------------------------------------------------------------------------GrLivArea------------------------------------------------------------------------------- - "
          ]
        },
        {
          "output_type": "display_data",
          "data": {
            "text/plain": [
              "864     22\n",
              "1040    14\n",
              "894     11\n",
              "848     10\n",
              "1456    10\n",
              "912      9\n",
              "1200     9\n",
              "816      8\n",
              "1092     8\n",
              "1344     7\n",
              "1728     7\n",
              "987      7\n",
              "1056     6\n",
              "1224     6\n",
              "1768     6\n",
              "1494     6\n",
              "1484     6\n",
              "630      6\n",
              "1144     5\n",
              "1314     5\n",
              "960      5\n",
              "1252     5\n",
              "1710     5\n",
              "1392     5\n",
              "988      5\n",
              "990      5\n",
              "1656     5\n",
              "1218     5\n",
              "1302     5\n",
              "882      4\n",
              "Name: GrLivArea, dtype: int64"
            ]
          },
          "metadata": {}
        },
        {
          "output_type": "stream",
          "name": "stdout",
          "text": [
            "-------------------------------------------------------------------------------BsmtFullBath------------------------------------------------------------------------------- - "
          ]
        },
        {
          "output_type": "display_data",
          "data": {
            "text/plain": [
              "0    856\n",
              "1    588\n",
              "2     15\n",
              "3      1\n",
              "Name: BsmtFullBath, dtype: int64"
            ]
          },
          "metadata": {}
        },
        {
          "output_type": "stream",
          "name": "stdout",
          "text": [
            "-------------------------------------------------------------------------------BsmtHalfBath------------------------------------------------------------------------------- - "
          ]
        },
        {
          "output_type": "display_data",
          "data": {
            "text/plain": [
              "0    1378\n",
              "1      80\n",
              "2       2\n",
              "Name: BsmtHalfBath, dtype: int64"
            ]
          },
          "metadata": {}
        },
        {
          "output_type": "stream",
          "name": "stdout",
          "text": [
            "-------------------------------------------------------------------------------FullBath------------------------------------------------------------------------------- - "
          ]
        },
        {
          "output_type": "display_data",
          "data": {
            "text/plain": [
              "2    768\n",
              "1    650\n",
              "3     33\n",
              "0      9\n",
              "Name: FullBath, dtype: int64"
            ]
          },
          "metadata": {}
        },
        {
          "output_type": "stream",
          "name": "stdout",
          "text": [
            "-------------------------------------------------------------------------------HalfBath------------------------------------------------------------------------------- - "
          ]
        },
        {
          "output_type": "display_data",
          "data": {
            "text/plain": [
              "0    913\n",
              "1    535\n",
              "2     12\n",
              "Name: HalfBath, dtype: int64"
            ]
          },
          "metadata": {}
        },
        {
          "output_type": "stream",
          "name": "stdout",
          "text": [
            "-------------------------------------------------------------------------------BedroomAbvGr------------------------------------------------------------------------------- - "
          ]
        },
        {
          "output_type": "display_data",
          "data": {
            "text/plain": [
              "3    804\n",
              "2    358\n",
              "4    213\n",
              "1     50\n",
              "5     21\n",
              "6      7\n",
              "0      6\n",
              "8      1\n",
              "Name: BedroomAbvGr, dtype: int64"
            ]
          },
          "metadata": {}
        },
        {
          "output_type": "stream",
          "name": "stdout",
          "text": [
            "-------------------------------------------------------------------------------KitchenAbvGr------------------------------------------------------------------------------- - "
          ]
        },
        {
          "output_type": "display_data",
          "data": {
            "text/plain": [
              "1    1392\n",
              "2      65\n",
              "3       2\n",
              "0       1\n",
              "Name: KitchenAbvGr, dtype: int64"
            ]
          },
          "metadata": {}
        },
        {
          "output_type": "stream",
          "name": "stdout",
          "text": [
            "-------------------------------------------------------------------------------KitchenQual------------------------------------------------------------------------------- - "
          ]
        },
        {
          "output_type": "display_data",
          "data": {
            "text/plain": [
              "TA    735\n",
              "Gd    586\n",
              "Ex    100\n",
              "Fa     39\n",
              "Name: KitchenQual, dtype: int64"
            ]
          },
          "metadata": {}
        },
        {
          "output_type": "stream",
          "name": "stdout",
          "text": [
            "-------------------------------------------------------------------------------TotRmsAbvGrd------------------------------------------------------------------------------- - "
          ]
        },
        {
          "output_type": "display_data",
          "data": {
            "text/plain": [
              "6     402\n",
              "7     329\n",
              "5     275\n",
              "8     187\n",
              "4      97\n",
              "9      75\n",
              "10     47\n",
              "11     18\n",
              "3      17\n",
              "12     11\n",
              "14      1\n",
              "2       1\n",
              "Name: TotRmsAbvGrd, dtype: int64"
            ]
          },
          "metadata": {}
        },
        {
          "output_type": "stream",
          "name": "stdout",
          "text": [
            "-------------------------------------------------------------------------------Functional------------------------------------------------------------------------------- - "
          ]
        },
        {
          "output_type": "display_data",
          "data": {
            "text/plain": [
              "Typ     1360\n",
              "Min2      34\n",
              "Min1      31\n",
              "Mod       15\n",
              "Maj1      14\n",
              "Maj2       5\n",
              "Sev        1\n",
              "Name: Functional, dtype: int64"
            ]
          },
          "metadata": {}
        },
        {
          "output_type": "stream",
          "name": "stdout",
          "text": [
            "-------------------------------------------------------------------------------Fireplaces------------------------------------------------------------------------------- - "
          ]
        },
        {
          "output_type": "display_data",
          "data": {
            "text/plain": [
              "0    690\n",
              "1    650\n",
              "2    115\n",
              "3      5\n",
              "Name: Fireplaces, dtype: int64"
            ]
          },
          "metadata": {}
        },
        {
          "output_type": "stream",
          "name": "stdout",
          "text": [
            "-------------------------------------------------------------------------------FireplaceQu------------------------------------------------------------------------------- - "
          ]
        },
        {
          "output_type": "display_data",
          "data": {
            "text/plain": [
              "Gd    380\n",
              "TA    313\n",
              "Fa     33\n",
              "Ex     24\n",
              "Po     20\n",
              "Name: FireplaceQu, dtype: int64"
            ]
          },
          "metadata": {}
        },
        {
          "output_type": "stream",
          "name": "stdout",
          "text": [
            "-------------------------------------------------------------------------------GarageType------------------------------------------------------------------------------- - "
          ]
        },
        {
          "output_type": "display_data",
          "data": {
            "text/plain": [
              "Attchd     870\n",
              "Detchd     387\n",
              "BuiltIn     88\n",
              "Basment     19\n",
              "CarPort      9\n",
              "2Types       6\n",
              "Name: GarageType, dtype: int64"
            ]
          },
          "metadata": {}
        },
        {
          "output_type": "stream",
          "name": "stdout",
          "text": [
            "-------------------------------------------------------------------------------GarageYrBlt------------------------------------------------------------------------------- - "
          ]
        },
        {
          "output_type": "display_data",
          "data": {
            "text/plain": [
              "2005.0    65\n",
              "2006.0    59\n",
              "2004.0    53\n",
              "2003.0    50\n",
              "2007.0    49\n",
              "1977.0    35\n",
              "1998.0    31\n",
              "1999.0    30\n",
              "2008.0    29\n",
              "1976.0    29\n",
              "2000.0    27\n",
              "2002.0    26\n",
              "1968.0    26\n",
              "1950.0    24\n",
              "1993.0    22\n",
              "2009.0    21\n",
              "1965.0    21\n",
              "1966.0    21\n",
              "1962.0    21\n",
              "1958.0    21\n",
              "2001.0    20\n",
              "1996.0    20\n",
              "1957.0    20\n",
              "1970.0    20\n",
              "1960.0    19\n",
              "1997.0    19\n",
              "1978.0    19\n",
              "1954.0    19\n",
              "1974.0    18\n",
              "1994.0    18\n",
              "Name: GarageYrBlt, dtype: int64"
            ]
          },
          "metadata": {}
        },
        {
          "output_type": "stream",
          "name": "stdout",
          "text": [
            "-------------------------------------------------------------------------------GarageFinish------------------------------------------------------------------------------- - "
          ]
        },
        {
          "output_type": "display_data",
          "data": {
            "text/plain": [
              "Unf    605\n",
              "RFn    422\n",
              "Fin    352\n",
              "Name: GarageFinish, dtype: int64"
            ]
          },
          "metadata": {}
        },
        {
          "output_type": "stream",
          "name": "stdout",
          "text": [
            "-------------------------------------------------------------------------------GarageCars------------------------------------------------------------------------------- - "
          ]
        },
        {
          "output_type": "display_data",
          "data": {
            "text/plain": [
              "2    824\n",
              "1    369\n",
              "3    181\n",
              "0     81\n",
              "4      5\n",
              "Name: GarageCars, dtype: int64"
            ]
          },
          "metadata": {}
        },
        {
          "output_type": "stream",
          "name": "stdout",
          "text": [
            "-------------------------------------------------------------------------------GarageArea------------------------------------------------------------------------------- - "
          ]
        },
        {
          "output_type": "display_data",
          "data": {
            "text/plain": [
              "0      81\n",
              "440    49\n",
              "576    47\n",
              "240    38\n",
              "484    34\n",
              "528    33\n",
              "288    27\n",
              "400    25\n",
              "480    24\n",
              "264    24\n",
              "308    20\n",
              "420    19\n",
              "280    16\n",
              "672    15\n",
              "216    12\n",
              "504    12\n",
              "336    12\n",
              "352    12\n",
              "360    11\n",
              "564    11\n",
              "300    10\n",
              "462    10\n",
              "572    10\n",
              "540    10\n",
              "539     9\n",
              "660     9\n",
              "180     9\n",
              "384     9\n",
              "312     9\n",
              "286     9\n",
              "Name: GarageArea, dtype: int64"
            ]
          },
          "metadata": {}
        },
        {
          "output_type": "stream",
          "name": "stdout",
          "text": [
            "-------------------------------------------------------------------------------GarageQual------------------------------------------------------------------------------- - "
          ]
        },
        {
          "output_type": "display_data",
          "data": {
            "text/plain": [
              "TA    1311\n",
              "Fa      48\n",
              "Gd      14\n",
              "Ex       3\n",
              "Po       3\n",
              "Name: GarageQual, dtype: int64"
            ]
          },
          "metadata": {}
        },
        {
          "output_type": "stream",
          "name": "stdout",
          "text": [
            "-------------------------------------------------------------------------------GarageCond------------------------------------------------------------------------------- - "
          ]
        },
        {
          "output_type": "display_data",
          "data": {
            "text/plain": [
              "TA    1326\n",
              "Fa      35\n",
              "Gd       9\n",
              "Po       7\n",
              "Ex       2\n",
              "Name: GarageCond, dtype: int64"
            ]
          },
          "metadata": {}
        },
        {
          "output_type": "stream",
          "name": "stdout",
          "text": [
            "-------------------------------------------------------------------------------PavedDrive------------------------------------------------------------------------------- - "
          ]
        },
        {
          "output_type": "display_data",
          "data": {
            "text/plain": [
              "Y    1340\n",
              "N      90\n",
              "P      30\n",
              "Name: PavedDrive, dtype: int64"
            ]
          },
          "metadata": {}
        },
        {
          "output_type": "stream",
          "name": "stdout",
          "text": [
            "-------------------------------------------------------------------------------WoodDeckSF------------------------------------------------------------------------------- - "
          ]
        },
        {
          "output_type": "display_data",
          "data": {
            "text/plain": [
              "0      761\n",
              "192     38\n",
              "100     36\n",
              "144     33\n",
              "120     31\n",
              "168     28\n",
              "140     15\n",
              "224     14\n",
              "240     10\n",
              "208     10\n",
              "216      9\n",
              "180      8\n",
              "160      8\n",
              "250      6\n",
              "132      6\n",
              "264      6\n",
              "143      6\n",
              "96       6\n",
              "156      6\n",
              "171      5\n",
              "48       5\n",
              "196      5\n",
              "105      5\n",
              "288      5\n",
              "210      5\n",
              "220      4\n",
              "158      4\n",
              "104      4\n",
              "147      4\n",
              "74       4\n",
              "Name: WoodDeckSF, dtype: int64"
            ]
          },
          "metadata": {}
        },
        {
          "output_type": "stream",
          "name": "stdout",
          "text": [
            "-------------------------------------------------------------------------------OpenPorchSF------------------------------------------------------------------------------- - "
          ]
        },
        {
          "output_type": "display_data",
          "data": {
            "text/plain": [
              "0      656\n",
              "36      29\n",
              "48      22\n",
              "20      21\n",
              "40      19\n",
              "45      19\n",
              "30      16\n",
              "24      16\n",
              "60      15\n",
              "39      14\n",
              "28      14\n",
              "44      13\n",
              "50      13\n",
              "54      13\n",
              "72      12\n",
              "98      11\n",
              "63      11\n",
              "35      11\n",
              "32      11\n",
              "75      10\n",
              "42      10\n",
              "120     10\n",
              "96      10\n",
              "64       9\n",
              "66       9\n",
              "16       8\n",
              "78       8\n",
              "56       8\n",
              "38       8\n",
              "84       8\n",
              "Name: OpenPorchSF, dtype: int64"
            ]
          },
          "metadata": {}
        },
        {
          "output_type": "stream",
          "name": "stdout",
          "text": [
            "-------------------------------------------------------------------------------EnclosedPorch------------------------------------------------------------------------------- - "
          ]
        },
        {
          "output_type": "display_data",
          "data": {
            "text/plain": [
              "0      1252\n",
              "112      15\n",
              "96        6\n",
              "120       5\n",
              "144       5\n",
              "192       5\n",
              "216       5\n",
              "252       4\n",
              "116       4\n",
              "156       4\n",
              "126       3\n",
              "228       3\n",
              "128       3\n",
              "184       3\n",
              "102       3\n",
              "150       3\n",
              "40        3\n",
              "176       3\n",
              "164       3\n",
              "77        2\n",
              "185       2\n",
              "80        2\n",
              "180       2\n",
              "84        2\n",
              "160       2\n",
              "168       2\n",
              "205       2\n",
              "158       2\n",
              "154       2\n",
              "100       2\n",
              "Name: EnclosedPorch, dtype: int64"
            ]
          },
          "metadata": {}
        },
        {
          "output_type": "stream",
          "name": "stdout",
          "text": [
            "-------------------------------------------------------------------------------3SsnPorch------------------------------------------------------------------------------- - "
          ]
        },
        {
          "output_type": "display_data",
          "data": {
            "text/plain": [
              "0      1436\n",
              "168       3\n",
              "216       2\n",
              "144       2\n",
              "180       2\n",
              "245       1\n",
              "238       1\n",
              "290       1\n",
              "196       1\n",
              "182       1\n",
              "407       1\n",
              "304       1\n",
              "162       1\n",
              "153       1\n",
              "320       1\n",
              "140       1\n",
              "130       1\n",
              "96        1\n",
              "23        1\n",
              "508       1\n",
              "Name: 3SsnPorch, dtype: int64"
            ]
          },
          "metadata": {}
        },
        {
          "output_type": "stream",
          "name": "stdout",
          "text": [
            "-------------------------------------------------------------------------------ScreenPorch------------------------------------------------------------------------------- - "
          ]
        },
        {
          "output_type": "display_data",
          "data": {
            "text/plain": [
              "0      1344\n",
              "192       6\n",
              "224       5\n",
              "120       5\n",
              "189       4\n",
              "180       4\n",
              "160       3\n",
              "168       3\n",
              "144       3\n",
              "126       3\n",
              "147       3\n",
              "90        3\n",
              "200       2\n",
              "198       2\n",
              "216       2\n",
              "184       2\n",
              "259       2\n",
              "100       2\n",
              "176       2\n",
              "170       2\n",
              "288       2\n",
              "142       2\n",
              "153       1\n",
              "154       1\n",
              "152       1\n",
              "155       1\n",
              "145       1\n",
              "156       1\n",
              "143       1\n",
              "322       1\n",
              "Name: ScreenPorch, dtype: int64"
            ]
          },
          "metadata": {}
        },
        {
          "output_type": "stream",
          "name": "stdout",
          "text": [
            "-------------------------------------------------------------------------------PoolArea------------------------------------------------------------------------------- - "
          ]
        },
        {
          "output_type": "display_data",
          "data": {
            "text/plain": [
              "0      1453\n",
              "738       1\n",
              "648       1\n",
              "576       1\n",
              "555       1\n",
              "519       1\n",
              "512       1\n",
              "480       1\n",
              "Name: PoolArea, dtype: int64"
            ]
          },
          "metadata": {}
        },
        {
          "output_type": "stream",
          "name": "stdout",
          "text": [
            "-------------------------------------------------------------------------------PoolQC------------------------------------------------------------------------------- - "
          ]
        },
        {
          "output_type": "display_data",
          "data": {
            "text/plain": [
              "Gd    3\n",
              "Ex    2\n",
              "Fa    2\n",
              "Name: PoolQC, dtype: int64"
            ]
          },
          "metadata": {}
        },
        {
          "output_type": "stream",
          "name": "stdout",
          "text": [
            "-------------------------------------------------------------------------------Fence------------------------------------------------------------------------------- - "
          ]
        },
        {
          "output_type": "display_data",
          "data": {
            "text/plain": [
              "MnPrv    157\n",
              "GdPrv     59\n",
              "GdWo      54\n",
              "MnWw      11\n",
              "Name: Fence, dtype: int64"
            ]
          },
          "metadata": {}
        },
        {
          "output_type": "stream",
          "name": "stdout",
          "text": [
            "-------------------------------------------------------------------------------MiscFeature------------------------------------------------------------------------------- - "
          ]
        },
        {
          "output_type": "display_data",
          "data": {
            "text/plain": [
              "Shed    49\n",
              "Othr     2\n",
              "Gar2     2\n",
              "TenC     1\n",
              "Name: MiscFeature, dtype: int64"
            ]
          },
          "metadata": {}
        },
        {
          "output_type": "stream",
          "name": "stdout",
          "text": [
            "-------------------------------------------------------------------------------MiscVal------------------------------------------------------------------------------- - "
          ]
        },
        {
          "output_type": "display_data",
          "data": {
            "text/plain": [
              "0        1408\n",
              "400        11\n",
              "500         8\n",
              "700         5\n",
              "450         4\n",
              "2000        4\n",
              "600         4\n",
              "1200        2\n",
              "480         2\n",
              "1150        1\n",
              "800         1\n",
              "15500       1\n",
              "620         1\n",
              "3500        1\n",
              "560         1\n",
              "2500        1\n",
              "1300        1\n",
              "1400        1\n",
              "350         1\n",
              "8300        1\n",
              "54          1\n",
              "Name: MiscVal, dtype: int64"
            ]
          },
          "metadata": {}
        },
        {
          "output_type": "stream",
          "name": "stdout",
          "text": [
            "-------------------------------------------------------------------------------MoSold------------------------------------------------------------------------------- - "
          ]
        },
        {
          "output_type": "display_data",
          "data": {
            "text/plain": [
              "6     253\n",
              "7     234\n",
              "5     204\n",
              "4     141\n",
              "8     122\n",
              "3     106\n",
              "10     89\n",
              "11     79\n",
              "9      63\n",
              "12     59\n",
              "1      58\n",
              "2      52\n",
              "Name: MoSold, dtype: int64"
            ]
          },
          "metadata": {}
        },
        {
          "output_type": "stream",
          "name": "stdout",
          "text": [
            "-------------------------------------------------------------------------------YrSold------------------------------------------------------------------------------- - "
          ]
        },
        {
          "output_type": "display_data",
          "data": {
            "text/plain": [
              "2009    338\n",
              "2007    329\n",
              "2006    314\n",
              "2008    304\n",
              "2010    175\n",
              "Name: YrSold, dtype: int64"
            ]
          },
          "metadata": {}
        },
        {
          "output_type": "stream",
          "name": "stdout",
          "text": [
            "-------------------------------------------------------------------------------SaleType------------------------------------------------------------------------------- - "
          ]
        },
        {
          "output_type": "display_data",
          "data": {
            "text/plain": [
              "WD       1267\n",
              "New       122\n",
              "COD        43\n",
              "ConLD       9\n",
              "ConLI       5\n",
              "ConLw       5\n",
              "CWD         4\n",
              "Oth         3\n",
              "Con         2\n",
              "Name: SaleType, dtype: int64"
            ]
          },
          "metadata": {}
        },
        {
          "output_type": "stream",
          "name": "stdout",
          "text": [
            "-------------------------------------------------------------------------------SaleCondition------------------------------------------------------------------------------- - "
          ]
        },
        {
          "output_type": "display_data",
          "data": {
            "text/plain": [
              "Normal     1198\n",
              "Partial     125\n",
              "Abnorml     101\n",
              "Family       20\n",
              "Alloca       12\n",
              "AdjLand       4\n",
              "Name: SaleCondition, dtype: int64"
            ]
          },
          "metadata": {}
        },
        {
          "output_type": "stream",
          "name": "stdout",
          "text": [
            "-------------------------------------------------------------------------------SalePrice------------------------------------------------------------------------------- - "
          ]
        },
        {
          "output_type": "display_data",
          "data": {
            "text/plain": [
              "140000    20\n",
              "135000    17\n",
              "145000    14\n",
              "155000    14\n",
              "190000    13\n",
              "110000    13\n",
              "160000    12\n",
              "115000    12\n",
              "139000    11\n",
              "130000    11\n",
              "125000    10\n",
              "143000    10\n",
              "185000    10\n",
              "180000    10\n",
              "144000    10\n",
              "175000     9\n",
              "147000     9\n",
              "100000     9\n",
              "127000     9\n",
              "165000     8\n",
              "176000     8\n",
              "170000     8\n",
              "129000     8\n",
              "230000     8\n",
              "250000     8\n",
              "200000     8\n",
              "141000     8\n",
              "215000     8\n",
              "148000     7\n",
              "173000     7\n",
              "Name: SalePrice, dtype: int64"
            ]
          },
          "metadata": {}
        }
      ]
    },
    {
      "cell_type": "code",
      "metadata": {
        "id": "whtHLBQ-iyYE",
        "outputId": "f65e5d14-0f70-4603-d1fa-949ddd93c674",
        "colab": {
          "base_uri": "https://localhost:8080/",
          "height": 253
        }
      },
      "source": [
        "df.head()"
      ],
      "execution_count": 9,
      "outputs": [
        {
          "output_type": "execute_result",
          "data": {
            "text/html": [
              "<div>\n",
              "<style scoped>\n",
              "    .dataframe tbody tr th:only-of-type {\n",
              "        vertical-align: middle;\n",
              "    }\n",
              "\n",
              "    .dataframe tbody tr th {\n",
              "        vertical-align: top;\n",
              "    }\n",
              "\n",
              "    .dataframe thead th {\n",
              "        text-align: right;\n",
              "    }\n",
              "</style>\n",
              "<table border=\"1\" class=\"dataframe\">\n",
              "  <thead>\n",
              "    <tr style=\"text-align: right;\">\n",
              "      <th></th>\n",
              "      <th>Id</th>\n",
              "      <th>MSSubClass</th>\n",
              "      <th>MSZoning</th>\n",
              "      <th>LotFrontage</th>\n",
              "      <th>LotArea</th>\n",
              "      <th>Street</th>\n",
              "      <th>Alley</th>\n",
              "      <th>LotShape</th>\n",
              "      <th>LandContour</th>\n",
              "      <th>Utilities</th>\n",
              "      <th>LotConfig</th>\n",
              "      <th>LandSlope</th>\n",
              "      <th>Neighborhood</th>\n",
              "      <th>Condition1</th>\n",
              "      <th>Condition2</th>\n",
              "      <th>BldgType</th>\n",
              "      <th>HouseStyle</th>\n",
              "      <th>OverallQual</th>\n",
              "      <th>OverallCond</th>\n",
              "      <th>YearBuilt</th>\n",
              "      <th>YearRemodAdd</th>\n",
              "      <th>RoofStyle</th>\n",
              "      <th>RoofMatl</th>\n",
              "      <th>Exterior1st</th>\n",
              "      <th>Exterior2nd</th>\n",
              "      <th>MasVnrType</th>\n",
              "      <th>MasVnrArea</th>\n",
              "      <th>ExterQual</th>\n",
              "      <th>ExterCond</th>\n",
              "      <th>Foundation</th>\n",
              "      <th>BsmtQual</th>\n",
              "      <th>BsmtCond</th>\n",
              "      <th>BsmtExposure</th>\n",
              "      <th>BsmtFinType1</th>\n",
              "      <th>BsmtFinSF1</th>\n",
              "      <th>BsmtFinType2</th>\n",
              "      <th>BsmtFinSF2</th>\n",
              "      <th>BsmtUnfSF</th>\n",
              "      <th>TotalBsmtSF</th>\n",
              "      <th>Heating</th>\n",
              "      <th>...</th>\n",
              "      <th>CentralAir</th>\n",
              "      <th>Electrical</th>\n",
              "      <th>1stFlrSF</th>\n",
              "      <th>2ndFlrSF</th>\n",
              "      <th>LowQualFinSF</th>\n",
              "      <th>GrLivArea</th>\n",
              "      <th>BsmtFullBath</th>\n",
              "      <th>BsmtHalfBath</th>\n",
              "      <th>FullBath</th>\n",
              "      <th>HalfBath</th>\n",
              "      <th>BedroomAbvGr</th>\n",
              "      <th>KitchenAbvGr</th>\n",
              "      <th>KitchenQual</th>\n",
              "      <th>TotRmsAbvGrd</th>\n",
              "      <th>Functional</th>\n",
              "      <th>Fireplaces</th>\n",
              "      <th>FireplaceQu</th>\n",
              "      <th>GarageType</th>\n",
              "      <th>GarageYrBlt</th>\n",
              "      <th>GarageFinish</th>\n",
              "      <th>GarageCars</th>\n",
              "      <th>GarageArea</th>\n",
              "      <th>GarageQual</th>\n",
              "      <th>GarageCond</th>\n",
              "      <th>PavedDrive</th>\n",
              "      <th>WoodDeckSF</th>\n",
              "      <th>OpenPorchSF</th>\n",
              "      <th>EnclosedPorch</th>\n",
              "      <th>3SsnPorch</th>\n",
              "      <th>ScreenPorch</th>\n",
              "      <th>PoolArea</th>\n",
              "      <th>PoolQC</th>\n",
              "      <th>Fence</th>\n",
              "      <th>MiscFeature</th>\n",
              "      <th>MiscVal</th>\n",
              "      <th>MoSold</th>\n",
              "      <th>YrSold</th>\n",
              "      <th>SaleType</th>\n",
              "      <th>SaleCondition</th>\n",
              "      <th>SalePrice</th>\n",
              "    </tr>\n",
              "  </thead>\n",
              "  <tbody>\n",
              "    <tr>\n",
              "      <th>0</th>\n",
              "      <td>1</td>\n",
              "      <td>60</td>\n",
              "      <td>RL</td>\n",
              "      <td>65.0</td>\n",
              "      <td>8450</td>\n",
              "      <td>Pave</td>\n",
              "      <td>NaN</td>\n",
              "      <td>Reg</td>\n",
              "      <td>Lvl</td>\n",
              "      <td>AllPub</td>\n",
              "      <td>Inside</td>\n",
              "      <td>Gtl</td>\n",
              "      <td>CollgCr</td>\n",
              "      <td>Norm</td>\n",
              "      <td>Norm</td>\n",
              "      <td>1Fam</td>\n",
              "      <td>2Story</td>\n",
              "      <td>7</td>\n",
              "      <td>5</td>\n",
              "      <td>2003</td>\n",
              "      <td>2003</td>\n",
              "      <td>Gable</td>\n",
              "      <td>CompShg</td>\n",
              "      <td>VinylSd</td>\n",
              "      <td>VinylSd</td>\n",
              "      <td>BrkFace</td>\n",
              "      <td>196.0</td>\n",
              "      <td>Gd</td>\n",
              "      <td>TA</td>\n",
              "      <td>PConc</td>\n",
              "      <td>Gd</td>\n",
              "      <td>TA</td>\n",
              "      <td>No</td>\n",
              "      <td>GLQ</td>\n",
              "      <td>706</td>\n",
              "      <td>Unf</td>\n",
              "      <td>0</td>\n",
              "      <td>150</td>\n",
              "      <td>856</td>\n",
              "      <td>GasA</td>\n",
              "      <td>...</td>\n",
              "      <td>Y</td>\n",
              "      <td>SBrkr</td>\n",
              "      <td>856</td>\n",
              "      <td>854</td>\n",
              "      <td>0</td>\n",
              "      <td>1710</td>\n",
              "      <td>1</td>\n",
              "      <td>0</td>\n",
              "      <td>2</td>\n",
              "      <td>1</td>\n",
              "      <td>3</td>\n",
              "      <td>1</td>\n",
              "      <td>Gd</td>\n",
              "      <td>8</td>\n",
              "      <td>Typ</td>\n",
              "      <td>0</td>\n",
              "      <td>NaN</td>\n",
              "      <td>Attchd</td>\n",
              "      <td>2003.0</td>\n",
              "      <td>RFn</td>\n",
              "      <td>2</td>\n",
              "      <td>548</td>\n",
              "      <td>TA</td>\n",
              "      <td>TA</td>\n",
              "      <td>Y</td>\n",
              "      <td>0</td>\n",
              "      <td>61</td>\n",
              "      <td>0</td>\n",
              "      <td>0</td>\n",
              "      <td>0</td>\n",
              "      <td>0</td>\n",
              "      <td>NaN</td>\n",
              "      <td>NaN</td>\n",
              "      <td>NaN</td>\n",
              "      <td>0</td>\n",
              "      <td>2</td>\n",
              "      <td>2008</td>\n",
              "      <td>WD</td>\n",
              "      <td>Normal</td>\n",
              "      <td>208500</td>\n",
              "    </tr>\n",
              "    <tr>\n",
              "      <th>1</th>\n",
              "      <td>2</td>\n",
              "      <td>20</td>\n",
              "      <td>RL</td>\n",
              "      <td>80.0</td>\n",
              "      <td>9600</td>\n",
              "      <td>Pave</td>\n",
              "      <td>NaN</td>\n",
              "      <td>Reg</td>\n",
              "      <td>Lvl</td>\n",
              "      <td>AllPub</td>\n",
              "      <td>FR2</td>\n",
              "      <td>Gtl</td>\n",
              "      <td>Veenker</td>\n",
              "      <td>Feedr</td>\n",
              "      <td>Norm</td>\n",
              "      <td>1Fam</td>\n",
              "      <td>1Story</td>\n",
              "      <td>6</td>\n",
              "      <td>8</td>\n",
              "      <td>1976</td>\n",
              "      <td>1976</td>\n",
              "      <td>Gable</td>\n",
              "      <td>CompShg</td>\n",
              "      <td>MetalSd</td>\n",
              "      <td>MetalSd</td>\n",
              "      <td>None</td>\n",
              "      <td>0.0</td>\n",
              "      <td>TA</td>\n",
              "      <td>TA</td>\n",
              "      <td>CBlock</td>\n",
              "      <td>Gd</td>\n",
              "      <td>TA</td>\n",
              "      <td>Gd</td>\n",
              "      <td>ALQ</td>\n",
              "      <td>978</td>\n",
              "      <td>Unf</td>\n",
              "      <td>0</td>\n",
              "      <td>284</td>\n",
              "      <td>1262</td>\n",
              "      <td>GasA</td>\n",
              "      <td>...</td>\n",
              "      <td>Y</td>\n",
              "      <td>SBrkr</td>\n",
              "      <td>1262</td>\n",
              "      <td>0</td>\n",
              "      <td>0</td>\n",
              "      <td>1262</td>\n",
              "      <td>0</td>\n",
              "      <td>1</td>\n",
              "      <td>2</td>\n",
              "      <td>0</td>\n",
              "      <td>3</td>\n",
              "      <td>1</td>\n",
              "      <td>TA</td>\n",
              "      <td>6</td>\n",
              "      <td>Typ</td>\n",
              "      <td>1</td>\n",
              "      <td>TA</td>\n",
              "      <td>Attchd</td>\n",
              "      <td>1976.0</td>\n",
              "      <td>RFn</td>\n",
              "      <td>2</td>\n",
              "      <td>460</td>\n",
              "      <td>TA</td>\n",
              "      <td>TA</td>\n",
              "      <td>Y</td>\n",
              "      <td>298</td>\n",
              "      <td>0</td>\n",
              "      <td>0</td>\n",
              "      <td>0</td>\n",
              "      <td>0</td>\n",
              "      <td>0</td>\n",
              "      <td>NaN</td>\n",
              "      <td>NaN</td>\n",
              "      <td>NaN</td>\n",
              "      <td>0</td>\n",
              "      <td>5</td>\n",
              "      <td>2007</td>\n",
              "      <td>WD</td>\n",
              "      <td>Normal</td>\n",
              "      <td>181500</td>\n",
              "    </tr>\n",
              "    <tr>\n",
              "      <th>2</th>\n",
              "      <td>3</td>\n",
              "      <td>60</td>\n",
              "      <td>RL</td>\n",
              "      <td>68.0</td>\n",
              "      <td>11250</td>\n",
              "      <td>Pave</td>\n",
              "      <td>NaN</td>\n",
              "      <td>IR1</td>\n",
              "      <td>Lvl</td>\n",
              "      <td>AllPub</td>\n",
              "      <td>Inside</td>\n",
              "      <td>Gtl</td>\n",
              "      <td>CollgCr</td>\n",
              "      <td>Norm</td>\n",
              "      <td>Norm</td>\n",
              "      <td>1Fam</td>\n",
              "      <td>2Story</td>\n",
              "      <td>7</td>\n",
              "      <td>5</td>\n",
              "      <td>2001</td>\n",
              "      <td>2002</td>\n",
              "      <td>Gable</td>\n",
              "      <td>CompShg</td>\n",
              "      <td>VinylSd</td>\n",
              "      <td>VinylSd</td>\n",
              "      <td>BrkFace</td>\n",
              "      <td>162.0</td>\n",
              "      <td>Gd</td>\n",
              "      <td>TA</td>\n",
              "      <td>PConc</td>\n",
              "      <td>Gd</td>\n",
              "      <td>TA</td>\n",
              "      <td>Mn</td>\n",
              "      <td>GLQ</td>\n",
              "      <td>486</td>\n",
              "      <td>Unf</td>\n",
              "      <td>0</td>\n",
              "      <td>434</td>\n",
              "      <td>920</td>\n",
              "      <td>GasA</td>\n",
              "      <td>...</td>\n",
              "      <td>Y</td>\n",
              "      <td>SBrkr</td>\n",
              "      <td>920</td>\n",
              "      <td>866</td>\n",
              "      <td>0</td>\n",
              "      <td>1786</td>\n",
              "      <td>1</td>\n",
              "      <td>0</td>\n",
              "      <td>2</td>\n",
              "      <td>1</td>\n",
              "      <td>3</td>\n",
              "      <td>1</td>\n",
              "      <td>Gd</td>\n",
              "      <td>6</td>\n",
              "      <td>Typ</td>\n",
              "      <td>1</td>\n",
              "      <td>TA</td>\n",
              "      <td>Attchd</td>\n",
              "      <td>2001.0</td>\n",
              "      <td>RFn</td>\n",
              "      <td>2</td>\n",
              "      <td>608</td>\n",
              "      <td>TA</td>\n",
              "      <td>TA</td>\n",
              "      <td>Y</td>\n",
              "      <td>0</td>\n",
              "      <td>42</td>\n",
              "      <td>0</td>\n",
              "      <td>0</td>\n",
              "      <td>0</td>\n",
              "      <td>0</td>\n",
              "      <td>NaN</td>\n",
              "      <td>NaN</td>\n",
              "      <td>NaN</td>\n",
              "      <td>0</td>\n",
              "      <td>9</td>\n",
              "      <td>2008</td>\n",
              "      <td>WD</td>\n",
              "      <td>Normal</td>\n",
              "      <td>223500</td>\n",
              "    </tr>\n",
              "    <tr>\n",
              "      <th>3</th>\n",
              "      <td>4</td>\n",
              "      <td>70</td>\n",
              "      <td>RL</td>\n",
              "      <td>60.0</td>\n",
              "      <td>9550</td>\n",
              "      <td>Pave</td>\n",
              "      <td>NaN</td>\n",
              "      <td>IR1</td>\n",
              "      <td>Lvl</td>\n",
              "      <td>AllPub</td>\n",
              "      <td>Corner</td>\n",
              "      <td>Gtl</td>\n",
              "      <td>Crawfor</td>\n",
              "      <td>Norm</td>\n",
              "      <td>Norm</td>\n",
              "      <td>1Fam</td>\n",
              "      <td>2Story</td>\n",
              "      <td>7</td>\n",
              "      <td>5</td>\n",
              "      <td>1915</td>\n",
              "      <td>1970</td>\n",
              "      <td>Gable</td>\n",
              "      <td>CompShg</td>\n",
              "      <td>Wd Sdng</td>\n",
              "      <td>Wd Shng</td>\n",
              "      <td>None</td>\n",
              "      <td>0.0</td>\n",
              "      <td>TA</td>\n",
              "      <td>TA</td>\n",
              "      <td>BrkTil</td>\n",
              "      <td>TA</td>\n",
              "      <td>Gd</td>\n",
              "      <td>No</td>\n",
              "      <td>ALQ</td>\n",
              "      <td>216</td>\n",
              "      <td>Unf</td>\n",
              "      <td>0</td>\n",
              "      <td>540</td>\n",
              "      <td>756</td>\n",
              "      <td>GasA</td>\n",
              "      <td>...</td>\n",
              "      <td>Y</td>\n",
              "      <td>SBrkr</td>\n",
              "      <td>961</td>\n",
              "      <td>756</td>\n",
              "      <td>0</td>\n",
              "      <td>1717</td>\n",
              "      <td>1</td>\n",
              "      <td>0</td>\n",
              "      <td>1</td>\n",
              "      <td>0</td>\n",
              "      <td>3</td>\n",
              "      <td>1</td>\n",
              "      <td>Gd</td>\n",
              "      <td>7</td>\n",
              "      <td>Typ</td>\n",
              "      <td>1</td>\n",
              "      <td>Gd</td>\n",
              "      <td>Detchd</td>\n",
              "      <td>1998.0</td>\n",
              "      <td>Unf</td>\n",
              "      <td>3</td>\n",
              "      <td>642</td>\n",
              "      <td>TA</td>\n",
              "      <td>TA</td>\n",
              "      <td>Y</td>\n",
              "      <td>0</td>\n",
              "      <td>35</td>\n",
              "      <td>272</td>\n",
              "      <td>0</td>\n",
              "      <td>0</td>\n",
              "      <td>0</td>\n",
              "      <td>NaN</td>\n",
              "      <td>NaN</td>\n",
              "      <td>NaN</td>\n",
              "      <td>0</td>\n",
              "      <td>2</td>\n",
              "      <td>2006</td>\n",
              "      <td>WD</td>\n",
              "      <td>Abnorml</td>\n",
              "      <td>140000</td>\n",
              "    </tr>\n",
              "    <tr>\n",
              "      <th>4</th>\n",
              "      <td>5</td>\n",
              "      <td>60</td>\n",
              "      <td>RL</td>\n",
              "      <td>84.0</td>\n",
              "      <td>14260</td>\n",
              "      <td>Pave</td>\n",
              "      <td>NaN</td>\n",
              "      <td>IR1</td>\n",
              "      <td>Lvl</td>\n",
              "      <td>AllPub</td>\n",
              "      <td>FR2</td>\n",
              "      <td>Gtl</td>\n",
              "      <td>NoRidge</td>\n",
              "      <td>Norm</td>\n",
              "      <td>Norm</td>\n",
              "      <td>1Fam</td>\n",
              "      <td>2Story</td>\n",
              "      <td>8</td>\n",
              "      <td>5</td>\n",
              "      <td>2000</td>\n",
              "      <td>2000</td>\n",
              "      <td>Gable</td>\n",
              "      <td>CompShg</td>\n",
              "      <td>VinylSd</td>\n",
              "      <td>VinylSd</td>\n",
              "      <td>BrkFace</td>\n",
              "      <td>350.0</td>\n",
              "      <td>Gd</td>\n",
              "      <td>TA</td>\n",
              "      <td>PConc</td>\n",
              "      <td>Gd</td>\n",
              "      <td>TA</td>\n",
              "      <td>Av</td>\n",
              "      <td>GLQ</td>\n",
              "      <td>655</td>\n",
              "      <td>Unf</td>\n",
              "      <td>0</td>\n",
              "      <td>490</td>\n",
              "      <td>1145</td>\n",
              "      <td>GasA</td>\n",
              "      <td>...</td>\n",
              "      <td>Y</td>\n",
              "      <td>SBrkr</td>\n",
              "      <td>1145</td>\n",
              "      <td>1053</td>\n",
              "      <td>0</td>\n",
              "      <td>2198</td>\n",
              "      <td>1</td>\n",
              "      <td>0</td>\n",
              "      <td>2</td>\n",
              "      <td>1</td>\n",
              "      <td>4</td>\n",
              "      <td>1</td>\n",
              "      <td>Gd</td>\n",
              "      <td>9</td>\n",
              "      <td>Typ</td>\n",
              "      <td>1</td>\n",
              "      <td>TA</td>\n",
              "      <td>Attchd</td>\n",
              "      <td>2000.0</td>\n",
              "      <td>RFn</td>\n",
              "      <td>3</td>\n",
              "      <td>836</td>\n",
              "      <td>TA</td>\n",
              "      <td>TA</td>\n",
              "      <td>Y</td>\n",
              "      <td>192</td>\n",
              "      <td>84</td>\n",
              "      <td>0</td>\n",
              "      <td>0</td>\n",
              "      <td>0</td>\n",
              "      <td>0</td>\n",
              "      <td>NaN</td>\n",
              "      <td>NaN</td>\n",
              "      <td>NaN</td>\n",
              "      <td>0</td>\n",
              "      <td>12</td>\n",
              "      <td>2008</td>\n",
              "      <td>WD</td>\n",
              "      <td>Normal</td>\n",
              "      <td>250000</td>\n",
              "    </tr>\n",
              "  </tbody>\n",
              "</table>\n",
              "<p>5 rows × 81 columns</p>\n",
              "</div>"
            ],
            "text/plain": [
              "   Id  MSSubClass MSZoning  ...  SaleType  SaleCondition SalePrice\n",
              "0   1          60       RL  ...        WD         Normal    208500\n",
              "1   2          20       RL  ...        WD         Normal    181500\n",
              "2   3          60       RL  ...        WD         Normal    223500\n",
              "3   4          70       RL  ...        WD        Abnorml    140000\n",
              "4   5          60       RL  ...        WD         Normal    250000\n",
              "\n",
              "[5 rows x 81 columns]"
            ]
          },
          "metadata": {},
          "execution_count": 9
        }
      ]
    },
    {
      "cell_type": "code",
      "metadata": {
        "id": "YYBxIyVfK-rz"
      },
      "source": [
        "#features like Fence, Pool, Alley Fireplace, MiscFeatures can affect the price. These are so-called extras\n",
        "# I can combine them altogether into one columns"
      ],
      "execution_count": 10,
      "outputs": []
    },
    {
      "cell_type": "code",
      "metadata": {
        "colab": {
          "base_uri": "https://localhost:8080/",
          "height": 282
        },
        "id": "WXEFK0WYPP2Q",
        "outputId": "d04ca99d-99b6-4f1f-d8c5-1eea6a968d2c"
      },
      "source": [
        "df['SalePrice'].hist()\n",
        "#the price ranges from 90 K to 350-ish. The ones that cost more than 400 K must be real outliers, \n",
        "#some extra luxurious houses in the area. "
      ],
      "execution_count": 11,
      "outputs": [
        {
          "output_type": "execute_result",
          "data": {
            "text/plain": [
              "<matplotlib.axes._subplots.AxesSubplot at 0x7f18cc088210>"
            ]
          },
          "metadata": {},
          "execution_count": 11
        },
        {
          "output_type": "display_data",
          "data": {
            "image/png": "[encoded data removed]",
            "text/plain": [
              "<Figure size 432x288 with 1 Axes>"
            ]
          },
          "metadata": {
            "needs_background": "light"
          }
        }
      ]
    },
    {
      "cell_type": "code",
      "metadata": {
        "id": "w9WMkze8Soly",
        "outputId": "c589778b-1104-4556-8ecc-8068385abb3d",
        "colab": {
          "base_uri": "https://localhost:8080/",
          "height": 1000
        }
      },
      "source": [
        "df.hist(figsize=(18, 19))\n",
        "#looking at each numerical variable given below we can see the overall picture. OverallCond is mostly in the ranges between 5 and 6. \n",
        "# We can also observe that the data is skewed to the right, meaning there're some extreme outliers that are causing the skew, like BsmtHalfBath or 2 of HalfBath, 2-3 Fireplaces, etc. It might be \n",
        "#those pricey houses that cost over $500,000"
      ],
      "execution_count": 12,
      "outputs": [
        {
          "output_type": "execute_result",
          "data": {
            "text/plain": [
              "array([[<matplotlib.axes._subplots.AxesSubplot object at 0x7f18c96057d0>,\n",
              "        <matplotlib.axes._subplots.AxesSubplot object at 0x7f18c91750d0>,\n",
              "        <matplotlib.axes._subplots.AxesSubplot object at 0x7f18c9127750>,\n",
              "        <matplotlib.axes._subplots.AxesSubplot object at 0x7f18c90dddd0>,\n",
              "        <matplotlib.axes._subplots.AxesSubplot object at 0x7f18c90a2490>,\n",
              "        <matplotlib.axes._subplots.AxesSubplot object at 0x7f18c9054ad0>],\n",
              "       [<matplotlib.axes._subplots.AxesSubplot object at 0x7f18c9017210>,\n",
              "        <matplotlib.axes._subplots.AxesSubplot object at 0x7f18c904d7d0>,\n",
              "        <matplotlib.axes._subplots.AxesSubplot object at 0x7f18c904d810>,\n",
              "        <matplotlib.axes._subplots.AxesSubplot object at 0x7f18c9003f90>,\n",
              "        <matplotlib.axes._subplots.AxesSubplot object at 0x7f18c8f7cbd0>,\n",
              "        <matplotlib.axes._subplots.AxesSubplot object at 0x7f18c8f3d290>],\n",
              "       [<matplotlib.axes._subplots.AxesSubplot object at 0x7f18c8ef4910>,\n",
              "        <matplotlib.axes._subplots.AxesSubplot object at 0x7f18c8eaaf90>,\n",
              "        <matplotlib.axes._subplots.AxesSubplot object at 0x7f18c8e6d650>,\n",
              "        <matplotlib.axes._subplots.AxesSubplot object at 0x7f18c8e21cd0>,\n",
              "        <matplotlib.axes._subplots.AxesSubplot object at 0x7f18c8de6390>,\n",
              "        <matplotlib.axes._subplots.AxesSubplot object at 0x7f18c8d9ba10>],\n",
              "       [<matplotlib.axes._subplots.AxesSubplot object at 0x7f18c8d5e0d0>,\n",
              "        <matplotlib.axes._subplots.AxesSubplot object at 0x7f18c8d13750>,\n",
              "        <matplotlib.axes._subplots.AxesSubplot object at 0x7f18c8d49dd0>,\n",
              "        <matplotlib.axes._subplots.AxesSubplot object at 0x7f18c8d0e490>,\n",
              "        <matplotlib.axes._subplots.AxesSubplot object at 0x7f18c8cc2b10>,\n",
              "        <matplotlib.axes._subplots.AxesSubplot object at 0x7f18c8c841d0>],\n",
              "       [<matplotlib.axes._subplots.AxesSubplot object at 0x7f18c8c3b850>,\n",
              "        <matplotlib.axes._subplots.AxesSubplot object at 0x7f18c8bf1ed0>,\n",
              "        <matplotlib.axes._subplots.AxesSubplot object at 0x7f18c8bb7250>,\n",
              "        <matplotlib.axes._subplots.AxesSubplot object at 0x7f18c8b6b7d0>,\n",
              "        <matplotlib.axes._subplots.AxesSubplot object at 0x7f18c8b22d50>,\n",
              "        <matplotlib.axes._subplots.AxesSubplot object at 0x7f18c8ae5310>],\n",
              "       [<matplotlib.axes._subplots.AxesSubplot object at 0x7f18c8a9a890>,\n",
              "        <matplotlib.axes._subplots.AxesSubplot object at 0x7f18c8acee10>,\n",
              "        <matplotlib.axes._subplots.AxesSubplot object at 0x7f18c8a103d0>,\n",
              "        <matplotlib.axes._subplots.AxesSubplot object at 0x7f18c8a47950>,\n",
              "        <matplotlib.axes._subplots.AxesSubplot object at 0x7f18c89feed0>,\n",
              "        <matplotlib.axes._subplots.AxesSubplot object at 0x7f18c89c1490>],\n",
              "       [<matplotlib.axes._subplots.AxesSubplot object at 0x7f18c8977e90>,\n",
              "        <matplotlib.axes._subplots.AxesSubplot object at 0x7f18c893b510>,\n",
              "        <matplotlib.axes._subplots.AxesSubplot object at 0x7f18c88f1b50>,\n",
              "        <matplotlib.axes._subplots.AxesSubplot object at 0x7f18c88a2c90>,\n",
              "        <matplotlib.axes._subplots.AxesSubplot object at 0x7f18c886e350>,\n",
              "        <matplotlib.axes._subplots.AxesSubplot object at 0x7f18c8825890>]],\n",
              "      dtype=object)"
            ]
          },
          "metadata": {},
          "execution_count": 12
        },
        {
          "output_type": "display_data",
          "data": {
            "image/png": "[encoded data removed]",
            "text/plain": [
              "<Figure size 1296x1368 with 42 Axes>"
            ]
          },
          "metadata": {
            "needs_background": "light"
          }
        }
      ]
    },
    {
      "cell_type": "code",
      "metadata": {
        "id": "JtysLbdStKDw",
        "outputId": "449c1a1f-57c8-4877-9596-d84bcc1bdfa6",
        "colab": {
          "base_uri": "https://localhost:8080/",
          "height": 224
        }
      },
      "source": [
        "drop_cols = ['Fence', 'PoolQC', 'Alley', 'Id']\n",
        "df.drop(columns= drop_cols, inplace =True)\n",
        "df.head()"
      ],
      "execution_count": 13,
      "outputs": [
        {
          "output_type": "execute_result",
          "data": {
            "text/html": [
              "<div>\n",
              "<style scoped>\n",
              "    .dataframe tbody tr th:only-of-type {\n",
              "        vertical-align: middle;\n",
              "    }\n",
              "\n",
              "    .dataframe tbody tr th {\n",
              "        vertical-align: top;\n",
              "    }\n",
              "\n",
              "    .dataframe thead th {\n",
              "        text-align: right;\n",
              "    }\n",
              "</style>\n",
              "<table border=\"1\" class=\"dataframe\">\n",
              "  <thead>\n",
              "    <tr style=\"text-align: right;\">\n",
              "      <th></th>\n",
              "      <th>MSSubClass</th>\n",
              "      <th>MSZoning</th>\n",
              "      <th>LotFrontage</th>\n",
              "      <th>LotArea</th>\n",
              "      <th>Street</th>\n",
              "      <th>LotShape</th>\n",
              "      <th>LandContour</th>\n",
              "      <th>Utilities</th>\n",
              "      <th>LotConfig</th>\n",
              "      <th>LandSlope</th>\n",
              "      <th>Neighborhood</th>\n",
              "      <th>Condition1</th>\n",
              "      <th>Condition2</th>\n",
              "      <th>BldgType</th>\n",
              "      <th>HouseStyle</th>\n",
              "      <th>OverallQual</th>\n",
              "      <th>OverallCond</th>\n",
              "      <th>YearBuilt</th>\n",
              "      <th>YearRemodAdd</th>\n",
              "      <th>RoofStyle</th>\n",
              "      <th>RoofMatl</th>\n",
              "      <th>Exterior1st</th>\n",
              "      <th>Exterior2nd</th>\n",
              "      <th>MasVnrType</th>\n",
              "      <th>MasVnrArea</th>\n",
              "      <th>ExterQual</th>\n",
              "      <th>ExterCond</th>\n",
              "      <th>Foundation</th>\n",
              "      <th>BsmtQual</th>\n",
              "      <th>BsmtCond</th>\n",
              "      <th>BsmtExposure</th>\n",
              "      <th>BsmtFinType1</th>\n",
              "      <th>BsmtFinSF1</th>\n",
              "      <th>BsmtFinType2</th>\n",
              "      <th>BsmtFinSF2</th>\n",
              "      <th>BsmtUnfSF</th>\n",
              "      <th>TotalBsmtSF</th>\n",
              "      <th>Heating</th>\n",
              "      <th>HeatingQC</th>\n",
              "      <th>CentralAir</th>\n",
              "      <th>Electrical</th>\n",
              "      <th>1stFlrSF</th>\n",
              "      <th>2ndFlrSF</th>\n",
              "      <th>LowQualFinSF</th>\n",
              "      <th>GrLivArea</th>\n",
              "      <th>BsmtFullBath</th>\n",
              "      <th>BsmtHalfBath</th>\n",
              "      <th>FullBath</th>\n",
              "      <th>HalfBath</th>\n",
              "      <th>BedroomAbvGr</th>\n",
              "      <th>KitchenAbvGr</th>\n",
              "      <th>KitchenQual</th>\n",
              "      <th>TotRmsAbvGrd</th>\n",
              "      <th>Functional</th>\n",
              "      <th>Fireplaces</th>\n",
              "      <th>FireplaceQu</th>\n",
              "      <th>GarageType</th>\n",
              "      <th>GarageYrBlt</th>\n",
              "      <th>GarageFinish</th>\n",
              "      <th>GarageCars</th>\n",
              "      <th>GarageArea</th>\n",
              "      <th>GarageQual</th>\n",
              "      <th>GarageCond</th>\n",
              "      <th>PavedDrive</th>\n",
              "      <th>WoodDeckSF</th>\n",
              "      <th>OpenPorchSF</th>\n",
              "      <th>EnclosedPorch</th>\n",
              "      <th>3SsnPorch</th>\n",
              "      <th>ScreenPorch</th>\n",
              "      <th>PoolArea</th>\n",
              "      <th>MiscFeature</th>\n",
              "      <th>MiscVal</th>\n",
              "      <th>MoSold</th>\n",
              "      <th>YrSold</th>\n",
              "      <th>SaleType</th>\n",
              "      <th>SaleCondition</th>\n",
              "      <th>SalePrice</th>\n",
              "    </tr>\n",
              "  </thead>\n",
              "  <tbody>\n",
              "    <tr>\n",
              "      <th>0</th>\n",
              "      <td>60</td>\n",
              "      <td>RL</td>\n",
              "      <td>65.0</td>\n",
              "      <td>8450</td>\n",
              "      <td>Pave</td>\n",
              "      <td>Reg</td>\n",
              "      <td>Lvl</td>\n",
              "      <td>AllPub</td>\n",
              "      <td>Inside</td>\n",
              "      <td>Gtl</td>\n",
              "      <td>CollgCr</td>\n",
              "      <td>Norm</td>\n",
              "      <td>Norm</td>\n",
              "      <td>1Fam</td>\n",
              "      <td>2Story</td>\n",
              "      <td>7</td>\n",
              "      <td>5</td>\n",
              "      <td>2003</td>\n",
              "      <td>2003</td>\n",
              "      <td>Gable</td>\n",
              "      <td>CompShg</td>\n",
              "      <td>VinylSd</td>\n",
              "      <td>VinylSd</td>\n",
              "      <td>BrkFace</td>\n",
              "      <td>196.0</td>\n",
              "      <td>Gd</td>\n",
              "      <td>TA</td>\n",
              "      <td>PConc</td>\n",
              "      <td>Gd</td>\n",
              "      <td>TA</td>\n",
              "      <td>No</td>\n",
              "      <td>GLQ</td>\n",
              "      <td>706</td>\n",
              "      <td>Unf</td>\n",
              "      <td>0</td>\n",
              "      <td>150</td>\n",
              "      <td>856</td>\n",
              "      <td>GasA</td>\n",
              "      <td>Ex</td>\n",
              "      <td>Y</td>\n",
              "      <td>SBrkr</td>\n",
              "      <td>856</td>\n",
              "      <td>854</td>\n",
              "      <td>0</td>\n",
              "      <td>1710</td>\n",
              "      <td>1</td>\n",
              "      <td>0</td>\n",
              "      <td>2</td>\n",
              "      <td>1</td>\n",
              "      <td>3</td>\n",
              "      <td>1</td>\n",
              "      <td>Gd</td>\n",
              "      <td>8</td>\n",
              "      <td>Typ</td>\n",
              "      <td>0</td>\n",
              "      <td>NaN</td>\n",
              "      <td>Attchd</td>\n",
              "      <td>2003.0</td>\n",
              "      <td>RFn</td>\n",
              "      <td>2</td>\n",
              "      <td>548</td>\n",
              "      <td>TA</td>\n",
              "      <td>TA</td>\n",
              "      <td>Y</td>\n",
              "      <td>0</td>\n",
              "      <td>61</td>\n",
              "      <td>0</td>\n",
              "      <td>0</td>\n",
              "      <td>0</td>\n",
              "      <td>0</td>\n",
              "      <td>NaN</td>\n",
              "      <td>0</td>\n",
              "      <td>2</td>\n",
              "      <td>2008</td>\n",
              "      <td>WD</td>\n",
              "      <td>Normal</td>\n",
              "      <td>208500</td>\n",
              "    </tr>\n",
              "    <tr>\n",
              "      <th>1</th>\n",
              "      <td>20</td>\n",
              "      <td>RL</td>\n",
              "      <td>80.0</td>\n",
              "      <td>9600</td>\n",
              "      <td>Pave</td>\n",
              "      <td>Reg</td>\n",
              "      <td>Lvl</td>\n",
              "      <td>AllPub</td>\n",
              "      <td>FR2</td>\n",
              "      <td>Gtl</td>\n",
              "      <td>Veenker</td>\n",
              "      <td>Feedr</td>\n",
              "      <td>Norm</td>\n",
              "      <td>1Fam</td>\n",
              "      <td>1Story</td>\n",
              "      <td>6</td>\n",
              "      <td>8</td>\n",
              "      <td>1976</td>\n",
              "      <td>1976</td>\n",
              "      <td>Gable</td>\n",
              "      <td>CompShg</td>\n",
              "      <td>MetalSd</td>\n",
              "      <td>MetalSd</td>\n",
              "      <td>None</td>\n",
              "      <td>0.0</td>\n",
              "      <td>TA</td>\n",
              "      <td>TA</td>\n",
              "      <td>CBlock</td>\n",
              "      <td>Gd</td>\n",
              "      <td>TA</td>\n",
              "      <td>Gd</td>\n",
              "      <td>ALQ</td>\n",
              "      <td>978</td>\n",
              "      <td>Unf</td>\n",
              "      <td>0</td>\n",
              "      <td>284</td>\n",
              "      <td>1262</td>\n",
              "      <td>GasA</td>\n",
              "      <td>Ex</td>\n",
              "      <td>Y</td>\n",
              "      <td>SBrkr</td>\n",
              "      <td>1262</td>\n",
              "      <td>0</td>\n",
              "      <td>0</td>\n",
              "      <td>1262</td>\n",
              "      <td>0</td>\n",
              "      <td>1</td>\n",
              "      <td>2</td>\n",
              "      <td>0</td>\n",
              "      <td>3</td>\n",
              "      <td>1</td>\n",
              "      <td>TA</td>\n",
              "      <td>6</td>\n",
              "      <td>Typ</td>\n",
              "      <td>1</td>\n",
              "      <td>TA</td>\n",
              "      <td>Attchd</td>\n",
              "      <td>1976.0</td>\n",
              "      <td>RFn</td>\n",
              "      <td>2</td>\n",
              "      <td>460</td>\n",
              "      <td>TA</td>\n",
              "      <td>TA</td>\n",
              "      <td>Y</td>\n",
              "      <td>298</td>\n",
              "      <td>0</td>\n",
              "      <td>0</td>\n",
              "      <td>0</td>\n",
              "      <td>0</td>\n",
              "      <td>0</td>\n",
              "      <td>NaN</td>\n",
              "      <td>0</td>\n",
              "      <td>5</td>\n",
              "      <td>2007</td>\n",
              "      <td>WD</td>\n",
              "      <td>Normal</td>\n",
              "      <td>181500</td>\n",
              "    </tr>\n",
              "    <tr>\n",
              "      <th>2</th>\n",
              "      <td>60</td>\n",
              "      <td>RL</td>\n",
              "      <td>68.0</td>\n",
              "      <td>11250</td>\n",
              "      <td>Pave</td>\n",
              "      <td>IR1</td>\n",
              "      <td>Lvl</td>\n",
              "      <td>AllPub</td>\n",
              "      <td>Inside</td>\n",
              "      <td>Gtl</td>\n",
              "      <td>CollgCr</td>\n",
              "      <td>Norm</td>\n",
              "      <td>Norm</td>\n",
              "      <td>1Fam</td>\n",
              "      <td>2Story</td>\n",
              "      <td>7</td>\n",
              "      <td>5</td>\n",
              "      <td>2001</td>\n",
              "      <td>2002</td>\n",
              "      <td>Gable</td>\n",
              "      <td>CompShg</td>\n",
              "      <td>VinylSd</td>\n",
              "      <td>VinylSd</td>\n",
              "      <td>BrkFace</td>\n",
              "      <td>162.0</td>\n",
              "      <td>Gd</td>\n",
              "      <td>TA</td>\n",
              "      <td>PConc</td>\n",
              "      <td>Gd</td>\n",
              "      <td>TA</td>\n",
              "      <td>Mn</td>\n",
              "      <td>GLQ</td>\n",
              "      <td>486</td>\n",
              "      <td>Unf</td>\n",
              "      <td>0</td>\n",
              "      <td>434</td>\n",
              "      <td>920</td>\n",
              "      <td>GasA</td>\n",
              "      <td>Ex</td>\n",
              "      <td>Y</td>\n",
              "      <td>SBrkr</td>\n",
              "      <td>920</td>\n",
              "      <td>866</td>\n",
              "      <td>0</td>\n",
              "      <td>1786</td>\n",
              "      <td>1</td>\n",
              "      <td>0</td>\n",
              "      <td>2</td>\n",
              "      <td>1</td>\n",
              "      <td>3</td>\n",
              "      <td>1</td>\n",
              "      <td>Gd</td>\n",
              "      <td>6</td>\n",
              "      <td>Typ</td>\n",
              "      <td>1</td>\n",
              "      <td>TA</td>\n",
              "      <td>Attchd</td>\n",
              "      <td>2001.0</td>\n",
              "      <td>RFn</td>\n",
              "      <td>2</td>\n",
              "      <td>608</td>\n",
              "      <td>TA</td>\n",
              "      <td>TA</td>\n",
              "      <td>Y</td>\n",
              "      <td>0</td>\n",
              "      <td>42</td>\n",
              "      <td>0</td>\n",
              "      <td>0</td>\n",
              "      <td>0</td>\n",
              "      <td>0</td>\n",
              "      <td>NaN</td>\n",
              "      <td>0</td>\n",
              "      <td>9</td>\n",
              "      <td>2008</td>\n",
              "      <td>WD</td>\n",
              "      <td>Normal</td>\n",
              "      <td>223500</td>\n",
              "    </tr>\n",
              "    <tr>\n",
              "      <th>3</th>\n",
              "      <td>70</td>\n",
              "      <td>RL</td>\n",
              "      <td>60.0</td>\n",
              "      <td>9550</td>\n",
              "      <td>Pave</td>\n",
              "      <td>IR1</td>\n",
              "      <td>Lvl</td>\n",
              "      <td>AllPub</td>\n",
              "      <td>Corner</td>\n",
              "      <td>Gtl</td>\n",
              "      <td>Crawfor</td>\n",
              "      <td>Norm</td>\n",
              "      <td>Norm</td>\n",
              "      <td>1Fam</td>\n",
              "      <td>2Story</td>\n",
              "      <td>7</td>\n",
              "      <td>5</td>\n",
              "      <td>1915</td>\n",
              "      <td>1970</td>\n",
              "      <td>Gable</td>\n",
              "      <td>CompShg</td>\n",
              "      <td>Wd Sdng</td>\n",
              "      <td>Wd Shng</td>\n",
              "      <td>None</td>\n",
              "      <td>0.0</td>\n",
              "      <td>TA</td>\n",
              "      <td>TA</td>\n",
              "      <td>BrkTil</td>\n",
              "      <td>TA</td>\n",
              "      <td>Gd</td>\n",
              "      <td>No</td>\n",
              "      <td>ALQ</td>\n",
              "      <td>216</td>\n",
              "      <td>Unf</td>\n",
              "      <td>0</td>\n",
              "      <td>540</td>\n",
              "      <td>756</td>\n",
              "      <td>GasA</td>\n",
              "      <td>Gd</td>\n",
              "      <td>Y</td>\n",
              "      <td>SBrkr</td>\n",
              "      <td>961</td>\n",
              "      <td>756</td>\n",
              "      <td>0</td>\n",
              "      <td>1717</td>\n",
              "      <td>1</td>\n",
              "      <td>0</td>\n",
              "      <td>1</td>\n",
              "      <td>0</td>\n",
              "      <td>3</td>\n",
              "      <td>1</td>\n",
              "      <td>Gd</td>\n",
              "      <td>7</td>\n",
              "      <td>Typ</td>\n",
              "      <td>1</td>\n",
              "      <td>Gd</td>\n",
              "      <td>Detchd</td>\n",
              "      <td>1998.0</td>\n",
              "      <td>Unf</td>\n",
              "      <td>3</td>\n",
              "      <td>642</td>\n",
              "      <td>TA</td>\n",
              "      <td>TA</td>\n",
              "      <td>Y</td>\n",
              "      <td>0</td>\n",
              "      <td>35</td>\n",
              "      <td>272</td>\n",
              "      <td>0</td>\n",
              "      <td>0</td>\n",
              "      <td>0</td>\n",
              "      <td>NaN</td>\n",
              "      <td>0</td>\n",
              "      <td>2</td>\n",
              "      <td>2006</td>\n",
              "      <td>WD</td>\n",
              "      <td>Abnorml</td>\n",
              "      <td>140000</td>\n",
              "    </tr>\n",
              "    <tr>\n",
              "      <th>4</th>\n",
              "      <td>60</td>\n",
              "      <td>RL</td>\n",
              "      <td>84.0</td>\n",
              "      <td>14260</td>\n",
              "      <td>Pave</td>\n",
              "      <td>IR1</td>\n",
              "      <td>Lvl</td>\n",
              "      <td>AllPub</td>\n",
              "      <td>FR2</td>\n",
              "      <td>Gtl</td>\n",
              "      <td>NoRidge</td>\n",
              "      <td>Norm</td>\n",
              "      <td>Norm</td>\n",
              "      <td>1Fam</td>\n",
              "      <td>2Story</td>\n",
              "      <td>8</td>\n",
              "      <td>5</td>\n",
              "      <td>2000</td>\n",
              "      <td>2000</td>\n",
              "      <td>Gable</td>\n",
              "      <td>CompShg</td>\n",
              "      <td>VinylSd</td>\n",
              "      <td>VinylSd</td>\n",
              "      <td>BrkFace</td>\n",
              "      <td>350.0</td>\n",
              "      <td>Gd</td>\n",
              "      <td>TA</td>\n",
              "      <td>PConc</td>\n",
              "      <td>Gd</td>\n",
              "      <td>TA</td>\n",
              "      <td>Av</td>\n",
              "      <td>GLQ</td>\n",
              "      <td>655</td>\n",
              "      <td>Unf</td>\n",
              "      <td>0</td>\n",
              "      <td>490</td>\n",
              "      <td>1145</td>\n",
              "      <td>GasA</td>\n",
              "      <td>Ex</td>\n",
              "      <td>Y</td>\n",
              "      <td>SBrkr</td>\n",
              "      <td>1145</td>\n",
              "      <td>1053</td>\n",
              "      <td>0</td>\n",
              "      <td>2198</td>\n",
              "      <td>1</td>\n",
              "      <td>0</td>\n",
              "      <td>2</td>\n",
              "      <td>1</td>\n",
              "      <td>4</td>\n",
              "      <td>1</td>\n",
              "      <td>Gd</td>\n",
              "      <td>9</td>\n",
              "      <td>Typ</td>\n",
              "      <td>1</td>\n",
              "      <td>TA</td>\n",
              "      <td>Attchd</td>\n",
              "      <td>2000.0</td>\n",
              "      <td>RFn</td>\n",
              "      <td>3</td>\n",
              "      <td>836</td>\n",
              "      <td>TA</td>\n",
              "      <td>TA</td>\n",
              "      <td>Y</td>\n",
              "      <td>192</td>\n",
              "      <td>84</td>\n",
              "      <td>0</td>\n",
              "      <td>0</td>\n",
              "      <td>0</td>\n",
              "      <td>0</td>\n",
              "      <td>NaN</td>\n",
              "      <td>0</td>\n",
              "      <td>12</td>\n",
              "      <td>2008</td>\n",
              "      <td>WD</td>\n",
              "      <td>Normal</td>\n",
              "      <td>250000</td>\n",
              "    </tr>\n",
              "  </tbody>\n",
              "</table>\n",
              "</div>"
            ],
            "text/plain": [
              "   MSSubClass MSZoning  LotFrontage  ...  SaleType SaleCondition SalePrice\n",
              "0          60       RL         65.0  ...        WD        Normal    208500\n",
              "1          20       RL         80.0  ...        WD        Normal    181500\n",
              "2          60       RL         68.0  ...        WD        Normal    223500\n",
              "3          70       RL         60.0  ...        WD       Abnorml    140000\n",
              "4          60       RL         84.0  ...        WD        Normal    250000\n",
              "\n",
              "[5 rows x 77 columns]"
            ]
          },
          "metadata": {},
          "execution_count": 13
        }
      ]
    },
    {
      "cell_type": "code",
      "metadata": {
        "id": "4iPdgOgetooI",
        "outputId": "3be6b215-2e4f-4e32-dc11-fee2f4e553b8",
        "colab": {
          "base_uri": "https://localhost:8080/",
          "height": 224
        }
      },
      "source": [
        "df = df.dropna()\n",
        "df.head()"
      ],
      "execution_count": 14,
      "outputs": [
        {
          "output_type": "execute_result",
          "data": {
            "text/html": [
              "<div>\n",
              "<style scoped>\n",
              "    .dataframe tbody tr th:only-of-type {\n",
              "        vertical-align: middle;\n",
              "    }\n",
              "\n",
              "    .dataframe tbody tr th {\n",
              "        vertical-align: top;\n",
              "    }\n",
              "\n",
              "    .dataframe thead th {\n",
              "        text-align: right;\n",
              "    }\n",
              "</style>\n",
              "<table border=\"1\" class=\"dataframe\">\n",
              "  <thead>\n",
              "    <tr style=\"text-align: right;\">\n",
              "      <th></th>\n",
              "      <th>MSSubClass</th>\n",
              "      <th>MSZoning</th>\n",
              "      <th>LotFrontage</th>\n",
              "      <th>LotArea</th>\n",
              "      <th>Street</th>\n",
              "      <th>LotShape</th>\n",
              "      <th>LandContour</th>\n",
              "      <th>Utilities</th>\n",
              "      <th>LotConfig</th>\n",
              "      <th>LandSlope</th>\n",
              "      <th>Neighborhood</th>\n",
              "      <th>Condition1</th>\n",
              "      <th>Condition2</th>\n",
              "      <th>BldgType</th>\n",
              "      <th>HouseStyle</th>\n",
              "      <th>OverallQual</th>\n",
              "      <th>OverallCond</th>\n",
              "      <th>YearBuilt</th>\n",
              "      <th>YearRemodAdd</th>\n",
              "      <th>RoofStyle</th>\n",
              "      <th>RoofMatl</th>\n",
              "      <th>Exterior1st</th>\n",
              "      <th>Exterior2nd</th>\n",
              "      <th>MasVnrType</th>\n",
              "      <th>MasVnrArea</th>\n",
              "      <th>ExterQual</th>\n",
              "      <th>ExterCond</th>\n",
              "      <th>Foundation</th>\n",
              "      <th>BsmtQual</th>\n",
              "      <th>BsmtCond</th>\n",
              "      <th>BsmtExposure</th>\n",
              "      <th>BsmtFinType1</th>\n",
              "      <th>BsmtFinSF1</th>\n",
              "      <th>BsmtFinType2</th>\n",
              "      <th>BsmtFinSF2</th>\n",
              "      <th>BsmtUnfSF</th>\n",
              "      <th>TotalBsmtSF</th>\n",
              "      <th>Heating</th>\n",
              "      <th>HeatingQC</th>\n",
              "      <th>CentralAir</th>\n",
              "      <th>Electrical</th>\n",
              "      <th>1stFlrSF</th>\n",
              "      <th>2ndFlrSF</th>\n",
              "      <th>LowQualFinSF</th>\n",
              "      <th>GrLivArea</th>\n",
              "      <th>BsmtFullBath</th>\n",
              "      <th>BsmtHalfBath</th>\n",
              "      <th>FullBath</th>\n",
              "      <th>HalfBath</th>\n",
              "      <th>BedroomAbvGr</th>\n",
              "      <th>KitchenAbvGr</th>\n",
              "      <th>KitchenQual</th>\n",
              "      <th>TotRmsAbvGrd</th>\n",
              "      <th>Functional</th>\n",
              "      <th>Fireplaces</th>\n",
              "      <th>FireplaceQu</th>\n",
              "      <th>GarageType</th>\n",
              "      <th>GarageYrBlt</th>\n",
              "      <th>GarageFinish</th>\n",
              "      <th>GarageCars</th>\n",
              "      <th>GarageArea</th>\n",
              "      <th>GarageQual</th>\n",
              "      <th>GarageCond</th>\n",
              "      <th>PavedDrive</th>\n",
              "      <th>WoodDeckSF</th>\n",
              "      <th>OpenPorchSF</th>\n",
              "      <th>EnclosedPorch</th>\n",
              "      <th>3SsnPorch</th>\n",
              "      <th>ScreenPorch</th>\n",
              "      <th>PoolArea</th>\n",
              "      <th>MiscFeature</th>\n",
              "      <th>MiscVal</th>\n",
              "      <th>MoSold</th>\n",
              "      <th>YrSold</th>\n",
              "      <th>SaleType</th>\n",
              "      <th>SaleCondition</th>\n",
              "      <th>SalePrice</th>\n",
              "    </tr>\n",
              "  </thead>\n",
              "  <tbody>\n",
              "    <tr>\n",
              "      <th>51</th>\n",
              "      <td>50</td>\n",
              "      <td>RM</td>\n",
              "      <td>52.0</td>\n",
              "      <td>6240</td>\n",
              "      <td>Pave</td>\n",
              "      <td>Reg</td>\n",
              "      <td>Lvl</td>\n",
              "      <td>AllPub</td>\n",
              "      <td>Inside</td>\n",
              "      <td>Gtl</td>\n",
              "      <td>BrkSide</td>\n",
              "      <td>Norm</td>\n",
              "      <td>Norm</td>\n",
              "      <td>1Fam</td>\n",
              "      <td>1.5Fin</td>\n",
              "      <td>6</td>\n",
              "      <td>6</td>\n",
              "      <td>1934</td>\n",
              "      <td>1950</td>\n",
              "      <td>Gable</td>\n",
              "      <td>CompShg</td>\n",
              "      <td>Wd Sdng</td>\n",
              "      <td>Wd Sdng</td>\n",
              "      <td>None</td>\n",
              "      <td>0.0</td>\n",
              "      <td>TA</td>\n",
              "      <td>TA</td>\n",
              "      <td>PConc</td>\n",
              "      <td>TA</td>\n",
              "      <td>TA</td>\n",
              "      <td>No</td>\n",
              "      <td>Unf</td>\n",
              "      <td>0</td>\n",
              "      <td>Unf</td>\n",
              "      <td>0</td>\n",
              "      <td>816</td>\n",
              "      <td>816</td>\n",
              "      <td>GasA</td>\n",
              "      <td>TA</td>\n",
              "      <td>Y</td>\n",
              "      <td>SBrkr</td>\n",
              "      <td>816</td>\n",
              "      <td>0</td>\n",
              "      <td>360</td>\n",
              "      <td>1176</td>\n",
              "      <td>0</td>\n",
              "      <td>0</td>\n",
              "      <td>1</td>\n",
              "      <td>0</td>\n",
              "      <td>3</td>\n",
              "      <td>1</td>\n",
              "      <td>TA</td>\n",
              "      <td>6</td>\n",
              "      <td>Typ</td>\n",
              "      <td>1</td>\n",
              "      <td>Gd</td>\n",
              "      <td>Detchd</td>\n",
              "      <td>1985.0</td>\n",
              "      <td>Unf</td>\n",
              "      <td>2</td>\n",
              "      <td>528</td>\n",
              "      <td>TA</td>\n",
              "      <td>TA</td>\n",
              "      <td>Y</td>\n",
              "      <td>112</td>\n",
              "      <td>0</td>\n",
              "      <td>0</td>\n",
              "      <td>0</td>\n",
              "      <td>0</td>\n",
              "      <td>0</td>\n",
              "      <td>Shed</td>\n",
              "      <td>400</td>\n",
              "      <td>9</td>\n",
              "      <td>2006</td>\n",
              "      <td>WD</td>\n",
              "      <td>Normal</td>\n",
              "      <td>114500</td>\n",
              "    </tr>\n",
              "    <tr>\n",
              "      <th>510</th>\n",
              "      <td>20</td>\n",
              "      <td>RL</td>\n",
              "      <td>75.0</td>\n",
              "      <td>14559</td>\n",
              "      <td>Pave</td>\n",
              "      <td>Reg</td>\n",
              "      <td>Lvl</td>\n",
              "      <td>AllPub</td>\n",
              "      <td>Inside</td>\n",
              "      <td>Gtl</td>\n",
              "      <td>NAmes</td>\n",
              "      <td>Norm</td>\n",
              "      <td>Norm</td>\n",
              "      <td>1Fam</td>\n",
              "      <td>1Story</td>\n",
              "      <td>5</td>\n",
              "      <td>7</td>\n",
              "      <td>1951</td>\n",
              "      <td>2000</td>\n",
              "      <td>Hip</td>\n",
              "      <td>CompShg</td>\n",
              "      <td>Wd Sdng</td>\n",
              "      <td>Wd Sdng</td>\n",
              "      <td>BrkCmn</td>\n",
              "      <td>70.0</td>\n",
              "      <td>Gd</td>\n",
              "      <td>TA</td>\n",
              "      <td>CBlock</td>\n",
              "      <td>TA</td>\n",
              "      <td>TA</td>\n",
              "      <td>No</td>\n",
              "      <td>BLQ</td>\n",
              "      <td>650</td>\n",
              "      <td>Rec</td>\n",
              "      <td>180</td>\n",
              "      <td>178</td>\n",
              "      <td>1008</td>\n",
              "      <td>GasA</td>\n",
              "      <td>Ex</td>\n",
              "      <td>Y</td>\n",
              "      <td>SBrkr</td>\n",
              "      <td>1363</td>\n",
              "      <td>0</td>\n",
              "      <td>0</td>\n",
              "      <td>1363</td>\n",
              "      <td>1</td>\n",
              "      <td>0</td>\n",
              "      <td>1</td>\n",
              "      <td>0</td>\n",
              "      <td>2</td>\n",
              "      <td>1</td>\n",
              "      <td>TA</td>\n",
              "      <td>6</td>\n",
              "      <td>Min1</td>\n",
              "      <td>2</td>\n",
              "      <td>TA</td>\n",
              "      <td>CarPort</td>\n",
              "      <td>1951.0</td>\n",
              "      <td>Unf</td>\n",
              "      <td>1</td>\n",
              "      <td>288</td>\n",
              "      <td>TA</td>\n",
              "      <td>TA</td>\n",
              "      <td>Y</td>\n",
              "      <td>324</td>\n",
              "      <td>42</td>\n",
              "      <td>0</td>\n",
              "      <td>0</td>\n",
              "      <td>168</td>\n",
              "      <td>0</td>\n",
              "      <td>Shed</td>\n",
              "      <td>2000</td>\n",
              "      <td>6</td>\n",
              "      <td>2009</td>\n",
              "      <td>WD</td>\n",
              "      <td>Normal</td>\n",
              "      <td>164900</td>\n",
              "    </tr>\n",
              "    <tr>\n",
              "      <th>733</th>\n",
              "      <td>20</td>\n",
              "      <td>RL</td>\n",
              "      <td>80.0</td>\n",
              "      <td>10000</td>\n",
              "      <td>Pave</td>\n",
              "      <td>Reg</td>\n",
              "      <td>Lvl</td>\n",
              "      <td>AllPub</td>\n",
              "      <td>Corner</td>\n",
              "      <td>Gtl</td>\n",
              "      <td>Sawyer</td>\n",
              "      <td>Feedr</td>\n",
              "      <td>Norm</td>\n",
              "      <td>1Fam</td>\n",
              "      <td>1Story</td>\n",
              "      <td>5</td>\n",
              "      <td>6</td>\n",
              "      <td>1961</td>\n",
              "      <td>1983</td>\n",
              "      <td>Hip</td>\n",
              "      <td>CompShg</td>\n",
              "      <td>HdBoard</td>\n",
              "      <td>HdBoard</td>\n",
              "      <td>None</td>\n",
              "      <td>0.0</td>\n",
              "      <td>TA</td>\n",
              "      <td>TA</td>\n",
              "      <td>CBlock</td>\n",
              "      <td>TA</td>\n",
              "      <td>TA</td>\n",
              "      <td>No</td>\n",
              "      <td>BLQ</td>\n",
              "      <td>594</td>\n",
              "      <td>Unf</td>\n",
              "      <td>0</td>\n",
              "      <td>270</td>\n",
              "      <td>864</td>\n",
              "      <td>GasA</td>\n",
              "      <td>Ex</td>\n",
              "      <td>Y</td>\n",
              "      <td>SBrkr</td>\n",
              "      <td>1144</td>\n",
              "      <td>0</td>\n",
              "      <td>0</td>\n",
              "      <td>1144</td>\n",
              "      <td>1</td>\n",
              "      <td>0</td>\n",
              "      <td>1</td>\n",
              "      <td>0</td>\n",
              "      <td>3</td>\n",
              "      <td>1</td>\n",
              "      <td>TA</td>\n",
              "      <td>6</td>\n",
              "      <td>Typ</td>\n",
              "      <td>1</td>\n",
              "      <td>TA</td>\n",
              "      <td>Attchd</td>\n",
              "      <td>1961.0</td>\n",
              "      <td>RFn</td>\n",
              "      <td>1</td>\n",
              "      <td>264</td>\n",
              "      <td>TA</td>\n",
              "      <td>TA</td>\n",
              "      <td>Y</td>\n",
              "      <td>165</td>\n",
              "      <td>0</td>\n",
              "      <td>0</td>\n",
              "      <td>0</td>\n",
              "      <td>0</td>\n",
              "      <td>0</td>\n",
              "      <td>Shed</td>\n",
              "      <td>400</td>\n",
              "      <td>3</td>\n",
              "      <td>2009</td>\n",
              "      <td>WD</td>\n",
              "      <td>Normal</td>\n",
              "      <td>131400</td>\n",
              "    </tr>\n",
              "    <tr>\n",
              "      <th>766</th>\n",
              "      <td>60</td>\n",
              "      <td>RL</td>\n",
              "      <td>80.0</td>\n",
              "      <td>10421</td>\n",
              "      <td>Pave</td>\n",
              "      <td>Reg</td>\n",
              "      <td>Lvl</td>\n",
              "      <td>AllPub</td>\n",
              "      <td>Inside</td>\n",
              "      <td>Gtl</td>\n",
              "      <td>NWAmes</td>\n",
              "      <td>Norm</td>\n",
              "      <td>Norm</td>\n",
              "      <td>1Fam</td>\n",
              "      <td>2Story</td>\n",
              "      <td>7</td>\n",
              "      <td>5</td>\n",
              "      <td>1988</td>\n",
              "      <td>1988</td>\n",
              "      <td>Gable</td>\n",
              "      <td>CompShg</td>\n",
              "      <td>HdBoard</td>\n",
              "      <td>HdBoard</td>\n",
              "      <td>BrkFace</td>\n",
              "      <td>42.0</td>\n",
              "      <td>TA</td>\n",
              "      <td>TA</td>\n",
              "      <td>CBlock</td>\n",
              "      <td>Gd</td>\n",
              "      <td>TA</td>\n",
              "      <td>No</td>\n",
              "      <td>GLQ</td>\n",
              "      <td>394</td>\n",
              "      <td>Unf</td>\n",
              "      <td>0</td>\n",
              "      <td>586</td>\n",
              "      <td>980</td>\n",
              "      <td>GasA</td>\n",
              "      <td>TA</td>\n",
              "      <td>Y</td>\n",
              "      <td>SBrkr</td>\n",
              "      <td>980</td>\n",
              "      <td>734</td>\n",
              "      <td>0</td>\n",
              "      <td>1714</td>\n",
              "      <td>0</td>\n",
              "      <td>0</td>\n",
              "      <td>2</td>\n",
              "      <td>1</td>\n",
              "      <td>3</td>\n",
              "      <td>1</td>\n",
              "      <td>TA</td>\n",
              "      <td>7</td>\n",
              "      <td>Typ</td>\n",
              "      <td>1</td>\n",
              "      <td>TA</td>\n",
              "      <td>Attchd</td>\n",
              "      <td>1988.0</td>\n",
              "      <td>Unf</td>\n",
              "      <td>2</td>\n",
              "      <td>496</td>\n",
              "      <td>TA</td>\n",
              "      <td>TA</td>\n",
              "      <td>Y</td>\n",
              "      <td>228</td>\n",
              "      <td>66</td>\n",
              "      <td>156</td>\n",
              "      <td>0</td>\n",
              "      <td>0</td>\n",
              "      <td>0</td>\n",
              "      <td>Shed</td>\n",
              "      <td>500</td>\n",
              "      <td>3</td>\n",
              "      <td>2010</td>\n",
              "      <td>WD</td>\n",
              "      <td>Normal</td>\n",
              "      <td>196500</td>\n",
              "    </tr>\n",
              "    <tr>\n",
              "      <th>873</th>\n",
              "      <td>40</td>\n",
              "      <td>RL</td>\n",
              "      <td>60.0</td>\n",
              "      <td>12144</td>\n",
              "      <td>Pave</td>\n",
              "      <td>Reg</td>\n",
              "      <td>Lvl</td>\n",
              "      <td>AllPub</td>\n",
              "      <td>Inside</td>\n",
              "      <td>Gtl</td>\n",
              "      <td>NAmes</td>\n",
              "      <td>Norm</td>\n",
              "      <td>Norm</td>\n",
              "      <td>1Fam</td>\n",
              "      <td>1Story</td>\n",
              "      <td>5</td>\n",
              "      <td>7</td>\n",
              "      <td>1949</td>\n",
              "      <td>1950</td>\n",
              "      <td>Gable</td>\n",
              "      <td>CompShg</td>\n",
              "      <td>HdBoard</td>\n",
              "      <td>HdBoard</td>\n",
              "      <td>None</td>\n",
              "      <td>0.0</td>\n",
              "      <td>Gd</td>\n",
              "      <td>TA</td>\n",
              "      <td>CBlock</td>\n",
              "      <td>TA</td>\n",
              "      <td>TA</td>\n",
              "      <td>No</td>\n",
              "      <td>Rec</td>\n",
              "      <td>375</td>\n",
              "      <td>Unf</td>\n",
              "      <td>0</td>\n",
              "      <td>457</td>\n",
              "      <td>832</td>\n",
              "      <td>GasA</td>\n",
              "      <td>Gd</td>\n",
              "      <td>Y</td>\n",
              "      <td>SBrkr</td>\n",
              "      <td>1036</td>\n",
              "      <td>0</td>\n",
              "      <td>232</td>\n",
              "      <td>1268</td>\n",
              "      <td>0</td>\n",
              "      <td>0</td>\n",
              "      <td>1</td>\n",
              "      <td>0</td>\n",
              "      <td>3</td>\n",
              "      <td>1</td>\n",
              "      <td>TA</td>\n",
              "      <td>6</td>\n",
              "      <td>Typ</td>\n",
              "      <td>1</td>\n",
              "      <td>Gd</td>\n",
              "      <td>Attchd</td>\n",
              "      <td>1949.0</td>\n",
              "      <td>Unf</td>\n",
              "      <td>1</td>\n",
              "      <td>288</td>\n",
              "      <td>TA</td>\n",
              "      <td>TA</td>\n",
              "      <td>Y</td>\n",
              "      <td>0</td>\n",
              "      <td>28</td>\n",
              "      <td>0</td>\n",
              "      <td>0</td>\n",
              "      <td>0</td>\n",
              "      <td>0</td>\n",
              "      <td>Othr</td>\n",
              "      <td>0</td>\n",
              "      <td>9</td>\n",
              "      <td>2009</td>\n",
              "      <td>WD</td>\n",
              "      <td>Normal</td>\n",
              "      <td>133000</td>\n",
              "    </tr>\n",
              "  </tbody>\n",
              "</table>\n",
              "</div>"
            ],
            "text/plain": [
              "     MSSubClass MSZoning  LotFrontage  ...  SaleType SaleCondition SalePrice\n",
              "51           50       RM         52.0  ...        WD        Normal    114500\n",
              "510          20       RL         75.0  ...        WD        Normal    164900\n",
              "733          20       RL         80.0  ...        WD        Normal    131400\n",
              "766          60       RL         80.0  ...        WD        Normal    196500\n",
              "873          40       RL         60.0  ...        WD        Normal    133000\n",
              "\n",
              "[5 rows x 77 columns]"
            ]
          },
          "metadata": {},
          "execution_count": 14
        }
      ]
    },
    {
      "cell_type": "code",
      "metadata": {
        "id": "pPwXjsbAm3NQ"
      },
      "source": [
        "X = df.drop(columns=['SalePrice'])\n",
        "y = df['SalePrice']\n",
        "#defining X and y sets for training.\n",
        "#dropping the Saleprice from the training data and for the y predictor defining it as a predictor. "
      ],
      "execution_count": 15,
      "outputs": []
    },
    {
      "cell_type": "code",
      "metadata": {
        "id": "40hj4x73nWt0"
      },
      "source": [
        "X_train, X_test, y_train, y_test = train_test_split(X, y, test_size=0.2, random_state = 55)"
      ],
      "execution_count": 16,
      "outputs": []
    },
    {
      "cell_type": "code",
      "metadata": {
        "id": "kywT6qJ-p4B4"
      },
      "source": [
        "\n",
        "# num_cols = ['MSSubClass', 'LotArea', 'OverallQual', 'OverallCond', 'MasVnrArea', '1stFlrSF', 'HalfBath', 'BedroomAbvGr', 'WoodDeckSF', 'MoSold', 'YrSold', 'SalePrice']\n",
        "\n",
        "# bin_cols = []\n",
        "\n",
        "# cat_cols = ['BldgType', 'Neighborhood', 'Exterior1st', 'ExterQual', 'ExterCond', 'BsmtQual', 'BsmtExposure', 'BsmtFinType1', 'GarageFinish', 'KitchenQual']\n",
        "# drop_cats = []"
      ],
      "execution_count": 17,
      "outputs": []
    },
    {
      "cell_type": "code",
      "metadata": {
        "id": "yaWD8feyqF0T",
        "outputId": "069922a9-0664-4014-845d-c5ca3811137f",
        "colab": {
          "base_uri": "https://localhost:8080/"
        }
      },
      "source": [
        "encoder = LeaveOneOutEncoder()\n",
        "encoder.fit(X_train, y_train)\n",
        "\n",
        "#encoding categorical columns with \"LeaveOneOutEncoder\" for ML to learn from numerical data. "
      ],
      "execution_count": 18,
      "outputs": [
        {
          "output_type": "execute_result",
          "data": {
            "text/plain": [
              "LeaveOneOutEncoder(cols=['MSZoning', 'Street', 'LotShape', 'LandContour',\n",
              "                         'Utilities', 'LotConfig', 'LandSlope', 'Neighborhood',\n",
              "                         'Condition1', 'Condition2', 'BldgType', 'HouseStyle',\n",
              "                         'RoofStyle', 'RoofMatl', 'Exterior1st', 'Exterior2nd',\n",
              "                         'MasVnrType', 'ExterQual', 'ExterCond', 'Foundation',\n",
              "                         'BsmtQual', 'BsmtCond', 'BsmtExposure', 'BsmtFinType1',\n",
              "                         'BsmtFinType2', 'Heating', 'HeatingQC', 'CentralAir',\n",
              "                         'Electrical', 'KitchenQual', ...],\n",
              "                   drop_invariant=False, handle_missing='value',\n",
              "                   handle_unknown='value', random_state=None, return_df=True,\n",
              "                   sigma=None, verbose=0)"
            ]
          },
          "metadata": {},
          "execution_count": 18
        }
      ]
    },
    {
      "cell_type": "code",
      "metadata": {
        "id": "BnCFPDfEq64e"
      },
      "source": [
        "X_train = encoder.transform(X_train)\n",
        "X_test = encoder.transform(X_test)"
      ],
      "execution_count": 19,
      "outputs": []
    },
    {
      "cell_type": "code",
      "metadata": {
        "id": "8ee9ZQGzqTbg",
        "outputId": "3ade7802-8b2b-42ab-e2d9-2b97192c2311",
        "colab": {
          "base_uri": "https://localhost:8080/",
          "height": 224
        }
      },
      "source": [
        "X_train.head()"
      ],
      "execution_count": 20,
      "outputs": [
        {
          "output_type": "execute_result",
          "data": {
            "text/html": [
              "<div>\n",
              "<style scoped>\n",
              "    .dataframe tbody tr th:only-of-type {\n",
              "        vertical-align: middle;\n",
              "    }\n",
              "\n",
              "    .dataframe tbody tr th {\n",
              "        vertical-align: top;\n",
              "    }\n",
              "\n",
              "    .dataframe thead th {\n",
              "        text-align: right;\n",
              "    }\n",
              "</style>\n",
              "<table border=\"1\" class=\"dataframe\">\n",
              "  <thead>\n",
              "    <tr style=\"text-align: right;\">\n",
              "      <th></th>\n",
              "      <th>MSSubClass</th>\n",
              "      <th>MSZoning</th>\n",
              "      <th>LotFrontage</th>\n",
              "      <th>LotArea</th>\n",
              "      <th>Street</th>\n",
              "      <th>LotShape</th>\n",
              "      <th>LandContour</th>\n",
              "      <th>Utilities</th>\n",
              "      <th>LotConfig</th>\n",
              "      <th>LandSlope</th>\n",
              "      <th>Neighborhood</th>\n",
              "      <th>Condition1</th>\n",
              "      <th>Condition2</th>\n",
              "      <th>BldgType</th>\n",
              "      <th>HouseStyle</th>\n",
              "      <th>OverallQual</th>\n",
              "      <th>OverallCond</th>\n",
              "      <th>YearBuilt</th>\n",
              "      <th>YearRemodAdd</th>\n",
              "      <th>RoofStyle</th>\n",
              "      <th>RoofMatl</th>\n",
              "      <th>Exterior1st</th>\n",
              "      <th>Exterior2nd</th>\n",
              "      <th>MasVnrType</th>\n",
              "      <th>MasVnrArea</th>\n",
              "      <th>ExterQual</th>\n",
              "      <th>ExterCond</th>\n",
              "      <th>Foundation</th>\n",
              "      <th>BsmtQual</th>\n",
              "      <th>BsmtCond</th>\n",
              "      <th>BsmtExposure</th>\n",
              "      <th>BsmtFinType1</th>\n",
              "      <th>BsmtFinSF1</th>\n",
              "      <th>BsmtFinType2</th>\n",
              "      <th>BsmtFinSF2</th>\n",
              "      <th>BsmtUnfSF</th>\n",
              "      <th>TotalBsmtSF</th>\n",
              "      <th>Heating</th>\n",
              "      <th>HeatingQC</th>\n",
              "      <th>CentralAir</th>\n",
              "      <th>Electrical</th>\n",
              "      <th>1stFlrSF</th>\n",
              "      <th>2ndFlrSF</th>\n",
              "      <th>LowQualFinSF</th>\n",
              "      <th>GrLivArea</th>\n",
              "      <th>BsmtFullBath</th>\n",
              "      <th>BsmtHalfBath</th>\n",
              "      <th>FullBath</th>\n",
              "      <th>HalfBath</th>\n",
              "      <th>BedroomAbvGr</th>\n",
              "      <th>KitchenAbvGr</th>\n",
              "      <th>KitchenQual</th>\n",
              "      <th>TotRmsAbvGrd</th>\n",
              "      <th>Functional</th>\n",
              "      <th>Fireplaces</th>\n",
              "      <th>FireplaceQu</th>\n",
              "      <th>GarageType</th>\n",
              "      <th>GarageYrBlt</th>\n",
              "      <th>GarageFinish</th>\n",
              "      <th>GarageCars</th>\n",
              "      <th>GarageArea</th>\n",
              "      <th>GarageQual</th>\n",
              "      <th>GarageCond</th>\n",
              "      <th>PavedDrive</th>\n",
              "      <th>WoodDeckSF</th>\n",
              "      <th>OpenPorchSF</th>\n",
              "      <th>EnclosedPorch</th>\n",
              "      <th>3SsnPorch</th>\n",
              "      <th>ScreenPorch</th>\n",
              "      <th>PoolArea</th>\n",
              "      <th>MiscFeature</th>\n",
              "      <th>MiscVal</th>\n",
              "      <th>MoSold</th>\n",
              "      <th>YrSold</th>\n",
              "      <th>SaleType</th>\n",
              "      <th>SaleCondition</th>\n",
              "    </tr>\n",
              "  </thead>\n",
              "  <tbody>\n",
              "    <tr>\n",
              "      <th>1076</th>\n",
              "      <td>50</td>\n",
              "      <td>177037.5</td>\n",
              "      <td>60.0</td>\n",
              "      <td>10800</td>\n",
              "      <td>178680.0</td>\n",
              "      <td>170755.555556</td>\n",
              "      <td>178680.0</td>\n",
              "      <td>178680.0</td>\n",
              "      <td>175987.5</td>\n",
              "      <td>178680.0</td>\n",
              "      <td>213000.0</td>\n",
              "      <td>176737.5</td>\n",
              "      <td>178680.0</td>\n",
              "      <td>178680.0</td>\n",
              "      <td>165850.000000</td>\n",
              "      <td>5</td>\n",
              "      <td>8</td>\n",
              "      <td>1936</td>\n",
              "      <td>1989</td>\n",
              "      <td>185557.142857</td>\n",
              "      <td>178680.0</td>\n",
              "      <td>159600.0</td>\n",
              "      <td>178880.0</td>\n",
              "      <td>169233.333333</td>\n",
              "      <td>0.0</td>\n",
              "      <td>168128.571429</td>\n",
              "      <td>175987.5</td>\n",
              "      <td>175328.571429</td>\n",
              "      <td>178680.0</td>\n",
              "      <td>178680.0</td>\n",
              "      <td>184877.777778</td>\n",
              "      <td>166500.000000</td>\n",
              "      <td>626</td>\n",
              "      <td>171487.5</td>\n",
              "      <td>0</td>\n",
              "      <td>170</td>\n",
              "      <td>796</td>\n",
              "      <td>170088.888889</td>\n",
              "      <td>178680.0</td>\n",
              "      <td>178680.0</td>\n",
              "      <td>178680.0</td>\n",
              "      <td>1096</td>\n",
              "      <td>370</td>\n",
              "      <td>0</td>\n",
              "      <td>1466</td>\n",
              "      <td>0</td>\n",
              "      <td>1</td>\n",
              "      <td>2</td>\n",
              "      <td>0</td>\n",
              "      <td>3</td>\n",
              "      <td>1</td>\n",
              "      <td>203000.000000</td>\n",
              "      <td>7</td>\n",
              "      <td>167450.000000</td>\n",
              "      <td>1</td>\n",
              "      <td>198485.714286</td>\n",
              "      <td>188083.333333</td>\n",
              "      <td>1950.0</td>\n",
              "      <td>170800.0</td>\n",
              "      <td>2</td>\n",
              "      <td>566</td>\n",
              "      <td>170088.888889</td>\n",
              "      <td>178680.0</td>\n",
              "      <td>178680.0</td>\n",
              "      <td>436</td>\n",
              "      <td>21</td>\n",
              "      <td>0</td>\n",
              "      <td>0</td>\n",
              "      <td>0</td>\n",
              "      <td>0</td>\n",
              "      <td>170755.555556</td>\n",
              "      <td>500</td>\n",
              "      <td>4</td>\n",
              "      <td>2006</td>\n",
              "      <td>178680.0</td>\n",
              "      <td>178680.0</td>\n",
              "    </tr>\n",
              "    <tr>\n",
              "      <th>51</th>\n",
              "      <td>50</td>\n",
              "      <td>185250.0</td>\n",
              "      <td>52.0</td>\n",
              "      <td>6240</td>\n",
              "      <td>178680.0</td>\n",
              "      <td>170755.555556</td>\n",
              "      <td>178680.0</td>\n",
              "      <td>178680.0</td>\n",
              "      <td>175987.5</td>\n",
              "      <td>178680.0</td>\n",
              "      <td>178680.0</td>\n",
              "      <td>176737.5</td>\n",
              "      <td>178680.0</td>\n",
              "      <td>178680.0</td>\n",
              "      <td>165850.000000</td>\n",
              "      <td>6</td>\n",
              "      <td>6</td>\n",
              "      <td>1934</td>\n",
              "      <td>1950</td>\n",
              "      <td>185557.142857</td>\n",
              "      <td>178680.0</td>\n",
              "      <td>159600.0</td>\n",
              "      <td>178880.0</td>\n",
              "      <td>169233.333333</td>\n",
              "      <td>0.0</td>\n",
              "      <td>168128.571429</td>\n",
              "      <td>175987.5</td>\n",
              "      <td>151750.000000</td>\n",
              "      <td>145060.0</td>\n",
              "      <td>178680.0</td>\n",
              "      <td>184877.777778</td>\n",
              "      <td>142133.333333</td>\n",
              "      <td>0</td>\n",
              "      <td>171487.5</td>\n",
              "      <td>0</td>\n",
              "      <td>816</td>\n",
              "      <td>816</td>\n",
              "      <td>170088.888889</td>\n",
              "      <td>180250.0</td>\n",
              "      <td>178680.0</td>\n",
              "      <td>178680.0</td>\n",
              "      <td>816</td>\n",
              "      <td>0</td>\n",
              "      <td>360</td>\n",
              "      <td>1176</td>\n",
              "      <td>0</td>\n",
              "      <td>0</td>\n",
              "      <td>1</td>\n",
              "      <td>0</td>\n",
              "      <td>3</td>\n",
              "      <td>1</td>\n",
              "      <td>168257.142857</td>\n",
              "      <td>6</td>\n",
              "      <td>170842.857143</td>\n",
              "      <td>1</td>\n",
              "      <td>137250.000000</td>\n",
              "      <td>164466.666667</td>\n",
              "      <td>1985.0</td>\n",
              "      <td>170800.0</td>\n",
              "      <td>2</td>\n",
              "      <td>528</td>\n",
              "      <td>170088.888889</td>\n",
              "      <td>178680.0</td>\n",
              "      <td>178680.0</td>\n",
              "      <td>112</td>\n",
              "      <td>0</td>\n",
              "      <td>0</td>\n",
              "      <td>0</td>\n",
              "      <td>0</td>\n",
              "      <td>0</td>\n",
              "      <td>170755.555556</td>\n",
              "      <td>400</td>\n",
              "      <td>9</td>\n",
              "      <td>2006</td>\n",
              "      <td>178680.0</td>\n",
              "      <td>178680.0</td>\n",
              "    </tr>\n",
              "    <tr>\n",
              "      <th>510</th>\n",
              "      <td>20</td>\n",
              "      <td>177037.5</td>\n",
              "      <td>75.0</td>\n",
              "      <td>14559</td>\n",
              "      <td>178680.0</td>\n",
              "      <td>170755.555556</td>\n",
              "      <td>178680.0</td>\n",
              "      <td>178680.0</td>\n",
              "      <td>175987.5</td>\n",
              "      <td>178680.0</td>\n",
              "      <td>152700.0</td>\n",
              "      <td>176737.5</td>\n",
              "      <td>178680.0</td>\n",
              "      <td>178680.0</td>\n",
              "      <td>162633.333333</td>\n",
              "      <td>5</td>\n",
              "      <td>7</td>\n",
              "      <td>1951</td>\n",
              "      <td>2000</td>\n",
              "      <td>162633.333333</td>\n",
              "      <td>178680.0</td>\n",
              "      <td>159600.0</td>\n",
              "      <td>178880.0</td>\n",
              "      <td>178680.000000</td>\n",
              "      <td>70.0</td>\n",
              "      <td>203300.000000</td>\n",
              "      <td>175987.5</td>\n",
              "      <td>175328.571429</td>\n",
              "      <td>145060.0</td>\n",
              "      <td>178680.0</td>\n",
              "      <td>184877.777778</td>\n",
              "      <td>191633.333333</td>\n",
              "      <td>650</td>\n",
              "      <td>178680.0</td>\n",
              "      <td>180</td>\n",
              "      <td>178</td>\n",
              "      <td>1008</td>\n",
              "      <td>170088.888889</td>\n",
              "      <td>179160.0</td>\n",
              "      <td>178680.0</td>\n",
              "      <td>178680.0</td>\n",
              "      <td>1363</td>\n",
              "      <td>0</td>\n",
              "      <td>0</td>\n",
              "      <td>1363</td>\n",
              "      <td>1</td>\n",
              "      <td>0</td>\n",
              "      <td>1</td>\n",
              "      <td>0</td>\n",
              "      <td>2</td>\n",
              "      <td>1</td>\n",
              "      <td>168257.142857</td>\n",
              "      <td>6</td>\n",
              "      <td>167450.000000</td>\n",
              "      <td>2</td>\n",
              "      <td>198485.714286</td>\n",
              "      <td>178680.000000</td>\n",
              "      <td>1951.0</td>\n",
              "      <td>170800.0</td>\n",
              "      <td>1</td>\n",
              "      <td>288</td>\n",
              "      <td>170088.888889</td>\n",
              "      <td>178680.0</td>\n",
              "      <td>178680.0</td>\n",
              "      <td>324</td>\n",
              "      <td>42</td>\n",
              "      <td>0</td>\n",
              "      <td>0</td>\n",
              "      <td>168</td>\n",
              "      <td>0</td>\n",
              "      <td>170755.555556</td>\n",
              "      <td>2000</td>\n",
              "      <td>6</td>\n",
              "      <td>2009</td>\n",
              "      <td>178680.0</td>\n",
              "      <td>178680.0</td>\n",
              "    </tr>\n",
              "    <tr>\n",
              "      <th>766</th>\n",
              "      <td>60</td>\n",
              "      <td>177037.5</td>\n",
              "      <td>80.0</td>\n",
              "      <td>10421</td>\n",
              "      <td>178680.0</td>\n",
              "      <td>170755.555556</td>\n",
              "      <td>178680.0</td>\n",
              "      <td>178680.0</td>\n",
              "      <td>175987.5</td>\n",
              "      <td>178680.0</td>\n",
              "      <td>223250.0</td>\n",
              "      <td>176737.5</td>\n",
              "      <td>178680.0</td>\n",
              "      <td>178680.0</td>\n",
              "      <td>211833.333333</td>\n",
              "      <td>7</td>\n",
              "      <td>5</td>\n",
              "      <td>1988</td>\n",
              "      <td>1988</td>\n",
              "      <td>185557.142857</td>\n",
              "      <td>178680.0</td>\n",
              "      <td>178250.0</td>\n",
              "      <td>178250.0</td>\n",
              "      <td>202166.666667</td>\n",
              "      <td>42.0</td>\n",
              "      <td>168128.571429</td>\n",
              "      <td>175987.5</td>\n",
              "      <td>175328.571429</td>\n",
              "      <td>222875.0</td>\n",
              "      <td>178680.0</td>\n",
              "      <td>184877.777778</td>\n",
              "      <td>178680.000000</td>\n",
              "      <td>394</td>\n",
              "      <td>171487.5</td>\n",
              "      <td>0</td>\n",
              "      <td>586</td>\n",
              "      <td>980</td>\n",
              "      <td>170088.888889</td>\n",
              "      <td>180250.0</td>\n",
              "      <td>178680.0</td>\n",
              "      <td>178680.0</td>\n",
              "      <td>980</td>\n",
              "      <td>734</td>\n",
              "      <td>0</td>\n",
              "      <td>1714</td>\n",
              "      <td>0</td>\n",
              "      <td>0</td>\n",
              "      <td>2</td>\n",
              "      <td>1</td>\n",
              "      <td>3</td>\n",
              "      <td>1</td>\n",
              "      <td>168257.142857</td>\n",
              "      <td>7</td>\n",
              "      <td>170842.857143</td>\n",
              "      <td>1</td>\n",
              "      <td>198485.714286</td>\n",
              "      <td>188083.333333</td>\n",
              "      <td>1988.0</td>\n",
              "      <td>170800.0</td>\n",
              "      <td>2</td>\n",
              "      <td>496</td>\n",
              "      <td>170088.888889</td>\n",
              "      <td>178680.0</td>\n",
              "      <td>178680.0</td>\n",
              "      <td>228</td>\n",
              "      <td>66</td>\n",
              "      <td>156</td>\n",
              "      <td>0</td>\n",
              "      <td>0</td>\n",
              "      <td>0</td>\n",
              "      <td>170755.555556</td>\n",
              "      <td>500</td>\n",
              "      <td>3</td>\n",
              "      <td>2010</td>\n",
              "      <td>178680.0</td>\n",
              "      <td>178680.0</td>\n",
              "    </tr>\n",
              "    <tr>\n",
              "      <th>1210</th>\n",
              "      <td>60</td>\n",
              "      <td>177037.5</td>\n",
              "      <td>70.0</td>\n",
              "      <td>11218</td>\n",
              "      <td>178680.0</td>\n",
              "      <td>170755.555556</td>\n",
              "      <td>178680.0</td>\n",
              "      <td>178680.0</td>\n",
              "      <td>175987.5</td>\n",
              "      <td>178680.0</td>\n",
              "      <td>178680.0</td>\n",
              "      <td>176737.5</td>\n",
              "      <td>178680.0</td>\n",
              "      <td>178680.0</td>\n",
              "      <td>211833.333333</td>\n",
              "      <td>6</td>\n",
              "      <td>5</td>\n",
              "      <td>1992</td>\n",
              "      <td>1992</td>\n",
              "      <td>185557.142857</td>\n",
              "      <td>178680.0</td>\n",
              "      <td>159600.0</td>\n",
              "      <td>178880.0</td>\n",
              "      <td>169233.333333</td>\n",
              "      <td>0.0</td>\n",
              "      <td>203300.000000</td>\n",
              "      <td>175987.5</td>\n",
              "      <td>151750.000000</td>\n",
              "      <td>222875.0</td>\n",
              "      <td>178680.0</td>\n",
              "      <td>184877.777778</td>\n",
              "      <td>142133.333333</td>\n",
              "      <td>0</td>\n",
              "      <td>171487.5</td>\n",
              "      <td>0</td>\n",
              "      <td>1055</td>\n",
              "      <td>1055</td>\n",
              "      <td>170088.888889</td>\n",
              "      <td>179160.0</td>\n",
              "      <td>178680.0</td>\n",
              "      <td>178680.0</td>\n",
              "      <td>1055</td>\n",
              "      <td>790</td>\n",
              "      <td>0</td>\n",
              "      <td>1845</td>\n",
              "      <td>0</td>\n",
              "      <td>0</td>\n",
              "      <td>2</td>\n",
              "      <td>1</td>\n",
              "      <td>3</td>\n",
              "      <td>1</td>\n",
              "      <td>203000.000000</td>\n",
              "      <td>8</td>\n",
              "      <td>170842.857143</td>\n",
              "      <td>1</td>\n",
              "      <td>198485.714286</td>\n",
              "      <td>188083.333333</td>\n",
              "      <td>1992.0</td>\n",
              "      <td>190500.0</td>\n",
              "      <td>2</td>\n",
              "      <td>462</td>\n",
              "      <td>170088.888889</td>\n",
              "      <td>178680.0</td>\n",
              "      <td>178680.0</td>\n",
              "      <td>635</td>\n",
              "      <td>104</td>\n",
              "      <td>0</td>\n",
              "      <td>0</td>\n",
              "      <td>0</td>\n",
              "      <td>0</td>\n",
              "      <td>170755.555556</td>\n",
              "      <td>400</td>\n",
              "      <td>5</td>\n",
              "      <td>2010</td>\n",
              "      <td>178680.0</td>\n",
              "      <td>178680.0</td>\n",
              "    </tr>\n",
              "  </tbody>\n",
              "</table>\n",
              "</div>"
            ],
            "text/plain": [
              "      MSSubClass  MSZoning  LotFrontage  ...  YrSold  SaleType  SaleCondition\n",
              "1076          50  177037.5         60.0  ...    2006  178680.0       178680.0\n",
              "51            50  185250.0         52.0  ...    2006  178680.0       178680.0\n",
              "510           20  177037.5         75.0  ...    2009  178680.0       178680.0\n",
              "766           60  177037.5         80.0  ...    2010  178680.0       178680.0\n",
              "1210          60  177037.5         70.0  ...    2010  178680.0       178680.0\n",
              "\n",
              "[5 rows x 76 columns]"
            ]
          },
          "metadata": {},
          "execution_count": 20
        }
      ]
    },
    {
      "cell_type": "markdown",
      "metadata": {
        "id": "E6xowvAZuR2v"
      },
      "source": [
        "Bootstrapping. Bootstrapping is repeatedly sampling with replacement. "
      ]
    },
    {
      "cell_type": "code",
      "metadata": {
        "id": "bgnXeoens28u",
        "outputId": "ad062dba-5f13-4dfd-e8a5-eefc39737c61",
        "colab": {
          "base_uri": "https://localhost:8080/"
        }
      },
      "source": [
        "X_sample = X_train.sample(n=3)\n",
        "X_sample.index\n",
        "\n",
        "#I'm sampling my training data"
      ],
      "execution_count": 21,
      "outputs": [
        {
          "output_type": "execute_result",
          "data": {
            "text/plain": [
              "Int64Index([890, 1076, 51], dtype='int64')"
            ]
          },
          "metadata": {},
          "execution_count": 21
        }
      ]
    },
    {
      "cell_type": "code",
      "metadata": {
        "id": "MKvTbw6Us25V",
        "outputId": "8630274c-c842-4a3c-eb14-ddc2828943f0",
        "colab": {
          "base_uri": "https://localhost:8080/"
        }
      },
      "source": [
        "y_sample = y_train.loc[X_sample.index] #to get the same index numbers for y_sampling I used X_sample.index\n",
        "y_sample"
      ],
      "execution_count": 22,
      "outputs": [
        {
          "output_type": "execute_result",
          "data": {
            "text/plain": [
              "890     122900\n",
              "1076    170000\n",
              "51      114500\n",
              "Name: SalePrice, dtype: int64"
            ]
          },
          "metadata": {},
          "execution_count": 22
        }
      ]
    },
    {
      "cell_type": "code",
      "metadata": {
        "id": "xqPl4LWss22v"
      },
      "source": [
        "#random forest concept where iterations happen over and over\n",
        "def xy_sample(X, y, size, random_state = None):\n",
        "  X_sample = X.sample(n=size, random_state=random_state)\n",
        "  y_sample = y.loc[X_sample.index]\n",
        "\n",
        "  return X_sample, y_sample"
      ],
      "execution_count": 23,
      "outputs": []
    },
    {
      "cell_type": "code",
      "metadata": {
        "id": "krm5mWvgs2zY",
        "outputId": "474c51ab-2c55-47d5-ae37-4ad5416f4799",
        "colab": {
          "base_uri": "https://localhost:8080/"
        }
      },
      "source": [
        "#I want it to repeat it for a few times. \n",
        "\n",
        "n_samples = 5 \n",
        "sample_size = 3\n",
        "\n",
        "bootstrap_samples = []\n",
        "\n",
        "for i in range(n_samples): # for loop to iterate and make samples\n",
        "#the number os samples is stored in n_samples\n",
        "  X_sample, y_sample = xy_sample(X = X_train, y = y_train, size = sample_size)\n",
        "\n",
        "  train_sample = {\"X\": X_sample, 'y': y_sample} #storing in a dictionary to have X, y labels\n",
        "\n",
        "  bootstrap_samples.append(train_sample) #storing all samples together in a list\n",
        "\n",
        "bootstrap_samples\n",
        "#5 times picks up the rows of X and matching rows of y"
      ],
      "execution_count": 24,
      "outputs": [
        {
          "output_type": "execute_result",
          "data": {
            "text/plain": [
              "[{'X':       MSSubClass  MSZoning  LotFrontage  ...  YrSold  SaleType  SaleCondition\n",
              "  1328          50  185250.0         60.0  ...    2008  178680.0       178680.0\n",
              "  51            50  185250.0         52.0  ...    2006  178680.0       178680.0\n",
              "  1210          60  177037.5         70.0  ...    2010  178680.0       178680.0\n",
              "  \n",
              "  [3 rows x 76 columns], 'y': 1328    256000\n",
              "  51      114500\n",
              "  1210    189000\n",
              "  Name: SalePrice, dtype: int64},\n",
              " {'X':       MSSubClass  MSZoning  LotFrontage  ...  YrSold  SaleType  SaleCondition\n",
              "  1210          60  177037.5         70.0  ...    2010  178680.0       178680.0\n",
              "  51            50  185250.0         52.0  ...    2006  178680.0       178680.0\n",
              "  510           20  177037.5         75.0  ...    2009  178680.0       178680.0\n",
              "  \n",
              "  [3 rows x 76 columns],\n",
              "  'y': 1210    189000\n",
              "  51      114500\n",
              "  510     164900\n",
              "  Name: SalePrice, dtype: int64},\n",
              " {'X':       MSSubClass  MSZoning  LotFrontage  ...  YrSold  SaleType  SaleCondition\n",
              "  766           60  177037.5         80.0  ...    2010  178680.0       178680.0\n",
              "  1171          20  177037.5         76.0  ...    2008  178680.0       178680.0\n",
              "  1083          20  177037.5         80.0  ...    2006  178680.0       178680.0\n",
              "  \n",
              "  [3 rows x 76 columns], 'y': 766     196500\n",
              "  1171    163000\n",
              "  1083    160000\n",
              "  Name: SalePrice, dtype: int64},\n",
              " {'X':       MSSubClass  MSZoning  LotFrontage  ...  YrSold  SaleType  SaleCondition\n",
              "  1171          20  177037.5         76.0  ...    2008  178680.0       178680.0\n",
              "  51            50  185250.0         52.0  ...    2006  178680.0       178680.0\n",
              "  890           50  177037.5         60.0  ...    2007  178680.0       178680.0\n",
              "  \n",
              "  [3 rows x 76 columns], 'y': 1171    163000\n",
              "  51      114500\n",
              "  890     122900\n",
              "  Name: SalePrice, dtype: int64},\n",
              " {'X':       MSSubClass  MSZoning  LotFrontage  ...  YrSold  SaleType  SaleCondition\n",
              "  1210          60  177037.5         70.0  ...    2010  178680.0       178680.0\n",
              "  51            50  185250.0         52.0  ...    2006  178680.0       178680.0\n",
              "  890           50  177037.5         60.0  ...    2007  178680.0       178680.0\n",
              "  \n",
              "  [3 rows x 76 columns], 'y': 1210    189000\n",
              "  51      114500\n",
              "  890     122900\n",
              "  Name: SalePrice, dtype: int64}]"
            ]
          },
          "metadata": {},
          "execution_count": 24
        }
      ]
    },
    {
      "cell_type": "code",
      "metadata": {
        "id": "5fVdZoABs2wn"
      },
      "source": [
        "#Bagging = Bootstrap Aggregating. Building models on bootstrap samples\n",
        "#aggregating the predictions of each model"
      ],
      "execution_count": 25,
      "outputs": []
    },
    {
      "cell_type": "code",
      "metadata": {
        "id": "k_XcZjRrs2th",
        "outputId": "55f0b053-fb30-48d4-c249-da6e3b066954",
        "colab": {
          "base_uri": "https://localhost:8080/"
        }
      },
      "source": [
        "#creating a sample size of 10. Fitting the decision tree to the sample\n",
        "\n",
        "X_sample, y_sample = xy_sample(X_train, y_train, size=10, random_state=55)\n",
        "tree_1 = RandomForestRegressor()\n",
        "tree_1.fit(X_sample, y_sample)"
      ],
      "execution_count": 26,
      "outputs": [
        {
          "output_type": "execute_result",
          "data": {
            "text/plain": [
              "RandomForestRegressor(bootstrap=True, ccp_alpha=0.0, criterion='mse',\n",
              "                      max_depth=None, max_features='auto', max_leaf_nodes=None,\n",
              "                      max_samples=None, min_impurity_decrease=0.0,\n",
              "                      min_impurity_split=None, min_samples_leaf=1,\n",
              "                      min_samples_split=2, min_weight_fraction_leaf=0.0,\n",
              "                      n_estimators=100, n_jobs=None, oob_score=False,\n",
              "                      random_state=None, verbose=0, warm_start=False)"
            ]
          },
          "metadata": {},
          "execution_count": 26
        }
      ]
    },
    {
      "cell_type": "code",
      "metadata": {
        "id": "jviqTvyis2qm",
        "outputId": "a271eaf5-8f3b-438d-9dbf-29605f5e4788",
        "colab": {
          "base_uri": "https://localhost:8080/"
        }
      },
      "source": [
        "#changing the random state so it sees the new data\n",
        "X_sample, y_sample = xy_sample(X_train, y_train, size=10, random_state=1111)\n",
        "tree_2 = RandomForestRegressor()\n",
        "tree_2.fit(X_sample, y_sample)"
      ],
      "execution_count": 27,
      "outputs": [
        {
          "output_type": "execute_result",
          "data": {
            "text/plain": [
              "RandomForestRegressor(bootstrap=True, ccp_alpha=0.0, criterion='mse',\n",
              "                      max_depth=None, max_features='auto', max_leaf_nodes=None,\n",
              "                      max_samples=None, min_impurity_decrease=0.0,\n",
              "                      min_impurity_split=None, min_samples_leaf=1,\n",
              "                      min_samples_split=2, min_weight_fraction_leaf=0.0,\n",
              "                      n_estimators=100, n_jobs=None, oob_score=False,\n",
              "                      random_state=None, verbose=0, warm_start=False)"
            ]
          },
          "metadata": {},
          "execution_count": 27
        }
      ]
    },
    {
      "cell_type": "markdown",
      "metadata": {
        "id": "0iVIaIEz0Eze"
      },
      "source": [
        "I have two different models which learnt only from 10 random rows of data each. "
      ]
    },
    {
      "cell_type": "code",
      "metadata": {
        "id": "Rjko9iHTs2n1",
        "outputId": "6b694af3-0595-4e11-9161-a1c5cf62a677",
        "colab": {
          "base_uri": "https://localhost:8080/"
        }
      },
      "source": [
        "X_sample, y_sample = xy_sample(X_train, y_train, size=10, random_state=452562)\n",
        "tree_3 = RandomForestRegressor()\n",
        "tree_3.fit(X_sample, y_sample)"
      ],
      "execution_count": 28,
      "outputs": [
        {
          "output_type": "execute_result",
          "data": {
            "text/plain": [
              "RandomForestRegressor(bootstrap=True, ccp_alpha=0.0, criterion='mse',\n",
              "                      max_depth=None, max_features='auto', max_leaf_nodes=None,\n",
              "                      max_samples=None, min_impurity_decrease=0.0,\n",
              "                      min_impurity_split=None, min_samples_leaf=1,\n",
              "                      min_samples_split=2, min_weight_fraction_leaf=0.0,\n",
              "                      n_estimators=100, n_jobs=None, oob_score=False,\n",
              "                      random_state=None, verbose=0, warm_start=False)"
            ]
          },
          "metadata": {},
          "execution_count": 28
        }
      ]
    },
    {
      "cell_type": "code",
      "metadata": {
        "id": "Jr8Yi_-xs2lm",
        "outputId": "4f7e44e2-fe1a-4244-dbe9-36dc2f71abae",
        "colab": {
          "base_uri": "https://localhost:8080/",
          "height": 142
        }
      },
      "source": [
        "pred_1 = tree_1.predict(X_test)\n",
        "pred_2 = tree_2.predict(X_test)\n",
        "pred_3 = tree_3.predict(X_test)\n",
        "pred_df = pd.DataFrame({'pred_1': pred_1, 'pred_2': pred_2, 'pred_3': pred_3})\n",
        "pred_df\n",
        "\n",
        "#for the most part they agree with each other, but they also have disagreements. \n",
        "#using only 3 trees, on the everage all three are pretty smart."
      ],
      "execution_count": 29,
      "outputs": [
        {
          "output_type": "execute_result",
          "data": {
            "text/html": [
              "<div>\n",
              "<style scoped>\n",
              "    .dataframe tbody tr th:only-of-type {\n",
              "        vertical-align: middle;\n",
              "    }\n",
              "\n",
              "    .dataframe tbody tr th {\n",
              "        vertical-align: top;\n",
              "    }\n",
              "\n",
              "    .dataframe thead th {\n",
              "        text-align: right;\n",
              "    }\n",
              "</style>\n",
              "<table border=\"1\" class=\"dataframe\">\n",
              "  <thead>\n",
              "    <tr style=\"text-align: right;\">\n",
              "      <th></th>\n",
              "      <th>pred_1</th>\n",
              "      <th>pred_2</th>\n",
              "      <th>pred_3</th>\n",
              "    </tr>\n",
              "  </thead>\n",
              "  <tbody>\n",
              "    <tr>\n",
              "      <th>0</th>\n",
              "      <td>188190.0</td>\n",
              "      <td>188591.0</td>\n",
              "      <td>199413.0</td>\n",
              "    </tr>\n",
              "    <tr>\n",
              "      <th>1</th>\n",
              "      <td>159348.0</td>\n",
              "      <td>163421.0</td>\n",
              "      <td>159611.0</td>\n",
              "    </tr>\n",
              "    <tr>\n",
              "      <th>2</th>\n",
              "      <td>164273.0</td>\n",
              "      <td>161273.0</td>\n",
              "      <td>158937.0</td>\n",
              "    </tr>\n",
              "  </tbody>\n",
              "</table>\n",
              "</div>"
            ],
            "text/plain": [
              "     pred_1    pred_2    pred_3\n",
              "0  188190.0  188591.0  199413.0\n",
              "1  159348.0  163421.0  159611.0\n",
              "2  164273.0  161273.0  158937.0"
            ]
          },
          "metadata": {},
          "execution_count": 29
        }
      ]
    },
    {
      "cell_type": "code",
      "metadata": {
        "id": "-yFDvdwNs2iz",
        "outputId": "e2c16de2-b3ee-4837-9e5e-fb90bae094f3",
        "colab": {
          "base_uri": "https://localhost:8080/"
        }
      },
      "source": [
        "pred_df.mean(axis='rows')"
      ],
      "execution_count": 30,
      "outputs": [
        {
          "output_type": "execute_result",
          "data": {
            "text/plain": [
              "pred_1    170603.666667\n",
              "pred_2    171095.000000\n",
              "pred_3    172653.666667\n",
              "dtype: float64"
            ]
          },
          "metadata": {},
          "execution_count": 30
        }
      ]
    },
    {
      "cell_type": "code",
      "metadata": {
        "id": "ciMngCrzs2fd",
        "outputId": "3e9f30b6-1f5a-45d7-f43a-f8f659373b79",
        "colab": {
          "base_uri": "https://localhost:8080/",
          "height": 142
        }
      },
      "source": [
        "pred_df['avg_vote'] = pred_df.mean(axis='columns')\n",
        "pred_df"
      ],
      "execution_count": 31,
      "outputs": [
        {
          "output_type": "execute_result",
          "data": {
            "text/html": [
              "<div>\n",
              "<style scoped>\n",
              "    .dataframe tbody tr th:only-of-type {\n",
              "        vertical-align: middle;\n",
              "    }\n",
              "\n",
              "    .dataframe tbody tr th {\n",
              "        vertical-align: top;\n",
              "    }\n",
              "\n",
              "    .dataframe thead th {\n",
              "        text-align: right;\n",
              "    }\n",
              "</style>\n",
              "<table border=\"1\" class=\"dataframe\">\n",
              "  <thead>\n",
              "    <tr style=\"text-align: right;\">\n",
              "      <th></th>\n",
              "      <th>pred_1</th>\n",
              "      <th>pred_2</th>\n",
              "      <th>pred_3</th>\n",
              "      <th>avg_vote</th>\n",
              "    </tr>\n",
              "  </thead>\n",
              "  <tbody>\n",
              "    <tr>\n",
              "      <th>0</th>\n",
              "      <td>188190.0</td>\n",
              "      <td>188591.0</td>\n",
              "      <td>199413.0</td>\n",
              "      <td>192064.666667</td>\n",
              "    </tr>\n",
              "    <tr>\n",
              "      <th>1</th>\n",
              "      <td>159348.0</td>\n",
              "      <td>163421.0</td>\n",
              "      <td>159611.0</td>\n",
              "      <td>160793.333333</td>\n",
              "    </tr>\n",
              "    <tr>\n",
              "      <th>2</th>\n",
              "      <td>164273.0</td>\n",
              "      <td>161273.0</td>\n",
              "      <td>158937.0</td>\n",
              "      <td>161494.333333</td>\n",
              "    </tr>\n",
              "  </tbody>\n",
              "</table>\n",
              "</div>"
            ],
            "text/plain": [
              "     pred_1    pred_2    pred_3       avg_vote\n",
              "0  188190.0  188591.0  199413.0  192064.666667\n",
              "1  159348.0  163421.0  159611.0  160793.333333\n",
              "2  164273.0  161273.0  158937.0  161494.333333"
            ]
          },
          "metadata": {},
          "execution_count": 31
        }
      ]
    },
    {
      "cell_type": "code",
      "metadata": {
        "colab": {
          "base_uri": "https://localhost:8080/",
          "height": 142
        },
        "id": "oHglWEt-FMJo",
        "outputId": "8df17373-12e6-4ad7-d7b6-273aa8783a3f"
      },
      "source": [
        "pred_df['final_prediction'] = pred_df['avg_vote'] > 0.5\n",
        "pred_df['final_prediction'] = pred_df['final_prediction'].astype(int)\n",
        "pred_df \n",
        "#if prediction is more than 50% then it's good. 1 = good, 0 = bad prediction"
      ],
      "execution_count": 32,
      "outputs": [
        {
          "output_type": "execute_result",
          "data": {
            "text/html": [
              "<div>\n",
              "<style scoped>\n",
              "    .dataframe tbody tr th:only-of-type {\n",
              "        vertical-align: middle;\n",
              "    }\n",
              "\n",
              "    .dataframe tbody tr th {\n",
              "        vertical-align: top;\n",
              "    }\n",
              "\n",
              "    .dataframe thead th {\n",
              "        text-align: right;\n",
              "    }\n",
              "</style>\n",
              "<table border=\"1\" class=\"dataframe\">\n",
              "  <thead>\n",
              "    <tr style=\"text-align: right;\">\n",
              "      <th></th>\n",
              "      <th>pred_1</th>\n",
              "      <th>pred_2</th>\n",
              "      <th>pred_3</th>\n",
              "      <th>avg_vote</th>\n",
              "      <th>final_prediction</th>\n",
              "    </tr>\n",
              "  </thead>\n",
              "  <tbody>\n",
              "    <tr>\n",
              "      <th>0</th>\n",
              "      <td>188190.0</td>\n",
              "      <td>188591.0</td>\n",
              "      <td>199413.0</td>\n",
              "      <td>192064.666667</td>\n",
              "      <td>1</td>\n",
              "    </tr>\n",
              "    <tr>\n",
              "      <th>1</th>\n",
              "      <td>159348.0</td>\n",
              "      <td>163421.0</td>\n",
              "      <td>159611.0</td>\n",
              "      <td>160793.333333</td>\n",
              "      <td>1</td>\n",
              "    </tr>\n",
              "    <tr>\n",
              "      <th>2</th>\n",
              "      <td>164273.0</td>\n",
              "      <td>161273.0</td>\n",
              "      <td>158937.0</td>\n",
              "      <td>161494.333333</td>\n",
              "      <td>1</td>\n",
              "    </tr>\n",
              "  </tbody>\n",
              "</table>\n",
              "</div>"
            ],
            "text/plain": [
              "     pred_1    pred_2    pred_3       avg_vote  final_prediction\n",
              "0  188190.0  188591.0  199413.0  192064.666667                 1\n",
              "1  159348.0  163421.0  159611.0  160793.333333                 1\n",
              "2  164273.0  161273.0  158937.0  161494.333333                 1"
            ]
          },
          "metadata": {},
          "execution_count": 32
        }
      ]
    },
    {
      "cell_type": "code",
      "metadata": {
        "id": "lXV45TQf4M6c"
      },
      "source": [
        "df.drop_duplicates(inplace=True)"
      ],
      "execution_count": 33,
      "outputs": []
    },
    {
      "cell_type": "code",
      "metadata": {
        "id": "vtFzgCBm5CxY",
        "outputId": "81ab25ec-add0-4a2d-e308-c063d5892864",
        "colab": {
          "base_uri": "https://localhost:8080/"
        }
      },
      "source": [
        "confusion_matrix(y_test, pred_df['final_prediction'])\n",
        "#naive predictions"
      ],
      "execution_count": 34,
      "outputs": [
        {
          "output_type": "execute_result",
          "data": {
            "text/plain": [
              "array([[0, 0, 0, 0],\n",
              "       [1, 0, 0, 0],\n",
              "       [1, 0, 0, 0],\n",
              "       [1, 0, 0, 0]])"
            ]
          },
          "metadata": {},
          "execution_count": 34
        }
      ]
    },
    {
      "cell_type": "code",
      "metadata": {
        "id": "o7Fh2Bh6gFFy",
        "outputId": "55190c4f-6357-4464-9ba8-1f1dc8b90bc8",
        "colab": {
          "base_uri": "https://localhost:8080/",
          "height": 142
        }
      },
      "source": [
        "pred_df"
      ],
      "execution_count": 35,
      "outputs": [
        {
          "output_type": "execute_result",
          "data": {
            "text/html": [
              "<div>\n",
              "<style scoped>\n",
              "    .dataframe tbody tr th:only-of-type {\n",
              "        vertical-align: middle;\n",
              "    }\n",
              "\n",
              "    .dataframe tbody tr th {\n",
              "        vertical-align: top;\n",
              "    }\n",
              "\n",
              "    .dataframe thead th {\n",
              "        text-align: right;\n",
              "    }\n",
              "</style>\n",
              "<table border=\"1\" class=\"dataframe\">\n",
              "  <thead>\n",
              "    <tr style=\"text-align: right;\">\n",
              "      <th></th>\n",
              "      <th>pred_1</th>\n",
              "      <th>pred_2</th>\n",
              "      <th>pred_3</th>\n",
              "      <th>avg_vote</th>\n",
              "      <th>final_prediction</th>\n",
              "    </tr>\n",
              "  </thead>\n",
              "  <tbody>\n",
              "    <tr>\n",
              "      <th>0</th>\n",
              "      <td>188190.0</td>\n",
              "      <td>188591.0</td>\n",
              "      <td>199413.0</td>\n",
              "      <td>192064.666667</td>\n",
              "      <td>1</td>\n",
              "    </tr>\n",
              "    <tr>\n",
              "      <th>1</th>\n",
              "      <td>159348.0</td>\n",
              "      <td>163421.0</td>\n",
              "      <td>159611.0</td>\n",
              "      <td>160793.333333</td>\n",
              "      <td>1</td>\n",
              "    </tr>\n",
              "    <tr>\n",
              "      <th>2</th>\n",
              "      <td>164273.0</td>\n",
              "      <td>161273.0</td>\n",
              "      <td>158937.0</td>\n",
              "      <td>161494.333333</td>\n",
              "      <td>1</td>\n",
              "    </tr>\n",
              "  </tbody>\n",
              "</table>\n",
              "</div>"
            ],
            "text/plain": [
              "     pred_1    pred_2    pred_3       avg_vote  final_prediction\n",
              "0  188190.0  188591.0  199413.0  192064.666667                 1\n",
              "1  159348.0  163421.0  159611.0  160793.333333                 1\n",
              "2  164273.0  161273.0  158937.0  161494.333333                 1"
            ]
          },
          "metadata": {},
          "execution_count": 35
        }
      ]
    },
    {
      "cell_type": "code",
      "metadata": {
        "id": "L_Qigtc5FMGk"
      },
      "source": [
        "#what percentage of the predictions are correct?\n",
        "# pd.DataFrame(\n",
        "#     confusion_matrix(y_test, pred_df['final_prediction']),\n",
        "#     index = ['Benign', 'Malignant'],\n",
        "#     columns = ['Predicted Benign', 'Predicted Malignant'],\n",
        "# )"
      ],
      "execution_count": 36,
      "outputs": []
    },
    {
      "cell_type": "markdown",
      "metadata": {
        "id": "3IXXoI0dA9bh"
      },
      "source": [
        "Random subspace. X component referred as 'feature space'. A subspace is a subset of a space. So, we'll be taking samples of our columns"
      ]
    },
    {
      "cell_type": "code",
      "metadata": {
        "colab": {
          "base_uri": "https://localhost:8080/",
          "height": 359
        },
        "id": "x0tzDda7FMBN",
        "outputId": "c9bab569-85c3-4eb2-f257-281657a6099e"
      },
      "source": [
        "X_train.sample(2, axis=\"columns\")\n",
        "#randomness to prevent overfitting."
      ],
      "execution_count": 37,
      "outputs": [
        {
          "output_type": "execute_result",
          "data": {
            "text/html": [
              "<div>\n",
              "<style scoped>\n",
              "    .dataframe tbody tr th:only-of-type {\n",
              "        vertical-align: middle;\n",
              "    }\n",
              "\n",
              "    .dataframe tbody tr th {\n",
              "        vertical-align: top;\n",
              "    }\n",
              "\n",
              "    .dataframe thead th {\n",
              "        text-align: right;\n",
              "    }\n",
              "</style>\n",
              "<table border=\"1\" class=\"dataframe\">\n",
              "  <thead>\n",
              "    <tr style=\"text-align: right;\">\n",
              "      <th></th>\n",
              "      <th>BsmtFinSF2</th>\n",
              "      <th>3SsnPorch</th>\n",
              "    </tr>\n",
              "  </thead>\n",
              "  <tbody>\n",
              "    <tr>\n",
              "      <th>1076</th>\n",
              "      <td>0</td>\n",
              "      <td>0</td>\n",
              "    </tr>\n",
              "    <tr>\n",
              "      <th>51</th>\n",
              "      <td>0</td>\n",
              "      <td>0</td>\n",
              "    </tr>\n",
              "    <tr>\n",
              "      <th>510</th>\n",
              "      <td>180</td>\n",
              "      <td>0</td>\n",
              "    </tr>\n",
              "    <tr>\n",
              "      <th>766</th>\n",
              "      <td>0</td>\n",
              "      <td>0</td>\n",
              "    </tr>\n",
              "    <tr>\n",
              "      <th>1210</th>\n",
              "      <td>0</td>\n",
              "      <td>0</td>\n",
              "    </tr>\n",
              "    <tr>\n",
              "      <th>1386</th>\n",
              "      <td>469</td>\n",
              "      <td>0</td>\n",
              "    </tr>\n",
              "    <tr>\n",
              "      <th>890</th>\n",
              "      <td>0</td>\n",
              "      <td>0</td>\n",
              "    </tr>\n",
              "    <tr>\n",
              "      <th>1171</th>\n",
              "      <td>0</td>\n",
              "      <td>0</td>\n",
              "    </tr>\n",
              "    <tr>\n",
              "      <th>1083</th>\n",
              "      <td>0</td>\n",
              "      <td>0</td>\n",
              "    </tr>\n",
              "    <tr>\n",
              "      <th>1328</th>\n",
              "      <td>0</td>\n",
              "      <td>0</td>\n",
              "    </tr>\n",
              "  </tbody>\n",
              "</table>\n",
              "</div>"
            ],
            "text/plain": [
              "      BsmtFinSF2  3SsnPorch\n",
              "1076           0          0\n",
              "51             0          0\n",
              "510          180          0\n",
              "766            0          0\n",
              "1210           0          0\n",
              "1386         469          0\n",
              "890            0          0\n",
              "1171           0          0\n",
              "1083           0          0\n",
              "1328           0          0"
            ]
          },
          "metadata": {},
          "execution_count": 37
        }
      ]
    },
    {
      "cell_type": "markdown",
      "metadata": {
        "id": "zq-prK0fBz6m"
      },
      "source": [
        "Random Forest"
      ]
    },
    {
      "cell_type": "code",
      "metadata": {
        "colab": {
          "base_uri": "https://localhost:8080/"
        },
        "id": "Wf7-_At_FL-p",
        "outputId": "2200f67c-816b-4be1-ec16-4951e1948f3f"
      },
      "source": [
        "model = RandomForestRegressor(max_depth=3, n_estimators=1000, random_state=55)\n",
        "model.fit(X_train, y_train)"
      ],
      "execution_count": 38,
      "outputs": [
        {
          "output_type": "execute_result",
          "data": {
            "text/plain": [
              "RandomForestRegressor(bootstrap=True, ccp_alpha=0.0, criterion='mse',\n",
              "                      max_depth=3, max_features='auto', max_leaf_nodes=None,\n",
              "                      max_samples=None, min_impurity_decrease=0.0,\n",
              "                      min_impurity_split=None, min_samples_leaf=1,\n",
              "                      min_samples_split=2, min_weight_fraction_leaf=0.0,\n",
              "                      n_estimators=1000, n_jobs=None, oob_score=False,\n",
              "                      random_state=55, verbose=0, warm_start=False)"
            ]
          },
          "metadata": {},
          "execution_count": 38
        }
      ]
    },
    {
      "cell_type": "code",
      "metadata": {
        "id": "RcJ9Au5PCgAu",
        "outputId": "161b4f60-b726-4af3-ac4b-3f56db980774",
        "colab": {
          "base_uri": "https://localhost:8080/"
        }
      },
      "source": [
        "train_score = model.score(X_train, y_train)\n",
        "test_score = model.score(X_test, y_test)\n",
        "\n",
        "print(f\"train_score: {train_score}\")\n",
        "print(f\"test_score: {test_score}\")\n",
        "\n",
        "#overfitting, I need to experiment more with different variables and I need more data"
      ],
      "execution_count": 39,
      "outputs": [
        {
          "output_type": "stream",
          "name": "stdout",
          "text": [
            "train_score: 0.9209903139882347\n",
            "test_score: 0.4335683838804122\n"
          ]
        }
      ]
    },
    {
      "cell_type": "code",
      "metadata": {
        "id": "ySPB27j_Cf9P",
        "outputId": "e4fbced4-5932-4b36-ca38-aa9aa8bc8d48",
        "colab": {
          "base_uri": "https://localhost:8080/"
        }
      },
      "source": [
        "y_pred = model.predict(X_test)\n",
        "print(y_test, y_pred)\n",
        "#ok predictions, just need to refine the data"
      ],
      "execution_count": 40,
      "outputs": [
        {
          "output_type": "stream",
          "name": "stdout",
          "text": [
            "1457    266500\n",
            "873     133000\n",
            "733     131400\n",
            "Name: SalePrice, dtype: int64 [195437.51642857 161547.91619048 162170.50095238]\n"
          ]
        }
      ]
    },
    {
      "cell_type": "code",
      "metadata": {
        "id": "uN9rBIwCCf0n",
        "outputId": "ecd2822b-27c8-4b22-9b68-81059b11bca5",
        "colab": {
          "base_uri": "https://localhost:8080/",
          "height": 419
        }
      },
      "source": [
        "importance_df = pd.DataFrame({'feat': X_train.columns, \"importance\": model.feature_importances_})\n",
        "importance_df.sort_values(\"importance\", ascending=False)\n",
        "#important features that affect the house price"
      ],
      "execution_count": 41,
      "outputs": [
        {
          "output_type": "execute_result",
          "data": {
            "text/html": [
              "<div>\n",
              "<style scoped>\n",
              "    .dataframe tbody tr th:only-of-type {\n",
              "        vertical-align: middle;\n",
              "    }\n",
              "\n",
              "    .dataframe tbody tr th {\n",
              "        vertical-align: top;\n",
              "    }\n",
              "\n",
              "    .dataframe thead th {\n",
              "        text-align: right;\n",
              "    }\n",
              "</style>\n",
              "<table border=\"1\" class=\"dataframe\">\n",
              "  <thead>\n",
              "    <tr style=\"text-align: right;\">\n",
              "      <th></th>\n",
              "      <th>feat</th>\n",
              "      <th>importance</th>\n",
              "    </tr>\n",
              "  </thead>\n",
              "  <tbody>\n",
              "    <tr>\n",
              "      <th>44</th>\n",
              "      <td>GrLivArea</td>\n",
              "      <td>0.088798</td>\n",
              "    </tr>\n",
              "    <tr>\n",
              "      <th>41</th>\n",
              "      <td>1stFlrSF</td>\n",
              "      <td>0.088745</td>\n",
              "    </tr>\n",
              "    <tr>\n",
              "      <th>42</th>\n",
              "      <td>2ndFlrSF</td>\n",
              "      <td>0.075677</td>\n",
              "    </tr>\n",
              "    <tr>\n",
              "      <th>36</th>\n",
              "      <td>TotalBsmtSF</td>\n",
              "      <td>0.057979</td>\n",
              "    </tr>\n",
              "    <tr>\n",
              "      <th>21</th>\n",
              "      <td>Exterior1st</td>\n",
              "      <td>0.054682</td>\n",
              "    </tr>\n",
              "    <tr>\n",
              "      <th>...</th>\n",
              "      <td>...</td>\n",
              "      <td>...</td>\n",
              "    </tr>\n",
              "    <tr>\n",
              "      <th>62</th>\n",
              "      <td>GarageCond</td>\n",
              "      <td>0.000000</td>\n",
              "    </tr>\n",
              "    <tr>\n",
              "      <th>29</th>\n",
              "      <td>BsmtCond</td>\n",
              "      <td>0.000000</td>\n",
              "    </tr>\n",
              "    <tr>\n",
              "      <th>39</th>\n",
              "      <td>CentralAir</td>\n",
              "      <td>0.000000</td>\n",
              "    </tr>\n",
              "    <tr>\n",
              "      <th>40</th>\n",
              "      <td>Electrical</td>\n",
              "      <td>0.000000</td>\n",
              "    </tr>\n",
              "    <tr>\n",
              "      <th>75</th>\n",
              "      <td>SaleCondition</td>\n",
              "      <td>0.000000</td>\n",
              "    </tr>\n",
              "  </tbody>\n",
              "</table>\n",
              "<p>76 rows × 2 columns</p>\n",
              "</div>"
            ],
            "text/plain": [
              "             feat  importance\n",
              "44      GrLivArea    0.088798\n",
              "41       1stFlrSF    0.088745\n",
              "42       2ndFlrSF    0.075677\n",
              "36    TotalBsmtSF    0.057979\n",
              "21    Exterior1st    0.054682\n",
              "..            ...         ...\n",
              "62     GarageCond    0.000000\n",
              "29       BsmtCond    0.000000\n",
              "39     CentralAir    0.000000\n",
              "40     Electrical    0.000000\n",
              "75  SaleCondition    0.000000\n",
              "\n",
              "[76 rows x 2 columns]"
            ]
          },
          "metadata": {},
          "execution_count": 41
        }
      ]
    }
  ]
}