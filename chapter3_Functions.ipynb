{
  "nbformat": 4,
  "nbformat_minor": 0,
  "metadata": {
    "colab": {
      "name": "chapter3_Functions.ipynb",
      "provenance": [],
      "collapsed_sections": [],
      "authorship_tag": "ABX9TyO6+0U61J1oJRlP8frH/lvj",
      "include_colab_link": true
    },
    "kernelspec": {
      "name": "python3",
      "display_name": "Python 3"
    },
    "language_info": {
      "name": "python"
    }
  },
  "cells": [
    {
      "cell_type": "markdown",
      "metadata": {
        "id": "view-in-github",
        "colab_type": "text"
      },
      "source": [
        "<a href=\"https://colab.research.google.com/github/Gaukhar-ai/Gaukhar/blob/master/chapter3_Functions.ipynb\" target=\"_parent\"><img src=\"https://colab.research.google.com/assets/colab-badge.svg\" alt=\"Open In Colab\"/></a>"
      ]
    },
    {
      "cell_type": "code",
      "metadata": {
        "colab": {
          "base_uri": "https://localhost:8080/"
        },
        "id": "qp3382ZteN1i",
        "outputId": "3c4ba862-d9c8-4f18-fb84-db120d225dd9"
      },
      "source": [
        "!pip install math"
      ],
      "execution_count": 4,
      "outputs": [
        {
          "output_type": "stream",
          "text": [
            "\u001b[31mERROR: Could not find a version that satisfies the requirement math (from versions: none)\u001b[0m\n",
            "\u001b[31mERROR: No matching distribution found for math\u001b[0m\n"
          ],
          "name": "stdout"
        }
      ]
    },
    {
      "cell_type": "code",
      "metadata": {
        "id": "VZH2bxaHeKUR"
      },
      "source": [
        "import math"
      ],
      "execution_count": 11,
      "outputs": []
    },
    {
      "cell_type": "code",
      "metadata": {
        "colab": {
          "base_uri": "https://localhost:8080/"
        },
        "id": "B1I53zX5lExL",
        "outputId": "0d144d5f-08b8-4fd4-ed84-d3f0042c5b35"
      },
      "source": [
        "print (math)"
      ],
      "execution_count": 15,
      "outputs": [
        {
          "output_type": "stream",
          "text": [
            "<module 'math' (built-in)>\n"
          ],
          "name": "stdout"
        }
      ]
    },
    {
      "cell_type": "code",
      "metadata": {
        "id": "_dDcGLNfmhN2"
      },
      "source": [
        "signal_power = 10\n",
        "noise_power = 2"
      ],
      "execution_count": 17,
      "outputs": []
    },
    {
      "cell_type": "code",
      "metadata": {
        "id": "PUG2wNRgl1fl"
      },
      "source": [
        "ratio = signal_power / noise_power\n",
        "decibels = 10*math.log10(ratio)"
      ],
      "execution_count": 18,
      "outputs": []
    },
    {
      "cell_type": "code",
      "metadata": {
        "id": "U0Y4-18bl1cH"
      },
      "source": [
        "radians = 0.7\n",
        "height = math.sin(radians)"
      ],
      "execution_count": 19,
      "outputs": []
    },
    {
      "cell_type": "code",
      "metadata": {
        "id": "_eHsz1B9l1Zq"
      },
      "source": [
        "degrees = 45\n",
        "radians = degrees/360.0*2*math.pi"
      ],
      "execution_count": 20,
      "outputs": []
    },
    {
      "cell_type": "code",
      "metadata": {
        "colab": {
          "base_uri": "https://localhost:8080/"
        },
        "id": "IQcFrHyHl1W-",
        "outputId": "d68323ed-238e-4993-ad50-571262770be0"
      },
      "source": [
        "math.sqrt(2) / 2.0"
      ],
      "execution_count": 21,
      "outputs": [
        {
          "output_type": "execute_result",
          "data": {
            "text/plain": [
              "0.7071067811865476"
            ]
          },
          "metadata": {
            "tags": []
          },
          "execution_count": 21
        }
      ]
    },
    {
      "cell_type": "code",
      "metadata": {
        "id": "d06LNBoql1UM"
      },
      "source": [
        "x = math.sin(degrees / 360.0*2*math.pi)"
      ],
      "execution_count": 22,
      "outputs": []
    },
    {
      "cell_type": "code",
      "metadata": {
        "id": "Cpz1pkFel1R0"
      },
      "source": [
        "x = math.exp(math.log(x+1))"
      ],
      "execution_count": 23,
      "outputs": []
    },
    {
      "cell_type": "code",
      "metadata": {
        "id": "3XU7C8iHn5D9"
      },
      "source": [
        "hours = 4"
      ],
      "execution_count": 27,
      "outputs": []
    },
    {
      "cell_type": "code",
      "metadata": {
        "colab": {
          "base_uri": "https://localhost:8080/"
        },
        "id": "xa7ow4e_l1PE",
        "outputId": "d8e65907-c76b-4b88-ad6c-be126ce9504e"
      },
      "source": [
        "minutes = hours * 60\n",
        "minutes\n",
        "#no expresseion before the var name hours*60 = munites"
      ],
      "execution_count": 29,
      "outputs": [
        {
          "output_type": "execute_result",
          "data": {
            "text/plain": [
              "240"
            ]
          },
          "metadata": {
            "tags": []
          },
          "execution_count": 29
        }
      ]
    },
    {
      "cell_type": "code",
      "metadata": {
        "colab": {
          "base_uri": "https://localhost:8080/"
        },
        "id": "mebR6Qubl1Mo",
        "outputId": "59ad9999-0141-439e-d23c-69e8e4a5bba6"
      },
      "source": [
        "def print_lyrics():\n",
        "  print('I am the best')\n",
        "  print('I love working')\n",
        "print_lyrics()\n"
      ],
      "execution_count": 32,
      "outputs": [
        {
          "output_type": "stream",
          "text": [
            "I am the best\n",
            "I love working\n"
          ],
          "name": "stdout"
        }
      ]
    },
    {
      "cell_type": "code",
      "metadata": {
        "id": "aDvY5bDYdbCI"
      },
      "source": [
        "def print_lyrics():\n",
        "  print(\"I'm the best\")\n",
        "  print('I love working')"
      ],
      "execution_count": 33,
      "outputs": []
    },
    {
      "cell_type": "code",
      "metadata": {
        "colab": {
          "base_uri": "https://localhost:8080/"
        },
        "id": "3_TQrERneAaF",
        "outputId": "e292126d-dd2c-4195-dd82-b9e503fa52f6"
      },
      "source": [
        "print(print_lyrics)"
      ],
      "execution_count": 34,
      "outputs": [
        {
          "output_type": "stream",
          "text": [
            "<function print_lyrics at 0x7f09ba0db290>\n"
          ],
          "name": "stdout"
        }
      ]
    },
    {
      "cell_type": "code",
      "metadata": {
        "colab": {
          "base_uri": "https://localhost:8080/"
        },
        "id": "GvFIOteGsMGv",
        "outputId": "9105cd64-a780-4682-dcba-211e6410c8c9"
      },
      "source": [
        "type(print_lyrics)"
      ],
      "execution_count": 35,
      "outputs": [
        {
          "output_type": "execute_result",
          "data": {
            "text/plain": [
              "function"
            ]
          },
          "metadata": {
            "tags": []
          },
          "execution_count": 35
        }
      ]
    },
    {
      "cell_type": "code",
      "metadata": {
        "colab": {
          "base_uri": "https://localhost:8080/"
        },
        "id": "Kos8gdHSsOFo",
        "outputId": "498ee4e1-5255-4168-ae50-3263f00ad100"
      },
      "source": [
        "print_lyrics()"
      ],
      "execution_count": 37,
      "outputs": [
        {
          "output_type": "stream",
          "text": [
            "I'm the best\n",
            "I love working\n"
          ],
          "name": "stdout"
        }
      ]
    },
    {
      "cell_type": "code",
      "metadata": {
        "colab": {
          "base_uri": "https://localhost:8080/"
        },
        "id": "2BNHTNrssTAp",
        "outputId": "fe2ecb29-6428-49b1-9f50-208a705434d5"
      },
      "source": [
        "def repeat_lyrics():\n",
        "  print_lyrics()\n",
        "  print_lyrics()\n",
        "repeat_lyrics()"
      ],
      "execution_count": 39,
      "outputs": [
        {
          "output_type": "stream",
          "text": [
            "I'm the best\n",
            "I love working\n",
            "I'm the best\n",
            "I love working\n"
          ],
          "name": "stdout"
        }
      ]
    },
    {
      "cell_type": "code",
      "metadata": {
        "colab": {
          "base_uri": "https://localhost:8080/"
        },
        "id": "vRNT7pPgseqr",
        "outputId": "dedc8d01-4eb9-432c-9d3a-dd34dbc441c2"
      },
      "source": [
        "def print_lyrics():\n",
        "  print(\"i'm the best\")\n",
        "  print('I love working')\n",
        "\n",
        "def repeat_lyrics():\n",
        "  print_lyrics()\n",
        "  print_lyrics()\n",
        "repeat_lyrics()"
      ],
      "execution_count": 43,
      "outputs": [
        {
          "output_type": "stream",
          "text": [
            "i'm the best\n",
            "I love working\n",
            "i'm the best\n",
            "I love working\n"
          ],
          "name": "stdout"
        }
      ]
    },
    {
      "cell_type": "code",
      "metadata": {
        "colab": {
          "base_uri": "https://localhost:8080/"
        },
        "id": "rpY5TsmSs1dJ",
        "outputId": "a43e7e16-5b24-4d78-d72b-eeb1d2bca9ce"
      },
      "source": [
        ""
      ],
      "execution_count": 44,
      "outputs": [
        {
          "output_type": "stream",
          "text": [
            "i'm the best\n",
            "I love working\n",
            "i'm the best\n",
            "I love working\n"
          ],
          "name": "stdout"
        }
      ]
    },
    {
      "cell_type": "code",
      "metadata": {
        "colab": {
          "base_uri": "https://localhost:8080/",
          "height": 128
        },
        "id": "kVogf99bu-pJ",
        "outputId": "b96b4918-a7de-4765-ff2a-b3d443bddc67"
      },
      "source": [
        "repeat_lyrics() #looking for the error message\n",
        "  print_lyrics()\n",
        "  print_lyrics()\n",
        "def repeat_lyrics():\n",
        "  print(\"i'm the best\")\n",
        "  print('I love working')\n",
        "def print_lyrics():\n"
      ],
      "execution_count": 45,
      "outputs": [
        {
          "output_type": "error",
          "ename": "IndentationError",
          "evalue": "ignored",
          "traceback": [
            "\u001b[0;36m  File \u001b[0;32m\"<ipython-input-45-7f38895e0ed9>\"\u001b[0;36m, line \u001b[0;32m2\u001b[0m\n\u001b[0;31m    print_lyrics()\u001b[0m\n\u001b[0m    ^\u001b[0m\n\u001b[0;31mIndentationError\u001b[0m\u001b[0;31m:\u001b[0m unexpected indent\n"
          ]
        }
      ]
    },
    {
      "cell_type": "code",
      "metadata": {
        "id": "KRDDVafUvUd-"
      },
      "source": [
        "def repeat_lyrics(): #nothing happens since I didn't execute anything\n",
        "  print(\"i'm the best\")\n",
        "  print('I love working')\n",
        "def print_lyrics():\n",
        "  repeat_lyrics()\n",
        "  print_lyrics()\n",
        "  print_lyrics()"
      ],
      "execution_count": 49,
      "outputs": []
    },
    {
      "cell_type": "code",
      "metadata": {
        "colab": {
          "base_uri": "https://localhost:8080/"
        },
        "id": "F5uO0m74vUaZ",
        "outputId": "4c2e6fcf-85c2-4425-d5d9-11cb51fab4ca"
      },
      "source": [
        "math.sin(4) #one argument"
      ],
      "execution_count": 50,
      "outputs": [
        {
          "output_type": "execute_result",
          "data": {
            "text/plain": [
              "-0.7568024953079282"
            ]
          },
          "metadata": {
            "tags": []
          },
          "execution_count": 50
        }
      ]
    },
    {
      "cell_type": "code",
      "metadata": {
        "colab": {
          "base_uri": "https://localhost:8080/"
        },
        "id": "wkwXEk9XvUX0",
        "outputId": "75d94441-97ba-439c-c3a5-c707663cdb39"
      },
      "source": [
        "math.pow(5,9) #two arguments"
      ],
      "execution_count": 51,
      "outputs": [
        {
          "output_type": "execute_result",
          "data": {
            "text/plain": [
              "1953125.0"
            ]
          },
          "metadata": {
            "tags": []
          },
          "execution_count": 51
        }
      ]
    },
    {
      "cell_type": "code",
      "metadata": {
        "colab": {
          "base_uri": "https://localhost:8080/"
        },
        "id": "zH-eFQk4vUVR",
        "outputId": "9b9ebf2d-1b76-4702-c784-fa1b842d9c00"
      },
      "source": [
        "def print_twice(bruce):\n",
        "  print(bruce)\n",
        "  print(bruce)\n",
        "print_twice('bruce')"
      ],
      "execution_count": 60,
      "outputs": [
        {
          "output_type": "stream",
          "text": [
            "bruce\n",
            "bruce\n"
          ],
          "name": "stdout"
        }
      ]
    },
    {
      "cell_type": "code",
      "metadata": {
        "colab": {
          "base_uri": "https://localhost:8080/"
        },
        "id": "QwCuWGD4vUSl",
        "outputId": "a5a41e79-2016-427e-d0db-4a914baabbce"
      },
      "source": [
        "print_twice('spam')"
      ],
      "execution_count": 61,
      "outputs": [
        {
          "output_type": "stream",
          "text": [
            "spam\n",
            "spam\n"
          ],
          "name": "stdout"
        }
      ]
    },
    {
      "cell_type": "code",
      "metadata": {
        "colab": {
          "base_uri": "https://localhost:8080/"
        },
        "id": "NIzt9Y3pvUQa",
        "outputId": "43d60464-4848-4c6d-807e-79cb834484f2"
      },
      "source": [
        "print_twice(8)"
      ],
      "execution_count": 62,
      "outputs": [
        {
          "output_type": "stream",
          "text": [
            "8\n",
            "8\n"
          ],
          "name": "stdout"
        }
      ]
    },
    {
      "cell_type": "code",
      "metadata": {
        "colab": {
          "base_uri": "https://localhost:8080/"
        },
        "id": "3be5VshhvUOE",
        "outputId": "12693526-bf9d-4356-8d5a-98ee89cbe62d"
      },
      "source": [
        "print_twice(math.pi)"
      ],
      "execution_count": 65,
      "outputs": [
        {
          "output_type": "stream",
          "text": [
            "3.141592653589793\n",
            "3.141592653589793\n"
          ],
          "name": "stdout"
        }
      ]
    },
    {
      "cell_type": "code",
      "metadata": {
        "colab": {
          "base_uri": "https://localhost:8080/"
        },
        "id": "GJyYpfs7vULP",
        "outputId": "f0a0780b-9046-4b17-9cc5-d115ed007d9b"
      },
      "source": [
        "print_twice('spam '*4)"
      ],
      "execution_count": 68,
      "outputs": [
        {
          "output_type": "stream",
          "text": [
            "spam spam spam spam \n",
            "spam spam spam spam \n"
          ],
          "name": "stdout"
        }
      ]
    },
    {
      "cell_type": "code",
      "metadata": {
        "colab": {
          "base_uri": "https://localhost:8080/"
        },
        "id": "4sKBmDFlvUI1",
        "outputId": "7a357d84-2349-4951-af5b-daea82bddaff"
      },
      "source": [
        "print_twice(math.cos(math.pi))"
      ],
      "execution_count": 69,
      "outputs": [
        {
          "output_type": "stream",
          "text": [
            "-1.0\n",
            "-1.0\n"
          ],
          "name": "stdout"
        }
      ]
    },
    {
      "cell_type": "code",
      "metadata": {
        "colab": {
          "base_uri": "https://localhost:8080/"
        },
        "id": "hD5aiHqK2cXs",
        "outputId": "0f203f43-42f4-4aac-f2de-093cfce885f1"
      },
      "source": [
        "michael = 'Eric, the laf a bee.'\n",
        "print_twice(michael)"
      ],
      "execution_count": 72,
      "outputs": [
        {
          "output_type": "stream",
          "text": [
            "Eric, the laf a bee.\n",
            "Eric, the laf a bee.\n"
          ],
          "name": "stdout"
        }
      ]
    },
    {
      "cell_type": "code",
      "metadata": {
        "id": "u4XGJ6iI3Jwu"
      },
      "source": [
        "def cat_twice(part1, part2):\n",
        "  cat = part1+part2\n",
        "  print_twice(cat)"
      ],
      "execution_count": 73,
      "outputs": []
    },
    {
      "cell_type": "code",
      "metadata": {
        "colab": {
          "base_uri": "https://localhost:8080/"
        },
        "id": "k2KiRp7T3iIt",
        "outputId": "12230ee1-2cab-4e52-91a3-37e0ed3906db"
      },
      "source": [
        "line1 = 'Bring tiddle '\n",
        "line2 = 'tiddle bang.'\n",
        "cat_twice(line1, line2)"
      ],
      "execution_count": 75,
      "outputs": [
        {
          "output_type": "stream",
          "text": [
            "Bring tiddle tiddle bang.\n",
            "Bring tiddle tiddle bang.\n"
          ],
          "name": "stdout"
        }
      ]
    },
    {
      "cell_type": "code",
      "metadata": {
        "colab": {
          "base_uri": "https://localhost:8080/"
        },
        "id": "7pXY6pd63vs6",
        "outputId": "56ecd9d1-58b4-4d09-e15d-663e07d411ee"
      },
      "source": [
        "print_twice('bruce')"
      ],
      "execution_count": 78,
      "outputs": [
        {
          "output_type": "stream",
          "text": [
            "bruce\n",
            "bruce\n"
          ],
          "name": "stdout"
        }
      ]
    },
    {
      "cell_type": "code",
      "metadata": {
        "id": "xgi7ZISl4v7T"
      },
      "source": [
        "x = math.cos(radians)\n",
        "golden = (math.sqrt(5) + 1) / 2"
      ],
      "execution_count": 80,
      "outputs": []
    },
    {
      "cell_type": "code",
      "metadata": {
        "colab": {
          "base_uri": "https://localhost:8080/"
        },
        "id": "8NCqAf5E54Lb",
        "outputId": "771d17b2-68f2-4f31-8e2a-d003fea6d7bb"
      },
      "source": [
        "math.sqrt(5)"
      ],
      "execution_count": 81,
      "outputs": [
        {
          "output_type": "execute_result",
          "data": {
            "text/plain": [
              "2.23606797749979"
            ]
          },
          "metadata": {
            "tags": []
          },
          "execution_count": 81
        }
      ]
    },
    {
      "cell_type": "code",
      "metadata": {
        "colab": {
          "base_uri": "https://localhost:8080/"
        },
        "id": "1Kyoqrz354H0",
        "outputId": "cda48519-40a2-4dcc-95e6-bd7aec2a314c"
      },
      "source": [
        "result = print_twice('Bing') #void functions"
      ],
      "execution_count": 82,
      "outputs": [
        {
          "output_type": "stream",
          "text": [
            "Bing\n",
            "Bing\n"
          ],
          "name": "stdout"
        }
      ]
    },
    {
      "cell_type": "code",
      "metadata": {
        "colab": {
          "base_uri": "https://localhost:8080/"
        },
        "id": "80ANlth154FU",
        "outputId": "8c4a3404-657e-40ac-cd00-e5b37ffb6e6a"
      },
      "source": [
        "print(result)"
      ],
      "execution_count": 83,
      "outputs": [
        {
          "output_type": "stream",
          "text": [
            "None\n"
          ],
          "name": "stdout"
        }
      ]
    },
    {
      "cell_type": "code",
      "metadata": {
        "colab": {
          "base_uri": "https://localhost:8080/"
        },
        "id": "gXdzAVhA54CV",
        "outputId": "c07546dd-3390-4e7d-9959-19dc62b10e07"
      },
      "source": [
        "print(type(None))"
      ],
      "execution_count": 90,
      "outputs": [
        {
          "output_type": "stream",
          "text": [
            "<class 'NoneType'>\n"
          ],
          "name": "stdout"
        }
      ]
    },
    {
      "cell_type": "code",
      "metadata": {
        "colab": {
          "base_uri": "https://localhost:8080/"
        },
        "id": "CP1PICc153_6",
        "outputId": "3786e19d-1153-4be9-bc20-7e96bdbb10b6"
      },
      "source": [
        "import math\n",
        "print (math)"
      ],
      "execution_count": 92,
      "outputs": [
        {
          "output_type": "stream",
          "text": [
            "<module 'math' (built-in)>\n"
          ],
          "name": "stdout"
        }
      ]
    },
    {
      "cell_type": "code",
      "metadata": {
        "colab": {
          "base_uri": "https://localhost:8080/"
        },
        "id": "yWo8alUR539H",
        "outputId": "1ff8a4e3-540d-4805-d3d1-ddd8c14d837c"
      },
      "source": [
        "print (math.pi)"
      ],
      "execution_count": 94,
      "outputs": [
        {
          "output_type": "stream",
          "text": [
            "3.141592653589793\n"
          ],
          "name": "stdout"
        }
      ]
    },
    {
      "cell_type": "code",
      "metadata": {
        "colab": {
          "base_uri": "https://localhost:8080/",
          "height": 162
        },
        "id": "g5eabqJF536j",
        "outputId": "3be945df-bb6f-41ff-c7a5-55d7a7cf9e28"
      },
      "source": [
        "print(pi) #pi contains in math"
      ],
      "execution_count": 95,
      "outputs": [
        {
          "output_type": "error",
          "ename": "NameError",
          "evalue": "ignored",
          "traceback": [
            "\u001b[0;31m---------------------------------------------------------------------------\u001b[0m",
            "\u001b[0;31mNameError\u001b[0m                                 Traceback (most recent call last)",
            "\u001b[0;32m<ipython-input-95-9e2d2bd32686>\u001b[0m in \u001b[0;36m<module>\u001b[0;34m()\u001b[0m\n\u001b[0;32m----> 1\u001b[0;31m \u001b[0mprint\u001b[0m\u001b[0;34m(\u001b[0m\u001b[0mpi\u001b[0m\u001b[0;34m)\u001b[0m\u001b[0;34m\u001b[0m\u001b[0;34m\u001b[0m\u001b[0m\n\u001b[0m",
            "\u001b[0;31mNameError\u001b[0m: name 'pi' is not defined"
          ]
        }
      ]
    },
    {
      "cell_type": "code",
      "metadata": {
        "id": "gHIbs4AU534G"
      },
      "source": [
        "from math import pi"
      ],
      "execution_count": 96,
      "outputs": []
    },
    {
      "cell_type": "code",
      "metadata": {
        "colab": {
          "base_uri": "https://localhost:8080/"
        },
        "id": "BzEmcw8I531e",
        "outputId": "15b7cec4-7dbc-44b8-8147-45fdb7f2a531"
      },
      "source": [
        "print(pi)"
      ],
      "execution_count": 97,
      "outputs": [
        {
          "output_type": "stream",
          "text": [
            "3.141592653589793\n"
          ],
          "name": "stdout"
        }
      ]
    },
    {
      "cell_type": "code",
      "metadata": {
        "colab": {
          "base_uri": "https://localhost:8080/"
        },
        "id": "lcC9k5cj53y6",
        "outputId": "c5807769-fa37-433f-e21f-e9632c513193"
      },
      "source": [
        "from math import *\n",
        "cos(pi)"
      ],
      "execution_count": 98,
      "outputs": [
        {
          "output_type": "execute_result",
          "data": {
            "text/plain": [
              "-1.0"
            ]
          },
          "metadata": {
            "tags": []
          },
          "execution_count": 98
        }
      ]
    },
    {
      "cell_type": "markdown",
      "metadata": {
        "id": "Eb9oGFL88rLk"
      },
      "source": [
        "Debugging:\n",
        "try to find a text editor that makes spaces and tabs. \n",
        "2. save the code before running\n",
        "3. make sure the code I'm looking at is the code I'm running. \n"
      ]
    },
    {
      "cell_type": "code",
      "metadata": {
        "colab": {
          "base_uri": "https://localhost:8080/"
        },
        "id": "GXQhR0l753wj",
        "outputId": "1c99acf5-bcf5-4ffb-8092-9b76d016daab"
      },
      "source": [
        "len('allen')"
      ],
      "execution_count": 100,
      "outputs": [
        {
          "output_type": "execute_result",
          "data": {
            "text/plain": [
              "5"
            ]
          },
          "metadata": {
            "tags": []
          },
          "execution_count": 100
        }
      ]
    },
    {
      "cell_type": "code",
      "metadata": {
        "id": "L23TcYCV53uL"
      },
      "source": [
        "def right_justify(s):\n",
        "  print('s')"
      ],
      "execution_count": 103,
      "outputs": []
    },
    {
      "cell_type": "code",
      "metadata": {
        "id": "c66Egaq253r6"
      },
      "source": [
        "def do_twice(f):\n",
        "  f()\n",
        "  f()"
      ],
      "execution_count": 114,
      "outputs": []
    },
    {
      "cell_type": "code",
      "metadata": {
        "colab": {
          "base_uri": "https://localhost:8080/"
        },
        "id": "EJaEU71b53pb",
        "outputId": "b5574e84-52b8-490d-b0fd-5a052e31fdfe"
      },
      "source": [
        "def print_spam():\n",
        "  print('spam')\n",
        "do_twice(print_spam)"
      ],
      "execution_count": 117,
      "outputs": [
        {
          "output_type": "stream",
          "text": [
            "spam\n",
            "spam\n"
          ],
          "name": "stdout"
        }
      ]
    },
    {
      "cell_type": "code",
      "metadata": {
        "colab": {
          "base_uri": "https://localhost:8080/"
        },
        "id": "B1vykkO7Avm9",
        "outputId": "eb650ee6-abf1-4379-cd66-f96d8490e414"
      },
      "source": [
        "def print_spam():\n",
        "  print('spam', 5)\n",
        "do_twice(print_spam)"
      ],
      "execution_count": 119,
      "outputs": [
        {
          "output_type": "stream",
          "text": [
            "spam 5\n",
            "spam 5\n"
          ],
          "name": "stdout"
        }
      ]
    },
    {
      "cell_type": "code",
      "metadata": {
        "id": "IrTae8XrFTgT"
      },
      "source": [
        "def print_"
      ],
      "execution_count": null,
      "outputs": []
    },
    {
      "cell_type": "code",
      "metadata": {
        "colab": {
          "base_uri": "https://localhost:8080/"
        },
        "id": "cdiwmIuJ53m5",
        "outputId": "25aed883-339c-4f03-cbed-4fa725addea7"
      },
      "source": [
        "def print_twice():\n",
        "  print('mom', 3)\n",
        "do_twice(print_twice)\n"
      ],
      "execution_count": 132,
      "outputs": [
        {
          "output_type": "stream",
          "text": [
            "mom 3\n",
            "mom 3\n"
          ],
          "name": "stdout"
        }
      ]
    },
    {
      "cell_type": "code",
      "metadata": {
        "colab": {
          "base_uri": "https://localhost:8080/"
        },
        "id": "ecgJ3eT853kl",
        "outputId": "590d063f-0556-4101-90b9-d25047b97732"
      },
      "source": [
        "def print_twice():\n",
        "  print('spam')\n",
        "do_twice(print_twice)"
      ],
      "execution_count": 134,
      "outputs": [
        {
          "output_type": "stream",
          "text": [
            "spam\n",
            "spam\n"
          ],
          "name": "stdout"
        }
      ]
    },
    {
      "cell_type": "code",
      "metadata": {
        "id": "AFckerco53iE"
      },
      "source": [
        "def do_four(f):\n",
        "  f()\n",
        "  f()\n",
        "  f()\n",
        "  f()"
      ],
      "execution_count": 135,
      "outputs": []
    },
    {
      "cell_type": "code",
      "metadata": {
        "colab": {
          "base_uri": "https://localhost:8080/"
        },
        "id": "ZNjN7Y4l_4Yl",
        "outputId": "64212df4-2487-4346-b635-c3d402903640"
      },
      "source": [
        "def four():\n",
        "  print('mom', 3)\n",
        "do_four(four)"
      ],
      "execution_count": 137,
      "outputs": [
        {
          "output_type": "stream",
          "text": [
            "mom 3\n",
            "mom 3\n",
            "mom 3\n",
            "mom 3\n"
          ],
          "name": "stdout"
        }
      ]
    },
    {
      "cell_type": "code",
      "metadata": {
        "colab": {
          "base_uri": "https://localhost:8080/"
        },
        "id": "qOcoDonH_4VB",
        "outputId": "8a7cc1ff-7428-42ea-f989-49ec254085ef"
      },
      "source": [
        "def grid():\n",
        "  print('+', '-')\n",
        "do_twice()"
      ],
      "execution_count": 138,
      "outputs": [
        {
          "output_type": "execute_result",
          "data": {
            "text/plain": [
              "<function __main__.do_twice>"
            ]
          },
          "metadata": {
            "tags": []
          },
          "execution_count": 138
        }
      ]
    },
    {
      "cell_type": "code",
      "metadata": {
        "id": "4-eehLAC_4SV"
      },
      "source": [
        ""
      ],
      "execution_count": null,
      "outputs": []
    },
    {
      "cell_type": "code",
      "metadata": {
        "id": "5b4SFZyI_4P4"
      },
      "source": [
        ""
      ],
      "execution_count": null,
      "outputs": []
    },
    {
      "cell_type": "code",
      "metadata": {
        "id": "xcEiJari_4Ne"
      },
      "source": [
        ""
      ],
      "execution_count": null,
      "outputs": []
    },
    {
      "cell_type": "code",
      "metadata": {
        "id": "AOnMLpfp_4LO"
      },
      "source": [
        ""
      ],
      "execution_count": null,
      "outputs": []
    },
    {
      "cell_type": "code",
      "metadata": {
        "id": "YbPePERp_4I0"
      },
      "source": [
        ""
      ],
      "execution_count": null,
      "outputs": []
    },
    {
      "cell_type": "code",
      "metadata": {
        "id": "VAGMgfCn_4Gk"
      },
      "source": [
        ""
      ],
      "execution_count": null,
      "outputs": []
    },
    {
      "cell_type": "code",
      "metadata": {
        "id": "UnEeut1d_4ES"
      },
      "source": [
        ""
      ],
      "execution_count": null,
      "outputs": []
    }
  ]
}