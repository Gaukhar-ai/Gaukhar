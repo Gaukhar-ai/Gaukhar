{
  "nbformat": 4,
  "nbformat_minor": 0,
  "metadata": {
    "colab": {
      "name": "UoP_CS_fundamentals1.ipynb",
      "provenance": [],
      "authorship_tag": "ABX9TyP/bDf3/pjDFP+hDODkrTJy",
      "include_colab_link": true
    },
    "kernelspec": {
      "name": "python3",
      "display_name": "Python 3"
    },
    "language_info": {
      "name": "python"
    }
  },
  "cells": [
    {
      "cell_type": "markdown",
      "metadata": {
        "id": "view-in-github",
        "colab_type": "text"
      },
      "source": [
        "<a href=\"https://colab.research.google.com/github/Gaukhar-ai/Gaukhar/blob/master/UoP_CS_fundamentals1.ipynb\" target=\"_parent\"><img src=\"https://colab.research.google.com/assets/colab-badge.svg\" alt=\"Open In Colab\"/></a>"
      ]
    },
    {
      "cell_type": "code",
      "metadata": {
        "id": "M9iEpRu8lsOz"
      },
      "source": [
        "a = -6\n",
        "b = a*a - a - 1\n",
        "c = a*b"
      ],
      "execution_count": 1,
      "outputs": []
    },
    {
      "cell_type": "code",
      "metadata": {
        "colab": {
          "base_uri": "https://localhost:8080/"
        },
        "id": "LKJbRloJs1f6",
        "outputId": "349ca422-6a7b-455c-b7eb-151ab224e246"
      },
      "source": [
        "if (a<0):\n",
        "  print(c)\n",
        "else:\n",
        "  print(c-a)\n",
        "\n",
        "print('we are done with the program')"
      ],
      "execution_count": 3,
      "outputs": [
        {
          "output_type": "stream",
          "text": [
            "-246\n",
            "we are done with the program\n"
          ],
          "name": "stdout"
        }
      ]
    },
    {
      "cell_type": "code",
      "metadata": {
        "colab": {
          "base_uri": "https://localhost:8080/"
        },
        "id": "2_00Zps1tBln",
        "outputId": "bd8e8b39-5a26-4009-b9fc-1e9ee9c7a58f"
      },
      "source": [
        "if(a<0):\n",
        "  print('a<0')\n",
        "  print(c)\n",
        "else:\n",
        "  print('a is not less than 0')\n",
        "  print(c-a)\n",
        "print('we are done')"
      ],
      "execution_count": 5,
      "outputs": [
        {
          "output_type": "stream",
          "text": [
            "a<0\n",
            "-246\n",
            "we are done\n"
          ],
          "name": "stdout"
        }
      ]
    },
    {
      "cell_type": "code",
      "metadata": {
        "id": "xOSmAtJStV8O"
      },
      "source": [
        "a = 8\n",
        "b = a*a - a - 1\n",
        "c = a*b"
      ],
      "execution_count": 6,
      "outputs": []
    },
    {
      "cell_type": "code",
      "metadata": {
        "colab": {
          "base_uri": "https://localhost:8080/"
        },
        "id": "xZxHCjUFtwsm",
        "outputId": "0dbefca4-6453-46d8-ff12-0860d7b22573"
      },
      "source": [
        "if(a<0):\n",
        "  print('a<0')\n",
        "  print(c)\n",
        "else:\n",
        "  print(c-a)\n",
        "print('we are done with the program')"
      ],
      "execution_count": 7,
      "outputs": [
        {
          "output_type": "stream",
          "text": [
            "432\n",
            "we are done with the program\n"
          ],
          "name": "stdout"
        }
      ]
    },
    {
      "cell_type": "code",
      "metadata": {
        "id": "EGFHE_NRt5yu"
      },
      "source": [
        "a = 'My first test string'\n",
        "b = 'Another test string that I have defined'\n",
        "c = \"this is Sal's string\"\n",
        "d = 'My favorite word is \"magic\", what is yours?'\n",
        "match_string = \"3+4*2\"\n",
        "expression_string = \"a+ ' ' +b+ ' tiger'\""
      ],
      "execution_count": 35,
      "outputs": []
    },
    {
      "cell_type": "code",
      "metadata": {
        "colab": {
          "base_uri": "https://localhost:8080/",
          "height": 35
        },
        "id": "ETGS-fbduQEM",
        "outputId": "26a3bfa9-ba91-423e-83bc-15536ec5c6d0"
      },
      "source": [
        "a"
      ],
      "execution_count": 36,
      "outputs": [
        {
          "output_type": "execute_result",
          "data": {
            "application/vnd.google.colaboratory.intrinsic+json": {
              "type": "string"
            },
            "text/plain": [
              "'My first test string'"
            ]
          },
          "metadata": {
            "tags": []
          },
          "execution_count": 36
        }
      ]
    },
    {
      "cell_type": "code",
      "metadata": {
        "colab": {
          "base_uri": "https://localhost:8080/",
          "height": 35
        },
        "id": "vjecYI_Ru_UM",
        "outputId": "67871676-affa-44ff-e094-1dfad9d43fa4"
      },
      "source": [
        "b"
      ],
      "execution_count": 37,
      "outputs": [
        {
          "output_type": "execute_result",
          "data": {
            "application/vnd.google.colaboratory.intrinsic+json": {
              "type": "string"
            },
            "text/plain": [
              "'Another test string that I have defined'"
            ]
          },
          "metadata": {
            "tags": []
          },
          "execution_count": 37
        }
      ]
    },
    {
      "cell_type": "code",
      "metadata": {
        "colab": {
          "base_uri": "https://localhost:8080/",
          "height": 35
        },
        "id": "KzvB6Q6_vAAT",
        "outputId": "a3c4a387-efee-4a3a-c6e1-1fbf95bee16d"
      },
      "source": [
        "c"
      ],
      "execution_count": 38,
      "outputs": [
        {
          "output_type": "execute_result",
          "data": {
            "application/vnd.google.colaboratory.intrinsic+json": {
              "type": "string"
            },
            "text/plain": [
              "\"this is Sal's string\""
            ]
          },
          "metadata": {
            "tags": []
          },
          "execution_count": 38
        }
      ]
    },
    {
      "cell_type": "code",
      "metadata": {
        "colab": {
          "base_uri": "https://localhost:8080/",
          "height": 35
        },
        "id": "iGNK_OFTvAWk",
        "outputId": "90f1641c-68be-4355-f4d1-68a9115766ff"
      },
      "source": [
        "d"
      ],
      "execution_count": 39,
      "outputs": [
        {
          "output_type": "execute_result",
          "data": {
            "application/vnd.google.colaboratory.intrinsic+json": {
              "type": "string"
            },
            "text/plain": [
              "'My favorite word is \"magic\", what is yours?'"
            ]
          },
          "metadata": {
            "tags": []
          },
          "execution_count": 39
        }
      ]
    },
    {
      "cell_type": "code",
      "metadata": {
        "colab": {
          "base_uri": "https://localhost:8080/",
          "height": 35
        },
        "id": "NgavaOYGvAsy",
        "outputId": "a73a9a32-2c9b-41b8-9da3-4d74bfd03292"
      },
      "source": [
        "match_string"
      ],
      "execution_count": 40,
      "outputs": [
        {
          "output_type": "execute_result",
          "data": {
            "application/vnd.google.colaboratory.intrinsic+json": {
              "type": "string"
            },
            "text/plain": [
              "'3+4*2'"
            ]
          },
          "metadata": {
            "tags": []
          },
          "execution_count": 40
        }
      ]
    },
    {
      "cell_type": "code",
      "metadata": {
        "colab": {
          "base_uri": "https://localhost:8080/",
          "height": 35
        },
        "id": "merPuTqQvCjj",
        "outputId": "7bf9e3eb-8f35-41ba-acdb-e27bee0142f6"
      },
      "source": [
        "expression_string"
      ],
      "execution_count": 41,
      "outputs": [
        {
          "output_type": "execute_result",
          "data": {
            "application/vnd.google.colaboratory.intrinsic+json": {
              "type": "string"
            },
            "text/plain": [
              "\"a+ ' ' +b+ ' tiger'\""
            ]
          },
          "metadata": {
            "tags": []
          },
          "execution_count": 41
        }
      ]
    },
    {
      "cell_type": "code",
      "metadata": {
        "colab": {
          "base_uri": "https://localhost:8080/"
        },
        "id": "gEKMHJMWvD00",
        "outputId": "54f3f968-4d63-4559-a810-5b1aa01b5d3c"
      },
      "source": [
        "len(a)"
      ],
      "execution_count": 42,
      "outputs": [
        {
          "output_type": "execute_result",
          "data": {
            "text/plain": [
              "20"
            ]
          },
          "metadata": {
            "tags": []
          },
          "execution_count": 42
        }
      ]
    },
    {
      "cell_type": "code",
      "metadata": {
        "colab": {
          "base_uri": "https://localhost:8080/"
        },
        "id": "DA5KJsNHvI8r",
        "outputId": "68bd0128-e320-46f7-bf38-74b600b99b1f"
      },
      "source": [
        "len(match_string)"
      ],
      "execution_count": 43,
      "outputs": [
        {
          "output_type": "execute_result",
          "data": {
            "text/plain": [
              "5"
            ]
          },
          "metadata": {
            "tags": []
          },
          "execution_count": 43
        }
      ]
    },
    {
      "cell_type": "code",
      "metadata": {
        "id": "NhwBUMszvQyF"
      },
      "source": [
        "a_with_b = a + b #concatenation"
      ],
      "execution_count": 44,
      "outputs": []
    },
    {
      "cell_type": "code",
      "metadata": {
        "colab": {
          "base_uri": "https://localhost:8080/",
          "height": 35
        },
        "id": "8HyLi_RqvZ3j",
        "outputId": "d560465e-c02b-4928-fe9b-8ca3009630a3"
      },
      "source": [
        "a_with_b"
      ],
      "execution_count": 45,
      "outputs": [
        {
          "output_type": "execute_result",
          "data": {
            "application/vnd.google.colaboratory.intrinsic+json": {
              "type": "string"
            },
            "text/plain": [
              "'My first test stringAnother test string that I have defined'"
            ]
          },
          "metadata": {
            "tags": []
          },
          "execution_count": 45
        }
      ]
    },
    {
      "cell_type": "code",
      "metadata": {
        "id": "0p2_7DPOva5K"
      },
      "source": [
        "b_with_a = b + a"
      ],
      "execution_count": 46,
      "outputs": []
    },
    {
      "cell_type": "code",
      "metadata": {
        "colab": {
          "base_uri": "https://localhost:8080/",
          "height": 35
        },
        "id": "4jtK3jHkviTC",
        "outputId": "9db3b059-64eb-43bc-d0d5-a8670322fb21"
      },
      "source": [
        "b_with_a"
      ],
      "execution_count": 47,
      "outputs": [
        {
          "output_type": "execute_result",
          "data": {
            "application/vnd.google.colaboratory.intrinsic+json": {
              "type": "string"
            },
            "text/plain": [
              "'Another test string that I have definedMy first test string'"
            ]
          },
          "metadata": {
            "tags": []
          },
          "execution_count": 47
        }
      ]
    },
    {
      "cell_type": "code",
      "metadata": {
        "colab": {
          "base_uri": "https://localhost:8080/",
          "height": 35
        },
        "id": "TEevg2Dqvjl6",
        "outputId": "c749c32a-2ebc-4d7a-8460-3a71d1a0b13d"
      },
      "source": [
        "match_string+expression_string"
      ],
      "execution_count": 48,
      "outputs": [
        {
          "output_type": "execute_result",
          "data": {
            "application/vnd.google.colaboratory.intrinsic+json": {
              "type": "string"
            },
            "text/plain": [
              "\"3+4*2a+ ' ' +b+ ' tiger'\""
            ]
          },
          "metadata": {
            "tags": []
          },
          "execution_count": 48
        }
      ]
    },
    {
      "cell_type": "code",
      "metadata": {
        "colab": {
          "base_uri": "https://localhost:8080/"
        },
        "id": "1_KGdLudvn-y",
        "outputId": "82cb8532-c986-4a47-ca85-c6130d8647df"
      },
      "source": [
        "b.split(' ')"
      ],
      "execution_count": 49,
      "outputs": [
        {
          "output_type": "execute_result",
          "data": {
            "text/plain": [
              "['Another', 'test', 'string', 'that', 'I', 'have', 'defined']"
            ]
          },
          "metadata": {
            "tags": []
          },
          "execution_count": 49
        }
      ]
    },
    {
      "cell_type": "code",
      "metadata": {
        "colab": {
          "base_uri": "https://localhost:8080/"
        },
        "id": "psAmngQsv6yC",
        "outputId": "36279126-95a5-4624-9f6d-37127fc49bde"
      },
      "source": [
        "b.split('t')"
      ],
      "execution_count": 50,
      "outputs": [
        {
          "output_type": "execute_result",
          "data": {
            "text/plain": [
              "['Ano', 'her ', 'es', ' s', 'ring ', 'ha', ' I have defined']"
            ]
          },
          "metadata": {
            "tags": []
          },
          "execution_count": 50
        }
      ]
    },
    {
      "cell_type": "code",
      "metadata": {
        "colab": {
          "base_uri": "https://localhost:8080/"
        },
        "id": "SYFPNg6KwBmb",
        "outputId": "1929b2ec-bea6-4598-b37d-f84d2f75a403"
      },
      "source": [
        "match_string.find(\"*\")"
      ],
      "execution_count": 51,
      "outputs": [
        {
          "output_type": "execute_result",
          "data": {
            "text/plain": [
              "3"
            ]
          },
          "metadata": {
            "tags": []
          },
          "execution_count": 51
        }
      ]
    },
    {
      "cell_type": "code",
      "metadata": {
        "colab": {
          "base_uri": "https://localhost:8080/"
        },
        "id": "d9-sNdldwK65",
        "outputId": "3e159a7b-62be-4764-e87e-339db8a96cf1"
      },
      "source": [
        "match_string.find(\"3\")"
      ],
      "execution_count": 52,
      "outputs": [
        {
          "output_type": "execute_result",
          "data": {
            "text/plain": [
              "0"
            ]
          },
          "metadata": {
            "tags": []
          },
          "execution_count": 52
        }
      ]
    },
    {
      "cell_type": "code",
      "metadata": {
        "colab": {
          "base_uri": "https://localhost:8080/",
          "height": 35
        },
        "id": "l9n2KRs_wRKi",
        "outputId": "6af2a38e-7d42-4ecf-9259-29ae1065d5bc"
      },
      "source": [
        "c.replace('i', 'o')"
      ],
      "execution_count": 53,
      "outputs": [
        {
          "output_type": "execute_result",
          "data": {
            "application/vnd.google.colaboratory.intrinsic+json": {
              "type": "string"
            },
            "text/plain": [
              "\"thos os Sal's strong\""
            ]
          },
          "metadata": {
            "tags": []
          },
          "execution_count": 53
        }
      ]
    },
    {
      "cell_type": "code",
      "metadata": {
        "colab": {
          "base_uri": "https://localhost:8080/",
          "height": 35
        },
        "id": "6qn2c3kywZ6x",
        "outputId": "eedfa12d-a698-4afa-b770-4d4952c317ca"
      },
      "source": [
        "c"
      ],
      "execution_count": 54,
      "outputs": [
        {
          "output_type": "execute_result",
          "data": {
            "application/vnd.google.colaboratory.intrinsic+json": {
              "type": "string"
            },
            "text/plain": [
              "\"this is Sal's string\""
            ]
          },
          "metadata": {
            "tags": []
          },
          "execution_count": 54
        }
      ]
    },
    {
      "cell_type": "code",
      "metadata": {
        "id": "OBObIcfXwfsg"
      },
      "source": [
        "c = c.replace('i', 'o')"
      ],
      "execution_count": 55,
      "outputs": []
    },
    {
      "cell_type": "code",
      "metadata": {
        "colab": {
          "base_uri": "https://localhost:8080/",
          "height": 35
        },
        "id": "99AlKOPpwieZ",
        "outputId": "f394d58f-458b-4ad0-cd23-4da26936aadd"
      },
      "source": [
        "c"
      ],
      "execution_count": 56,
      "outputs": [
        {
          "output_type": "execute_result",
          "data": {
            "application/vnd.google.colaboratory.intrinsic+json": {
              "type": "string"
            },
            "text/plain": [
              "\"thos os Sal's strong\""
            ]
          },
          "metadata": {
            "tags": []
          },
          "execution_count": 56
        }
      ]
    },
    {
      "cell_type": "code",
      "metadata": {
        "colab": {
          "base_uri": "https://localhost:8080/",
          "height": 35
        },
        "id": "zXsfgjwywi4z",
        "outputId": "692c5546-df0a-4b5f-c979-de9495286562"
      },
      "source": [
        "match_string"
      ],
      "execution_count": 57,
      "outputs": [
        {
          "output_type": "execute_result",
          "data": {
            "application/vnd.google.colaboratory.intrinsic+json": {
              "type": "string"
            },
            "text/plain": [
              "'3+4*2'"
            ]
          },
          "metadata": {
            "tags": []
          },
          "execution_count": 57
        }
      ]
    },
    {
      "cell_type": "code",
      "metadata": {
        "colab": {
          "base_uri": "https://localhost:8080/"
        },
        "id": "0vIW0aC3wrOo",
        "outputId": "ac4e2cf0-ec57-4325-aee2-82e927c0e350"
      },
      "source": [
        "eval(match_string)"
      ],
      "execution_count": 58,
      "outputs": [
        {
          "output_type": "execute_result",
          "data": {
            "text/plain": [
              "11"
            ]
          },
          "metadata": {
            "tags": []
          },
          "execution_count": 58
        }
      ]
    },
    {
      "cell_type": "code",
      "metadata": {
        "colab": {
          "base_uri": "https://localhost:8080/"
        },
        "id": "_shXoz3ywszH",
        "outputId": "bc5495ba-b1bc-47db-e1a0-8aadbe78e924"
      },
      "source": [
        "eval(match_string+'1') "
      ],
      "execution_count": 59,
      "outputs": [
        {
          "output_type": "execute_result",
          "data": {
            "text/plain": [
              "87"
            ]
          },
          "metadata": {
            "tags": []
          },
          "execution_count": 59
        }
      ]
    },
    {
      "cell_type": "code",
      "metadata": {
        "colab": {
          "base_uri": "https://localhost:8080/",
          "height": 35
        },
        "id": "6NzsaEI_w2Hp",
        "outputId": "df61b608-1859-4d78-ef4f-19bc341fbdee"
      },
      "source": [
        "eval(expression_string)"
      ],
      "execution_count": 60,
      "outputs": [
        {
          "output_type": "execute_result",
          "data": {
            "application/vnd.google.colaboratory.intrinsic+json": {
              "type": "string"
            },
            "text/plain": [
              "'My first test string Another test string that I have defined tiger'"
            ]
          },
          "metadata": {
            "tags": []
          },
          "execution_count": 60
        }
      ]
    },
    {
      "cell_type": "code",
      "metadata": {
        "id": "OFalrWeKw8k4"
      },
      "source": [
        ""
      ],
      "execution_count": 60,
      "outputs": []
    }
  ]
}