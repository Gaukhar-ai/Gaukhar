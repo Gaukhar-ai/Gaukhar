{
  "nbformat": 4,
  "nbformat_minor": 0,
  "metadata": {
    "colab": {
      "name": "Conditionals_UoPeople.ipynb",
      "provenance": [],
      "authorship_tag": "ABX9TyMWZCGrrUvYjxtM2hLuxLYL",
      "include_colab_link": true
    },
    "kernelspec": {
      "name": "python3",
      "display_name": "Python 3"
    },
    "language_info": {
      "name": "python"
    }
  },
  "cells": [
    {
      "cell_type": "markdown",
      "metadata": {
        "id": "view-in-github",
        "colab_type": "text"
      },
      "source": [
        "<a href=\"https://colab.research.google.com/github/Gaukhar-ai/Gaukhar/blob/master/Conditionals_UoPeople.ipynb\" target=\"_parent\"><img src=\"https://colab.research.google.com/assets/colab-badge.svg\" alt=\"Open In Colab\"/></a>"
      ]
    },
    {
      "cell_type": "code",
      "metadata": {
        "colab": {
          "base_uri": "https://localhost:8080/"
        },
        "id": "TQwJ8TuwxOhv",
        "outputId": "5e0f0b0d-a486-4b70-e46b-ca002929a438"
      },
      "source": [
        "quotient = 7 / 3\n",
        "print(quotient)"
      ],
      "execution_count": null,
      "outputs": [
        {
          "output_type": "stream",
          "text": [
            "2.3333333333333335\n"
          ],
          "name": "stdout"
        }
      ]
    },
    {
      "cell_type": "code",
      "metadata": {
        "colab": {
          "base_uri": "https://localhost:8080/"
        },
        "id": "ZrdW4FR_xOey",
        "outputId": "9526d088-9571-458b-a082-29bc7514a084"
      },
      "source": [
        "remainder = 7 %3 #7:2=3, with 1 left over.lol\n",
        "print(remainder) "
      ],
      "execution_count": null,
      "outputs": [
        {
          "output_type": "stream",
          "text": [
            "1\n"
          ],
          "name": "stdout"
        }
      ]
    },
    {
      "cell_type": "code",
      "metadata": {
        "colab": {
          "base_uri": "https://localhost:8080/"
        },
        "id": "rWF_vGu6xOcJ",
        "outputId": "e898e9e2-9689-4657-bb20-dd9a73b6c818"
      },
      "source": [
        "5 == 5"
      ],
      "execution_count": null,
      "outputs": [
        {
          "output_type": "execute_result",
          "data": {
            "text/plain": [
              "True"
            ]
          },
          "metadata": {
            "tags": []
          },
          "execution_count": 4
        }
      ]
    },
    {
      "cell_type": "code",
      "metadata": {
        "colab": {
          "base_uri": "https://localhost:8080/"
        },
        "id": "yHodaaqbxOZM",
        "outputId": "672f00ca-5b6e-47db-a9d6-ee5587764db0"
      },
      "source": [
        "5 >5"
      ],
      "execution_count": null,
      "outputs": [
        {
          "output_type": "execute_result",
          "data": {
            "text/plain": [
              "False"
            ]
          },
          "metadata": {
            "tags": []
          },
          "execution_count": 6
        }
      ]
    },
    {
      "cell_type": "code",
      "metadata": {
        "colab": {
          "base_uri": "https://localhost:8080/"
        },
        "id": "WBmEjOECxOWS",
        "outputId": "9830a229-772a-48a4-a19f-39df855540f4"
      },
      "source": [
        "type(True)"
      ],
      "execution_count": null,
      "outputs": [
        {
          "output_type": "execute_result",
          "data": {
            "text/plain": [
              "bool"
            ]
          },
          "metadata": {
            "tags": []
          },
          "execution_count": 7
        }
      ]
    },
    {
      "cell_type": "code",
      "metadata": {
        "colab": {
          "base_uri": "https://localhost:8080/"
        },
        "id": "g4qG5tDjxOTO",
        "outputId": "7ad3ea70-a2ff-4640-8cfc-310ce4ed4725"
      },
      "source": [
        "type(False)"
      ],
      "execution_count": null,
      "outputs": [
        {
          "output_type": "execute_result",
          "data": {
            "text/plain": [
              "bool"
            ]
          },
          "metadata": {
            "tags": []
          },
          "execution_count": 8
        }
      ]
    },
    {
      "cell_type": "code",
      "metadata": {
        "id": "8xSstjJYzGOK"
      },
      "source": [
        "#n%2 = 0 or n%3 = 0 is true, only if the number is divisible by 2 or 3"
      ],
      "execution_count": null,
      "outputs": []
    },
    {
      "cell_type": "code",
      "metadata": {
        "colab": {
          "base_uri": "https://localhost:8080/"
        },
        "id": "hCPieJYrz9oO",
        "outputId": "abcecddf-a0cd-4a8a-f76f-4cf23f23b7d0"
      },
      "source": [
        "17 and True #any non 0 number is True"
      ],
      "execution_count": null,
      "outputs": [
        {
          "output_type": "execute_result",
          "data": {
            "text/plain": [
              "True"
            ]
          },
          "metadata": {
            "tags": []
          },
          "execution_count": 11
        }
      ]
    },
    {
      "cell_type": "code",
      "metadata": {
        "colab": {
          "base_uri": "https://localhost:8080/"
        },
        "id": "luMlXLoNz-d5",
        "outputId": "e2034d5a-3e44-40c2-ef53-2d09aa70430f"
      },
      "source": [
        "0 and True"
      ],
      "execution_count": null,
      "outputs": [
        {
          "output_type": "execute_result",
          "data": {
            "text/plain": [
              "0"
            ]
          },
          "metadata": {
            "tags": []
          },
          "execution_count": 12
        }
      ]
    },
    {
      "cell_type": "code",
      "metadata": {
        "colab": {
          "base_uri": "https://localhost:8080/"
        },
        "id": "4vtZrcN2z-ay",
        "outputId": "0e74b690-7051-46d8-98b5-b8cc9c8411c5"
      },
      "source": [
        "0 and False"
      ],
      "execution_count": null,
      "outputs": [
        {
          "output_type": "execute_result",
          "data": {
            "text/plain": [
              "0"
            ]
          },
          "metadata": {
            "tags": []
          },
          "execution_count": 13
        }
      ]
    },
    {
      "cell_type": "code",
      "metadata": {
        "colab": {
          "base_uri": "https://localhost:8080/"
        },
        "id": "lWlLksHGz-X6",
        "outputId": "17e4c864-e5af-4f1b-ffed-9a1665dd894b"
      },
      "source": [
        "0 and 17"
      ],
      "execution_count": null,
      "outputs": [
        {
          "output_type": "execute_result",
          "data": {
            "text/plain": [
              "0"
            ]
          },
          "metadata": {
            "tags": []
          },
          "execution_count": 14
        }
      ]
    },
    {
      "cell_type": "markdown",
      "metadata": {
        "id": "Vedsfvn21kUN"
      },
      "source": [
        "Conditional execution"
      ]
    },
    {
      "cell_type": "code",
      "metadata": {
        "colab": {
          "base_uri": "https://localhost:8080/"
        },
        "id": "kLPQP8eVz-VC",
        "outputId": "7e028765-58ae-42d1-80b9-30cd517ccf21"
      },
      "source": [
        "x = 5\n",
        "if x > 0: #after if is a condition.\n",
        "  print('x is positive')"
      ],
      "execution_count": null,
      "outputs": [
        {
          "output_type": "stream",
          "text": [
            "x is positive\n"
          ],
          "name": "stdout"
        }
      ]
    },
    {
      "cell_type": "markdown",
      "metadata": {
        "id": "cCRUQJyF1nNX"
      },
      "source": [
        "Alternative Execution"
      ]
    },
    {
      "cell_type": "code",
      "metadata": {
        "colab": {
          "base_uri": "https://localhost:8080/"
        },
        "id": "BQx7SN65z-SX",
        "outputId": "e6dba3b8-259c-43b0-f7f1-7388301e5db6"
      },
      "source": [
        "if x % 2 == 0:\n",
        "  print('x is even')\n",
        "else:\n",
        "  print('x is odd')"
      ],
      "execution_count": null,
      "outputs": [
        {
          "output_type": "stream",
          "text": [
            "x is odd\n"
          ],
          "name": "stdout"
        }
      ]
    },
    {
      "cell_type": "markdown",
      "metadata": {
        "id": "ccczl7c-2INX"
      },
      "source": [
        "Chained Conditionals"
      ]
    },
    {
      "cell_type": "code",
      "metadata": {
        "colab": {
          "base_uri": "https://localhost:8080/"
        },
        "id": "Evc_z9cMz-Pd",
        "outputId": "2b1e7a55-454f-468a-c50f-dfadf2dca447"
      },
      "source": [
        "y = 12\n",
        "if x < y:\n",
        "  print('x is less than y')\n",
        "elif x > y:\n",
        "  print('x is greater than y')\n",
        "else:\n",
        "  print('x and y are equal')"
      ],
      "execution_count": null,
      "outputs": [
        {
          "output_type": "stream",
          "text": [
            "x is less than y\n"
          ],
          "name": "stdout"
        }
      ]
    },
    {
      "cell_type": "code",
      "metadata": {
        "id": "5FxNY6E8z-Mb"
      },
      "source": [
        "choice = 7 #added this line myself cuz it's not gonna execute. \n",
        "if choice == 'a':\n",
        "  draw_a()\n",
        "elif choice == 'b':\n",
        "  draw_b()\n",
        "elif choice == 'c':\n",
        "  draw_c()"
      ],
      "execution_count": null,
      "outputs": []
    },
    {
      "cell_type": "markdown",
      "metadata": {
        "id": "rI_88ZGb3h4D"
      },
      "source": [
        "Nested Conditionals"
      ]
    },
    {
      "cell_type": "code",
      "metadata": {
        "colab": {
          "base_uri": "https://localhost:8080/"
        },
        "id": "5fdCQymB3hE-",
        "outputId": "93980ec3-53ad-4350-d528-4b585d8b5b59"
      },
      "source": [
        "#trichotomy\n",
        "if x == y:\n",
        "  print('x and y are equal')\n",
        "else:\n",
        "  if x < y:\n",
        "    print('x is less than y')\n",
        "  else:\n",
        "    print('x is greater than y')"
      ],
      "execution_count": null,
      "outputs": [
        {
          "output_type": "stream",
          "text": [
            "x is less than y\n"
          ],
          "name": "stdout"
        }
      ]
    },
    {
      "cell_type": "code",
      "metadata": {
        "colab": {
          "base_uri": "https://localhost:8080/"
        },
        "id": "pOFNLBlZ3E4m",
        "outputId": "ca77bb5e-b1e7-4783-8992-65457d83ef50"
      },
      "source": [
        "#logical operator\n",
        "if x > 0:\n",
        "  if x < 10:\n",
        "    print('x is a positive single digit number')"
      ],
      "execution_count": null,
      "outputs": [
        {
          "output_type": "stream",
          "text": [
            "x is a positive single digit number\n"
          ],
          "name": "stdout"
        }
      ]
    },
    {
      "cell_type": "code",
      "metadata": {
        "id": "9M2Mvtm35Ka2"
      },
      "source": [
        "if 0 < x and x > 10:\n",
        "  print('x is a positive single digit number')"
      ],
      "execution_count": null,
      "outputs": []
    },
    {
      "cell_type": "markdown",
      "metadata": {
        "id": "aGPLuwEK6rPn"
      },
      "source": [
        "Recursion"
      ]
    },
    {
      "cell_type": "code",
      "metadata": {
        "colab": {
          "base_uri": "https://localhost:8080/"
        },
        "id": "KJ2N2Yiy5fG8",
        "outputId": "c9fa8c10-4397-404e-b8d9-8823ab37d834"
      },
      "source": [
        "\n",
        "def countdown(n):\n",
        "  if n <=0:\n",
        "     print('Blastoff!')\n",
        "  else:\n",
        "    print(n)\n",
        "    countdown(n-1)\n",
        "countdown(3)"
      ],
      "execution_count": null,
      "outputs": [
        {
          "output_type": "stream",
          "text": [
            "3\n",
            "2\n",
            "1\n",
            "Blastoff!\n"
          ],
          "name": "stdout"
        }
      ]
    },
    {
      "cell_type": "code",
      "metadata": {
        "id": "VH5f9RxV7ElB"
      },
      "source": [
        "def print_n(s, n):\n",
        "  if n <=0:\n",
        "    return\n",
        "    print(s)\n",
        "    print_n(s, n-1)\n",
        "    "
      ],
      "execution_count": null,
      "outputs": []
    },
    {
      "cell_type": "markdown",
      "metadata": {
        "id": "_vNQtWnF4ggx"
      },
      "source": [
        "chained conditionals"
      ]
    },
    {
      "cell_type": "code",
      "metadata": {
        "id": "lIMSfvis9VwQ",
        "colab": {
          "base_uri": "https://localhost:8080/"
        },
        "outputId": "1c110465-86c1-4fe8-9b99-14474b7b802d"
      },
      "source": [
        "x = 4\n",
        "y = 4\n",
        "\n",
        "if x == 2:\n",
        "  if y == 3:\n",
        "    print('x=2, y=3')\n",
        "  else:\n",
        "    print('x = 2, y!=3')\n",
        "else:\n",
        "  print('x!=2')"
      ],
      "execution_count": null,
      "outputs": [
        {
          "output_type": "stream",
          "text": [
            "x!=2\n"
          ],
          "name": "stdout"
        }
      ]
    },
    {
      "cell_type": "code",
      "metadata": {
        "colab": {
          "base_uri": "https://localhost:8080/"
        },
        "id": "ytAErX5cwxUa",
        "outputId": "dad3d8cd-f3fe-4b9b-fa5e-ec9464f4663c"
      },
      "source": [
        "x = 2\n",
        "y = 4\n",
        "\n",
        "if x == 2:\n",
        "  if y == 3:\n",
        "    print('x=2, y=3')\n",
        "  else:\n",
        "    print('x = 2, y!=3')\n",
        "else:\n",
        "  print('x!=2')"
      ],
      "execution_count": null,
      "outputs": [
        {
          "output_type": "stream",
          "text": [
            "x = 2, y!=3\n"
          ],
          "name": "stdout"
        }
      ]
    },
    {
      "cell_type": "code",
      "metadata": {
        "colab": {
          "base_uri": "https://localhost:8080/"
        },
        "id": "4cuyUcfewxRp",
        "outputId": "1099c476-9ca1-4a58-ed28-109cedfa8f68"
      },
      "source": [
        "x = 4\n",
        "y = 3\n",
        "\n",
        "if x == 2:\n",
        "  if y == 3:\n",
        "    print('x=2, y=3')\n",
        "  else:\n",
        "    print('x = 2, y!=3')\n",
        "else:\n",
        "  print('x!=2')"
      ],
      "execution_count": null,
      "outputs": [
        {
          "output_type": "stream",
          "text": [
            "x!=2\n"
          ],
          "name": "stdout"
        }
      ]
    },
    {
      "cell_type": "code",
      "metadata": {
        "colab": {
          "base_uri": "https://localhost:8080/"
        },
        "id": "ELnBvKfgwxO7",
        "outputId": "8fbe5793-2c01-47ec-d156-2568f5ed7d45"
      },
      "source": [
        "x = 2\n",
        "y = 3\n",
        "\n",
        "if x == 2:\n",
        "  if y == 3:\n",
        "    print('x=2, y=3')\n",
        "  else:\n",
        "    print('x = 2, y!=3')\n",
        "else:\n",
        "  print('x!=2')"
      ],
      "execution_count": null,
      "outputs": [
        {
          "output_type": "stream",
          "text": [
            "x=2, y=3\n"
          ],
          "name": "stdout"
        }
      ]
    },
    {
      "cell_type": "markdown",
      "metadata": {
        "id": "qd4O9VNl5iha"
      },
      "source": [
        "Chained conditionals are for connecting conditions together with if, while loop. These conditions are: and, or, not.\n"
      ]
    },
    {
      "cell_type": "code",
      "metadata": {
        "colab": {
          "base_uri": "https://localhost:8080/"
        },
        "id": "9a2xyjvIwxJe",
        "outputId": "fca385d2-5c20-4df1-97c5-dd456aa11714"
      },
      "source": [
        "a = 3\n",
        "if a > 1 and a < 4:\n",
        "  print('a is between 1 and 4')"
      ],
      "execution_count": null,
      "outputs": [
        {
          "output_type": "stream",
          "text": [
            "a is between 1 and 4\n"
          ],
          "name": "stdout"
        }
      ]
    },
    {
      "cell_type": "code",
      "metadata": {
        "colab": {
          "base_uri": "https://localhost:8080/"
        },
        "id": "pNEn_J9owxGY",
        "outputId": "3089e403-ce84-4128-8f57-9e7f8702cc8e"
      },
      "source": [
        "a > 1"
      ],
      "execution_count": null,
      "outputs": [
        {
          "output_type": "execute_result",
          "data": {
            "text/plain": [
              "True"
            ]
          },
          "metadata": {
            "tags": []
          },
          "execution_count": 7
        }
      ]
    },
    {
      "cell_type": "code",
      "metadata": {
        "colab": {
          "base_uri": "https://localhost:8080/"
        },
        "id": "aWQRHT4IwxEB",
        "outputId": "31d7e9c6-f6af-42f5-8755-9aaa84def9f6"
      },
      "source": [
        "a < 4"
      ],
      "execution_count": null,
      "outputs": [
        {
          "output_type": "execute_result",
          "data": {
            "text/plain": [
              "True"
            ]
          },
          "metadata": {
            "tags": []
          },
          "execution_count": 8
        }
      ]
    },
    {
      "cell_type": "code",
      "metadata": {
        "id": "l9PMY_4bwxA1"
      },
      "source": [
        "a = 3\n",
        "if a > 1 and a < 3:\n",
        "  print('a is between 1 and 3') #nothing happens since the 2nd conditional is false. Both sides should be true"
      ],
      "execution_count": null,
      "outputs": []
    },
    {
      "cell_type": "code",
      "metadata": {
        "colab": {
          "base_uri": "https://localhost:8080/"
        },
        "id": "rMaN7eVwww-G",
        "outputId": "70ac711e-48cd-4fb2-d4b5-4a414e9e0651"
      },
      "source": [
        "a > 1"
      ],
      "execution_count": null,
      "outputs": [
        {
          "output_type": "execute_result",
          "data": {
            "text/plain": [
              "True"
            ]
          },
          "metadata": {
            "tags": []
          },
          "execution_count": 11
        }
      ]
    },
    {
      "cell_type": "code",
      "metadata": {
        "colab": {
          "base_uri": "https://localhost:8080/"
        },
        "id": "2umjZOmhww7O",
        "outputId": "6bf8e27a-c103-4952-93c1-a31f80468a41"
      },
      "source": [
        "a < 3"
      ],
      "execution_count": null,
      "outputs": [
        {
          "output_type": "execute_result",
          "data": {
            "text/plain": [
              "False"
            ]
          },
          "metadata": {
            "tags": []
          },
          "execution_count": 12
        }
      ]
    },
    {
      "cell_type": "code",
      "metadata": {
        "colab": {
          "base_uri": "https://localhost:8080/"
        },
        "id": "R8MNsttWww4U",
        "outputId": "a5ebe6d9-b99a-416c-af9c-e755c8654153"
      },
      "source": [
        "if a > 1 or a < 3:\n",
        "  print('a is either greater than 1 or less than 3')"
      ],
      "execution_count": null,
      "outputs": [
        {
          "output_type": "stream",
          "text": [
            "a is either greater than 1 or less than 3\n"
          ],
          "name": "stdout"
        }
      ]
    },
    {
      "cell_type": "code",
      "metadata": {
        "colab": {
          "base_uri": "https://localhost:8080/"
        },
        "id": "gb00zd6p6ff7",
        "outputId": "2e9abe68-bb72-4c29-d249-b4341a22205d"
      },
      "source": [
        "a > 1"
      ],
      "execution_count": null,
      "outputs": [
        {
          "output_type": "execute_result",
          "data": {
            "text/plain": [
              "True"
            ]
          },
          "metadata": {
            "tags": []
          },
          "execution_count": 14
        }
      ]
    },
    {
      "cell_type": "code",
      "metadata": {
        "colab": {
          "base_uri": "https://localhost:8080/"
        },
        "id": "npWQ4BqK6iUc",
        "outputId": "6008aac9-0286-4a04-d931-0a5b55d4eaa8"
      },
      "source": [
        "a<3"
      ],
      "execution_count": null,
      "outputs": [
        {
          "output_type": "execute_result",
          "data": {
            "text/plain": [
              "False"
            ]
          },
          "metadata": {
            "tags": []
          },
          "execution_count": 15
        }
      ]
    },
    {
      "cell_type": "code",
      "metadata": {
        "id": "R37alZ596jId"
      },
      "source": [
        "if a < 1 or a < 3:\n",
        "  print('a is either less than 1 or less than 3') #nothing is outputted since both statements are False"
      ],
      "execution_count": null,
      "outputs": []
    },
    {
      "cell_type": "code",
      "metadata": {
        "colab": {
          "base_uri": "https://localhost:8080/",
          "height": 130
        },
        "id": "KM75jPla6ocL",
        "outputId": "9c487c7d-3513-4a16-d04f-00a3824993de"
      },
      "source": [
        "if a < 1  not a < 3"
      ],
      "execution_count": null,
      "outputs": [
        {
          "output_type": "error",
          "ename": "SyntaxError",
          "evalue": "ignored",
          "traceback": [
            "\u001b[0;36m  File \u001b[0;32m\"<ipython-input-19-366e025c8d1e>\"\u001b[0;36m, line \u001b[0;32m1\u001b[0m\n\u001b[0;31m    if a < 1 and not a < 3\u001b[0m\n\u001b[0m                          ^\u001b[0m\n\u001b[0;31mSyntaxError\u001b[0m\u001b[0;31m:\u001b[0m invalid syntax\n"
          ]
        }
      ]
    },
    {
      "cell_type": "code",
      "metadata": {
        "colab": {
          "base_uri": "https://localhost:8080/"
        },
        "id": "l74AyuUh6xK5",
        "outputId": "24981f92-86f8-48ac-b2eb-945deefb039f"
      },
      "source": [
        "a =3\n",
        "if a ==3:\n",
        "  print('a is 3')"
      ],
      "execution_count": null,
      "outputs": [
        {
          "output_type": "stream",
          "text": [
            "a is 3\n"
          ],
          "name": "stdout"
        }
      ]
    },
    {
      "cell_type": "code",
      "metadata": {
        "id": "HaWCxuCq65jh"
      },
      "source": [
        "if not a == 3:\n",
        "  print('a is not 3') #nothing cuz a =3"
      ],
      "execution_count": null,
      "outputs": []
    },
    {
      "cell_type": "code",
      "metadata": {
        "colab": {
          "base_uri": "https://localhost:8080/"
        },
        "id": "buyuqtJa69fA",
        "outputId": "9f55d129-9919-4034-b6cd-d7c52d468e63"
      },
      "source": [
        "not a ==3"
      ],
      "execution_count": null,
      "outputs": [
        {
          "output_type": "execute_result",
          "data": {
            "text/plain": [
              "False"
            ]
          },
          "metadata": {
            "tags": []
          },
          "execution_count": 23
        }
      ]
    },
    {
      "cell_type": "code",
      "metadata": {
        "colab": {
          "base_uri": "https://localhost:8080/"
        },
        "id": "CAWZ_jaw7CvY",
        "outputId": "2704cef1-e72b-48b5-a139-e2117118bc70"
      },
      "source": [
        "if a > 1 and not a < 3:\n",
        "  print('a is greater than 1 and not less than 3')"
      ],
      "execution_count": null,
      "outputs": [
        {
          "output_type": "stream",
          "text": [
            "a is greater than 1 and not less than 3\n"
          ],
          "name": "stdout"
        }
      ]
    },
    {
      "cell_type": "code",
      "metadata": {
        "colab": {
          "base_uri": "https://localhost:8080/"
        },
        "id": "vB47iFGK7J8F",
        "outputId": "3848208b-4f8e-4a23-e2e1-d05cdda4c994"
      },
      "source": [
        "a > 1"
      ],
      "execution_count": null,
      "outputs": [
        {
          "output_type": "execute_result",
          "data": {
            "text/plain": [
              "True"
            ]
          },
          "metadata": {
            "tags": []
          },
          "execution_count": 25
        }
      ]
    },
    {
      "cell_type": "code",
      "metadata": {
        "colab": {
          "base_uri": "https://localhost:8080/"
        },
        "id": "D35ZAzcV7PPW",
        "outputId": "0ad49b7a-b8e6-47e8-f039-5ba12a3d57ce"
      },
      "source": [
        "not a < 3"
      ],
      "execution_count": null,
      "outputs": [
        {
          "output_type": "execute_result",
          "data": {
            "text/plain": [
              "True"
            ]
          },
          "metadata": {
            "tags": []
          },
          "execution_count": 26
        }
      ]
    },
    {
      "cell_type": "markdown",
      "metadata": {
        "id": "OFwmsl8c7V0S"
      },
      "source": [
        "Nested *conditionals* is inside another conditional"
      ]
    },
    {
      "cell_type": "code",
      "metadata": {
        "id": "DiQZ9PiE7Qhn"
      },
      "source": [
        "if 11 > 10:\n",
        "  if 5> 6:\n",
        "    print('hello') #nothing happens since 5 is not > 6"
      ],
      "execution_count": null,
      "outputs": []
    },
    {
      "cell_type": "code",
      "metadata": {
        "id": "2bnTWhxi7Z6-"
      },
      "source": [
        "if 11 > 10 and 5>6:\n",
        "  print('hello') #same as above in chained conditional"
      ],
      "execution_count": null,
      "outputs": []
    },
    {
      "cell_type": "code",
      "metadata": {
        "colab": {
          "base_uri": "https://localhost:8080/"
        },
        "id": "u2W7WwjQ7fSN",
        "outputId": "c76e9dd9-65d8-455f-d6c7-cbccaef4e6e5"
      },
      "source": [
        "for i in range(5):\n",
        "  for i in range(i):\n",
        "    print(i) #didn't get this part"
      ],
      "execution_count": null,
      "outputs": [
        {
          "output_type": "stream",
          "text": [
            "0\n",
            "0\n",
            "1\n",
            "0\n",
            "1\n",
            "2\n",
            "0\n",
            "1\n",
            "2\n",
            "3\n"
          ],
          "name": "stdout"
        }
      ]
    },
    {
      "cell_type": "code",
      "metadata": {
        "colab": {
          "base_uri": "https://localhost:8080/"
        },
        "id": "gmHcNf6X7q0E",
        "outputId": "9b75ccf5-00b0-47a0-afdf-42d750793ad8"
      },
      "source": [
        "for i in range(5):\n",
        "  if i>2:\n",
        "    print(i)"
      ],
      "execution_count": null,
      "outputs": [
        {
          "output_type": "stream",
          "text": [
            "3\n",
            "4\n"
          ],
          "name": "stdout"
        }
      ]
    },
    {
      "cell_type": "code",
      "metadata": {
        "colab": {
          "base_uri": "https://localhost:8080/"
        },
        "id": "BZWGSqvu72t5",
        "outputId": "a4628d2e-8d62-4e47-c7d0-5f8ba0521c61"
      },
      "source": [
        "if 11 > 10:\n",
        "  for i in range(5):\n",
        "    print(i*2)"
      ],
      "execution_count": null,
      "outputs": [
        {
          "output_type": "stream",
          "text": [
            "0\n",
            "2\n",
            "4\n",
            "6\n",
            "8\n"
          ],
          "name": "stdout"
        }
      ]
    },
    {
      "cell_type": "code",
      "metadata": {
        "colab": {
          "base_uri": "https://localhost:8080/"
        },
        "id": "9V9U2tJF-QaT",
        "outputId": "d082223d-b6c2-43ca-9515-016edca1aa98"
      },
      "source": [
        "student = input(\"Enter your name:\")\n",
        "gender = input(\"Are you male or female?(M or F):\").upper()\n",
        "year = int(input('What year in school are you? (1,2,3 or 4):'))"
      ],
      "execution_count": null,
      "outputs": [
        {
          "output_type": "stream",
          "text": [
            "Enter your name:Gaukhar\n",
            "Are you male or female?(M or F):F\n",
            "What year in school are you? (1,2,3 or 4):4\n"
          ],
          "name": "stdout"
        }
      ]
    },
    {
      "cell_type": "code",
      "metadata": {
        "colab": {
          "base_uri": "https://localhost:8080/"
        },
        "id": "xgfEaDau8kRF",
        "outputId": "2f1f0833-e818-4590-eae6-2987ed466e3d"
      },
      "source": [
        "if gender == \"F\":\n",
        "  if year > 3:\n",
        "    dorm = \"Gryffindor\"\n",
        "  else:\n",
        "    dorm = 'Hufflepuff'\n",
        "elif gender == \"M\":\n",
        "  if year < 3:\n",
        "    dorm = \"Ravensclaw\"\n",
        "  else:\n",
        "    dorm = \"Slytherin\"\n",
        "else:\n",
        "  dorm = 'your own home'\n",
        "print('{0} you will be residing in {1}.'.format(student, dorm))"
      ],
      "execution_count": null,
      "outputs": [
        {
          "output_type": "stream",
          "text": [
            "Gaukhar you will be residing in Gryffindor.\n"
          ],
          "name": "stdout"
        }
      ]
    },
    {
      "cell_type": "code",
      "metadata": {
        "colab": {
          "base_uri": "https://localhost:8080/"
        },
        "id": "UAT8d-q29qOF",
        "outputId": "7c71470e-e7ad-4926-a1af-ce038f6d6905"
      },
      "source": [
        "if 7 > 5:\n",
        "  if 8 > 7:\n",
        "    print('great!')"
      ],
      "execution_count": null,
      "outputs": [
        {
          "output_type": "stream",
          "text": [
            "great!\n"
          ],
          "name": "stdout"
        }
      ]
    },
    {
      "cell_type": "code",
      "metadata": {
        "colab": {
          "base_uri": "https://localhost:8080/"
        },
        "id": "7DKSRb7KBM19",
        "outputId": "8b0e43c5-a3d9-4331-eb84-3b3632650a64"
      },
      "source": [
        "if 7 > 5 and 8 > 7:\n",
        "  print('great!')"
      ],
      "execution_count": null,
      "outputs": [
        {
          "output_type": "stream",
          "text": [
            "great!\n"
          ],
          "name": "stdout"
        }
      ]
    },
    {
      "cell_type": "markdown",
      "metadata": {
        "id": "kZjKN1DOFcAj"
      },
      "source": [
        "Deeply nested"
      ]
    },
    {
      "cell_type": "code",
      "metadata": {
        "colab": {
          "base_uri": "https://localhost:8080/"
        },
        "id": "ESDVw4cSFdQ9",
        "outputId": "efb84c5b-8105-4b8d-a8fe-a7ffd1770e8e"
      },
      "source": [
        "GE = 13\n",
        "BA = 300\n",
        "AMC = 86\n",
        "if GE > 10:\n",
        "  print('hold')\n",
        "  if BA >= 300:\n",
        "    print('sell')\n",
        "  else:\n",
        "    print('hold')\n",
        "    if AMC >= 84:\n",
        "      print('sell')\n",
        "    else:\n",
        "      print('wait')\n",
        "\n",
        "else:\n",
        "  print('choose other stocks')\n",
        "\n"
      ],
      "execution_count": null,
      "outputs": [
        {
          "output_type": "stream",
          "text": [
            "hold\n",
            "sell\n"
          ],
          "name": "stdout"
        }
      ]
    },
    {
      "cell_type": "code",
      "metadata": {
        "colab": {
          "base_uri": "https://localhost:8080/"
        },
        "id": "1rtL9kbIGYFQ",
        "outputId": "921c97bd-5dde-44aa-cb36-b5a10663185d"
      },
      "source": [
        "GE = 13\n",
        "BA = 300\n",
        "AMC = 86\n",
        "if GE > 10 and AMC >= 84:\n",
        "  print('hold')"
      ],
      "execution_count": null,
      "outputs": [
        {
          "output_type": "stream",
          "text": [
            "hold\n"
          ],
          "name": "stdout"
        }
      ]
    },
    {
      "cell_type": "code",
      "metadata": {
        "id": "NacIhqpiHqO2"
      },
      "source": [
        "if AMC "
      ],
      "execution_count": null,
      "outputs": []
    },
    {
      "cell_type": "code",
      "metadata": {
        "colab": {
          "base_uri": "https://localhost:8080/"
        },
        "id": "C2Ve7nJHI3W7",
        "outputId": "27c13d89-8215-4392-d1a4-b793d45f306d"
      },
      "source": [
        "if BA >= 300:\n",
        "  print('sell')\n",
        "else:\n",
        "    print('hold')"
      ],
      "execution_count": null,
      "outputs": [
        {
          "output_type": "stream",
          "text": [
            "sell\n"
          ],
          "name": "stdout"
        }
      ]
    },
    {
      "cell_type": "code",
      "metadata": {
        "colab": {
          "base_uri": "https://localhost:8080/"
        },
        "id": "aFtj0IlGI37t",
        "outputId": "98f43173-0f73-4721-de3d-ccf19cff42fd"
      },
      "source": [
        "if GE > 10 and AMC >= 84:\n",
        "  print('hold')\n",
        "else:\n",
        "  print('choose other stocks')"
      ],
      "execution_count": null,
      "outputs": [
        {
          "output_type": "stream",
          "text": [
            "hold\n"
          ],
          "name": "stdout"
        }
      ]
    },
    {
      "cell_type": "code",
      "metadata": {
        "colab": {
          "base_uri": "https://localhost:8080/"
        },
        "id": "ljf51pezJUbR",
        "outputId": "cb54a508-441c-4234-b562-bcd41164890c"
      },
      "source": [
        "percentage = ( 60.0 * 100.0) / 55.0\n",
        "print (percentage)"
      ],
      "execution_count": null,
      "outputs": [
        {
          "output_type": "stream",
          "text": [
            "109.0909090909091\n"
          ],
          "name": "stdout"
        }
      ]
    },
    {
      "cell_type": "code",
      "metadata": {
        "colab": {
          "base_uri": "https://localhost:8080/"
        },
        "id": "6FLHh4ffaq9q",
        "outputId": "8d681d63-c425-4fe6-9653-75100766c4e4"
      },
      "source": [
        "percentage = ( 60 * 100) // 55\n",
        "print (percentage)"
      ],
      "execution_count": null,
      "outputs": [
        {
          "output_type": "stream",
          "text": [
            "109\n"
          ],
          "name": "stdout"
        }
      ]
    },
    {
      "cell_type": "code",
      "metadata": {
        "colab": {
          "base_uri": "https://localhost:8080/"
        },
        "id": "j9XiVjNvaq8G",
        "outputId": "2c48c022-7968-4f02-ec08-9c989c4a2df0"
      },
      "source": [
        "def recurse(a):\n",
        "    if (a == 1):\n",
        "        print(a)\n",
        "    else:\n",
        "        recurse(a)\n",
        "\n",
        "recurse(1)"
      ],
      "execution_count": null,
      "outputs": [
        {
          "output_type": "stream",
          "text": [
            "1\n"
          ],
          "name": "stdout"
        }
      ]
    },
    {
      "cell_type": "code",
      "metadata": {
        "colab": {
          "base_uri": "https://localhost:8080/"
        },
        "id": "tbaWdLZGaq30",
        "outputId": "ff17bf02-a7c0-4e0d-eba1-4305097581ad"
      },
      "source": [
        "print ((1+1)**(5-2))"
      ],
      "execution_count": null,
      "outputs": [
        {
          "output_type": "stream",
          "text": [
            "8\n"
          ],
          "name": "stdout"
        }
      ]
    },
    {
      "cell_type": "code",
      "metadata": {
        "colab": {
          "base_uri": "https://localhost:8080/"
        },
        "id": "mOzXkNVXaq2E",
        "outputId": "52b78652-8b1b-4eb4-b2f7-8aa202ba3280"
      },
      "source": [
        " print (2*3-1)"
      ],
      "execution_count": null,
      "outputs": [
        {
          "output_type": "stream",
          "text": [
            "5\n"
          ],
          "name": "stdout"
        }
      ]
    },
    {
      "cell_type": "code",
      "metadata": {
        "id": "SGdcymlwaqyr"
      },
      "source": [
        ""
      ],
      "execution_count": null,
      "outputs": []
    },
    {
      "cell_type": "code",
      "metadata": {
        "id": "ZR0H1kymaqs5"
      },
      "source": [
        ""
      ],
      "execution_count": null,
      "outputs": []
    },
    {
      "cell_type": "code",
      "metadata": {
        "id": "LLwkrkkXaqqe"
      },
      "source": [
        ""
      ],
      "execution_count": null,
      "outputs": []
    },
    {
      "cell_type": "code",
      "metadata": {
        "id": "WAcnESpIaqnn"
      },
      "source": [
        ""
      ],
      "execution_count": null,
      "outputs": []
    }
  ]
}