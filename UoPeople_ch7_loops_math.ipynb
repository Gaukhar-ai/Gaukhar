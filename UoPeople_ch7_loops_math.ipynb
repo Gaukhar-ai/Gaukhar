{
  "nbformat": 4,
  "nbformat_minor": 0,
  "metadata": {
    "colab": {
      "name": "UoPeople_ch7_loops_math.ipynb",
      "provenance": [],
      "authorship_tag": "ABX9TyPGIlHZZrxxaEjmEUGz1Di/",
      "include_colab_link": true
    },
    "kernelspec": {
      "name": "python3",
      "display_name": "Python 3"
    },
    "language_info": {
      "name": "python"
    }
  },
  "cells": [
    {
      "cell_type": "markdown",
      "metadata": {
        "id": "view-in-github",
        "colab_type": "text"
      },
      "source": [
        "<a href=\"https://colab.research.google.com/github/Gaukhar-ai/Gaukhar/blob/master/UoPeople_ch7_loops_math.ipynb\" target=\"_parent\"><img src=\"https://colab.research.google.com/assets/colab-badge.svg\" alt=\"Open In Colab\"/></a>"
      ]
    },
    {
      "cell_type": "code",
      "metadata": {
        "id": "xS2pQixsxZY5"
      },
      "source": [
        "import math"
      ],
      "execution_count": 42,
      "outputs": []
    },
    {
      "cell_type": "code",
      "metadata": {
        "id": "XcL_vcmEpDVQ"
      },
      "source": [
        "def my_sqrt(a): #creating a function with an argument (a)\n",
        "  x = 4 #assigning numbers to work with\n",
        "  a = 6 #assigning a number to a. These numbers are changable. \n",
        "  while True: #creating a while loop\n",
        "     y = (x + a/x) / 2.0 #the calculation itself\n",
        "     if y == x: #if y equals to x then stop the program\n",
        "          break\n",
        "     x = y #this confirms the number is correct and returns the answer\n",
        "  return y "
      ],
      "execution_count": 43,
      "outputs": []
    },
    {
      "cell_type": "code",
      "metadata": {
        "colab": {
          "base_uri": "https://localhost:8080/"
        },
        "id": "lvIXhTcev8GQ",
        "outputId": "95fd04df-4801-4384-8688-f4cc9529751c"
      },
      "source": [
        "my_sqrt(8) # we got the square root of a"
      ],
      "execution_count": 44,
      "outputs": [
        {
          "output_type": "execute_result",
          "data": {
            "text/plain": [
              "2.449489742783178"
            ]
          },
          "metadata": {
            "tags": []
          },
          "execution_count": 44
        }
      ]
    },
    {
      "cell_type": "code",
      "metadata": {
        "colab": {
          "base_uri": "https://localhost:8080/"
        },
        "id": "F95FXlk-v-Yr",
        "outputId": "6c74cc07-f0d2-44e3-ad31-f2e2c127f0ea"
      },
      "source": [
        "def test_sqrt(): #this function is to test if I did the function above correctly\n",
        "  a = 1 #assigning a a number 1\n",
        "  while a<26: #looping it over 25 times\n",
        "    first = a # is the output number\n",
        "    mine = my_sqrt(a) #the square number of what i got\n",
        "    mat = math.sqrt(a) #the actual algorithm of math squared number, that's so crazy interesting!\n",
        "    absol = abs(mine - mat) #the actual simple abstraction calculation to get the absolute number of both numbers\n",
        "    print('a = ', mine, '|', 'my_sqrt(a) = ', 'math.sqrt(a) = ', math, '|', 'diff =', 'diff = ', absol) #printing the output the way we see below\n",
        "    a = a + 1 #incrementing by adding 1 to a\n",
        "test_sqrt() #let's see the result!\n"
      ],
      "execution_count": 48,
      "outputs": [
        {
          "output_type": "stream",
          "text": [
            "a =  2.449489742783178 | my_sqrt(a) =  math.sqrt(a) =  <module 'math' (built-in)> | diff = diff =  1.4494897427831779\n",
            "a =  2.449489742783178 | my_sqrt(a) =  math.sqrt(a) =  <module 'math' (built-in)> | diff = diff =  1.0352761804100827\n",
            "a =  2.449489742783178 | my_sqrt(a) =  math.sqrt(a) =  <module 'math' (built-in)> | diff = diff =  0.7174389352143007\n",
            "a =  2.449489742783178 | my_sqrt(a) =  math.sqrt(a) =  <module 'math' (built-in)> | diff = diff =  0.4494897427831779\n",
            "a =  2.449489742783178 | my_sqrt(a) =  math.sqrt(a) =  <module 'math' (built-in)> | diff = diff =  0.21342176528338808\n",
            "a =  2.449489742783178 | my_sqrt(a) =  math.sqrt(a) =  <module 'math' (built-in)> | diff = diff =  0.0\n",
            "a =  2.449489742783178 | my_sqrt(a) =  math.sqrt(a) =  <module 'math' (built-in)> | diff = diff =  0.19626156828141283\n",
            "a =  2.449489742783178 | my_sqrt(a) =  math.sqrt(a) =  <module 'math' (built-in)> | diff = diff =  0.3789373819630124\n",
            "a =  2.449489742783178 | my_sqrt(a) =  math.sqrt(a) =  <module 'math' (built-in)> | diff = diff =  0.5505102572168221\n",
            "a =  2.449489742783178 | my_sqrt(a) =  math.sqrt(a) =  <module 'math' (built-in)> | diff = diff =  0.7127879173852016\n",
            "a =  2.449489742783178 | my_sqrt(a) =  math.sqrt(a) =  <module 'math' (built-in)> | diff = diff =  0.8671350475722219\n",
            "a =  2.449489742783178 | my_sqrt(a) =  math.sqrt(a) =  <module 'math' (built-in)> | diff = diff =  1.0146118723545765\n",
            "a =  2.449489742783178 | my_sqrt(a) =  math.sqrt(a) =  <module 'math' (built-in)> | diff = diff =  1.1560615326808112\n",
            "a =  2.449489742783178 | my_sqrt(a) =  math.sqrt(a) =  <module 'math' (built-in)> | diff = diff =  1.2921676439907634\n",
            "a =  2.449489742783178 | my_sqrt(a) =  math.sqrt(a) =  <module 'math' (built-in)> | diff = diff =  1.4234936034242391\n",
            "a =  2.449489742783178 | my_sqrt(a) =  math.sqrt(a) =  <module 'math' (built-in)> | diff = diff =  1.5505102572168221\n",
            "a =  2.449489742783178 | my_sqrt(a) =  math.sqrt(a) =  <module 'math' (built-in)> | diff = diff =  1.6736158828344827\n",
            "a =  2.449489742783178 | my_sqrt(a) =  math.sqrt(a) =  <module 'math' (built-in)> | diff = diff =  1.7931509443361069\n",
            "a =  2.449489742783178 | my_sqrt(a) =  math.sqrt(a) =  <module 'math' (built-in)> | diff = diff =  1.909409200757496\n",
            "a =  2.449489742783178 | my_sqrt(a) =  math.sqrt(a) =  <module 'math' (built-in)> | diff = diff =  2.0226462122164017\n",
            "a =  2.449489742783178 | my_sqrt(a) =  math.sqrt(a) =  <module 'math' (built-in)> | diff = diff =  2.133085952172662\n",
            "a =  2.449489742783178 | my_sqrt(a) =  math.sqrt(a) =  <module 'math' (built-in)> | diff = diff =  2.240926017040252\n",
            "a =  2.449489742783178 | my_sqrt(a) =  math.sqrt(a) =  <module 'math' (built-in)> | diff = diff =  2.3463417805295412\n",
            "a =  2.449489742783178 | my_sqrt(a) =  math.sqrt(a) =  <module 'math' (built-in)> | diff = diff =  2.449489742783178\n",
            "a =  2.449489742783178 | my_sqrt(a) =  math.sqrt(a) =  <module 'math' (built-in)> | diff = diff =  2.550510257216822\n"
          ],
          "name": "stdout"
        }
      ]
    },
    {
      "cell_type": "code",
      "metadata": {
        "id": "4__7xv7B2BV7"
      },
      "source": [
        ""
      ],
      "execution_count": null,
      "outputs": []
    }
  ]
}