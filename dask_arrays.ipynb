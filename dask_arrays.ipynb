{
  "nbformat": 4,
  "nbformat_minor": 0,
  "metadata": {
    "colab": {
      "name": "dask.arrays.ipynb",
      "provenance": [],
      "authorship_tag": "ABX9TyM5Hytz1gWoA3mzuZLHSXT8",
      "include_colab_link": true
    },
    "kernelspec": {
      "name": "python3",
      "display_name": "Python 3"
    }
  },
  "cells": [
    {
      "cell_type": "markdown",
      "metadata": {
        "id": "view-in-github",
        "colab_type": "text"
      },
      "source": [
        "<a href=\"https://colab.research.google.com/github/Gaukhar-ai/Gaukhar/blob/master/dask_arrays.ipynb\" target=\"_parent\"><img src=\"https://colab.research.google.com/assets/colab-badge.svg\" alt=\"Open In Colab\"/></a>"
      ]
    },
    {
      "cell_type": "code",
      "metadata": {
        "id": "wx_xtOFi6cAO",
        "outputId": "560ee27b-af30-4fa0-96c9-5e7cf2b7ecce",
        "colab": {
          "base_uri": "https://localhost:8080/",
          "height": 126
        }
      },
      "source": [
        "import warnings\n",
        "warnings.filterwarnings('ignore')\n",
        "from dask.distributed import Client, progress\n",
        "client = Client(n_workers=4, threads_per_worker=2, memory_limit='2GB')\n",
        "client"
      ],
      "execution_count": 7,
      "outputs": [
        {
          "output_type": "execute_result",
          "data": {
            "text/html": [
              "<table style=\"border: 2px solid white;\">\n",
              "<tr>\n",
              "<td style=\"vertical-align: top; border: 0px solid white\">\n",
              "<h3>Client</h3>\n",
              "<ul>\n",
              "  <li><b>Scheduler: </b>tcp://127.0.0.1:33541\n",
              "  <li><b>Dashboard: </b><a href='http://127.0.0.1:33825/status' target='_blank'>http://127.0.0.1:33825/status</a>\n",
              "</ul>\n",
              "</td>\n",
              "<td style=\"vertical-align: top; border: 0px solid white\">\n",
              "<h3>Cluster</h3>\n",
              "<ul>\n",
              "  <li><b>Workers: </b>4</li>\n",
              "  <li><b>Cores: </b>8</li>\n",
              "  <li><b>Memory: </b>8.00 GB</li>\n",
              "</ul>\n",
              "</td>\n",
              "</tr>\n",
              "</table>"
            ],
            "text/plain": [
              "<Client: scheduler='tcp://127.0.0.1:33541' processes=4 cores=8>"
            ]
          },
          "metadata": {
            "tags": []
          },
          "execution_count": 7
        }
      ]
    },
    {
      "cell_type": "code",
      "metadata": {
        "id": "aLZVe4Fc7DbD"
      },
      "source": [
        "import dask.array as da\n",
        "import numpy as np"
      ],
      "execution_count": 8,
      "outputs": []
    },
    {
      "cell_type": "markdown",
      "metadata": {
        "id": "0yqH2MLd9zMd"
      },
      "source": [
        "What we do below is:\n",
        "\n",
        "We first create a random Dask array of size 10000X10000.\n",
        "Then we add this array to its transpose.\n",
        "Last, we filter the resulting array and calculate its mean.\n",
        "As usual, we call .compute() to make Dask evaluate the results. Note that we calculate the run time of the following cell using jupyter notebook's magic command %%time."
      ]
    },
    {
      "cell_type": "code",
      "metadata": {
        "id": "HktRAG0P7DfC"
      },
      "source": [
        "%%time\n",
        "x = da.random.random((10000, 10000), chunks=(1000, 1000))\n",
        "y = x + x.T\n",
        "z = y[::2, 5000:].mean(axis=1)\n",
        "z.compute()"
      ],
      "execution_count": null,
      "outputs": []
    },
    {
      "cell_type": "code",
      "metadata": {
        "id": "URdZvRYn7Dhs"
      },
      "source": [
        "x = da.random.random((10000, 10000), chunks=(1000, 1000))"
      ],
      "execution_count": 14,
      "outputs": []
    },
    {
      "cell_type": "code",
      "metadata": {
        "id": "NqNQ5ZGk7Dkg"
      },
      "source": [
        "%%time\n",
        "y = x + x.T\n",
        "z = y[::2, 5000:].mean(axis=1)\n",
        "z.compute()"
      ],
      "execution_count": null,
      "outputs": []
    },
    {
      "cell_type": "code",
      "metadata": {
        "id": "RohTh-vr7DnY"
      },
      "source": [
        ""
      ],
      "execution_count": null,
      "outputs": []
    },
    {
      "cell_type": "code",
      "metadata": {
        "id": "PLEuY5cL7Dqg"
      },
      "source": [
        ""
      ],
      "execution_count": null,
      "outputs": []
    },
    {
      "cell_type": "code",
      "metadata": {
        "id": "rphMpGDV7DuB"
      },
      "source": [
        ""
      ],
      "execution_count": null,
      "outputs": []
    },
    {
      "cell_type": "code",
      "metadata": {
        "id": "Gf4CB-UR7DxB"
      },
      "source": [
        ""
      ],
      "execution_count": null,
      "outputs": []
    },
    {
      "cell_type": "code",
      "metadata": {
        "id": "Ns3PQKQQ7D0Z"
      },
      "source": [
        ""
      ],
      "execution_count": null,
      "outputs": []
    },
    {
      "cell_type": "code",
      "metadata": {
        "id": "5g6_jPxj7D3R"
      },
      "source": [
        ""
      ],
      "execution_count": null,
      "outputs": []
    },
    {
      "cell_type": "code",
      "metadata": {
        "id": "22j7fBLD7D6h"
      },
      "source": [
        ""
      ],
      "execution_count": null,
      "outputs": []
    }
  ]
}