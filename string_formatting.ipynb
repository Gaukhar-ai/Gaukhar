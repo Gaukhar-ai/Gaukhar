{
  "nbformat": 4,
  "nbformat_minor": 0,
  "metadata": {
    "colab": {
      "name": "string_formatting.ipynb",
      "provenance": [],
      "authorship_tag": "ABX9TyMYmczygU+WfvHrqU6ua6gM",
      "include_colab_link": true
    },
    "kernelspec": {
      "name": "python3",
      "display_name": "Python 3"
    },
    "language_info": {
      "name": "python"
    }
  },
  "cells": [
    {
      "cell_type": "markdown",
      "metadata": {
        "id": "view-in-github",
        "colab_type": "text"
      },
      "source": [
        "<a href=\"https://colab.research.google.com/github/Gaukhar-ai/Gaukhar/blob/master/string_formatting.ipynb\" target=\"_parent\"><img src=\"https://colab.research.google.com/assets/colab-badge.svg\" alt=\"Open In Colab\"/></a>"
      ]
    },
    {
      "cell_type": "code",
      "metadata": {
        "colab": {
          "base_uri": "https://localhost:8080/"
        },
        "id": "6VrGP67df3R2",
        "outputId": "a1afa872-b8f5-4611-bbf7-f7c5d401f968"
      },
      "source": [
        "name = 'John'\n",
        "print('Hello, %s!' % name)"
      ],
      "execution_count": 1,
      "outputs": [
        {
          "output_type": "stream",
          "text": [
            "Hello, John!\n"
          ],
          "name": "stdout"
        }
      ]
    },
    {
      "cell_type": "markdown",
      "metadata": {
        "id": "NiiqD8_MjdSK"
      },
      "source": [
        "The \"%\" operator is used to format a set of variables enclosed in a \"tuple\" (a fixed size list), together with a format string, which contains normal text together with \"argument specifiers\", special symbols like \"%s\" and \"%d\"."
      ]
    },
    {
      "cell_type": "code",
      "metadata": {
        "colab": {
          "base_uri": "https://localhost:8080/"
        },
        "id": "lkTPnTfFg6_0",
        "outputId": "7e2733a5-8d17-47cf-9747-d82eea2841b3"
      },
      "source": [
        "name = 'Mike'\n",
        "age = 22\n",
        "print('%s is %d years old.' % (name, age))"
      ],
      "execution_count": 2,
      "outputs": [
        {
          "output_type": "stream",
          "text": [
            "Mike is 22 years old.\n"
          ],
          "name": "stdout"
        }
      ]
    },
    {
      "cell_type": "code",
      "metadata": {
        "colab": {
          "base_uri": "https://localhost:8080/"
        },
        "id": "Oo-LOBlVjmTp",
        "outputId": "2613c803-8e3b-4b1d-8732-a26661ff6b98"
      },
      "source": [
        "mylist = [1,2,3]\n",
        "print('A list: %s' % mylist)"
      ],
      "execution_count": 3,
      "outputs": [
        {
          "output_type": "stream",
          "text": [
            "A list: [1, 2, 3]\n"
          ],
          "name": "stdout"
        }
      ]
    },
    {
      "cell_type": "markdown",
      "metadata": {
        "id": "NRIDwy7DpiUL"
      },
      "source": [
        "%s - String (or any object with a string representation, like numbers)\n",
        "\n",
        "%d - Integers\n",
        "\n",
        "%f - Floating point numbers\n",
        "\n",
        "%.<number of digits>f - Floating point numbers with a fixed amount of digits to the right of the dot.\n",
        "\n",
        "%x/%X - Integers in hex representation (lowercase/uppercase)"
      ]
    },
    {
      "cell_type": "code",
      "metadata": {
        "colab": {
          "base_uri": "https://localhost:8080/"
        },
        "id": "8Na7cqPdphIh",
        "outputId": "5a708ac4-c01e-4871-c76c-0819b88256bd"
      },
      "source": [
        "#data = ('John', 'Doe', 53.44)\n",
        "name = 'John Doe'\n",
        "current_balance = 53.44\n",
        "print('Hello, %s. Your current balance is $%s' % (name, current_balance))"
      ],
      "execution_count": 22,
      "outputs": [
        {
          "output_type": "stream",
          "text": [
            "Hello, John Doe. Your current balance is $53.44\n"
          ],
          "name": "stdout"
        }
      ]
    },
    {
      "cell_type": "code",
      "metadata": {
        "colab": {
          "base_uri": "https://localhost:8080/"
        },
        "id": "rAK24__0lwPD",
        "outputId": "8a672244-6f02-4880-bec0-826b8351061e"
      },
      "source": [
        "data = ('John', 'Doe', 53.44)\n",
        "format_string = 'Hello %s %s. Your current balance is $%s.'\n",
        "print(format_string % data)"
      ],
      "execution_count": 24,
      "outputs": [
        {
          "output_type": "stream",
          "text": [
            "Hello, John Doe. Your current balance is $53.44.\n"
          ],
          "name": "stdout"
        }
      ]
    },
    {
      "cell_type": "code",
      "metadata": {
        "id": "y6mVSHcc2_Pi"
      },
      "source": [
        ""
      ],
      "execution_count": null,
      "outputs": []
    }
  ]
}