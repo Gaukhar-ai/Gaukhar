{
  "nbformat": 4,
  "nbformat_minor": 0,
  "metadata": {
    "colab": {
      "name": "MoneyFlowIndex_algorithm.ipynb",
      "provenance": [],
      "authorship_tag": "ABX9TyPQhTkGTyfrgCqmu0oF634f",
      "include_colab_link": true
    },
    "kernelspec": {
      "name": "python3",
      "display_name": "Python 3"
    }
  },
  "cells": [
    {
      "cell_type": "markdown",
      "metadata": {
        "id": "view-in-github",
        "colab_type": "text"
      },
      "source": [
        "<a href=\"https://colab.research.google.com/github/Gaukhar-ai/Gaukhar/blob/master/MoneyFlowIndex_algorithm.ipynb\" target=\"_parent\"><img src=\"https://colab.research.google.com/assets/colab-badge.svg\" alt=\"Open In Colab\"/></a>"
      ]
    },
    {
      "cell_type": "markdown",
      "metadata": {
        "id": "Q39fjs07Bsqq"
      },
      "source": [
        "MFI = RSI\n",
        "Money Flow Index. above 80 is overbought, below 20 oversold.\n",
        "\n",
        "To calculate the money flow index, first calculate  the typical price:\n",
        "\n",
        "typical price = (high + low + close)/3\n",
        "\n",
        "money flow = typical price * volume"
      ]
    },
    {
      "cell_type": "markdown",
      "metadata": {
        "id": "7wIjrKLIC4tL"
      },
      "source": [
        "Get the positive money flow and the negative money flow within a given time period. We can get the positive money flow by adding the money flow of all the days where the typical price is higher than the previous day’s typical price, and we can get the negative money flow by adding the money flow of all the days where the typical price is lower than the previous day’s typical price. If the typical price didn’t change then that day is removed, but adding 0 is effectively the same thing.\n",
        "\n",
        "if current typical price > previous typical price\n",
        "then add the previous money flow to the positive money flow\n",
        "\n",
        "if current typical price <previous typical price\n",
        "then add the previous money flow to the negative money flow\n",
        "\n",
        "if current typical price =previous typical price\n",
        "then add ‘0’ to the positive money flow and add ‘0’ to the negative money flow"
      ]
    },
    {
      "cell_type": "markdown",
      "metadata": {
        "id": "ol0JezU9YA9q"
      },
      "source": [
        "Money flow ratio = positive money flow / negative money flow"
      ]
    },
    {
      "cell_type": "markdown",
      "metadata": {
        "id": "dXulxhPrYZgX"
      },
      "source": [
        "MFI = 100 - (100/(1+money ratio))\n",
        "\n",
        "or same thing but written differently\n",
        "\n",
        "MFI = 100 - (100/(1+(positive money flow / negative money flow)))\n",
        "\n",
        "MFI = 100*(positive money flow/(positive money flow + negative money flow))"
      ]
    },
    {
      "cell_type": "code",
      "metadata": {
        "id": "2t9YQZNW8XGp"
      },
      "source": [
        ""
      ],
      "execution_count": null,
      "outputs": []
    },
    {
      "cell_type": "code",
      "metadata": {
        "id": "YLrNHrOmXsPv"
      },
      "source": [
        ""
      ],
      "execution_count": null,
      "outputs": []
    },
    {
      "cell_type": "code",
      "metadata": {
        "id": "YkaXum-BXsQ2"
      },
      "source": [
        ""
      ],
      "execution_count": null,
      "outputs": []
    },
    {
      "cell_type": "code",
      "metadata": {
        "id": "ovk72TLbXsap"
      },
      "source": [
        ""
      ],
      "execution_count": null,
      "outputs": []
    },
    {
      "cell_type": "code",
      "metadata": {
        "id": "_6HWV5ciXsdz"
      },
      "source": [
        ""
      ],
      "execution_count": null,
      "outputs": []
    },
    {
      "cell_type": "code",
      "metadata": {
        "id": "CGE7OdgwXsgi"
      },
      "source": [
        ""
      ],
      "execution_count": null,
      "outputs": []
    },
    {
      "cell_type": "code",
      "metadata": {
        "id": "y0fZi7MOXsjV"
      },
      "source": [
        ""
      ],
      "execution_count": null,
      "outputs": []
    },
    {
      "cell_type": "code",
      "metadata": {
        "id": "x2YoTrfJXsmS"
      },
      "source": [
        ""
      ],
      "execution_count": null,
      "outputs": []
    },
    {
      "cell_type": "code",
      "metadata": {
        "id": "L4c2Gb7SXspK"
      },
      "source": [
        ""
      ],
      "execution_count": null,
      "outputs": []
    },
    {
      "cell_type": "code",
      "metadata": {
        "id": "8Tj7xSEDXsuw"
      },
      "source": [
        ""
      ],
      "execution_count": null,
      "outputs": []
    },
    {
      "cell_type": "code",
      "metadata": {
        "id": "SfSjEKXtXsx6"
      },
      "source": [
        ""
      ],
      "execution_count": null,
      "outputs": []
    },
    {
      "cell_type": "code",
      "metadata": {
        "id": "zLH2eVatXs0y"
      },
      "source": [
        ""
      ],
      "execution_count": null,
      "outputs": []
    },
    {
      "cell_type": "code",
      "metadata": {
        "id": "_kOyZdZcXs4d"
      },
      "source": [
        ""
      ],
      "execution_count": null,
      "outputs": []
    },
    {
      "cell_type": "code",
      "metadata": {
        "id": "Cpp44CsQXs7k"
      },
      "source": [
        ""
      ],
      "execution_count": null,
      "outputs": []
    },
    {
      "cell_type": "code",
      "metadata": {
        "id": "hOvRRHkCXs_W"
      },
      "source": [
        ""
      ],
      "execution_count": null,
      "outputs": []
    },
    {
      "cell_type": "code",
      "metadata": {
        "id": "r8tL8yL0XtCm"
      },
      "source": [
        ""
      ],
      "execution_count": null,
      "outputs": []
    },
    {
      "cell_type": "code",
      "metadata": {
        "id": "zY7R72hMXtFu"
      },
      "source": [
        ""
      ],
      "execution_count": null,
      "outputs": []
    },
    {
      "cell_type": "code",
      "metadata": {
        "id": "B94kfQhrXtIv"
      },
      "source": [
        ""
      ],
      "execution_count": null,
      "outputs": []
    }
  ]
}