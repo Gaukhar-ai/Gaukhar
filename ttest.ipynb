{
  "nbformat": 4,
  "nbformat_minor": 0,
  "metadata": {
    "colab": {
      "name": "ttest",
      "provenance": [],
      "authorship_tag": "ABX9TyN11NHJs6e9OI91J8bhPmS/",
      "include_colab_link": true
    },
    "kernelspec": {
      "name": "python3",
      "display_name": "Python 3"
    }
  },
  "cells": [
    {
      "cell_type": "markdown",
      "metadata": {
        "id": "view-in-github",
        "colab_type": "text"
      },
      "source": [
        "<a href=\"https://colab.research.google.com/github/Gaukhar-ai/Gaukhar/blob/master/ttest.ipynb\" target=\"_parent\"><img src=\"https://colab.research.google.com/assets/colab-badge.svg\" alt=\"Open In Colab\"/></a>"
      ]
    },
    {
      "cell_type": "markdown",
      "metadata": {
        "id": "-t3c00LlcCkD"
      },
      "source": [
        "ttest "
      ]
    },
    {
      "cell_type": "code",
      "metadata": {
        "id": "T4kgt4rQcUbL"
      },
      "source": [
        "import numpy as np\n",
        "import pandas as pd"
      ],
      "execution_count": 1,
      "outputs": []
    },
    {
      "cell_type": "code",
      "metadata": {
        "id": "TH_yWreIbjtD"
      },
      "source": [
        "np.random.seed(42)\n",
        "\n",
        "#test data (expected output of calculating t is about - 169)\n",
        "x1 = np.random.normal(10, 0.1, 50)\n",
        "x2 = np.random.normal(13, 0.1, 50)"
      ],
      "execution_count": 15,
      "outputs": []
    },
    {
      "cell_type": "code",
      "metadata": {
        "id": "Aw_z-YYgcYnk"
      },
      "source": [
        "signal = x1.mean() - x2.mean()\n",
        "noise = np.sqrt(x1.var() / len(x1) + x2.var() / len(x2))\n",
        "t = signal / noise"
      ],
      "execution_count": 16,
      "outputs": []
    },
    {
      "cell_type": "code",
      "metadata": {
        "colab": {
          "base_uri": "https://localhost:8080/"
        },
        "id": "YGcgojwkcYkj",
        "outputId": "f95bc4d0-8710-484d-9123-2e7cca816e0a"
      },
      "source": [
        "t\n",
        "#is it significantly different?"
      ],
      "execution_count": 18,
      "outputs": [
        {
          "output_type": "execute_result",
          "data": {
            "text/plain": [
              "-168.8825364814105"
            ]
          },
          "metadata": {
            "tags": []
          },
          "execution_count": 18
        }
      ]
    },
    {
      "cell_type": "markdown",
      "metadata": {
        "id": "bZLHTH0xfILB"
      },
      "source": [
        "if the means of 2 groups are identical then t = 0\n",
        "\n",
        "The distance between two values increases - so does the value of t. \n",
        "\n",
        "in a ttest 2 means are equal until proven not. Prove that they're different. \n",
        "\n",
        "H null = x1 - x2 = 0 everything is boring, no excitement\n",
        "H excite = x1 - x2 =/ 0 they're different and something is happening. \n",
        "\n",
        "like news, dividends canceled = stock fell (check)"
      ]
    },
    {
      "cell_type": "markdown",
      "metadata": {
        "id": "oV-rp9qUqd3B"
      },
      "source": [
        "Steps to perform ttest:\n",
        "\n",
        "1. assume there's no difference\n",
        "2. collect data\n",
        "3. whats the probability we see the data given our assumption of no difference?\n",
        "4. compare this probability to our threshold of being convinced of a difference(commonly 5%, but this can be changed)"
      ]
    },
    {
      "cell_type": "markdown",
      "metadata": {
        "id": "DHshc-GNrUuu"
      },
      "source": [
        "Performing ttest in python\n",
        "\n",
        "1. separate the data into the 2 groups of interest\n",
        "2. check that data is normal enough\n",
        "3. input the data into **stats.ttest_ind()** and out comes a value of t and p.\n",
        "\n",
        "Compare the p-value to 5%\n",
        "\n",
        "Is the p-value less than 5%? - Significant difference of means\n",
        "\n",
        "Is the p-value greater than 5%? - No significant difference. "
      ]
    },
    {
      "cell_type": "code",
      "metadata": {
        "id": "X_UTv7LEqc9r"
      },
      "source": [
        "race_dfs = []\n",
        "for i in range(100):\n",
        "  race_df = marble_race(racers)\n",
        "  race_dfs."
      ],
      "execution_count": null,
      "outputs": []
    },
    {
      "cell_type": "code",
      "metadata": {
        "id": "DzIjXHmbcYhi"
      },
      "source": [
        ""
      ],
      "execution_count": null,
      "outputs": []
    },
    {
      "cell_type": "code",
      "metadata": {
        "id": "G3k4CnPrcYeq"
      },
      "source": [
        ""
      ],
      "execution_count": null,
      "outputs": []
    },
    {
      "cell_type": "code",
      "metadata": {
        "id": "i8R-Knm7cYYo"
      },
      "source": [
        ""
      ],
      "execution_count": null,
      "outputs": []
    },
    {
      "cell_type": "code",
      "metadata": {
        "id": "4eWLwHlVcYVp"
      },
      "source": [
        ""
      ],
      "execution_count": null,
      "outputs": []
    }
  ]
}