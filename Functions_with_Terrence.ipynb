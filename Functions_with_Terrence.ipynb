{
  "nbformat": 4,
  "nbformat_minor": 0,
  "metadata": {
    "colab": {
      "name": "Functions with Terrence",
      "provenance": [],
      "authorship_tag": "ABX9TyPFtEqynTPEYf2bwaZmDPP/",
      "include_colab_link": true
    },
    "kernelspec": {
      "name": "python3",
      "display_name": "Python 3"
    }
  },
  "cells": [
    {
      "cell_type": "markdown",
      "metadata": {
        "id": "view-in-github",
        "colab_type": "text"
      },
      "source": [
        "<a href=\"https://colab.research.google.com/github/Gaukhar-ai/Gaukhar/blob/master/Functions_with_Terrence.ipynb\" target=\"_parent\"><img src=\"https://colab.research.google.com/assets/colab-badge.svg\" alt=\"Open In Colab\"/></a>"
      ]
    },
    {
      "cell_type": "code",
      "metadata": {
        "id": "JZy_slqi1AJE",
        "colab_type": "code",
        "colab": {}
      },
      "source": [
        "#pick a variable name\n",
        "# pick my fav website\n",
        "google = \"www.google.com\""
      ],
      "execution_count": 0,
      "outputs": []
    },
    {
      "cell_type": "code",
      "metadata": {
        "id": "tO9DlCzx19hR",
        "colab_type": "code",
        "colab": {
          "base_uri": "https://localhost:8080/",
          "height": 34
        },
        "outputId": "e10ae450-03da-48f9-fc99-05c09ba647f0"
      },
      "source": [
        "#the + attaches another value to the variable\n",
        "print(google + \"Videos\")"
      ],
      "execution_count": 2,
      "outputs": [
        {
          "output_type": "stream",
          "text": [
            "www.google.comVideos\n"
          ],
          "name": "stdout"
        }
      ]
    },
    {
      "cell_type": "code",
      "metadata": {
        "id": "2lPfT9362JFU",
        "colab_type": "code",
        "colab": {
          "base_uri": "https://localhost:8080/",
          "height": 34
        },
        "outputId": "873540ea-cf03-4d6c-f743-25f884541f08"
      },
      "source": [
        "#/ adds a specific website link\n",
        "print(google + '/Videos')"
      ],
      "execution_count": 3,
      "outputs": [
        {
          "output_type": "stream",
          "text": [
            "www.google.com/Videos\n"
          ],
          "name": "stdout"
        }
      ]
    },
    {
      "cell_type": "code",
      "metadata": {
        "id": "XKxrH5gC2Ru-",
        "colab_type": "code",
        "colab": {}
      },
      "source": [
        "#create an empty line code '/n'\n",
        "empty_lines = \"/n\""
      ],
      "execution_count": 0,
      "outputs": []
    },
    {
      "cell_type": "code",
      "metadata": {
        "id": "wgWSytYk2hNj",
        "colab_type": "code",
        "colab": {
          "base_uri": "https://localhost:8080/",
          "height": 34
        },
        "outputId": "c5a62c6e-fc03-4408-85bb-993e6d597389"
      },
      "source": [
        "print(empty_lines)\n"
      ],
      "execution_count": 5,
      "outputs": [
        {
          "output_type": "stream",
          "text": [
            "/n\n"
          ],
          "name": "stdout"
        }
      ]
    },
    {
      "cell_type": "code",
      "metadata": {
        "id": "sKSAxGIm2mE_",
        "colab_type": "code",
        "colab": {}
      },
      "source": [
        "myfavmovies = \"Gattaka, Papillon, Eagle Huntress, Lion\""
      ],
      "execution_count": 0,
      "outputs": []
    },
    {
      "cell_type": "code",
      "metadata": {
        "id": "JnDFLL082mh0",
        "colab_type": "code",
        "colab": {}
      },
      "source": [
        "myfavshows = \"Billions, Mata Hari, Matrix\""
      ],
      "execution_count": 0,
      "outputs": []
    },
    {
      "cell_type": "code",
      "metadata": {
        "id": "jwtnI8Fd2mmB",
        "colab_type": "code",
        "colab": {
          "base_uri": "https://localhost:8080/",
          "height": 34
        },
        "outputId": "36948e71-79c1-4c94-edd5-f4c7fc8581ad"
      },
      "source": [
        "print(myfavmovies)"
      ],
      "execution_count": 7,
      "outputs": [
        {
          "output_type": "stream",
          "text": [
            "Gattaka, Papillon, Eagle Huntress, Lion\n"
          ],
          "name": "stdout"
        }
      ]
    },
    {
      "cell_type": "code",
      "metadata": {
        "id": "Sn1VnGPp2mgg",
        "colab_type": "code",
        "colab": {
          "base_uri": "https://localhost:8080/",
          "height": 34
        },
        "outputId": "e159eadc-c16c-4c73-802e-eb2c282ad5bf"
      },
      "source": [
        "print(empty_lines)"
      ],
      "execution_count": 8,
      "outputs": [
        {
          "output_type": "stream",
          "text": [
            "/n\n"
          ],
          "name": "stdout"
        }
      ]
    },
    {
      "cell_type": "code",
      "metadata": {
        "id": "ZKsuK40r24Aq",
        "colab_type": "code",
        "colab": {
          "base_uri": "https://localhost:8080/",
          "height": 34
        },
        "outputId": "efc3c139-ac87-4193-acaf-0b66739cb3d1"
      },
      "source": [
        "print(myfavshows)"
      ],
      "execution_count": 11,
      "outputs": [
        {
          "output_type": "stream",
          "text": [
            "Billions, Mata Hari, Matrix\n"
          ],
          "name": "stdout"
        }
      ]
    },
    {
      "cell_type": "code",
      "metadata": {
        "id": "3bI6B9Ju26qK",
        "colab_type": "code",
        "colab": {}
      },
      "source": [
        ""
      ],
      "execution_count": 0,
      "outputs": []
    },
    {
      "cell_type": "code",
      "metadata": {
        "id": "NLrI_taQ3HGn",
        "colab_type": "code",
        "colab": {
          "base_uri": "https://localhost:8080/",
          "height": 67
        },
        "outputId": "bc5714b8-a1cb-4524-a5ec-8254ddf9880e"
      },
      "source": [
        "print(myfavshows)\n",
        "print(empty_lines)\n",
        "print(myfavmovies)"
      ],
      "execution_count": 12,
      "outputs": [
        {
          "output_type": "stream",
          "text": [
            "Billions, Mata Hari, Matrix\n",
            "/n\n",
            "Gattaka, Papillon, Eagle Huntress, Lion\n"
          ],
          "name": "stdout"
        }
      ]
    },
    {
      "cell_type": "code",
      "metadata": {
        "id": "IOm_33mL3Qvd",
        "colab_type": "code",
        "colab": {
          "base_uri": "https://localhost:8080/",
          "height": 34
        },
        "outputId": "0d306d60-c664-4427-cf02-bbfa08106e0e"
      },
      "source": [
        "print(\"Diamond Gaukhar Javarova\")"
      ],
      "execution_count": 13,
      "outputs": [
        {
          "output_type": "stream",
          "text": [
            "Diamond Gaukhar Javarova\n"
          ],
          "name": "stdout"
        }
      ]
    },
    {
      "cell_type": "code",
      "metadata": {
        "id": "PL0r6p8O3Q7F",
        "colab_type": "code",
        "colab": {
          "base_uri": "https://localhost:8080/",
          "height": 50
        },
        "outputId": "5d4c5f5c-1aef-405c-b360-507634ddb483"
      },
      "source": [
        "#\\n creates a space\n",
        "print(\"Diamond\\nGaukhar Javarova\")"
      ],
      "execution_count": 15,
      "outputs": [
        {
          "output_type": "stream",
          "text": [
            "Diamond\n",
            "Gaukhar Javarova\n"
          ],
          "name": "stdout"
        }
      ]
    },
    {
      "cell_type": "code",
      "metadata": {
        "id": "gtgddqDu3vYF",
        "colab_type": "code",
        "colab": {}
      },
      "source": [
        "step 9 add this code and hit run\n"
      ],
      "execution_count": 0,
      "outputs": []
    },
    {
      "cell_type": "code",
      "metadata": {
        "id": "r1EUIMmT3RF4",
        "colab_type": "code",
        "colab": {}
      },
      "source": [
        "#start by printing a universal and classic message. the print fucntion with () and parenthesis inside prints \n",
        "#whatever we have inside"
      ],
      "execution_count": 0,
      "outputs": []
    },
    {
      "cell_type": "code",
      "metadata": {
        "id": "cqcP-4Qc3oRn",
        "colab_type": "code",
        "colab": {
          "base_uri": "https://localhost:8080/",
          "height": 34
        },
        "outputId": "5f59eed6-f885-40ca-8e4c-e990c1fc2d5e"
      },
      "source": [
        "print(\"hello, world\")\n"
      ],
      "execution_count": 16,
      "outputs": [
        {
          "output_type": "stream",
          "text": [
            "hello, world\n"
          ],
          "name": "stdout"
        }
      ]
    },
    {
      "cell_type": "markdown",
      "metadata": {
        "id": "WDi7Wju24C5N",
        "colab_type": "text"
      },
      "source": [
        "now we use integers or whole numbers we dont need \" marks same thing "
      ]
    },
    {
      "cell_type": "code",
      "metadata": {
        "id": "3vPz_nSu3oZ6",
        "colab_type": "code",
        "colab": {
          "base_uri": "https://localhost:8080/",
          "height": 50
        },
        "outputId": "e5156734-2d29-420d-9998-ef32556ddd6d"
      },
      "source": [
        "print(55)\n",
        "print(55.555)"
      ],
      "execution_count": 17,
      "outputs": [
        {
          "output_type": "stream",
          "text": [
            "55\n",
            "55.555\n"
          ],
          "name": "stdout"
        }
      ]
    },
    {
      "cell_type": "markdown",
      "metadata": {
        "id": "yZmxQTkK4k5N",
        "colab_type": "text"
      },
      "source": [
        "def is a keyword signifies that a fucntion is about to be defined\n",
        "next is the function name (diamonds)\n",
        "next is parameter within() this could be none or how many you input (number of diamonds)\n",
        ": tells python providing the lines of code making up the main body of the function. \n",
        "return button ends the statement\n",
        "next is the function's arameter list, which are the parameters the fucntion will expect to be passed inside to the main body of the function when the fucntion is called. \n",
        "in our ex our body is just one line of code: return size_of_diamonds*5 \n",
        "i chose 3 cuz i want 5 diamonds"
      ]
    },
    {
      "cell_type": "code",
      "metadata": {
        "id": "sTlHq4Qd3op4",
        "colab_type": "code",
        "colab": {}
      },
      "source": [
        "def diamonds(size_of_diamonds):\n",
        "  return size_of_diamonds*5"
      ],
      "execution_count": 0,
      "outputs": []
    },
    {
      "cell_type": "code",
      "metadata": {
        "id": "Ut0WtzTo3o13",
        "colab_type": "code",
        "colab": {
          "base_uri": "https://localhost:8080/",
          "height": 34
        },
        "outputId": "67c7523f-0f59-46af-f417-d46e3f427791"
      },
      "source": [
        "#now plug in a number inside () that represents the size of diamonds\n",
        "diamonds(5)"
      ],
      "execution_count": 25,
      "outputs": [
        {
          "output_type": "execute_result",
          "data": {
            "text/plain": [
              "25"
            ]
          },
          "metadata": {
            "tags": []
          },
          "execution_count": 25
        }
      ]
    },
    {
      "cell_type": "code",
      "metadata": {
        "id": "XLB66hLj6p0i",
        "colab_type": "code",
        "colab": {
          "base_uri": "https://localhost:8080/",
          "height": 34
        },
        "outputId": "86334387-2708-46de-c084-6b0be7c2a427"
      },
      "source": [
        "diamonds"
      ],
      "execution_count": 27,
      "outputs": [
        {
          "output_type": "execute_result",
          "data": {
            "text/plain": [
              "<function __main__.diamonds>"
            ]
          },
          "metadata": {
            "tags": []
          },
          "execution_count": 27
        }
      ]
    },
    {
      "cell_type": "code",
      "metadata": {
        "id": "h7jzoAoW3pAQ",
        "colab_type": "code",
        "colab": {}
      },
      "source": [
        "#now lets put into a variable\n",
        "diamondsforfamily = diamonds(555)"
      ],
      "execution_count": 0,
      "outputs": []
    },
    {
      "cell_type": "code",
      "metadata": {
        "id": "4HR_T9n93plI",
        "colab_type": "code",
        "colab": {
          "base_uri": "https://localhost:8080/",
          "height": 34
        },
        "outputId": "690acec8-17c2-4c61-c0c1-cf8b23c016c3"
      },
      "source": [
        "print(diamondsforfamily)"
      ],
      "execution_count": 24,
      "outputs": [
        {
          "output_type": "stream",
          "text": [
            "2775\n"
          ],
          "name": "stdout"
        }
      ]
    },
    {
      "cell_type": "markdown",
      "metadata": {
        "id": "d-4BJg6H7Iew",
        "colab_type": "text"
      },
      "source": [
        "ask the user for input and store the result in a variable. \n",
        "Variable = lambo_count\n",
        "int = equals whole number value we accept \n"
      ]
    },
    {
      "cell_type": "code",
      "metadata": {
        "id": "YRbG8LWW3qvV",
        "colab_type": "code",
        "colab": {
          "base_uri": "https://localhost:8080/",
          "height": 50
        },
        "outputId": "a7f67baa-3b9e-42ae-ba16-7a11d1863b6a"
      },
      "source": [
        "lambo_count = int(input(\"How many lambos are in the garage?\"))\n",
        "#input code tell us we need a number to move forward\n",
        "#format is commonly used to organize code strings (aka characters that can be numberical or text)\n",
        "print(\"There are{} lambos in the garage.\".format(lambo_count))\n"
      ],
      "execution_count": 35,
      "outputs": [
        {
          "output_type": "stream",
          "text": [
            "How many lambos are in the garage?100\n",
            "There are100 lambos in the garage.\n"
          ],
          "name": "stdout"
        }
      ]
    },
    {
      "cell_type": "code",
      "metadata": {
        "id": "XtjXAHTR3q0X",
        "colab_type": "code",
        "colab": {
          "base_uri": "https://localhost:8080/",
          "height": 50
        },
        "outputId": "c4cce742-0119-4874-beb8-462075767931"
      },
      "source": [
        "#if answer is yes we ask another question\n",
        "if input ('Would you like to buy any?') ==\"yes\":\n",
        "  removed_lambos = int(input('Ok, how many?')) #if answer is yes\n",
        "  lambos_count = lambo_count - removed_lambos\n",
        "  print(\"there are now {} lambos in the garage and thanks for shopping with us!\".format(lambo_count))\n",
        "else:\n",
        "  print(\"Ok, thanks for considering shopping with us.\".format(lambo_count))"
      ],
      "execution_count": 40,
      "outputs": [
        {
          "output_type": "stream",
          "text": [
            "Would you like to buy any?5\n",
            "Ok, thanks for considering shopping with us.\n"
          ],
          "name": "stdout"
        }
      ]
    },
    {
      "cell_type": "code",
      "metadata": {
        "id": "lQiwy2NZ3qtl",
        "colab_type": "code",
        "colab": {
          "base_uri": "https://localhost:8080/",
          "height": 34
        },
        "outputId": "0b86d243-e69b-464c-a2bf-60b188b9d8cf"
      },
      "source": [
        "my_name = \"Diamond\"\n",
        "greeting = \"Welcome\"\n",
        "def say_hello(name):\n",
        "  if name ==\"\":\n",
        "    print(\"you can't introduce yourself if you dont add your name!\")\n",
        "  else:\n",
        "    print(greeting + \" \" + name)\n",
        "\n",
        "#click the \"play\" button to execute this code. \n",
        "say_hello(my_name)"
      ],
      "execution_count": 43,
      "outputs": [
        {
          "output_type": "stream",
          "text": [
            "Welcome Diamond\n"
          ],
          "name": "stdout"
        }
      ]
    },
    {
      "cell_type": "code",
      "metadata": {
        "id": "kn-JoEpj3o9T",
        "colab_type": "code",
        "colab": {}
      },
      "source": [
        "my_age = 30\n"
      ],
      "execution_count": 0,
      "outputs": []
    },
    {
      "cell_type": "code",
      "metadata": {
        "id": "FdRMS9Iu3o6W",
        "colab_type": "code",
        "colab": {}
      },
      "source": [
        "def grant_access(age):\n",
        "  if age>25:\n",
        "    print(\"access submitted\")\n",
        "  else:\n",
        "    print(\"access denied\")\n"
      ],
      "execution_count": 0,
      "outputs": []
    },
    {
      "cell_type": "code",
      "metadata": {
        "id": "aNl0--ni3ozY",
        "colab_type": "code",
        "colab": {
          "base_uri": "https://localhost:8080/",
          "height": 34
        },
        "outputId": "20ed9558-44ab-4e27-973b-a9291e547355"
      },
      "source": [
        "#we can \"concatenate\" strings or \"add\" them together\n",
        "full_name = my_name + \" \" + \"A\" + \" \" + \"Javarova\"\n",
        "print(full_name)"
      ],
      "execution_count": 48,
      "outputs": [
        {
          "output_type": "stream",
          "text": [
            "Diamond A Javarova\n"
          ],
          "name": "stdout"
        }
      ]
    },
    {
      "cell_type": "code",
      "metadata": {
        "id": "V7J1Ftah3onL",
        "colab_type": "code",
        "colab": {
          "base_uri": "https://localhost:8080/",
          "height": 34
        },
        "outputId": "215bc06e-933f-4a2f-f9b6-ef937da177cd"
      },
      "source": [
        "#we can make a string all lower case or upper case\n",
        "print(my_name.lower(), my_name.upper())"
      ],
      "execution_count": 49,
      "outputs": [
        {
          "output_type": "stream",
          "text": [
            "diamond DIAMOND\n"
          ],
          "name": "stdout"
        }
      ]
    },
    {
      "cell_type": "code",
      "metadata": {
        "id": "wkKGxzxy3olq",
        "colab_type": "code",
        "colab": {
          "base_uri": "https://localhost:8080/",
          "height": 34
        },
        "outputId": "5ab0207e-14bc-45db-ee9b-c09e7555deae"
      },
      "source": [
        "#we can split strings on certain characters\n",
        "full_name.split()"
      ],
      "execution_count": 50,
      "outputs": [
        {
          "output_type": "execute_result",
          "data": {
            "text/plain": [
              "['Diamond', 'A', 'Javarova']"
            ]
          },
          "metadata": {
            "tags": []
          },
          "execution_count": 50
        }
      ]
    },
    {
      "cell_type": "code",
      "metadata": {
        "id": "qBqr0eDB3ojI",
        "colab_type": "code",
        "colab": {
          "base_uri": "https://localhost:8080/",
          "height": 34
        },
        "outputId": "ccafdf01-ff87-462d-f615-638e85805c89"
      },
      "source": [
        "#or replace specific characters by default all instances are replaces, I just want the first replaced so I add 1\n",
        "full_name.replace(\"a\", \"j\")"
      ],
      "execution_count": 51,
      "outputs": [
        {
          "output_type": "execute_result",
          "data": {
            "text/plain": [
              "'Dijmond A Jjvjrovj'"
            ]
          },
          "metadata": {
            "tags": []
          },
          "execution_count": 51
        }
      ]
    },
    {
      "cell_type": "code",
      "metadata": {
        "id": "75jmuGco3ogH",
        "colab_type": "code",
        "colab": {}
      },
      "source": [
        ""
      ],
      "execution_count": 0,
      "outputs": []
    },
    {
      "cell_type": "code",
      "metadata": {
        "id": "ftjly4bn3oXW",
        "colab_type": "code",
        "colab": {}
      },
      "source": [
        ""
      ],
      "execution_count": 0,
      "outputs": []
    },
    {
      "cell_type": "code",
      "metadata": {
        "id": "RUM-GjTa3oMt",
        "colab_type": "code",
        "colab": {}
      },
      "source": [
        ""
      ],
      "execution_count": 0,
      "outputs": []
    },
    {
      "cell_type": "code",
      "metadata": {
        "id": "CXW7LhDh3RNJ",
        "colab_type": "code",
        "colab": {}
      },
      "source": [
        ""
      ],
      "execution_count": 0,
      "outputs": []
    },
    {
      "cell_type": "code",
      "metadata": {
        "id": "3P1ZurBb3RX4",
        "colab_type": "code",
        "colab": {}
      },
      "source": [
        ""
      ],
      "execution_count": 0,
      "outputs": []
    },
    {
      "cell_type": "code",
      "metadata": {
        "id": "YgssDQL-3Rib",
        "colab_type": "code",
        "colab": {}
      },
      "source": [
        ""
      ],
      "execution_count": 0,
      "outputs": []
    },
    {
      "cell_type": "code",
      "metadata": {
        "id": "Sf5qZkF63Re6",
        "colab_type": "code",
        "colab": {}
      },
      "source": [
        ""
      ],
      "execution_count": 0,
      "outputs": []
    },
    {
      "cell_type": "code",
      "metadata": {
        "id": "O97UG6HQ3RV4",
        "colab_type": "code",
        "colab": {}
      },
      "source": [
        ""
      ],
      "execution_count": 0,
      "outputs": []
    },
    {
      "cell_type": "code",
      "metadata": {
        "id": "ZMi8EtYk3RTu",
        "colab_type": "code",
        "colab": {}
      },
      "source": [
        ""
      ],
      "execution_count": 0,
      "outputs": []
    },
    {
      "cell_type": "code",
      "metadata": {
        "id": "HQLJpNuN3RRS",
        "colab_type": "code",
        "colab": {}
      },
      "source": [
        ""
      ],
      "execution_count": 0,
      "outputs": []
    },
    {
      "cell_type": "code",
      "metadata": {
        "id": "58W9Bb1g3RJ-",
        "colab_type": "code",
        "colab": {}
      },
      "source": [
        ""
      ],
      "execution_count": 0,
      "outputs": []
    },
    {
      "cell_type": "code",
      "metadata": {
        "id": "WMM3Np443REB",
        "colab_type": "code",
        "colab": {}
      },
      "source": [
        ""
      ],
      "execution_count": 0,
      "outputs": []
    },
    {
      "cell_type": "code",
      "metadata": {
        "id": "hMgd1Xcg3RBc",
        "colab_type": "code",
        "colab": {}
      },
      "source": [
        ""
      ],
      "execution_count": 0,
      "outputs": []
    },
    {
      "cell_type": "code",
      "metadata": {
        "id": "Ecr-87bc3Q_w",
        "colab_type": "code",
        "colab": {}
      },
      "source": [
        ""
      ],
      "execution_count": 0,
      "outputs": []
    },
    {
      "cell_type": "code",
      "metadata": {
        "id": "VZVw_0qz3Q42",
        "colab_type": "code",
        "colab": {}
      },
      "source": [
        ""
      ],
      "execution_count": 0,
      "outputs": []
    }
  ]
}