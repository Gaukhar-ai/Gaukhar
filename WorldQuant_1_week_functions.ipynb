{
  "nbformat": 4,
  "nbformat_minor": 0,
  "metadata": {
    "colab": {
      "name": "WorldQuant_1_week_functions.ipynb",
      "provenance": [],
      "authorship_tag": "ABX9TyPvx4MrhDeUIacL54QRexNL",
      "include_colab_link": true
    },
    "kernelspec": {
      "name": "python3",
      "display_name": "Python 3"
    },
    "language_info": {
      "name": "python"
    }
  },
  "cells": [
    {
      "cell_type": "markdown",
      "metadata": {
        "id": "view-in-github",
        "colab_type": "text"
      },
      "source": [
        "<a href=\"https://colab.research.google.com/github/Gaukhar-ai/Gaukhar/blob/master/WorldQuant_1_week_functions.ipynb\" target=\"_parent\"><img src=\"https://colab.research.google.com/assets/colab-badge.svg\" alt=\"Open In Colab\"/></a>"
      ]
    },
    {
      "cell_type": "code",
      "metadata": {
        "id": "VsGJshAc1-qd"
      },
      "source": [
        "def square(number):\n",
        "  return number**2 #raised to the 2nd power"
      ],
      "execution_count": 2,
      "outputs": []
    },
    {
      "cell_type": "code",
      "metadata": {
        "colab": {
          "base_uri": "https://localhost:8080/"
        },
        "id": "ZgGP1IeY-GTy",
        "outputId": "3757cbd1-a621-4d3f-bffc-486e39e0fc0d"
      },
      "source": [
        "square"
      ],
      "execution_count": 3,
      "outputs": [
        {
          "output_type": "execute_result",
          "data": {
            "text/plain": [
              "<function __main__.square>"
            ]
          },
          "metadata": {
            "tags": []
          },
          "execution_count": 3
        }
      ]
    },
    {
      "cell_type": "code",
      "metadata": {
        "colab": {
          "base_uri": "https://localhost:8080/"
        },
        "id": "MaCQbXhC-wsJ",
        "outputId": "9b0d58ba-4e97-4d06-a4a6-61afbdfee30d"
      },
      "source": [
        "squared = square(5.5)\n",
        "print(squared)\n",
        "\n",
        "my_number = 6\n",
        "#we can also use variables as function input\n",
        "print(square(my_number))"
      ],
      "execution_count": 4,
      "outputs": [
        {
          "output_type": "stream",
          "text": [
            "30.25\n",
            "36\n"
          ],
          "name": "stdout"
        }
      ]
    },
    {
      "cell_type": "code",
      "metadata": {
        "colab": {
          "base_uri": "https://localhost:8080/"
        },
        "id": "JeU5xHdU_KTg",
        "outputId": "2a4bf16f-f4f1-41fc-d892-561f4d73c75c"
      },
      "source": [
        "%%expect_exception TypeErrorprint(square('banana'))"
      ],
      "execution_count": 5,
      "outputs": [
        {
          "output_type": "stream",
          "text": [
            "UsageError: Cell magic `%%expect_exception` not found.\n"
          ],
          "name": "stderr"
        }
      ]
    },
    {
      "cell_type": "markdown",
      "metadata": {
        "id": "Xs4S4PkYHIa2"
      },
      "source": [
        "write a function to cube a number.\n",
        "write a function to say_hello which takes in a name variable and print out 'hello name' say_hello('zach') should print 'hello zach'"
      ]
    },
    {
      "cell_type": "code",
      "metadata": {
        "id": "nhOiVW8FCa4J"
      },
      "source": [
        "def cube(number):\n",
        "  return number**3 #cube"
      ],
      "execution_count": 7,
      "outputs": []
    },
    {
      "cell_type": "code",
      "metadata": {
        "colab": {
          "base_uri": "https://localhost:8080/"
        },
        "id": "z1wDDTR3L76-",
        "outputId": "dcddc8c6-fa9d-4815-c07c-7293cf303001"
      },
      "source": [
        "cube(8)"
      ],
      "execution_count": 44,
      "outputs": [
        {
          "output_type": "execute_result",
          "data": {
            "text/plain": [
              "512"
            ]
          },
          "metadata": {
            "tags": []
          },
          "execution_count": 44
        }
      ]
    },
    {
      "cell_type": "code",
      "metadata": {
        "colab": {
          "base_uri": "https://localhost:8080/"
        },
        "id": "Zb2baIFjHcal",
        "outputId": "d34a072a-255d-4878-ab34-afe8d9f69119"
      },
      "source": [
        "cubed = cube(5)\n",
        "print(cubed)"
      ],
      "execution_count": 9,
      "outputs": [
        {
          "output_type": "stream",
          "text": [
            "125\n"
          ],
          "name": "stdout"
        }
      ]
    },
    {
      "cell_type": "code",
      "metadata": {
        "colab": {
          "base_uri": "https://localhost:8080/"
        },
        "id": "L_wi1NCnHlyr",
        "outputId": "643847c0-484a-45ed-e5a1-80af3ac8400f"
      },
      "source": [
        "number = 3\n",
        "print(cube(number))"
      ],
      "execution_count": 10,
      "outputs": [
        {
          "output_type": "stream",
          "text": [
            "27\n"
          ],
          "name": "stdout"
        }
      ]
    },
    {
      "cell_type": "code",
      "metadata": {
        "id": "yeVIEpRuMG7K"
      },
      "source": [
        "assert cube(8) == 512 #to check if the cube of 8 is 512 by using 'assert'"
      ],
      "execution_count": 50,
      "outputs": []
    },
    {
      "cell_type": "code",
      "metadata": {
        "colab": {
          "base_uri": "https://localhost:8080/",
          "height": 164
        },
        "id": "xn_HNkoxMS3Q",
        "outputId": "513b0639-8481-4673-8067-e107c71ab8ac"
      },
      "source": [
        "assert cube(9) == 512 # the cube of 9 is not 512"
      ],
      "execution_count": 51,
      "outputs": [
        {
          "output_type": "error",
          "ename": "AssertionError",
          "evalue": "ignored",
          "traceback": [
            "\u001b[0;31m---------------------------------------------------------------------------\u001b[0m",
            "\u001b[0;31mAssertionError\u001b[0m                            Traceback (most recent call last)",
            "\u001b[0;32m<ipython-input-51-d60cfec78091>\u001b[0m in \u001b[0;36m<module>\u001b[0;34m()\u001b[0m\n\u001b[0;32m----> 1\u001b[0;31m \u001b[0;32massert\u001b[0m \u001b[0mcube\u001b[0m\u001b[0;34m(\u001b[0m\u001b[0;36m9\u001b[0m\u001b[0;34m)\u001b[0m \u001b[0;34m==\u001b[0m \u001b[0;36m512\u001b[0m\u001b[0;34m\u001b[0m\u001b[0;34m\u001b[0m\u001b[0m\n\u001b[0m",
            "\u001b[0;31mAssertionError\u001b[0m: "
          ]
        }
      ]
    },
    {
      "cell_type": "code",
      "metadata": {
        "colab": {
          "base_uri": "https://localhost:8080/"
        },
        "id": "CR42rXiPMZUL",
        "outputId": "d0626e4b-60b7-4d95-d934-2057aabed297"
      },
      "source": [
        "cube(9)"
      ],
      "execution_count": 52,
      "outputs": [
        {
          "output_type": "execute_result",
          "data": {
            "text/plain": [
              "729"
            ]
          },
          "metadata": {
            "tags": []
          },
          "execution_count": 52
        }
      ]
    },
    {
      "cell_type": "code",
      "metadata": {
        "id": "8_4-ALZxHvtK"
      },
      "source": [
        "#name = input('your name:')\n",
        "\n",
        "def say_hello(name):\n",
        "  print('hello {}'.format(name)) #{}-placeholder can put anything inside and it will print that out\n"
      ],
      "execution_count": 54,
      "outputs": []
    },
    {
      "cell_type": "code",
      "metadata": {
        "colab": {
          "base_uri": "https://localhost:8080/"
        },
        "id": "o7PVc3oJMjZv",
        "outputId": "a3699ae1-633b-49d0-daf5-05109cf7b674"
      },
      "source": [
        "say_hello('Gauka')"
      ],
      "execution_count": 55,
      "outputs": [
        {
          "output_type": "stream",
          "text": [
            "hello Gauka\n"
          ],
          "name": "stdout"
        }
      ]
    },
    {
      "cell_type": "code",
      "metadata": {
        "colab": {
          "base_uri": "https://localhost:8080/"
        },
        "id": "NfzY1SIHIu19",
        "outputId": "16eb81bb-228e-4e66-b105-b4d7a4234885"
      },
      "source": [
        "square(5)"
      ],
      "execution_count": 57,
      "outputs": [
        {
          "output_type": "execute_result",
          "data": {
            "text/plain": [
              "25"
            ]
          },
          "metadata": {
            "tags": []
          },
          "execution_count": 57
        }
      ]
    },
    {
      "cell_type": "code",
      "metadata": {
        "colab": {
          "base_uri": "https://localhost:8080/"
        },
        "id": "7ofxYElQKCuZ",
        "outputId": "92a900ee-3cbc-49d7-9aec-3da7b9ec4860"
      },
      "source": [
        "print(1**2 + 2)\n",
        "print(2**2 + 2)\n",
        "print(3**2 + 2)\n",
        "print(4**2 + 2)\n",
        "print(5**2 + 2)\n",
        "print(6**2 + 2)\n",
        "\n",
        "#instead create a function, like below\n"
      ],
      "execution_count": 63,
      "outputs": [
        {
          "output_type": "stream",
          "text": [
            "3\n",
            "6\n",
            "11\n",
            "18\n",
            "27\n",
            "38\n"
          ],
          "name": "stdout"
        }
      ]
    },
    {
      "cell_type": "code",
      "metadata": {
        "id": "4j7yBm2NOxiP"
      },
      "source": [
        "def do_it(x):\n",
        "  print(x**2 + 2)"
      ],
      "execution_count": 60,
      "outputs": []
    },
    {
      "cell_type": "code",
      "metadata": {
        "colab": {
          "base_uri": "https://localhost:8080/"
        },
        "id": "YvjGJnPIOzYu",
        "outputId": "d9084597-3ba5-405d-9e60-79f668aaed1d"
      },
      "source": [
        "do_it(1)\n",
        "do_it(2)\n",
        "do_it(3)\n",
        "do_it(4)\n",
        "do_it(5)\n",
        "do_it(6)\n",
        "do_it(7)\n",
        "do_it(8)"
      ],
      "execution_count": 64,
      "outputs": [
        {
          "output_type": "stream",
          "text": [
            "3\n",
            "6\n",
            "11\n",
            "18\n",
            "27\n",
            "38\n",
            "51\n",
            "66\n"
          ],
          "name": "stdout"
        }
      ]
    },
    {
      "cell_type": "markdown",
      "metadata": {
        "id": "fvfv4F_rPmiP"
      },
      "source": [
        "Modify the do_it function to print the square of the value it currently prints"
      ]
    },
    {
      "cell_type": "code",
      "metadata": {
        "id": "4KBG4Nw_O74m"
      },
      "source": [
        "def do_it(x):\n",
        "  print((x**2 + 2)**2) #squared value"
      ],
      "execution_count": 68,
      "outputs": []
    },
    {
      "cell_type": "code",
      "metadata": {
        "colab": {
          "base_uri": "https://localhost:8080/"
        },
        "id": "kfmD1ym3YfZk",
        "outputId": "b1448769-e322-4e8c-bcb2-e40fc5827a1c"
      },
      "source": [
        "do_it(1)\n",
        "do_it(2)\n",
        "do_it(3)\n",
        "do_it(4)\n",
        "do_it(5)\n",
        "do_it(6)\n",
        "do_it(7)\n",
        "do_it(8)"
      ],
      "execution_count": 69,
      "outputs": [
        {
          "output_type": "stream",
          "text": [
            "9\n",
            "36\n",
            "121\n",
            "324\n",
            "729\n",
            "1444\n",
            "2601\n",
            "4356\n"
          ],
          "name": "stdout"
        }
      ]
    },
    {
      "cell_type": "markdown",
      "metadata": {
        "id": "M8-UpSvsY0Iq"
      },
      "source": [
        "Syntax - rules for organazing code, like grammar. Never use keywords as functions, variables, or other objects"
      ]
    },
    {
      "cell_type": "code",
      "metadata": {
        "colab": {
          "base_uri": "https://localhost:8080/",
          "height": 69
        },
        "id": "c7oz9Lq9Yp_H",
        "outputId": "d6d48a19-c587-4cf0-fd75-30f53941f07b"
      },
      "source": [
        "def example():\n",
        "  print('example is running')\n",
        "  print('returning value \"a\"')\n",
        "  return 'a' #executes\n",
        "  print('this will not execute')\n",
        "example()"
      ],
      "execution_count": 71,
      "outputs": [
        {
          "output_type": "stream",
          "text": [
            "example is running\n",
            "returning value \"a\"\n"
          ],
          "name": "stdout"
        },
        {
          "output_type": "execute_result",
          "data": {
            "application/vnd.google.colaboratory.intrinsic+json": {
              "type": "string"
            },
            "text/plain": [
              "'a'"
            ]
          },
          "metadata": {
            "tags": []
          },
          "execution_count": 71
        }
      ]
    },
    {
      "cell_type": "code",
      "metadata": {
        "colab": {
          "base_uri": "https://localhost:8080/"
        },
        "id": "qC0l-liYZC29",
        "outputId": "36f9b3f8-8859-4d4b-8fda-98b966e41ec0"
      },
      "source": [
        "def example_b():\n",
        "  print('example_b is running')\n",
        "  print('exiting without returning a value')\n",
        "example_b()"
      ],
      "execution_count": 73,
      "outputs": [
        {
          "output_type": "stream",
          "text": [
            "example_b is running\n",
            "exiting without returning a value\n"
          ],
          "name": "stdout"
        }
      ]
    },
    {
      "cell_type": "code",
      "metadata": {
        "id": "gihIECJdZkLR"
      },
      "source": [
        ""
      ],
      "execution_count": null,
      "outputs": []
    }
  ]
}