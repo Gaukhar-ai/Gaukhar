{
  "nbformat": 4,
  "nbformat_minor": 0,
  "metadata": {
    "colab": {
      "name": "extracting_data_from_iex_quandl.ipynb",
      "provenance": [],
      "mount_file_id": "1nZEWtnvylLrYCfAnjYgXj8FoEnu69xRW",
      "authorship_tag": "ABX9TyNqZk4v7EOe+pxEBEMmPR0U",
      "include_colab_link": true
    },
    "kernelspec": {
      "name": "python3",
      "display_name": "Python 3"
    }
  },
  "cells": [
    {
      "cell_type": "markdown",
      "metadata": {
        "id": "view-in-github",
        "colab_type": "text"
      },
      "source": [
        "<a href=\"https://colab.research.google.com/github/Gaukhar-ai/Gaukhar/blob/master/extracting_data_from_iex_quandl.ipynb\" target=\"_parent\"><img src=\"https://colab.research.google.com/assets/colab-badge.svg\" alt=\"Open In Colab\"/></a>"
      ]
    },
    {
      "cell_type": "code",
      "metadata": {
        "id": "zb0h7SY9o9lf"
      },
      "source": [
        "import numpy as np\n",
        "import pandas as pd"
      ],
      "execution_count": 1,
      "outputs": []
    },
    {
      "cell_type": "code",
      "metadata": {
        "id": "Cr0Z_h9DpFJE"
      },
      "source": [
        "from pandas_datareader import data as wb"
      ],
      "execution_count": 2,
      "outputs": []
    },
    {
      "cell_type": "code",
      "metadata": {
        "id": "4ZUD--XKpIsD"
      },
      "source": [
        "PG = wb.DataReader('PG', data_source='iex', start = '2017-01-01')"
      ],
      "execution_count": 5,
      "outputs": []
    },
    {
      "cell_type": "code",
      "metadata": {
        "id": "9M4vPRNZv8re"
      },
      "source": [
        "PG"
      ],
      "execution_count": null,
      "outputs": []
    },
    {
      "cell_type": "code",
      "metadata": {
        "id": "WPv6kSicv8pN"
      },
      "source": [
        "tickers = ['PG', 'MSFT', 'T', 'F', 'GE']\n",
        "new_data = pd.DataFrame()\n",
        "for t in tickers:\n",
        "  new_data[t] = wb.DataReader(t, data_source='iex', start = '2018-1-1')['close']"
      ],
      "execution_count": null,
      "outputs": []
    },
    {
      "cell_type": "code",
      "metadata": {
        "id": "3NE7DocPv8mm"
      },
      "source": [
        "new_data.tail()"
      ],
      "execution_count": null,
      "outputs": []
    },
    {
      "cell_type": "code",
      "metadata": {
        "id": "jLEWhp1Pv8kI"
      },
      "source": [
        ""
      ],
      "execution_count": null,
      "outputs": []
    },
    {
      "cell_type": "code",
      "metadata": {
        "id": "Ggj987ubv8hG"
      },
      "source": [
        ""
      ],
      "execution_count": null,
      "outputs": []
    },
    {
      "cell_type": "code",
      "metadata": {
        "id": "sMlDZ2ZPv8d-"
      },
      "source": [
        ""
      ],
      "execution_count": null,
      "outputs": []
    },
    {
      "cell_type": "code",
      "metadata": {
        "id": "NfmLGIHAv8aw"
      },
      "source": [
        ""
      ],
      "execution_count": null,
      "outputs": []
    },
    {
      "cell_type": "code",
      "metadata": {
        "colab": {
          "base_uri": "https://localhost:8080/"
        },
        "id": "yp5s-EwxqsC1",
        "outputId": "f5f6c612-cc64-451f-91eb-f56c1dff61e0"
      },
      "source": [
        "!pip install quandl"
      ],
      "execution_count": 7,
      "outputs": [
        {
          "output_type": "stream",
          "text": [
            "Collecting quandl\n",
            "  Downloading https://files.pythonhosted.org/packages/8b/2b/feefb36015beaecc5c0f9f2533e815b409621d9fa7b50b2aac621796f828/Quandl-3.6.1-py2.py3-none-any.whl\n",
            "Requirement already satisfied: pandas>=0.14 in /usr/local/lib/python3.7/dist-packages (from quandl) (1.1.5)\n",
            "Collecting inflection>=0.3.1\n",
            "  Downloading https://files.pythonhosted.org/packages/59/91/aa6bde563e0085a02a435aa99b49ef75b0a4b062635e606dab23ce18d720/inflection-0.5.1-py2.py3-none-any.whl\n",
            "Requirement already satisfied: python-dateutil in /usr/local/lib/python3.7/dist-packages (from quandl) (2.8.1)\n",
            "Requirement already satisfied: numpy>=1.8 in /usr/local/lib/python3.7/dist-packages (from quandl) (1.19.5)\n",
            "Requirement already satisfied: more-itertools in /usr/local/lib/python3.7/dist-packages (from quandl) (8.7.0)\n",
            "Requirement already satisfied: requests>=2.7.0 in /usr/local/lib/python3.7/dist-packages (from quandl) (2.23.0)\n",
            "Requirement already satisfied: six in /usr/local/lib/python3.7/dist-packages (from quandl) (1.15.0)\n",
            "Requirement already satisfied: pytz>=2017.2 in /usr/local/lib/python3.7/dist-packages (from pandas>=0.14->quandl) (2018.9)\n",
            "Requirement already satisfied: certifi>=2017.4.17 in /usr/local/lib/python3.7/dist-packages (from requests>=2.7.0->quandl) (2020.12.5)\n",
            "Requirement already satisfied: idna<3,>=2.5 in /usr/local/lib/python3.7/dist-packages (from requests>=2.7.0->quandl) (2.10)\n",
            "Requirement already satisfied: chardet<4,>=3.0.2 in /usr/local/lib/python3.7/dist-packages (from requests>=2.7.0->quandl) (3.0.4)\n",
            "Requirement already satisfied: urllib3!=1.25.0,!=1.25.1,<1.26,>=1.21.1 in /usr/local/lib/python3.7/dist-packages (from requests>=2.7.0->quandl) (1.24.3)\n",
            "Installing collected packages: inflection, quandl\n",
            "Successfully installed inflection-0.5.1 quandl-3.6.1\n"
          ],
          "name": "stdout"
        }
      ]
    },
    {
      "cell_type": "code",
      "metadata": {
        "id": "1qh2_-YypQV8"
      },
      "source": [
        "import quandl\n",
        "#api_key = 5V93_8BtXNZ6zw_Vnmyy\n"
      ],
      "execution_count": 12,
      "outputs": []
    },
    {
      "cell_type": "code",
      "metadata": {
        "id": "eNLdqSuoqqSH"
      },
      "source": [
        "mydata_01 = quandl.get('FRED/GDP')"
      ],
      "execution_count": null,
      "outputs": []
    },
    {
      "cell_type": "code",
      "metadata": {
        "id": "T1vAr73Qq3sY"
      },
      "source": [
        "mydata_1.tail()"
      ],
      "execution_count": null,
      "outputs": []
    },
    {
      "cell_type": "code",
      "metadata": {
        "id": "h4ErkZUKxIYx"
      },
      "source": [
        "mydata_1.head()"
      ],
      "execution_count": null,
      "outputs": []
    },
    {
      "cell_type": "code",
      "metadata": {
        "id": "oLdLNNn5xIWQ"
      },
      "source": [
        "import pandas as pd"
      ],
      "execution_count": null,
      "outputs": []
    },
    {
      "cell_type": "code",
      "metadata": {
        "id": "9UCeLJ540FQt"
      },
      "source": [
        "mydata_2 = pd.read_excel('/boot/Data_03.xlsx')"
      ],
      "execution_count": 33,
      "outputs": []
    },
    {
      "cell_type": "code",
      "metadata": {
        "colab": {
          "base_uri": "https://localhost:8080/",
          "height": 204
        },
        "id": "3kyrof3y1YkL",
        "outputId": "a00fdbcb-8fa9-4f2c-e897-f64dadbfbf6b"
      },
      "source": [
        "mydata_2.head()"
      ],
      "execution_count": 35,
      "outputs": [
        {
          "output_type": "execute_result",
          "data": {
            "text/html": [
              "<div>\n",
              "<style scoped>\n",
              "    .dataframe tbody tr th:only-of-type {\n",
              "        vertical-align: middle;\n",
              "    }\n",
              "\n",
              "    .dataframe tbody tr th {\n",
              "        vertical-align: top;\n",
              "    }\n",
              "\n",
              "    .dataframe thead th {\n",
              "        text-align: right;\n",
              "    }\n",
              "</style>\n",
              "<table border=\"1\" class=\"dataframe\">\n",
              "  <thead>\n",
              "    <tr style=\"text-align: right;\">\n",
              "      <th></th>\n",
              "      <th>Year</th>\n",
              "      <th>Gas Exp</th>\n",
              "      <th>Pop</th>\n",
              "      <th>Gasp</th>\n",
              "      <th>Income</th>\n",
              "    </tr>\n",
              "  </thead>\n",
              "  <tbody>\n",
              "    <tr>\n",
              "      <th>0</th>\n",
              "      <td>1953</td>\n",
              "      <td>7.4</td>\n",
              "      <td>159565</td>\n",
              "      <td>16.667999</td>\n",
              "      <td>8883</td>\n",
              "    </tr>\n",
              "    <tr>\n",
              "      <th>1</th>\n",
              "      <td>1954</td>\n",
              "      <td>7.8</td>\n",
              "      <td>162391</td>\n",
              "      <td>17.028999</td>\n",
              "      <td>8685</td>\n",
              "    </tr>\n",
              "    <tr>\n",
              "      <th>2</th>\n",
              "      <td>1955</td>\n",
              "      <td>8.6</td>\n",
              "      <td>165275</td>\n",
              "      <td>17.209999</td>\n",
              "      <td>9137</td>\n",
              "    </tr>\n",
              "    <tr>\n",
              "      <th>3</th>\n",
              "      <td>1956</td>\n",
              "      <td>9.4</td>\n",
              "      <td>168221</td>\n",
              "      <td>17.729000</td>\n",
              "      <td>9436</td>\n",
              "    </tr>\n",
              "    <tr>\n",
              "      <th>4</th>\n",
              "      <td>1957</td>\n",
              "      <td>10.2</td>\n",
              "      <td>171274</td>\n",
              "      <td>18.497000</td>\n",
              "      <td>9534</td>\n",
              "    </tr>\n",
              "  </tbody>\n",
              "</table>\n",
              "</div>"
            ],
            "text/plain": [
              "   Year  Gas Exp     Pop       Gasp  Income\n",
              "0  1953      7.4  159565  16.667999    8883\n",
              "1  1954      7.8  162391  17.028999    8685\n",
              "2  1955      8.6  165275  17.209999    9137\n",
              "3  1956      9.4  168221  17.729000    9436\n",
              "4  1957     10.2  171274  18.497000    9534"
            ]
          },
          "metadata": {
            "tags": []
          },
          "execution_count": 35
        }
      ]
    },
    {
      "cell_type": "code",
      "metadata": {
        "id": "C9VdSkWUxITg"
      },
      "source": [
        "mydata_1 = pd.read_csv('/boot/Data_02.csv')"
      ],
      "execution_count": 29,
      "outputs": []
    },
    {
      "cell_type": "code",
      "metadata": {
        "colab": {
          "base_uri": "https://localhost:8080/",
          "height": 204
        },
        "id": "NhTbjCtkxIQt",
        "outputId": "747f23ad-81c7-40ec-dfa0-d1ec0229fe8d"
      },
      "source": [
        "mydata_1.head()"
      ],
      "execution_count": 31,
      "outputs": [
        {
          "output_type": "execute_result",
          "data": {
            "text/html": [
              "<div>\n",
              "<style scoped>\n",
              "    .dataframe tbody tr th:only-of-type {\n",
              "        vertical-align: middle;\n",
              "    }\n",
              "\n",
              "    .dataframe tbody tr th {\n",
              "        vertical-align: top;\n",
              "    }\n",
              "\n",
              "    .dataframe thead th {\n",
              "        text-align: right;\n",
              "    }\n",
              "</style>\n",
              "<table border=\"1\" class=\"dataframe\">\n",
              "  <thead>\n",
              "    <tr style=\"text-align: right;\">\n",
              "      <th></th>\n",
              "      <th>Date</th>\n",
              "      <th>Open</th>\n",
              "      <th>High</th>\n",
              "      <th>Low</th>\n",
              "      <th>Close</th>\n",
              "      <th>Volume</th>\n",
              "      <th>Ex-Dividend</th>\n",
              "      <th>Split Ratio</th>\n",
              "      <th>Adj. Open</th>\n",
              "      <th>Adj. High</th>\n",
              "      <th>Adj. Low</th>\n",
              "      <th>Adj. Close</th>\n",
              "      <th>Adj. Volume</th>\n",
              "    </tr>\n",
              "  </thead>\n",
              "  <tbody>\n",
              "    <tr>\n",
              "      <th>0</th>\n",
              "      <td>2017-03-03</td>\n",
              "      <td>136.63</td>\n",
              "      <td>137.3300</td>\n",
              "      <td>136.08</td>\n",
              "      <td>137.1300</td>\n",
              "      <td>11095605.0</td>\n",
              "      <td>0.0</td>\n",
              "      <td>1.0</td>\n",
              "      <td>136.63</td>\n",
              "      <td>137.3300</td>\n",
              "      <td>136.08</td>\n",
              "      <td>137.1300</td>\n",
              "      <td>11095605.0</td>\n",
              "    </tr>\n",
              "    <tr>\n",
              "      <th>1</th>\n",
              "      <td>2017-03-02</td>\n",
              "      <td>137.09</td>\n",
              "      <td>137.8200</td>\n",
              "      <td>136.31</td>\n",
              "      <td>136.7603</td>\n",
              "      <td>12243028.0</td>\n",
              "      <td>0.0</td>\n",
              "      <td>1.0</td>\n",
              "      <td>137.09</td>\n",
              "      <td>137.8200</td>\n",
              "      <td>136.31</td>\n",
              "      <td>136.7603</td>\n",
              "      <td>12243028.0</td>\n",
              "    </tr>\n",
              "    <tr>\n",
              "      <th>2</th>\n",
              "      <td>2017-03-01</td>\n",
              "      <td>136.47</td>\n",
              "      <td>137.4800</td>\n",
              "      <td>136.30</td>\n",
              "      <td>137.4200</td>\n",
              "      <td>16257010.0</td>\n",
              "      <td>0.0</td>\n",
              "      <td>1.0</td>\n",
              "      <td>136.47</td>\n",
              "      <td>137.4800</td>\n",
              "      <td>136.30</td>\n",
              "      <td>137.4200</td>\n",
              "      <td>16257010.0</td>\n",
              "    </tr>\n",
              "    <tr>\n",
              "      <th>3</th>\n",
              "      <td>2017-02-28</td>\n",
              "      <td>136.79</td>\n",
              "      <td>136.8050</td>\n",
              "      <td>134.75</td>\n",
              "      <td>135.5400</td>\n",
              "      <td>16112092.0</td>\n",
              "      <td>0.0</td>\n",
              "      <td>1.0</td>\n",
              "      <td>136.79</td>\n",
              "      <td>136.8050</td>\n",
              "      <td>134.75</td>\n",
              "      <td>135.5400</td>\n",
              "      <td>16112092.0</td>\n",
              "    </tr>\n",
              "    <tr>\n",
              "      <th>4</th>\n",
              "      <td>2017-02-27</td>\n",
              "      <td>135.26</td>\n",
              "      <td>137.1846</td>\n",
              "      <td>135.02</td>\n",
              "      <td>136.4100</td>\n",
              "      <td>14306668.0</td>\n",
              "      <td>0.0</td>\n",
              "      <td>1.0</td>\n",
              "      <td>135.26</td>\n",
              "      <td>137.1846</td>\n",
              "      <td>135.02</td>\n",
              "      <td>136.4100</td>\n",
              "      <td>14306668.0</td>\n",
              "    </tr>\n",
              "  </tbody>\n",
              "</table>\n",
              "</div>"
            ],
            "text/plain": [
              "         Date    Open      High  ...  Adj. Low  Adj. Close  Adj. Volume\n",
              "0  2017-03-03  136.63  137.3300  ...    136.08    137.1300   11095605.0\n",
              "1  2017-03-02  137.09  137.8200  ...    136.31    136.7603   12243028.0\n",
              "2  2017-03-01  136.47  137.4800  ...    136.30    137.4200   16257010.0\n",
              "3  2017-02-28  136.79  136.8050  ...    134.75    135.5400   16112092.0\n",
              "4  2017-02-27  135.26  137.1846  ...    135.02    136.4100   14306668.0\n",
              "\n",
              "[5 rows x 13 columns]"
            ]
          },
          "metadata": {
            "tags": []
          },
          "execution_count": 31
        }
      ]
    },
    {
      "cell_type": "code",
      "metadata": {
        "id": "SBz25hXGxINo"
      },
      "source": [
        ""
      ],
      "execution_count": null,
      "outputs": []
    },
    {
      "cell_type": "code",
      "metadata": {
        "id": "GnEzRqsB1hwG"
      },
      "source": [
        ""
      ],
      "execution_count": null,
      "outputs": []
    },
    {
      "cell_type": "code",
      "metadata": {
        "id": "_OJ6D8SG1hqP"
      },
      "source": [
        ""
      ],
      "execution_count": null,
      "outputs": []
    },
    {
      "cell_type": "code",
      "metadata": {
        "id": "fc1wWrEh1hnK"
      },
      "source": [
        ""
      ],
      "execution_count": null,
      "outputs": []
    },
    {
      "cell_type": "code",
      "metadata": {
        "id": "Mv5rVl-51hkQ"
      },
      "source": [
        ""
      ],
      "execution_count": null,
      "outputs": []
    },
    {
      "cell_type": "code",
      "metadata": {
        "id": "9hKmf4GY1heX"
      },
      "source": [
        ""
      ],
      "execution_count": null,
      "outputs": []
    },
    {
      "cell_type": "code",
      "metadata": {
        "id": "SXEBy07f1hbf"
      },
      "source": [
        ""
      ],
      "execution_count": null,
      "outputs": []
    },
    {
      "cell_type": "code",
      "metadata": {
        "id": "42aaPD911hYg"
      },
      "source": [
        ""
      ],
      "execution_count": null,
      "outputs": []
    },
    {
      "cell_type": "code",
      "metadata": {
        "id": "EUr4vOAE1hVs"
      },
      "source": [
        ""
      ],
      "execution_count": null,
      "outputs": []
    },
    {
      "cell_type": "code",
      "metadata": {
        "id": "kLn6v45i1hSC"
      },
      "source": [
        ""
      ],
      "execution_count": null,
      "outputs": []
    }
  ]
}