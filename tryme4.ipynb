{
  "nbformat": 4,
  "nbformat_minor": 0,
  "metadata": {
    "colab": {
      "name": "tryme4.ipynb",
      "provenance": [],
      "authorship_tag": "ABX9TyPeTFVxX7zLDGxnQbbVtBDA",
      "include_colab_link": true
    },
    "kernelspec": {
      "name": "python3",
      "display_name": "Python 3"
    },
    "language_info": {
      "name": "python"
    }
  },
  "cells": [
    {
      "cell_type": "markdown",
      "metadata": {
        "id": "view-in-github",
        "colab_type": "text"
      },
      "source": [
        "<a href=\"https://colab.research.google.com/github/Gaukhar-ai/Gaukhar/blob/master/tryme4.ipynb\" target=\"_parent\"><img src=\"https://colab.research.google.com/assets/colab-badge.svg\" alt=\"Open In Colab\"/></a>"
      ]
    },
    {
      "cell_type": "code",
      "metadata": {
        "colab": {
          "base_uri": "https://localhost:8080/"
        },
        "id": "uHmaBFSaavlS",
        "outputId": "5e35d915-3a5a-4869-8976-8b95f682465d"
      },
      "source": [
        "def new_line():\n",
        "\n",
        "    print('.')\n",
        "\n",
        "def three_lines():\n",
        "  new_line()\n",
        "  new_line()\n",
        "  new_line()\n",
        "\n",
        "def nine_lines():\n",
        "  three_lines()\n",
        "  three_lines()\n",
        "  three_lines()\n",
        "\n",
        "def clear_screen():\n",
        "  nine_lines()\n",
        "  nine_lines()\n",
        "  three_lines()\n",
        "  three_lines()\n",
        "  new_line()\n",
        "\n",
        "print('nine_lines:')\n",
        "nine_lines()\n",
        "print('clear_screen:')\n",
        "clear_screen()"
      ],
      "execution_count": 37,
      "outputs": [
        {
          "output_type": "stream",
          "text": [
            "nine_lines:\n",
            ".\n",
            ".\n",
            ".\n",
            ".\n",
            ".\n",
            ".\n",
            ".\n",
            ".\n",
            ".\n",
            "clear_screen:\n",
            ".\n",
            ".\n",
            ".\n",
            ".\n",
            ".\n",
            ".\n",
            ".\n",
            ".\n",
            ".\n",
            ".\n",
            ".\n",
            ".\n",
            ".\n",
            ".\n",
            ".\n",
            ".\n",
            ".\n",
            ".\n",
            ".\n",
            ".\n",
            ".\n",
            ".\n",
            ".\n",
            ".\n",
            ".\n"
          ],
          "name": "stdout"
        }
      ]
    },
    {
      "cell_type": "code",
      "metadata": {
        "id": "a3Px71gxcgnd"
      },
      "source": [
        ""
      ],
      "execution_count": null,
      "outputs": []
    },
    {
      "cell_type": "code",
      "metadata": {
        "id": "_mcHs0SGcgWd"
      },
      "source": [
        ""
      ],
      "execution_count": null,
      "outputs": []
    }
  ]
}