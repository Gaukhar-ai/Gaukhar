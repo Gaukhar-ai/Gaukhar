{
  "nbformat": 4,
  "nbformat_minor": 0,
  "metadata": {
    "colab": {
      "name": "Function_assignment.ipynb",
      "provenance": [],
      "authorship_tag": "ABX9TyOI11RjI8/RRTUuqraiDCiK",
      "include_colab_link": true
    },
    "kernelspec": {
      "name": "python3",
      "display_name": "Python 3"
    },
    "language_info": {
      "name": "python"
    }
  },
  "cells": [
    {
      "cell_type": "markdown",
      "metadata": {
        "id": "view-in-github",
        "colab_type": "text"
      },
      "source": [
        "<a href=\"https://colab.research.google.com/github/Gaukhar-ai/Gaukhar/blob/master/Function_assignment.ipynb\" target=\"_parent\"><img src=\"https://colab.research.google.com/assets/colab-badge.svg\" alt=\"Open In Colab\"/></a>"
      ]
    },
    {
      "cell_type": "markdown",
      "metadata": {
        "id": "Ebf5F9643Tkj"
      },
      "source": [
        "Example 1: Define a function that takes an argument. Call the function. Identify what code is the argument and what code is the parameter.[link text](https://)"
      ]
    },
    {
      "cell_type": "code",
      "metadata": {
        "colab": {
          "base_uri": "https://localhost:8080/"
        },
        "id": "rIL3QAF83I1m",
        "outputId": "2523164e-f753-4163-e5df-d4789737d828"
      },
      "source": [
        "def example_1(country): #def means define a function, example_1 - is the name of the function, fav_country - is the argument \n",
        "  print(\" I wish to visit \" + country) \n",
        "example_1('Norway')\n"
      ],
      "execution_count": 1,
      "outputs": [
        {
          "output_type": "stream",
          "text": [
            " I wish to visit Norway\n"
          ],
          "name": "stdout"
        }
      ]
    },
    {
      "cell_type": "code",
      "metadata": {
        "colab": {
          "base_uri": "https://localhost:8080/"
        },
        "id": "SrBRvURQLHbG",
        "outputId": "7b3fd00f-9931-4182-9228-559b09a11bc5"
      },
      "source": [
        "def example_1(example):\n",
        "  print(example)\n",
        "example_1(\"I wish to visit Norway\")"
      ],
      "execution_count": 2,
      "outputs": [
        {
          "output_type": "stream",
          "text": [
            "I wish to visit Norway\n"
          ],
          "name": "stdout"
        }
      ]
    },
    {
      "cell_type": "markdown",
      "metadata": {
        "id": "6PB32dz3EQqa"
      },
      "source": [
        "Example 2: Call your function from Example 1 three times with different kinds of arguments: a value, a variable, and an expression. Identify which kind of argument is which. "
      ]
    },
    {
      "cell_type": "code",
      "metadata": {
        "colab": {
          "base_uri": "https://localhost:8080/"
        },
        "id": "RttZPttC3jne",
        "outputId": "77401e2c-11c9-41a7-f46b-f026d80600ea"
      },
      "source": [
        "example_1(5)\n"
      ],
      "execution_count": 3,
      "outputs": [
        {
          "output_type": "stream",
          "text": [
            "5\n"
          ],
          "name": "stdout"
        }
      ]
    },
    {
      "cell_type": "code",
      "metadata": {
        "colab": {
          "base_uri": "https://localhost:8080/"
        },
        "id": "z6RoXB66Ehvn",
        "outputId": "f3df4a9e-ade0-4af8-fb22-d6db741b586d"
      },
      "source": [
        "example_2 = 'This is amazing!'\n",
        "example_1(example_2)"
      ],
      "execution_count": 4,
      "outputs": [
        {
          "output_type": "stream",
          "text": [
            "This is amazing!\n"
          ],
          "name": "stdout"
        }
      ]
    },
    {
      "cell_type": "code",
      "metadata": {
        "colab": {
          "base_uri": "https://localhost:8080/"
        },
        "id": "DgthK3F0MGx6",
        "outputId": "bfb60d63-bc24-4300-b5ee-4ba180652222"
      },
      "source": [
        "example_1('I would also like to visit Finland! '*3)\n"
      ],
      "execution_count": 5,
      "outputs": [
        {
          "output_type": "stream",
          "text": [
            "I would also like to visit Finland! I would also like to visit Finland! I would also like to visit Finland! \n"
          ],
          "name": "stdout"
        }
      ]
    },
    {
      "cell_type": "markdown",
      "metadata": {
        "id": "Six-1GDBVtNh"
      },
      "source": [
        "Example 3: Create a function with a local variable. Show what happens when you try to use that variable outside the function. Explain the results.\n"
      ]
    },
    {
      "cell_type": "code",
      "metadata": {
        "colab": {
          "base_uri": "https://localhost:8080/"
        },
        "id": "avfgd5r3OBin",
        "outputId": "8b363a03-a483-49c2-d74d-1f4b0116c7e8"
      },
      "source": [
        "def local():\n",
        "  a = 'what a great day!'\n",
        "  print(a)\n",
        "local()"
      ],
      "execution_count": 16,
      "outputs": [
        {
          "output_type": "stream",
          "text": [
            "what a great day!\n"
          ],
          "name": "stdout"
        }
      ]
    },
    {
      "cell_type": "code",
      "metadata": {
        "colab": {
          "base_uri": "https://localhost:8080/"
        },
        "id": "ciSQkIDWMual",
        "outputId": "9c76f9bd-e0c7-48f5-b69a-4392f9377196"
      },
      "source": [
        "a = 'what a great day!'\n",
        "def local():\n",
        "  print(a)\n",
        "local()"
      ],
      "execution_count": 21,
      "outputs": [
        {
          "output_type": "stream",
          "text": [
            "what a great day!\n"
          ],
          "name": "stdout"
        }
      ]
    },
    {
      "cell_type": "code",
      "metadata": {
        "colab": {
          "base_uri": "https://localhost:8080/"
        },
        "id": "vJzj8_3HPjgo",
        "outputId": "82a8d071-ac21-4338-def3-fda4ae52ff07"
      },
      "source": [
        "def local():\n",
        "  a = 'what a great day!'\n",
        "  print(a)\n",
        "a = 'I agree'\n",
        "print(a)"
      ],
      "execution_count": 30,
      "outputs": [
        {
          "output_type": "stream",
          "text": [
            "I agree\n"
          ],
          "name": "stdout"
        }
      ]
    },
    {
      "cell_type": "code",
      "metadata": {
        "colab": {
          "base_uri": "https://localhost:8080/"
        },
        "id": "1sOG2SvGQN7k",
        "outputId": "a1a773da-4f57-49a7-c7d4-dcfbfd462515"
      },
      "source": [
        "def local(a):\n",
        "  print('what a great day!')\n",
        "print(a)\n"
      ],
      "execution_count": 32,
      "outputs": [
        {
          "output_type": "stream",
          "text": [
            "I agree\n"
          ],
          "name": "stdout"
        }
      ]
    },
    {
      "cell_type": "code",
      "metadata": {
        "colab": {
          "base_uri": "https://localhost:8080/"
        },
        "id": "UX9T7-9wWJBE",
        "outputId": "f2e2d6e4-e098-4860-b186-30d3734483cf"
      },
      "source": [
        "a = 'what a great day!' #became a global variable outside the function and it worked too since I didn't assign \"a\" to a different value inside the local var.\n",
        "def local():\n",
        "  print(a)\n",
        "local()"
      ],
      "execution_count": 14,
      "outputs": [
        {
          "output_type": "stream",
          "text": [
            "what a great day!\n"
          ],
          "name": "stdout"
        }
      ]
    },
    {
      "cell_type": "code",
      "metadata": {
        "colab": {
          "base_uri": "https://localhost:8080/"
        },
        "id": "nXiStmSqWTe0",
        "outputId": "c23d4e5c-0361-4651-99b4-d4d2321ff1bb"
      },
      "source": [
        "a = 'a great day!'\n",
        "\n",
        "def local():\n",
        "  a = 'I agree'\n",
        "  print(a)\n",
        "local()"
      ],
      "execution_count": 15,
      "outputs": [
        {
          "output_type": "stream",
          "text": [
            "I agree\n"
          ],
          "name": "stdout"
        }
      ]
    },
    {
      "cell_type": "code",
      "metadata": {
        "colab": {
          "base_uri": "https://localhost:8080/"
        },
        "id": "fICvRmIvXO8z",
        "outputId": "04eb4ef8-8607-4433-a75c-c2e37e02266d"
      },
      "source": [
        "def local():\n",
        "  a = 'I agree'\n",
        "local()\n",
        "print(a)"
      ],
      "execution_count": 16,
      "outputs": [
        {
          "output_type": "stream",
          "text": [
            "a great day!\n"
          ],
          "name": "stdout"
        }
      ]
    },
    {
      "cell_type": "markdown",
      "metadata": {
        "id": "HK49Q0m8bQeJ"
      },
      "source": [
        "Example 4: Create a function that takes an argument. Give the function parameter a unique name. Show what happens when you try to use that parameter name outside the function. Explain the results"
      ]
    },
    {
      "cell_type": "code",
      "metadata": {
        "colab": {
          "base_uri": "https://localhost:8080/",
          "height": 198
        },
        "id": "bLEzB-dDZV-o",
        "outputId": "c1419124-f8a1-489f-c89e-6816023449c9"
      },
      "source": [
        "def fun(unico): #created a function, where 'fun' is the name of the function and 'unique' is the argument. \n",
        "  print('life is fun')\n",
        "print(unico)"
      ],
      "execution_count": 33,
      "outputs": [
        {
          "output_type": "error",
          "ename": "NameError",
          "evalue": "ignored",
          "traceback": [
            "\u001b[0;31m---------------------------------------------------------------------------\u001b[0m",
            "\u001b[0;31mNameError\u001b[0m                                 Traceback (most recent call last)",
            "\u001b[0;32m<ipython-input-33-24f4026b06a2>\u001b[0m in \u001b[0;36m<module>\u001b[0;34m()\u001b[0m\n\u001b[1;32m      1\u001b[0m \u001b[0;32mdef\u001b[0m \u001b[0mfun\u001b[0m\u001b[0;34m(\u001b[0m\u001b[0munico\u001b[0m\u001b[0;34m)\u001b[0m\u001b[0;34m:\u001b[0m \u001b[0;31m#created a function, where 'fun' is the name of the function and 'unique' is the argument.\u001b[0m\u001b[0;34m\u001b[0m\u001b[0;34m\u001b[0m\u001b[0m\n\u001b[1;32m      2\u001b[0m   \u001b[0mprint\u001b[0m\u001b[0;34m(\u001b[0m\u001b[0;34m'life is fun'\u001b[0m\u001b[0;34m)\u001b[0m\u001b[0;34m\u001b[0m\u001b[0;34m\u001b[0m\u001b[0m\n\u001b[0;32m----> 3\u001b[0;31m \u001b[0mprint\u001b[0m\u001b[0;34m(\u001b[0m\u001b[0munico\u001b[0m\u001b[0;34m)\u001b[0m\u001b[0;34m\u001b[0m\u001b[0;34m\u001b[0m\u001b[0m\n\u001b[0m",
            "\u001b[0;31mNameError\u001b[0m: name 'unico' is not defined"
          ]
        }
      ]
    },
    {
      "cell_type": "markdown",
      "metadata": {
        "id": "UI2nghECbV_J"
      },
      "source": [
        "Example 5: Show what happens when a variable defined outside a function has the same name as a local variable inside a function. Explain what happens to the value of each variable as the program runs."
      ]
    },
    {
      "cell_type": "code",
      "metadata": {
        "colab": {
          "base_uri": "https://localhost:8080/"
        },
        "id": "GJ1n7S1FbVeq",
        "outputId": "585cb53a-e674-4e82-e4c4-e89a05ff9b5d"
      },
      "source": [
        "def cookie(): \n",
        "  fruit = 'apples'\n",
        "  print('I like fruits, especially ' + fruit)\n",
        "cookie()\n",
        "\n",
        "fruit = 'cherries' #since this code is outside of the function above, it executes by itself and the result of the previous output doesn't affect it. \n",
        "print(fruit)"
      ],
      "execution_count": 34,
      "outputs": [
        {
          "output_type": "stream",
          "text": [
            "I like fruits, especially apples\n",
            "cherries\n"
          ],
          "name": "stdout"
        }
      ]
    }
  ]
}