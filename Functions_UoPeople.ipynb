{
  "nbformat": 4,
  "nbformat_minor": 0,
  "metadata": {
    "colab": {
      "name": "Functions_UoPeople.ipynb",
      "provenance": [],
      "authorship_tag": "ABX9TyMFaW/OWC82ISSzzxcfqlaz",
      "include_colab_link": true
    },
    "kernelspec": {
      "name": "python3",
      "display_name": "Python 3"
    },
    "language_info": {
      "name": "python"
    }
  },
  "cells": [
    {
      "cell_type": "markdown",
      "metadata": {
        "id": "view-in-github",
        "colab_type": "text"
      },
      "source": [
        "<a href=\"https://colab.research.google.com/github/Gaukhar-ai/Gaukhar/blob/master/Functions_UoPeople.ipynb\" target=\"_parent\"><img src=\"https://colab.research.google.com/assets/colab-badge.svg\" alt=\"Open In Colab\"/></a>"
      ]
    },
    {
      "cell_type": "code",
      "metadata": {
        "id": "06Mr18ZLJ-BD"
      },
      "source": [
        "import math"
      ],
      "execution_count": 45,
      "outputs": []
    },
    {
      "cell_type": "code",
      "metadata": {
        "colab": {
          "base_uri": "https://localhost:8080/"
        },
        "id": "bZOhmzeQJ_18",
        "outputId": "ab05fc18-078e-4072-d7b8-a1026f1da4bb"
      },
      "source": [
        "print(math)"
      ],
      "execution_count": 46,
      "outputs": [
        {
          "output_type": "stream",
          "text": [
            "<module 'math' (built-in)>\n"
          ],
          "name": "stdout"
        }
      ]
    },
    {
      "cell_type": "code",
      "metadata": {
        "colab": {
          "base_uri": "https://localhost:8080/"
        },
        "id": "jwjPHYLlKijd",
        "outputId": "99c1dc53-870b-486a-8f69-b743ae433f42"
      },
      "source": [
        "degrees = 45\n",
        "radians = degrees / 360.0*2*math.pi\n",
        "math.sin(radians)"
      ],
      "execution_count": 47,
      "outputs": [
        {
          "output_type": "execute_result",
          "data": {
            "text/plain": [
              "0.7071067811865475"
            ]
          },
          "metadata": {
            "tags": []
          },
          "execution_count": 47
        }
      ]
    },
    {
      "cell_type": "code",
      "metadata": {
        "id": "VUr2A2jnLtK9"
      },
      "source": [
        "radians = 0.7\n",
        "height = math.sin(radians)"
      ],
      "execution_count": 48,
      "outputs": []
    },
    {
      "cell_type": "code",
      "metadata": {
        "colab": {
          "base_uri": "https://localhost:8080/"
        },
        "id": "7qcpQavHO99v",
        "outputId": "3e7182d8-3bf7-44aa-e58b-d3c7a11e934b"
      },
      "source": [
        "x = math.sin(degrees/360.0*2*math.pi)\n",
        "x"
      ],
      "execution_count": 49,
      "outputs": [
        {
          "output_type": "execute_result",
          "data": {
            "text/plain": [
              "0.7071067811865475"
            ]
          },
          "metadata": {
            "tags": []
          },
          "execution_count": 49
        }
      ]
    },
    {
      "cell_type": "code",
      "metadata": {
        "colab": {
          "base_uri": "https://localhost:8080/"
        },
        "id": "H5yDFH2RO96P",
        "outputId": "8f1e0d88-caed-41c0-a05d-d89ed3985555"
      },
      "source": [
        "x = math.exp(math.log(x+1))\n",
        "x"
      ],
      "execution_count": 50,
      "outputs": [
        {
          "output_type": "execute_result",
          "data": {
            "text/plain": [
              "1.7071067811865475"
            ]
          },
          "metadata": {
            "tags": []
          },
          "execution_count": 50
        }
      ]
    },
    {
      "cell_type": "code",
      "metadata": {
        "id": "TNeJkrVvO93Y"
      },
      "source": [
        "def print_lyrics():\n",
        "  print('I am amazing!')\n",
        "  print('I study all day long')"
      ],
      "execution_count": 51,
      "outputs": []
    },
    {
      "cell_type": "code",
      "metadata": {
        "colab": {
          "base_uri": "https://localhost:8080/"
        },
        "id": "D62y0nEkO90F",
        "outputId": "41414da4-d809-43ec-e402-c4471c8769dd"
      },
      "source": [
        "print(print_lyrics)"
      ],
      "execution_count": 52,
      "outputs": [
        {
          "output_type": "stream",
          "text": [
            "<function print_lyrics at 0x7f955cb6c710>\n"
          ],
          "name": "stdout"
        }
      ]
    },
    {
      "cell_type": "code",
      "metadata": {
        "colab": {
          "base_uri": "https://localhost:8080/"
        },
        "id": "KiT1rcKtO9w8",
        "outputId": "d21dd146-293b-4874-e137-a3d7eb089cc7"
      },
      "source": [
        "type(print_lyrics)"
      ],
      "execution_count": 53,
      "outputs": [
        {
          "output_type": "execute_result",
          "data": {
            "text/plain": [
              "function"
            ]
          },
          "metadata": {
            "tags": []
          },
          "execution_count": 53
        }
      ]
    },
    {
      "cell_type": "code",
      "metadata": {
        "colab": {
          "base_uri": "https://localhost:8080/"
        },
        "id": "yk0f42usO9qM",
        "outputId": "01f5a206-fe3f-4f78-b242-105d98e4fcd7"
      },
      "source": [
        "print_lyrics()"
      ],
      "execution_count": 54,
      "outputs": [
        {
          "output_type": "stream",
          "text": [
            "I am amazing!\n",
            "I study all day long\n"
          ],
          "name": "stdout"
        }
      ]
    },
    {
      "cell_type": "code",
      "metadata": {
        "colab": {
          "base_uri": "https://localhost:8080/"
        },
        "id": "03DBlOOqO9m8",
        "outputId": "77715b73-26b0-452d-ec34-17f7ba186faf"
      },
      "source": [
        "def repeat_lyrics():\n",
        "  print_lyrics()\n",
        "  print_lyrics()\n",
        "repeat_lyrics()"
      ],
      "execution_count": 55,
      "outputs": [
        {
          "output_type": "stream",
          "text": [
            "I am amazing!\n",
            "I study all day long\n",
            "I am amazing!\n",
            "I study all day long\n"
          ],
          "name": "stdout"
        }
      ]
    },
    {
      "cell_type": "code",
      "metadata": {
        "colab": {
          "base_uri": "https://localhost:8080/"
        },
        "id": "AtfDiOjuOa1W",
        "outputId": "fd19f42e-b0a2-4141-d824-02207f48fc0b"
      },
      "source": [
        "repeat_lyrics()\n",
        "def print_lyrics():\n",
        "  print('I am the best, I am the greatest')\n",
        "  print('I can do anything!')\n",
        "def repeat_lyrics():\n",
        "  print_lyrics()\n",
        "  print_lyrics()"
      ],
      "execution_count": 56,
      "outputs": [
        {
          "output_type": "stream",
          "text": [
            "I am amazing!\n",
            "I study all day long\n",
            "I am amazing!\n",
            "I study all day long\n"
          ],
          "name": "stdout"
        }
      ]
    },
    {
      "cell_type": "code",
      "metadata": {
        "colab": {
          "base_uri": "https://localhost:8080/"
        },
        "id": "Ee5tAI7ZKpP0",
        "outputId": "3e284975-5bad-483a-c23c-5ea387d667bb"
      },
      "source": [
        "def print_lyrics():\n",
        "  print('I am the best, I am the greatest')\n",
        "  print('I can do anything!')\n",
        "def repeat_lyrics():\n",
        "  print_lyrics()\n",
        "  print_lyrics()\n",
        "repeat_lyrics()"
      ],
      "execution_count": 57,
      "outputs": [
        {
          "output_type": "stream",
          "text": [
            "I am the best, I am the greatest\n",
            "I can do anything!\n",
            "I am the best, I am the greatest\n",
            "I can do anything!\n"
          ],
          "name": "stdout"
        }
      ]
    },
    {
      "cell_type": "code",
      "metadata": {
        "colab": {
          "base_uri": "https://localhost:8080/"
        },
        "id": "ceSAEvjPK_GE",
        "outputId": "deab48a6-68a8-44ed-82b9-bbd4845b81ad"
      },
      "source": [
        "repeat_lyrics()\n",
        "def print_lyrics():\n",
        "  print('I am the best, I am the greatest')\n",
        "  print('I can do anything!')\n",
        "def repeat_lyrics():\n",
        "  print_lyrics()\n",
        "  print_lyrics()"
      ],
      "execution_count": 58,
      "outputs": [
        {
          "output_type": "stream",
          "text": [
            "I am the best, I am the greatest\n",
            "I can do anything!\n",
            "I am the best, I am the greatest\n",
            "I can do anything!\n"
          ],
          "name": "stdout"
        }
      ]
    },
    {
      "cell_type": "code",
      "metadata": {
        "colab": {
          "base_uri": "https://localhost:8080/"
        },
        "id": "FwsusCXkOVgI",
        "outputId": "0374486c-5d2e-4fcf-bd5b-614cab55f8ec"
      },
      "source": [
        "def print_lyrics():\n",
        "  print('I am the best, I am the greatest')\n",
        "  print('I can do anything!')\n",
        "def repeat_lyrics():\n",
        "  print_lyrics()\n",
        "  print_lyrics()\n",
        "repeat_lyrics()\n"
      ],
      "execution_count": 64,
      "outputs": [
        {
          "output_type": "stream",
          "text": [
            "I am the best, I am the greatest\n",
            "I can do anything!\n",
            "I am the best, I am the greatest\n",
            "I can do anything!\n"
          ],
          "name": "stdout"
        }
      ]
    },
    {
      "cell_type": "code",
      "metadata": {
        "colab": {
          "base_uri": "https://localhost:8080/"
        },
        "id": "q5OsUNlqU-9a",
        "outputId": "08493f4d-5dfd-46b9-a3c6-e128e609a2d9"
      },
      "source": [
        "print_twice('bruce')"
      ],
      "execution_count": 74,
      "outputs": [
        {
          "output_type": "stream",
          "text": [
            "bruce\n",
            "bruce\n"
          ],
          "name": "stdout"
        }
      ]
    },
    {
      "cell_type": "code",
      "metadata": {
        "id": "Gtv4CvaxOVdR"
      },
      "source": [
        "def print_twice(bruce):\n",
        "  print(bruce)\n",
        "  print(bruce)"
      ],
      "execution_count": 76,
      "outputs": []
    },
    {
      "cell_type": "code",
      "metadata": {
        "colab": {
          "base_uri": "https://localhost:8080/"
        },
        "id": "vlOMLD8ZOVaS",
        "outputId": "7ada3704-8d3f-4c7f-812b-b80f94ab07a4"
      },
      "source": [
        "print_twice('Spam')"
      ],
      "execution_count": 72,
      "outputs": [
        {
          "output_type": "stream",
          "text": [
            "Spam\n",
            "Spam\n"
          ],
          "name": "stdout"
        }
      ]
    },
    {
      "cell_type": "code",
      "metadata": {
        "colab": {
          "base_uri": "https://localhost:8080/"
        },
        "id": "R6yekVfMOVXh",
        "outputId": "9b821984-3a30-4f85-f5ea-9bd967424774"
      },
      "source": [
        "print_twice(17)"
      ],
      "execution_count": 77,
      "outputs": [
        {
          "output_type": "stream",
          "text": [
            "17\n",
            "17\n"
          ],
          "name": "stdout"
        }
      ]
    },
    {
      "cell_type": "code",
      "metadata": {
        "colab": {
          "base_uri": "https://localhost:8080/"
        },
        "id": "HCezTCGnOVUY",
        "outputId": "656bda06-0bc7-4d3e-a9ef-a3473d4ae0ae"
      },
      "source": [
        "print_twice(math.pi)"
      ],
      "execution_count": 78,
      "outputs": [
        {
          "output_type": "stream",
          "text": [
            "3.141592653589793\n",
            "3.141592653589793\n"
          ],
          "name": "stdout"
        }
      ]
    },
    {
      "cell_type": "code",
      "metadata": {
        "colab": {
          "base_uri": "https://localhost:8080/"
        },
        "id": "VVwnfKueOVRA",
        "outputId": "ac7f4a63-11f8-4c18-c387-e54ef997b752"
      },
      "source": [
        "print_twice('spam '*4)"
      ],
      "execution_count": 80,
      "outputs": [
        {
          "output_type": "stream",
          "text": [
            "spam spam spam spam \n",
            "spam spam spam spam \n"
          ],
          "name": "stdout"
        }
      ]
    },
    {
      "cell_type": "code",
      "metadata": {
        "colab": {
          "base_uri": "https://localhost:8080/"
        },
        "id": "kj4HGKJDWHj3",
        "outputId": "273c7cdd-08be-4925-9c0c-4c1b216be346"
      },
      "source": [
        "print_twice(math.cos(math.pi))"
      ],
      "execution_count": 81,
      "outputs": [
        {
          "output_type": "stream",
          "text": [
            "-1.0\n",
            "-1.0\n"
          ],
          "name": "stdout"
        }
      ]
    },
    {
      "cell_type": "code",
      "metadata": {
        "colab": {
          "base_uri": "https://localhost:8080/"
        },
        "id": "bwrNrB4qWOVT",
        "outputId": "f2bc5087-62b7-4b91-9463-ce129feb0ddc"
      },
      "source": [
        "michael = 'Eric, the half a bee.'\n",
        "print_twice(michael)"
      ],
      "execution_count": 82,
      "outputs": [
        {
          "output_type": "stream",
          "text": [
            "Eric, the half a bee.\n",
            "Eric, the half a bee.\n"
          ],
          "name": "stdout"
        }
      ]
    },
    {
      "cell_type": "code",
      "metadata": {
        "id": "ygxclBZBWi-2"
      },
      "source": [
        "def cat_twice(part1, part2):\n",
        "  cat = part1+part2\n",
        "  print_twice(cat)"
      ],
      "execution_count": 83,
      "outputs": []
    },
    {
      "cell_type": "code",
      "metadata": {
        "id": "SvhiYrifWk9t"
      },
      "source": [
        "def cat_twice(part1, part2):\n",
        "  cat = part1 + part2\n",
        "  print_twice(cat)"
      ],
      "execution_count": 84,
      "outputs": []
    },
    {
      "cell_type": "code",
      "metadata": {
        "colab": {
          "base_uri": "https://localhost:8080/"
        },
        "id": "vWeglji_Wk6Y",
        "outputId": "b8ab4e3a-ac92-4a24-d5b4-d729e42361c4"
      },
      "source": [
        "line1 = 'bing tiddle ' \n",
        "line2 = 'tiddle bang. '\n",
        "cat_twice(line1, line2)"
      ],
      "execution_count": 86,
      "outputs": [
        {
          "output_type": "stream",
          "text": [
            "bing tiddle tiddle bang. \n",
            "bing tiddle tiddle bang. \n"
          ],
          "name": "stdout"
        }
      ]
    },
    {
      "cell_type": "code",
      "metadata": {
        "id": "uJ3Uc9j8Wk29"
      },
      "source": [
        "x = math.cos(radians)\n",
        "golden = (math.sqrt(5) + 1) /2"
      ],
      "execution_count": 89,
      "outputs": []
    },
    {
      "cell_type": "code",
      "metadata": {
        "colab": {
          "base_uri": "https://localhost:8080/"
        },
        "id": "bxQo_FxZWkw9",
        "outputId": "dc76fc8e-2afa-4eaf-ff31-67f2d0023021"
      },
      "source": [
        "math.sqrt(5)"
      ],
      "execution_count": 91,
      "outputs": [
        {
          "output_type": "execute_result",
          "data": {
            "text/plain": [
              "2.23606797749979"
            ]
          },
          "metadata": {
            "tags": []
          },
          "execution_count": 91
        }
      ]
    },
    {
      "cell_type": "code",
      "metadata": {
        "colab": {
          "base_uri": "https://localhost:8080/"
        },
        "id": "DiFYwj5RWkt6",
        "outputId": "e98a8070-4317-4739-bdbf-943a7f2a78e9"
      },
      "source": [
        "result = print_twice('Bing')"
      ],
      "execution_count": 92,
      "outputs": [
        {
          "output_type": "stream",
          "text": [
            "Bing\n",
            "Bing\n"
          ],
          "name": "stdout"
        }
      ]
    },
    {
      "cell_type": "code",
      "metadata": {
        "colab": {
          "base_uri": "https://localhost:8080/"
        },
        "id": "5GS95hoPWkqz",
        "outputId": "9c516b84-7fd6-41c7-c470-784ac2d28c81"
      },
      "source": [
        "print(result)"
      ],
      "execution_count": 93,
      "outputs": [
        {
          "output_type": "stream",
          "text": [
            "None\n"
          ],
          "name": "stdout"
        }
      ]
    },
    {
      "cell_type": "code",
      "metadata": {
        "colab": {
          "base_uri": "https://localhost:8080/"
        },
        "id": "NbxJU8EyWkn4",
        "outputId": "92f3d368-a40f-4db6-a1e0-5b7ecb8879a0"
      },
      "source": [
        "print(type(None))"
      ],
      "execution_count": 95,
      "outputs": [
        {
          "output_type": "stream",
          "text": [
            "<class 'NoneType'>\n"
          ],
          "name": "stdout"
        }
      ]
    },
    {
      "cell_type": "code",
      "metadata": {
        "colab": {
          "base_uri": "https://localhost:8080/"
        },
        "id": "Eu-izKciWkkq",
        "outputId": "223a31db-86d8-4507-a820-e6060909bfff"
      },
      "source": [
        "import math\n",
        "print(math)"
      ],
      "execution_count": 98,
      "outputs": [
        {
          "output_type": "stream",
          "text": [
            "<module 'math' (built-in)>\n"
          ],
          "name": "stdout"
        }
      ]
    },
    {
      "cell_type": "code",
      "metadata": {
        "colab": {
          "base_uri": "https://localhost:8080/"
        },
        "id": "ENuol5jOWkhU",
        "outputId": "8a117584-a84d-4912-ce22-60679aadf34b"
      },
      "source": [
        "print(math.pi)"
      ],
      "execution_count": 99,
      "outputs": [
        {
          "output_type": "stream",
          "text": [
            "3.141592653589793\n"
          ],
          "name": "stdout"
        }
      ]
    },
    {
      "cell_type": "code",
      "metadata": {
        "id": "Jj5GS2zlvW7A"
      },
      "source": [
        "from math import pi"
      ],
      "execution_count": 101,
      "outputs": []
    },
    {
      "cell_type": "code",
      "metadata": {
        "colab": {
          "base_uri": "https://localhost:8080/"
        },
        "id": "u8oajFfovhsp",
        "outputId": "2521da35-a7b7-4eda-d454-559979222129"
      },
      "source": [
        "print(pi)"
      ],
      "execution_count": 102,
      "outputs": [
        {
          "output_type": "stream",
          "text": [
            "3.141592653589793\n"
          ],
          "name": "stdout"
        }
      ]
    },
    {
      "cell_type": "code",
      "metadata": {
        "colab": {
          "base_uri": "https://localhost:8080/"
        },
        "id": "oRKy_p-VvobR",
        "outputId": "e1e0e9c3-6902-4f87-9c8a-c55547bd6de7"
      },
      "source": [
        "from math import *\n",
        "cos(pi)"
      ],
      "execution_count": 103,
      "outputs": [
        {
          "output_type": "execute_result",
          "data": {
            "text/plain": [
              "-1.0"
            ]
          },
          "metadata": {
            "tags": []
          },
          "execution_count": 103
        }
      ]
    },
    {
      "cell_type": "code",
      "metadata": {
        "colab": {
          "base_uri": "https://localhost:8080/"
        },
        "id": "AOcjaVYMvq50",
        "outputId": "d41e94c2-de1e-4989-ebea-232863185e83"
      },
      "source": [
        "len('allen')"
      ],
      "execution_count": 104,
      "outputs": [
        {
          "output_type": "execute_result",
          "data": {
            "text/plain": [
              "5"
            ]
          },
          "metadata": {
            "tags": []
          },
          "execution_count": 104
        }
      ]
    },
    {
      "cell_type": "code",
      "metadata": {
        "id": "cVIU7hp1vq2v"
      },
      "source": [
        "def do_twice(f):\n",
        "  f()\n",
        "  f()"
      ],
      "execution_count": 107,
      "outputs": []
    },
    {
      "cell_type": "code",
      "metadata": {
        "id": "pdgcZ6RWvqz0"
      },
      "source": [
        "def print_spam():\n",
        "  print('spam')"
      ],
      "execution_count": 108,
      "outputs": []
    },
    {
      "cell_type": "code",
      "metadata": {
        "colab": {
          "base_uri": "https://localhost:8080/"
        },
        "id": "lNTuTUUEvqwh",
        "outputId": "17e38413-5714-46e3-defe-5d21fa89d93e"
      },
      "source": [
        "do_twice(print_spam)"
      ],
      "execution_count": 109,
      "outputs": [
        {
          "output_type": "stream",
          "text": [
            "spam\n",
            "spam\n"
          ],
          "name": "stdout"
        }
      ]
    },
    {
      "cell_type": "code",
      "metadata": {
        "colab": {
          "base_uri": "https://localhost:8080/"
        },
        "id": "99BQitcovqtz",
        "outputId": "780daba7-fa7b-4135-c3cf-7f0e99c404e7"
      },
      "source": [
        "do_twice(print_spam)"
      ],
      "execution_count": 110,
      "outputs": [
        {
          "output_type": "stream",
          "text": [
            "spam\n",
            "spam\n"
          ],
          "name": "stdout"
        }
      ]
    },
    {
      "cell_type": "code",
      "metadata": {
        "colab": {
          "base_uri": "https://localhost:8080/"
        },
        "id": "WxeUj6Aa05Zs",
        "outputId": "413097fd-213a-4304-f852-a08225905b48"
      },
      "source": [
        "print_twice('hello')"
      ],
      "execution_count": 116,
      "outputs": [
        {
          "output_type": "stream",
          "text": [
            "hello\n",
            "hello\n"
          ],
          "name": "stdout"
        }
      ]
    },
    {
      "cell_type": "code",
      "metadata": {
        "colab": {
          "base_uri": "https://localhost:8080/"
        },
        "id": "3FC-C5_-1J6D",
        "outputId": "23996ba7-cbc3-49f6-c40e-2e1b2f57f759"
      },
      "source": [
        "print_twice('spam')"
      ],
      "execution_count": 117,
      "outputs": [
        {
          "output_type": "stream",
          "text": [
            "spam\n",
            "spam\n"
          ],
          "name": "stdout"
        }
      ]
    },
    {
      "cell_type": "code",
      "metadata": {
        "colab": {
          "base_uri": "https://localhost:8080/",
          "height": 164
        },
        "id": "vshC9_QfvqrD",
        "outputId": "9917f5e3-b04e-4004-eba5-853b868cac55"
      },
      "source": [
        "do_twice(print_locals)"
      ],
      "execution_count": 115,
      "outputs": [
        {
          "output_type": "error",
          "ename": "NameError",
          "evalue": "ignored",
          "traceback": [
            "\u001b[0;31m---------------------------------------------------------------------------\u001b[0m",
            "\u001b[0;31mNameError\u001b[0m                                 Traceback (most recent call last)",
            "\u001b[0;32m<ipython-input-115-b1daf461482a>\u001b[0m in \u001b[0;36m<module>\u001b[0;34m()\u001b[0m\n\u001b[0;32m----> 1\u001b[0;31m \u001b[0mdo_twice\u001b[0m\u001b[0;34m(\u001b[0m\u001b[0mprint_locals\u001b[0m\u001b[0;34m)\u001b[0m\u001b[0;34m\u001b[0m\u001b[0;34m\u001b[0m\u001b[0m\n\u001b[0m",
            "\u001b[0;31mNameError\u001b[0m: name 'print_locals' is not defined"
          ]
        }
      ]
    },
    {
      "cell_type": "code",
      "metadata": {
        "id": "OVNkiI6YvqoC"
      },
      "source": [
        ""
      ],
      "execution_count": null,
      "outputs": []
    },
    {
      "cell_type": "code",
      "metadata": {
        "id": "-JB18OaGvqlK"
      },
      "source": [
        ""
      ],
      "execution_count": null,
      "outputs": []
    },
    {
      "cell_type": "code",
      "metadata": {
        "id": "S6pwWPY9vqiT"
      },
      "source": [
        ""
      ],
      "execution_count": null,
      "outputs": []
    },
    {
      "cell_type": "code",
      "metadata": {
        "id": "Iwg5Q16VvqfP"
      },
      "source": [
        ""
      ],
      "execution_count": null,
      "outputs": []
    },
    {
      "cell_type": "code",
      "metadata": {
        "id": "B3DGFIFIvqcn"
      },
      "source": [
        ""
      ],
      "execution_count": null,
      "outputs": []
    }
  ]
}