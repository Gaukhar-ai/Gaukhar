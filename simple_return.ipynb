{
  "nbformat": 4,
  "nbformat_minor": 0,
  "metadata": {
    "colab": {
      "name": "simple_return.ipynb",
      "provenance": [],
      "authorship_tag": "ABX9TyM1b/xSJHQbr5MwxH1s6OK/",
      "include_colab_link": true
    },
    "kernelspec": {
      "name": "python3",
      "display_name": "Python 3"
    },
    "language_info": {
      "name": "python"
    }
  },
  "cells": [
    {
      "cell_type": "markdown",
      "metadata": {
        "id": "view-in-github",
        "colab_type": "text"
      },
      "source": [
        "<a href=\"https://colab.research.google.com/github/Gaukhar-ai/Gaukhar/blob/master/simple_return.ipynb\" target=\"_parent\"><img src=\"https://colab.research.google.com/assets/colab-badge.svg\" alt=\"Open In Colab\"/></a>"
      ]
    },
    {
      "cell_type": "code",
      "metadata": {
        "id": "0yB4CZCIe2x6"
      },
      "source": [
        "import numpy as np\n",
        "from pandas_datareader import data as wb\n",
        "import matplotlib.pyplot as plt"
      ],
      "execution_count": 1,
      "outputs": []
    },
    {
      "cell_type": "code",
      "metadata": {
        "id": "oEONPlU0fEf4"
      },
      "source": [
        "PG = wb.DataReader('PG', data_source='yahoo', start = '1995-1-1')"
      ],
      "execution_count": 2,
      "outputs": []
    },
    {
      "cell_type": "code",
      "metadata": {
        "colab": {
          "base_uri": "https://localhost:8080/",
          "height": 235
        },
        "id": "WTOJPKmkfNNv",
        "outputId": "2db72a24-98d0-400c-ddd8-4a8360215039"
      },
      "source": [
        "PG.head()"
      ],
      "execution_count": 3,
      "outputs": [
        {
          "output_type": "execute_result",
          "data": {
            "text/html": [
              "<div>\n",
              "<style scoped>\n",
              "    .dataframe tbody tr th:only-of-type {\n",
              "        vertical-align: middle;\n",
              "    }\n",
              "\n",
              "    .dataframe tbody tr th {\n",
              "        vertical-align: top;\n",
              "    }\n",
              "\n",
              "    .dataframe thead th {\n",
              "        text-align: right;\n",
              "    }\n",
              "</style>\n",
              "<table border=\"1\" class=\"dataframe\">\n",
              "  <thead>\n",
              "    <tr style=\"text-align: right;\">\n",
              "      <th></th>\n",
              "      <th>High</th>\n",
              "      <th>Low</th>\n",
              "      <th>Open</th>\n",
              "      <th>Close</th>\n",
              "      <th>Volume</th>\n",
              "      <th>Adj Close</th>\n",
              "    </tr>\n",
              "    <tr>\n",
              "      <th>Date</th>\n",
              "      <th></th>\n",
              "      <th></th>\n",
              "      <th></th>\n",
              "      <th></th>\n",
              "      <th></th>\n",
              "      <th></th>\n",
              "    </tr>\n",
              "  </thead>\n",
              "  <tbody>\n",
              "    <tr>\n",
              "      <th>1995-01-03</th>\n",
              "      <td>15.62500</td>\n",
              "      <td>15.43750</td>\n",
              "      <td>15.46875</td>\n",
              "      <td>15.59375</td>\n",
              "      <td>3318400.0</td>\n",
              "      <td>8.166473</td>\n",
              "    </tr>\n",
              "    <tr>\n",
              "      <th>1995-01-04</th>\n",
              "      <td>15.65625</td>\n",
              "      <td>15.31250</td>\n",
              "      <td>15.53125</td>\n",
              "      <td>15.46875</td>\n",
              "      <td>2218800.0</td>\n",
              "      <td>8.101009</td>\n",
              "    </tr>\n",
              "    <tr>\n",
              "      <th>1995-01-05</th>\n",
              "      <td>15.43750</td>\n",
              "      <td>15.21875</td>\n",
              "      <td>15.37500</td>\n",
              "      <td>15.25000</td>\n",
              "      <td>2319600.0</td>\n",
              "      <td>7.986450</td>\n",
              "    </tr>\n",
              "    <tr>\n",
              "      <th>1995-01-06</th>\n",
              "      <td>15.40625</td>\n",
              "      <td>15.15625</td>\n",
              "      <td>15.15625</td>\n",
              "      <td>15.28125</td>\n",
              "      <td>3438000.0</td>\n",
              "      <td>8.002816</td>\n",
              "    </tr>\n",
              "    <tr>\n",
              "      <th>1995-01-09</th>\n",
              "      <td>15.40625</td>\n",
              "      <td>15.18750</td>\n",
              "      <td>15.34375</td>\n",
              "      <td>15.21875</td>\n",
              "      <td>1795200.0</td>\n",
              "      <td>7.970086</td>\n",
              "    </tr>\n",
              "  </tbody>\n",
              "</table>\n",
              "</div>"
            ],
            "text/plain": [
              "                High       Low      Open     Close     Volume  Adj Close\n",
              "Date                                                                    \n",
              "1995-01-03  15.62500  15.43750  15.46875  15.59375  3318400.0   8.166473\n",
              "1995-01-04  15.65625  15.31250  15.53125  15.46875  2218800.0   8.101009\n",
              "1995-01-05  15.43750  15.21875  15.37500  15.25000  2319600.0   7.986450\n",
              "1995-01-06  15.40625  15.15625  15.15625  15.28125  3438000.0   8.002816\n",
              "1995-01-09  15.40625  15.18750  15.34375  15.21875  1795200.0   7.970086"
            ]
          },
          "metadata": {
            "tags": []
          },
          "execution_count": 3
        }
      ]
    },
    {
      "cell_type": "code",
      "metadata": {
        "colab": {
          "base_uri": "https://localhost:8080/",
          "height": 235
        },
        "id": "ZNQoAT__fOpm",
        "outputId": "987961e0-5773-41cd-960b-ea03e7b9c3b7"
      },
      "source": [
        "PG.tail()"
      ],
      "execution_count": 4,
      "outputs": [
        {
          "output_type": "execute_result",
          "data": {
            "text/html": [
              "<div>\n",
              "<style scoped>\n",
              "    .dataframe tbody tr th:only-of-type {\n",
              "        vertical-align: middle;\n",
              "    }\n",
              "\n",
              "    .dataframe tbody tr th {\n",
              "        vertical-align: top;\n",
              "    }\n",
              "\n",
              "    .dataframe thead th {\n",
              "        text-align: right;\n",
              "    }\n",
              "</style>\n",
              "<table border=\"1\" class=\"dataframe\">\n",
              "  <thead>\n",
              "    <tr style=\"text-align: right;\">\n",
              "      <th></th>\n",
              "      <th>High</th>\n",
              "      <th>Low</th>\n",
              "      <th>Open</th>\n",
              "      <th>Close</th>\n",
              "      <th>Volume</th>\n",
              "      <th>Adj Close</th>\n",
              "    </tr>\n",
              "    <tr>\n",
              "      <th>Date</th>\n",
              "      <th></th>\n",
              "      <th></th>\n",
              "      <th></th>\n",
              "      <th></th>\n",
              "      <th></th>\n",
              "      <th></th>\n",
              "    </tr>\n",
              "  </thead>\n",
              "  <tbody>\n",
              "    <tr>\n",
              "      <th>2021-03-31</th>\n",
              "      <td>136.750000</td>\n",
              "      <td>135.259995</td>\n",
              "      <td>135.679993</td>\n",
              "      <td>135.429993</td>\n",
              "      <td>9202600.0</td>\n",
              "      <td>135.429993</td>\n",
              "    </tr>\n",
              "    <tr>\n",
              "      <th>2021-04-01</th>\n",
              "      <td>135.479996</td>\n",
              "      <td>133.330002</td>\n",
              "      <td>135.050003</td>\n",
              "      <td>134.279999</td>\n",
              "      <td>9116600.0</td>\n",
              "      <td>134.279999</td>\n",
              "    </tr>\n",
              "    <tr>\n",
              "      <th>2021-04-05</th>\n",
              "      <td>137.250000</td>\n",
              "      <td>134.729996</td>\n",
              "      <td>134.960007</td>\n",
              "      <td>136.449997</td>\n",
              "      <td>8279100.0</td>\n",
              "      <td>136.449997</td>\n",
              "    </tr>\n",
              "    <tr>\n",
              "      <th>2021-04-06</th>\n",
              "      <td>137.020004</td>\n",
              "      <td>135.639999</td>\n",
              "      <td>136.000000</td>\n",
              "      <td>136.500000</td>\n",
              "      <td>6140300.0</td>\n",
              "      <td>136.500000</td>\n",
              "    </tr>\n",
              "    <tr>\n",
              "      <th>2021-04-07</th>\n",
              "      <td>137.330002</td>\n",
              "      <td>136.250000</td>\n",
              "      <td>137.119995</td>\n",
              "      <td>136.740005</td>\n",
              "      <td>6304689.0</td>\n",
              "      <td>136.740005</td>\n",
              "    </tr>\n",
              "  </tbody>\n",
              "</table>\n",
              "</div>"
            ],
            "text/plain": [
              "                  High         Low  ...     Volume   Adj Close\n",
              "Date                                ...                       \n",
              "2021-03-31  136.750000  135.259995  ...  9202600.0  135.429993\n",
              "2021-04-01  135.479996  133.330002  ...  9116600.0  134.279999\n",
              "2021-04-05  137.250000  134.729996  ...  8279100.0  136.449997\n",
              "2021-04-06  137.020004  135.639999  ...  6140300.0  136.500000\n",
              "2021-04-07  137.330002  136.250000  ...  6304689.0  136.740005\n",
              "\n",
              "[5 rows x 6 columns]"
            ]
          },
          "metadata": {
            "tags": []
          },
          "execution_count": 4
        }
      ]
    },
    {
      "cell_type": "markdown",
      "metadata": {
        "id": "2ieuXcAagWvu"
      },
      "source": [
        "Today's price / yesterdays price - 1 = rate of return\n",
        "\n",
        "pandas.DataFrame.shift(# of lags) shift index by # (here value of the previous 1 day)"
      ]
    },
    {
      "cell_type": "code",
      "metadata": {
        "colab": {
          "base_uri": "https://localhost:8080/"
        },
        "id": "TANmR8gtfPrm",
        "outputId": "c298dffd-6ff8-47ff-e928-b0a17e1c8c4e"
      },
      "source": [
        "PG['simple_return'] = (PG['Adj Close']/PG['Adj Close'].shift(1)) - 1\n",
        "print(PG['simple_return'])"
      ],
      "execution_count": 6,
      "outputs": [
        {
          "output_type": "stream",
          "text": [
            "Date\n",
            "1995-01-03         NaN\n",
            "1995-01-04   -0.008016\n",
            "1995-01-05   -0.014141\n",
            "1995-01-06    0.002049\n",
            "1995-01-09   -0.004090\n",
            "                ...   \n",
            "2021-03-31   -0.000148\n",
            "2021-04-01   -0.008491\n",
            "2021-04-05    0.016160\n",
            "2021-04-06    0.000366\n",
            "2021-04-07    0.001758\n",
            "Name: simple_return, Length: 6612, dtype: float64\n"
          ],
          "name": "stdout"
        }
      ]
    },
    {
      "cell_type": "code",
      "metadata": {
        "id": "v-JcWknjfj4K"
      },
      "source": [
        ""
      ],
      "execution_count": null,
      "outputs": []
    }
  ]
}