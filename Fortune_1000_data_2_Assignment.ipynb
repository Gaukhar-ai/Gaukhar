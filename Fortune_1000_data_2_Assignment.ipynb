{
  "nbformat": 4,
  "nbformat_minor": 0,
  "metadata": {
    "kernelspec": {
      "display_name": "Python 3",
      "language": "python",
      "name": "python3"
    },
    "language_info": {
      "codemirror_mode": {
        "name": "ipython",
        "version": 3
      },
      "file_extension": ".py",
      "mimetype": "text/x-python",
      "name": "python",
      "nbconvert_exporter": "python",
      "pygments_lexer": "ipython3",
      "version": "3.7.2"
    },
    "colab": {
      "name": "Fortune 1000 data 2 Assignment.ipynb",
      "provenance": [],
      "collapsed_sections": [],
      "include_colab_link": true
    }
  },
  "cells": [
    {
      "cell_type": "markdown",
      "metadata": {
        "id": "view-in-github",
        "colab_type": "text"
      },
      "source": [
        "<a href=\"https://colab.research.google.com/github/Gaukhar-ai/Gaukhar/blob/master/Fortune_1000_data_2_Assignment.ipynb\" target=\"_parent\"><img src=\"https://colab.research.google.com/assets/colab-badge.svg\" alt=\"Open In Colab\"/></a>"
      ]
    },
    {
      "cell_type": "markdown",
      "metadata": {
        "id": "P7Ilhj45tM4S",
        "colab_type": "text"
      },
      "source": [
        "# Descriptive Statistics Assignment"
      ]
    },
    {
      "cell_type": "code",
      "metadata": {
        "id": "PHC3rj3htM4T",
        "colab_type": "code",
        "colab": {}
      },
      "source": [
        "import pandas as pd\n",
        "\n",
        "data_url = \"https://docs.google.com/spreadsheets/d/1w1BfAGjEJk_Ywglo0nWKUk5gKmqEmfFb101IoXtj8D8/export?format=csv\""
      ],
      "execution_count": null,
      "outputs": []
    },
    {
      "cell_type": "markdown",
      "metadata": {
        "id": "y_WevD1ftM4X",
        "colab_type": "text"
      },
      "source": [
        "### Read the Fortune 1000 data (using `data_url`) into a Pandas data frame."
      ]
    },
    {
      "cell_type": "code",
      "metadata": {
        "id": "RPX9nbZ1tM4Y",
        "colab_type": "code",
        "colab": {
          "base_uri": "https://localhost:8080/",
          "height": 568
        },
        "outputId": "a6a1e973-a7e5-4cb5-cf99-d9c54c92c9cd"
      },
      "source": [
        "data = pd.read_csv(data_url)\n",
        "df = pd.DataFrame(data)\n",
        "\n",
        "# don't need to create a data variable\n",
        "# pd.read_csv() creates a DataFrame by itself\n",
        "# can create the DataFrame in one line using the code below\n",
        "#   df = pd.read_csv(data_url)\n",
        "\n",
        "df.head(5)"
      ],
      "execution_count": null,
      "outputs": [
        {
          "output_type": "execute_result",
          "data": {
            "text/html": [
              "<div>\n",
              "<style scoped>\n",
              "    .dataframe tbody tr th:only-of-type {\n",
              "        vertical-align: middle;\n",
              "    }\n",
              "\n",
              "    .dataframe tbody tr th {\n",
              "        vertical-align: top;\n",
              "    }\n",
              "\n",
              "    .dataframe thead th {\n",
              "        text-align: right;\n",
              "    }\n",
              "</style>\n",
              "<table border=\"1\" class=\"dataframe\">\n",
              "  <thead>\n",
              "    <tr style=\"text-align: right;\">\n",
              "      <th></th>\n",
              "      <th>rank</th>\n",
              "      <th>title</th>\n",
              "      <th>Previous Rank</th>\n",
              "      <th>Revenues ($M)</th>\n",
              "      <th>Revenue Change</th>\n",
              "      <th>Profits ($M)</th>\n",
              "      <th>Profit Change</th>\n",
              "      <th>Assets ($M)</th>\n",
              "      <th>Mkt Value as of 3/29/18 ($M)</th>\n",
              "      <th>Employees</th>\n",
              "      <th>CEO</th>\n",
              "      <th>CEO Title</th>\n",
              "      <th>Sector</th>\n",
              "      <th>Industry</th>\n",
              "      <th>Years on Fortune 500 List</th>\n",
              "      <th>City</th>\n",
              "      <th>State</th>\n",
              "      <th>Latitude</th>\n",
              "      <th>Longitude</th>\n",
              "    </tr>\n",
              "  </thead>\n",
              "  <tbody>\n",
              "    <tr>\n",
              "      <th>0</th>\n",
              "      <td>1</td>\n",
              "      <td>Walmart</td>\n",
              "      <td>1</td>\n",
              "      <td>$500,343</td>\n",
              "      <td>3.00%</td>\n",
              "      <td>$9,862.00</td>\n",
              "      <td>-27.70%</td>\n",
              "      <td>$204,522</td>\n",
              "      <td>$263,563</td>\n",
              "      <td>2,300,000</td>\n",
              "      <td>C. Douglas McMillon</td>\n",
              "      <td>President, Chief Executive Officer &amp;  Director</td>\n",
              "      <td>Retailing</td>\n",
              "      <td>General Merchandisers</td>\n",
              "      <td>24</td>\n",
              "      <td>Bentonville</td>\n",
              "      <td>AR</td>\n",
              "      <td>36.372854</td>\n",
              "      <td>-94.208817</td>\n",
              "    </tr>\n",
              "    <tr>\n",
              "      <th>1</th>\n",
              "      <td>2</td>\n",
              "      <td>Exxon Mobil</td>\n",
              "      <td>4</td>\n",
              "      <td>$244,363</td>\n",
              "      <td>17.40%</td>\n",
              "      <td>$19,710.00</td>\n",
              "      <td>151.40%</td>\n",
              "      <td>$348,691</td>\n",
              "      <td>$316,157</td>\n",
              "      <td>71,200</td>\n",
              "      <td>Darren W. Woods</td>\n",
              "      <td>Chairman &amp;  Chief Executive Officer</td>\n",
              "      <td>Energy</td>\n",
              "      <td>Petroleum Refining</td>\n",
              "      <td>24</td>\n",
              "      <td>Irving</td>\n",
              "      <td>TX</td>\n",
              "      <td>32.814018</td>\n",
              "      <td>-96.948894</td>\n",
              "    </tr>\n",
              "    <tr>\n",
              "      <th>2</th>\n",
              "      <td>3</td>\n",
              "      <td>Berkshire Hathaway</td>\n",
              "      <td>2</td>\n",
              "      <td>$242,137</td>\n",
              "      <td>8.30%</td>\n",
              "      <td>$44,940.00</td>\n",
              "      <td>86.70%</td>\n",
              "      <td>$702,095</td>\n",
              "      <td>$492,008</td>\n",
              "      <td>377,000</td>\n",
              "      <td>Warren E. Buffett</td>\n",
              "      <td>Chairman, President &amp;  Chief Executive Officer</td>\n",
              "      <td>Financials</td>\n",
              "      <td>Insurance: Property and Casualty (Stock)</td>\n",
              "      <td>24</td>\n",
              "      <td>Omaha</td>\n",
              "      <td>NE</td>\n",
              "      <td>41.256537</td>\n",
              "      <td>-95.934503</td>\n",
              "    </tr>\n",
              "    <tr>\n",
              "      <th>3</th>\n",
              "      <td>4</td>\n",
              "      <td>Apple</td>\n",
              "      <td>3</td>\n",
              "      <td>$229,234</td>\n",
              "      <td>6.30%</td>\n",
              "      <td>$48,351.00</td>\n",
              "      <td>5.80%</td>\n",
              "      <td>$375,319</td>\n",
              "      <td>$851,318</td>\n",
              "      <td>123,000</td>\n",
              "      <td>Timothy D. Cook</td>\n",
              "      <td>Chairman &amp;  Chief Executive Officer</td>\n",
              "      <td>Technology</td>\n",
              "      <td>Computers, Office Equipment</td>\n",
              "      <td>24</td>\n",
              "      <td>Cupertino</td>\n",
              "      <td>CA</td>\n",
              "      <td>37.322998</td>\n",
              "      <td>-122.032182</td>\n",
              "    </tr>\n",
              "    <tr>\n",
              "      <th>4</th>\n",
              "      <td>5</td>\n",
              "      <td>UnitedHealth Group</td>\n",
              "      <td>6</td>\n",
              "      <td>$201,159</td>\n",
              "      <td>8.80%</td>\n",
              "      <td>$10,558.00</td>\n",
              "      <td>50.50%</td>\n",
              "      <td>$139,058</td>\n",
              "      <td>$207,080</td>\n",
              "      <td>260,000</td>\n",
              "      <td>David S. Wichmann</td>\n",
              "      <td>Chairman &amp;  Chief Executive Officer</td>\n",
              "      <td>Health Care</td>\n",
              "      <td>Health Care: Insurance and Managed Care</td>\n",
              "      <td>24</td>\n",
              "      <td>Minnetonka</td>\n",
              "      <td>MN</td>\n",
              "      <td>44.921184</td>\n",
              "      <td>-93.468749</td>\n",
              "    </tr>\n",
              "  </tbody>\n",
              "</table>\n",
              "</div>"
            ],
            "text/plain": [
              "   rank               title Previous Rank  ... State   Latitude   Longitude\n",
              "0     1             Walmart             1  ...    AR  36.372854  -94.208817\n",
              "1     2         Exxon Mobil             4  ...    TX  32.814018  -96.948894\n",
              "2     3  Berkshire Hathaway             2  ...    NE  41.256537  -95.934503\n",
              "3     4               Apple             3  ...    CA  37.322998 -122.032182\n",
              "4     5  UnitedHealth Group             6  ...    MN  44.921184  -93.468749\n",
              "\n",
              "[5 rows x 19 columns]"
            ]
          },
          "metadata": {
            "tags": []
          },
          "execution_count": 2
        }
      ]
    },
    {
      "cell_type": "markdown",
      "metadata": {
        "id": "u58Qq-xjtM4a",
        "colab_type": "text"
      },
      "source": [
        "### Print the data type for each column."
      ]
    },
    {
      "cell_type": "code",
      "metadata": {
        "id": "kgrSk4sjtM4b",
        "colab_type": "code",
        "colab": {
          "base_uri": "https://localhost:8080/",
          "height": 454
        },
        "outputId": "804851b2-e429-4754-db66-0c4b2025d50b"
      },
      "source": [
        "df.info()\n",
        "\n",
        "#  can also use the below command to get the column data types\n",
        "#   df.dtypes"
      ],
      "execution_count": null,
      "outputs": [
        {
          "output_type": "stream",
          "text": [
            "<class 'pandas.core.frame.DataFrame'>\n",
            "RangeIndex: 1000 entries, 0 to 999\n",
            "Data columns (total 19 columns):\n",
            " #   Column                        Non-Null Count  Dtype  \n",
            "---  ------                        --------------  -----  \n",
            " 0   rank                          1000 non-null   int64  \n",
            " 1   title                         1000 non-null   object \n",
            " 2   Previous Rank                 938 non-null    object \n",
            " 3   Revenues ($M)                 1000 non-null   object \n",
            " 4   Revenue Change                1000 non-null   object \n",
            " 5   Profits ($M)                  1000 non-null   object \n",
            " 6   Profit Change                 1000 non-null   object \n",
            " 7   Assets ($M)                   1000 non-null   object \n",
            " 8   Mkt Value as of 3/29/18 ($M)  1000 non-null   object \n",
            " 9   Employees                     1000 non-null   object \n",
            " 10  CEO                           1000 non-null   object \n",
            " 11  CEO Title                     1000 non-null   object \n",
            " 12  Sector                        1000 non-null   object \n",
            " 13  Industry                      1000 non-null   object \n",
            " 14  Years on Fortune 500 List     1000 non-null   object \n",
            " 15  City                          999 non-null    object \n",
            " 16  State                         1000 non-null   object \n",
            " 17  Latitude                      1000 non-null   float64\n",
            " 18  Longitude                     1000 non-null   float64\n",
            "dtypes: float64(2), int64(1), object(16)\n",
            "memory usage: 148.6+ KB\n"
          ],
          "name": "stdout"
        }
      ]
    },
    {
      "cell_type": "markdown",
      "metadata": {
        "id": "i-JUNCl1tM4e",
        "colab_type": "text"
      },
      "source": [
        "### Generate a basic set of descriptive statistics for the numeric fields in the data set."
      ]
    },
    {
      "cell_type": "code",
      "metadata": {
        "id": "Lh9RxSL1tM4e",
        "colab_type": "code",
        "colab": {
          "base_uri": "https://localhost:8080/",
          "height": 284
        },
        "outputId": "df604310-e6f2-4315-ccc3-facd3ca83093"
      },
      "source": [
        "df.describe()\n"
      ],
      "execution_count": null,
      "outputs": [
        {
          "output_type": "execute_result",
          "data": {
            "text/html": [
              "<div>\n",
              "<style scoped>\n",
              "    .dataframe tbody tr th:only-of-type {\n",
              "        vertical-align: middle;\n",
              "    }\n",
              "\n",
              "    .dataframe tbody tr th {\n",
              "        vertical-align: top;\n",
              "    }\n",
              "\n",
              "    .dataframe thead th {\n",
              "        text-align: right;\n",
              "    }\n",
              "</style>\n",
              "<table border=\"1\" class=\"dataframe\">\n",
              "  <thead>\n",
              "    <tr style=\"text-align: right;\">\n",
              "      <th></th>\n",
              "      <th>rank</th>\n",
              "      <th>Latitude</th>\n",
              "      <th>Longitude</th>\n",
              "    </tr>\n",
              "  </thead>\n",
              "  <tbody>\n",
              "    <tr>\n",
              "      <th>count</th>\n",
              "      <td>1000.000000</td>\n",
              "      <td>1000.000000</td>\n",
              "      <td>1000.000000</td>\n",
              "    </tr>\n",
              "    <tr>\n",
              "      <th>mean</th>\n",
              "      <td>500.499000</td>\n",
              "      <td>38.228050</td>\n",
              "      <td>-90.359700</td>\n",
              "    </tr>\n",
              "    <tr>\n",
              "      <th>std</th>\n",
              "      <td>288.818771</td>\n",
              "      <td>4.643421</td>\n",
              "      <td>16.145941</td>\n",
              "    </tr>\n",
              "    <tr>\n",
              "      <th>min</th>\n",
              "      <td>1.000000</td>\n",
              "      <td>18.422578</td>\n",
              "      <td>-157.858333</td>\n",
              "    </tr>\n",
              "    <tr>\n",
              "      <th>25%</th>\n",
              "      <td>250.750000</td>\n",
              "      <td>35.207699</td>\n",
              "      <td>-96.698886</td>\n",
              "    </tr>\n",
              "    <tr>\n",
              "      <th>50%</th>\n",
              "      <td>500.500000</td>\n",
              "      <td>39.693419</td>\n",
              "      <td>-86.583760</td>\n",
              "    </tr>\n",
              "    <tr>\n",
              "      <th>75%</th>\n",
              "      <td>750.250000</td>\n",
              "      <td>41.499320</td>\n",
              "      <td>-77.177260</td>\n",
              "    </tr>\n",
              "    <tr>\n",
              "      <th>max</th>\n",
              "      <td>1000.000000</td>\n",
              "      <td>47.978985</td>\n",
              "      <td>-66.050955</td>\n",
              "    </tr>\n",
              "  </tbody>\n",
              "</table>\n",
              "</div>"
            ],
            "text/plain": [
              "              rank     Latitude    Longitude\n",
              "count  1000.000000  1000.000000  1000.000000\n",
              "mean    500.499000    38.228050   -90.359700\n",
              "std     288.818771     4.643421    16.145941\n",
              "min       1.000000    18.422578  -157.858333\n",
              "25%     250.750000    35.207699   -96.698886\n",
              "50%     500.500000    39.693419   -86.583760\n",
              "75%     750.250000    41.499320   -77.177260\n",
              "max    1000.000000    47.978985   -66.050955"
            ]
          },
          "metadata": {
            "tags": []
          },
          "execution_count": 4
        }
      ]
    },
    {
      "cell_type": "markdown",
      "metadata": {
        "id": "fXoDTnC9tM4h",
        "colab_type": "text"
      },
      "source": [
        "### Calculate the following for each numeric field in the data set and add them to the data frame containing the basic set of descriptive statistics.\n",
        "\n",
        "- Variance\n",
        "- Mean Absolute Deviation\n",
        "- Range\n",
        "- Interquartile Range"
      ]
    },
    {
      "cell_type": "markdown",
      "metadata": {
        "id": "81YZ6C7ftM4l",
        "colab_type": "text"
      },
      "source": [
        "### Generate a basic set of descriptive statistics for the categorical fields in the data set."
      ]
    },
    {
      "cell_type": "code",
      "metadata": {
        "id": "NCu1eHOGtM4l",
        "colab_type": "code",
        "colab": {
          "base_uri": "https://localhost:8080/",
          "height": 252
        },
        "outputId": "fe8723d2-a851-48d6-ff38-f8ea35e21955"
      },
      "source": [
        "df.describe\n"
      ],
      "execution_count": null,
      "outputs": [
        {
          "output_type": "execute_result",
          "data": {
            "text/plain": [
              "<bound method NDFrame.describe of      rank                            title  ...   Latitude   Longitude\n",
              "0       1                          Walmart  ...  36.372854  -94.208817\n",
              "1       2                      Exxon Mobil  ...  32.814018  -96.948894\n",
              "2       3               Berkshire Hathaway  ...  41.256537  -95.934503\n",
              "3       4                            Apple  ...  37.322998 -122.032182\n",
              "4       5               UnitedHealth Group  ...  44.921184  -93.468749\n",
              "..    ...                              ...  ...        ...         ...\n",
              "995   996         SiteOne Landscape Supply  ...  34.023243  -84.361556\n",
              "996   997  Charles River Laboratories Intl  ...  42.548171  -71.172447\n",
              "997   998                        CoreLogic  ...  33.684567 -117.826505\n",
              "998   999                     Ensign Group  ...  33.596891 -117.658156\n",
              "999  1000                              HCP  ...  33.684567 -117.826505\n",
              "\n",
              "[1000 rows x 19 columns]>"
            ]
          },
          "metadata": {
            "tags": []
          },
          "execution_count": 5
        }
      ]
    },
    {
      "cell_type": "code",
      "metadata": {
        "id": "FGxTOeMWtM4h",
        "colab_type": "code",
        "colab": {
          "base_uri": "https://localhost:8080/",
          "height": 454
        },
        "outputId": "ed56fe30-3cb4-49e2-9f6e-98b82c9433c5"
      },
      "source": [
        "features = ['Revenues ($M)', 'Profits ($M)', 'Assets ($M)', 'Employees']\n",
        "\n",
        "for feat in features:\n",
        "    df[feat] = df[feat].str.replace(',', '') \n",
        "    df[feat] = df[feat].str.replace('$', '')\n",
        "    df[feat] = pd.to_numeric(df[feat], errors='coerce')\n",
        "df.info()\n"
      ],
      "execution_count": null,
      "outputs": [
        {
          "output_type": "stream",
          "text": [
            "<class 'pandas.core.frame.DataFrame'>\n",
            "RangeIndex: 1000 entries, 0 to 999\n",
            "Data columns (total 19 columns):\n",
            " #   Column                        Non-Null Count  Dtype  \n",
            "---  ------                        --------------  -----  \n",
            " 0   rank                          1000 non-null   int64  \n",
            " 1   title                         1000 non-null   object \n",
            " 2   Previous Rank                 938 non-null    object \n",
            " 3   Revenues ($M)                 1000 non-null   float64\n",
            " 4   Revenue Change                1000 non-null   object \n",
            " 5   Profits ($M)                  998 non-null    float64\n",
            " 6   Profit Change                 1000 non-null   object \n",
            " 7   Assets ($M)                   1000 non-null   float64\n",
            " 8   Mkt Value as of 3/29/18 ($M)  1000 non-null   object \n",
            " 9   Employees                     1000 non-null   int64  \n",
            " 10  CEO                           1000 non-null   object \n",
            " 11  CEO Title                     1000 non-null   object \n",
            " 12  Sector                        1000 non-null   object \n",
            " 13  Industry                      1000 non-null   object \n",
            " 14  Years on Fortune 500 List     1000 non-null   object \n",
            " 15  City                          999 non-null    object \n",
            " 16  State                         1000 non-null   object \n",
            " 17  Latitude                      1000 non-null   float64\n",
            " 18  Longitude                     1000 non-null   float64\n",
            "dtypes: float64(5), int64(2), object(12)\n",
            "memory usage: 148.6+ KB\n"
          ],
          "name": "stdout"
        }
      ]
    },
    {
      "cell_type": "markdown",
      "metadata": {
        "id": "vGaAtIbwtM4o",
        "colab_type": "text"
      },
      "source": [
        "### Calculate the Pearson correlation coefficients between Revenue, Profit, Assets, and Employees."
      ]
    },
    {
      "cell_type": "code",
      "metadata": {
        "id": "yWWeNyBxtM4p",
        "colab_type": "code",
        "colab": {
          "base_uri": "https://localhost:8080/",
          "height": 254
        },
        "outputId": "ad3e1716-b0bc-441f-894b-49c800faa2b7"
      },
      "source": [
        "df.corr()"
      ],
      "execution_count": null,
      "outputs": [
        {
          "output_type": "execute_result",
          "data": {
            "text/html": [
              "<div>\n",
              "<style scoped>\n",
              "    .dataframe tbody tr th:only-of-type {\n",
              "        vertical-align: middle;\n",
              "    }\n",
              "\n",
              "    .dataframe tbody tr th {\n",
              "        vertical-align: top;\n",
              "    }\n",
              "\n",
              "    .dataframe thead th {\n",
              "        text-align: right;\n",
              "    }\n",
              "</style>\n",
              "<table border=\"1\" class=\"dataframe\">\n",
              "  <thead>\n",
              "    <tr style=\"text-align: right;\">\n",
              "      <th></th>\n",
              "      <th>rank</th>\n",
              "      <th>Revenues ($M)</th>\n",
              "      <th>Profits ($M)</th>\n",
              "      <th>Assets ($M)</th>\n",
              "      <th>Employees</th>\n",
              "      <th>Latitude</th>\n",
              "      <th>Longitude</th>\n",
              "    </tr>\n",
              "  </thead>\n",
              "  <tbody>\n",
              "    <tr>\n",
              "      <th>rank</th>\n",
              "      <td>1.000000</td>\n",
              "      <td>-0.524136</td>\n",
              "      <td>-0.361420</td>\n",
              "      <td>-0.274896</td>\n",
              "      <td>-0.341247</td>\n",
              "      <td>-0.062155</td>\n",
              "      <td>-0.073335</td>\n",
              "    </tr>\n",
              "    <tr>\n",
              "      <th>Revenues ($M)</th>\n",
              "      <td>-0.524136</td>\n",
              "      <td>1.000000</td>\n",
              "      <td>0.602898</td>\n",
              "      <td>0.378866</td>\n",
              "      <td>0.730673</td>\n",
              "      <td>0.056538</td>\n",
              "      <td>-0.026521</td>\n",
              "    </tr>\n",
              "    <tr>\n",
              "      <th>Profits ($M)</th>\n",
              "      <td>-0.361420</td>\n",
              "      <td>0.602898</td>\n",
              "      <td>1.000000</td>\n",
              "      <td>0.383743</td>\n",
              "      <td>0.310152</td>\n",
              "      <td>0.041096</td>\n",
              "      <td>-0.054937</td>\n",
              "    </tr>\n",
              "    <tr>\n",
              "      <th>Assets ($M)</th>\n",
              "      <td>-0.274896</td>\n",
              "      <td>0.378866</td>\n",
              "      <td>0.383743</td>\n",
              "      <td>1.000000</td>\n",
              "      <td>0.169191</td>\n",
              "      <td>0.074279</td>\n",
              "      <td>0.018175</td>\n",
              "    </tr>\n",
              "    <tr>\n",
              "      <th>Employees</th>\n",
              "      <td>-0.341247</td>\n",
              "      <td>0.730673</td>\n",
              "      <td>0.310152</td>\n",
              "      <td>0.169191</td>\n",
              "      <td>1.000000</td>\n",
              "      <td>0.036477</td>\n",
              "      <td>0.009133</td>\n",
              "    </tr>\n",
              "    <tr>\n",
              "      <th>Latitude</th>\n",
              "      <td>-0.062155</td>\n",
              "      <td>0.056538</td>\n",
              "      <td>0.041096</td>\n",
              "      <td>0.074279</td>\n",
              "      <td>0.036477</td>\n",
              "      <td>1.000000</td>\n",
              "      <td>0.212258</td>\n",
              "    </tr>\n",
              "    <tr>\n",
              "      <th>Longitude</th>\n",
              "      <td>-0.073335</td>\n",
              "      <td>-0.026521</td>\n",
              "      <td>-0.054937</td>\n",
              "      <td>0.018175</td>\n",
              "      <td>0.009133</td>\n",
              "      <td>0.212258</td>\n",
              "      <td>1.000000</td>\n",
              "    </tr>\n",
              "  </tbody>\n",
              "</table>\n",
              "</div>"
            ],
            "text/plain": [
              "                   rank  Revenues ($M)  ...  Latitude  Longitude\n",
              "rank           1.000000      -0.524136  ... -0.062155  -0.073335\n",
              "Revenues ($M) -0.524136       1.000000  ...  0.056538  -0.026521\n",
              "Profits ($M)  -0.361420       0.602898  ...  0.041096  -0.054937\n",
              "Assets ($M)   -0.274896       0.378866  ...  0.074279   0.018175\n",
              "Employees     -0.341247       0.730673  ...  0.036477   0.009133\n",
              "Latitude      -0.062155       0.056538  ...  1.000000   0.212258\n",
              "Longitude     -0.073335      -0.026521  ...  0.212258   1.000000\n",
              "\n",
              "[7 rows x 7 columns]"
            ]
          },
          "metadata": {
            "tags": []
          },
          "execution_count": 7
        }
      ]
    },
    {
      "cell_type": "markdown",
      "metadata": {
        "id": "AsFbCCdOtM4r",
        "colab_type": "text"
      },
      "source": [
        "### Group the data by sector and calculate the mean and standard deviation of revenue for each sector."
      ]
    },
    {
      "cell_type": "code",
      "metadata": {
        "id": "FhrxQmuKtM4s",
        "colab_type": "code",
        "colab": {
          "base_uri": "https://localhost:8080/",
          "height": 790
        },
        "outputId": "96322dbd-fe31-437d-dcbc-0ea7e888371f"
      },
      "source": [
        "df.groupby(['Sector']).head(10)\n",
        "print(df.groupby([df.Sector]).mean()['Revenues ($M)'])\n",
        "print(df.groupby([df.Sector]).std()['Revenues ($M)'])"
      ],
      "execution_count": null,
      "outputs": [
        {
          "output_type": "stream",
          "text": [
            "Sector\n",
            "Aerospace &  Defense              15353.400000\n",
            "Apparel                            7225.521429\n",
            "Business Services                  5963.962264\n",
            "Chemicals                          7610.636364\n",
            "Energy                            14425.300935\n",
            "Engineering &  Construction        6399.333333\n",
            "Financials                        15757.935484\n",
            "Food &  Drug Stores               33789.000000\n",
            "Food, Beverages &  Tobacco        13790.054054\n",
            "Health Care                       21239.315493\n",
            "Hotels, Restaurants &  Leisure     6916.346154\n",
            "Household Products                 8277.850000\n",
            "Industrials                       10615.102041\n",
            "Materials                          6184.400000\n",
            "Media                              9219.496000\n",
            "Motor Vehicles &  Parts           22817.631579\n",
            "Retailing                         21874.714286\n",
            "Technology                        13347.789320\n",
            "Telecommunications                46695.900000\n",
            "Transportation                    11379.000000\n",
            "Wholesalers                       20185.204545\n",
            "Name: Revenues ($M), dtype: float64\n",
            "Sector\n",
            "Aerospace &  Defense              22418.101024\n",
            "Apparel                            8291.485768\n",
            "Business Services                  4592.838066\n",
            "Chemicals                         10738.264495\n",
            "Energy                            29487.849008\n",
            "Engineering &  Construction        4915.073135\n",
            "Financials                        28233.130429\n",
            "Food &  Drug Stores               44221.855781\n",
            "Food, Beverages &  Tobacco        15368.556371\n",
            "Health Care                       36165.320863\n",
            "Hotels, Restaurants &  Leisure     6441.236788\n",
            "Household Products                12247.791327\n",
            "Industrials                       19158.335115\n",
            "Materials                          4528.556179\n",
            "Media                             12231.212650\n",
            "Motor Vehicles &  Parts           47563.776080\n",
            "Retailing                         61964.299034\n",
            "Technology                        28849.502883\n",
            "Telecommunications                57149.740825\n",
            "Transportation                    15888.249777\n",
            "Wholesalers                       40442.310045\n",
            "Name: Revenues ($M), dtype: float64\n"
          ],
          "name": "stdout"
        }
      ]
    },
    {
      "cell_type": "markdown",
      "metadata": {
        "id": "e6rJOzh4tM4v",
        "colab_type": "text"
      },
      "source": [
        "### Create a new financial strength index variable that combines the revenue, profit, and assets variables into a single value for each company. Then sort the data frame by that value to see who has the most financial strength. \n",
        "\n",
        "Try different ways of calculating the index and see how your results change."
      ]
    },
    {
      "cell_type": "code",
      "metadata": {
        "id": "JtCtU89HtM4w",
        "colab_type": "code",
        "colab": {
          "base_uri": "https://localhost:8080/",
          "height": 585
        },
        "outputId": "5f23c32b-2f14-4a39-c42e-fcf7b5463f29"
      },
      "source": [
        "df = df.assign(fin_str=df['Assets ($M)'] +df['Profits ($M)'] +df['Revenues ($M)'])\n",
        "df.sort_values(by=\"fin_str\", ascending=False).head()"
      ],
      "execution_count": null,
      "outputs": [
        {
          "output_type": "execute_result",
          "data": {
            "text/html": [
              "<div>\n",
              "<style scoped>\n",
              "    .dataframe tbody tr th:only-of-type {\n",
              "        vertical-align: middle;\n",
              "    }\n",
              "\n",
              "    .dataframe tbody tr th {\n",
              "        vertical-align: top;\n",
              "    }\n",
              "\n",
              "    .dataframe thead th {\n",
              "        text-align: right;\n",
              "    }\n",
              "</style>\n",
              "<table border=\"1\" class=\"dataframe\">\n",
              "  <thead>\n",
              "    <tr style=\"text-align: right;\">\n",
              "      <th></th>\n",
              "      <th>rank</th>\n",
              "      <th>title</th>\n",
              "      <th>Previous Rank</th>\n",
              "      <th>Revenues ($M)</th>\n",
              "      <th>Revenue Change</th>\n",
              "      <th>Profits ($M)</th>\n",
              "      <th>Profit Change</th>\n",
              "      <th>Assets ($M)</th>\n",
              "      <th>Mkt Value as of 3/29/18 ($M)</th>\n",
              "      <th>Employees</th>\n",
              "      <th>CEO</th>\n",
              "      <th>CEO Title</th>\n",
              "      <th>Sector</th>\n",
              "      <th>Industry</th>\n",
              "      <th>Years on Fortune 500 List</th>\n",
              "      <th>City</th>\n",
              "      <th>State</th>\n",
              "      <th>Latitude</th>\n",
              "      <th>Longitude</th>\n",
              "      <th>fin_str</th>\n",
              "    </tr>\n",
              "  </thead>\n",
              "  <tbody>\n",
              "    <tr>\n",
              "      <th>20</th>\n",
              "      <td>21</td>\n",
              "      <td>Fannie Mae</td>\n",
              "      <td>20</td>\n",
              "      <td>112394.0</td>\n",
              "      <td>4.90%</td>\n",
              "      <td>2463.0</td>\n",
              "      <td>-80.00%</td>\n",
              "      <td>3345529.0</td>\n",
              "      <td>$1,633</td>\n",
              "      <td>7200</td>\n",
              "      <td>Timothy J. Mayopoulos</td>\n",
              "      <td>President, Chief Executive Officer &amp;  Director</td>\n",
              "      <td>Financials</td>\n",
              "      <td>Diversified Financials</td>\n",
              "      <td>21</td>\n",
              "      <td>Leavenworth</td>\n",
              "      <td>WA</td>\n",
              "      <td>47.751074</td>\n",
              "      <td>-120.740139</td>\n",
              "      <td>3460386.0</td>\n",
              "    </tr>\n",
              "    <tr>\n",
              "      <th>19</th>\n",
              "      <td>20</td>\n",
              "      <td>JPMorgan Chase</td>\n",
              "      <td>21</td>\n",
              "      <td>113899.0</td>\n",
              "      <td>8.00%</td>\n",
              "      <td>24441.0</td>\n",
              "      <td>-1.20%</td>\n",
              "      <td>2533600.0</td>\n",
              "      <td>$375,043</td>\n",
              "      <td>252539</td>\n",
              "      <td>James Dimon</td>\n",
              "      <td>Chairman &amp;  Chief Executive Officer</td>\n",
              "      <td>Financials</td>\n",
              "      <td>Commercial Banks</td>\n",
              "      <td>24</td>\n",
              "      <td>New York</td>\n",
              "      <td>NY</td>\n",
              "      <td>40.712775</td>\n",
              "      <td>-74.005973</td>\n",
              "      <td>2671940.0</td>\n",
              "    </tr>\n",
              "    <tr>\n",
              "      <th>23</th>\n",
              "      <td>24</td>\n",
              "      <td>Bank of America Corp.</td>\n",
              "      <td>26</td>\n",
              "      <td>100264.0</td>\n",
              "      <td>7.00%</td>\n",
              "      <td>18232.0</td>\n",
              "      <td>1.80%</td>\n",
              "      <td>2281234.0</td>\n",
              "      <td>$306,618</td>\n",
              "      <td>209376</td>\n",
              "      <td>Brian T. Moynihan</td>\n",
              "      <td>Chairman, President &amp;  Chief Executive Officer</td>\n",
              "      <td>Financials</td>\n",
              "      <td>Commercial Banks</td>\n",
              "      <td>24</td>\n",
              "      <td>Charlotte</td>\n",
              "      <td>NC</td>\n",
              "      <td>35.227087</td>\n",
              "      <td>-80.843127</td>\n",
              "      <td>2399730.0</td>\n",
              "    </tr>\n",
              "    <tr>\n",
              "      <th>37</th>\n",
              "      <td>38</td>\n",
              "      <td>Freddie Mac</td>\n",
              "      <td>39</td>\n",
              "      <td>74676.0</td>\n",
              "      <td>13.70%</td>\n",
              "      <td>5625.0</td>\n",
              "      <td>-28.00%</td>\n",
              "      <td>2049776.0</td>\n",
              "      <td>$878</td>\n",
              "      <td>6165</td>\n",
              "      <td>Donald H. Layton</td>\n",
              "      <td>Chairman &amp;  Chief Executive Officer</td>\n",
              "      <td>Financials</td>\n",
              "      <td>Diversified Financials</td>\n",
              "      <td>21</td>\n",
              "      <td>McLean</td>\n",
              "      <td>VA</td>\n",
              "      <td>38.933868</td>\n",
              "      <td>-77.177260</td>\n",
              "      <td>2130077.0</td>\n",
              "    </tr>\n",
              "    <tr>\n",
              "      <th>25</th>\n",
              "      <td>26</td>\n",
              "      <td>Wells Fargo</td>\n",
              "      <td>25</td>\n",
              "      <td>97741.0</td>\n",
              "      <td>3.80%</td>\n",
              "      <td>22183.0</td>\n",
              "      <td>1.10%</td>\n",
              "      <td>1951757.0</td>\n",
              "      <td>$255,556</td>\n",
              "      <td>262700</td>\n",
              "      <td>Timothy J. Sloan</td>\n",
              "      <td>President, Chief Executive Officer &amp;  Director</td>\n",
              "      <td>Financials</td>\n",
              "      <td>Commercial Banks</td>\n",
              "      <td>24</td>\n",
              "      <td>SF</td>\n",
              "      <td>CA</td>\n",
              "      <td>37.774929</td>\n",
              "      <td>-122.419415</td>\n",
              "      <td>2071681.0</td>\n",
              "    </tr>\n",
              "  </tbody>\n",
              "</table>\n",
              "</div>"
            ],
            "text/plain": [
              "    rank                  title Previous Rank  ...   Latitude   Longitude    fin_str\n",
              "20    21             Fannie Mae            20  ...  47.751074 -120.740139  3460386.0\n",
              "19    20         JPMorgan Chase            21  ...  40.712775  -74.005973  2671940.0\n",
              "23    24  Bank of America Corp.            26  ...  35.227087  -80.843127  2399730.0\n",
              "37    38            Freddie Mac            39  ...  38.933868  -77.177260  2130077.0\n",
              "25    26            Wells Fargo            25  ...  37.774929 -122.419415  2071681.0\n",
              "\n",
              "[5 rows x 20 columns]"
            ]
          },
          "metadata": {
            "tags": []
          },
          "execution_count": 9
        }
      ]
    },
    {
      "cell_type": "markdown",
      "metadata": {
        "id": "qyxHrLOvtM4y",
        "colab_type": "text"
      },
      "source": [
        "### Group the data by sector and calculate the average financial strength index for each sector."
      ]
    },
    {
      "cell_type": "code",
      "metadata": {
        "id": "SgYmQ9HytM4z",
        "colab_type": "code",
        "colab": {
          "base_uri": "https://localhost:8080/",
          "height": 403
        },
        "outputId": "3326d267-b0c3-49a5-d3da-2dd758dfc2c3"
      },
      "source": [
        "df.groupby('Sector').mean()['fin_str']\n",
        "\n"
      ],
      "execution_count": null,
      "outputs": [
        {
          "output_type": "execute_result",
          "data": {
            "text/plain": [
              "Sector\n",
              "Aerospace &  Defense               35103.620000\n",
              "Apparel                            13667.114286\n",
              "Business Services                  18349.550943\n",
              "Chemicals                          22821.151515\n",
              "Energy                             46940.218868\n",
              "Engineering &  Construction        12075.325926\n",
              "Financials                        209434.887097\n",
              "Food &  Drug Stores                48580.525000\n",
              "Food, Beverages &  Tobacco         35673.581081\n",
              "Health Care                        49372.495775\n",
              "Hotels, Restaurants &  Leisure     17246.865385\n",
              "Household Products                 21674.021429\n",
              "Industrials                        29660.006122\n",
              "Materials                          13407.320000\n",
              "Media                              27494.748000\n",
              "Motor Vehicles &  Parts            54065.373684\n",
              "Retailing                          34348.859740\n",
              "Technology                         39257.254902\n",
              "Telecommunications                175312.380000\n",
              "Transportation                     26580.257500\n",
              "Wholesalers                        27931.031818\n",
              "Name: fin_str, dtype: float64"
            ]
          },
          "metadata": {
            "tags": []
          },
          "execution_count": 10
        }
      ]
    },
    {
      "cell_type": "code",
      "metadata": {
        "id": "2aL-HGFFVq7b",
        "colab_type": "code",
        "colab": {
          "base_uri": "https://localhost:8080/",
          "height": 403
        },
        "outputId": "bd3145ba-ddbc-4e74-9a3f-b38fc511110d"
      },
      "source": [
        "df.groupby('Sector')['fin_str'].mean()"
      ],
      "execution_count": null,
      "outputs": [
        {
          "output_type": "execute_result",
          "data": {
            "text/plain": [
              "Sector\n",
              "Aerospace &  Defense               35103.620000\n",
              "Apparel                            13667.114286\n",
              "Business Services                  18349.550943\n",
              "Chemicals                          22821.151515\n",
              "Energy                             46940.218868\n",
              "Engineering &  Construction        12075.325926\n",
              "Financials                        209434.887097\n",
              "Food &  Drug Stores                48580.525000\n",
              "Food, Beverages &  Tobacco         35673.581081\n",
              "Health Care                        49372.495775\n",
              "Hotels, Restaurants &  Leisure     17246.865385\n",
              "Household Products                 21674.021429\n",
              "Industrials                        29660.006122\n",
              "Materials                          13407.320000\n",
              "Media                              27494.748000\n",
              "Motor Vehicles &  Parts            54065.373684\n",
              "Retailing                          34348.859740\n",
              "Technology                         39257.254902\n",
              "Telecommunications                175312.380000\n",
              "Transportation                     26580.257500\n",
              "Wholesalers                        27931.031818\n",
              "Name: fin_str, dtype: float64"
            ]
          },
          "metadata": {
            "tags": []
          },
          "execution_count": 11
        }
      ]
    }
  ]
}